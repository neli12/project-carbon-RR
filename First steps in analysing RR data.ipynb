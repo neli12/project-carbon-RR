{
 "cells": [
  {
   "cell_type": "code",
   "execution_count": 2,
   "id": "c7e311df",
   "metadata": {},
   "outputs": [],
   "source": [
    "# Import libraries\n",
    "import numpy as np\n",
    "import pandas as pd\n",
    "import seaborn as sns\n",
    "import glob\n",
    "import matplotlib.pyplot as plt\n",
    "pd.set_option('display.max_columns', 100)\n",
    "import sys\n",
    "import warnings\n",
    "if not sys.warnoptions:\n",
    "    warnings.simplefilter(\"ignore\")"
   ]
  },
  {
   "cell_type": "markdown",
   "id": "f9a7f166",
   "metadata": {},
   "source": [
    "### Year 2012"
   ]
  },
  {
   "cell_type": "markdown",
   "id": "123c86d8",
   "metadata": {},
   "source": [
    "Load the data and exclude non-useful columns"
   ]
  },
  {
   "cell_type": "code",
   "execution_count": 2,
   "id": "1ad66dc1",
   "metadata": {},
   "outputs": [],
   "source": [
    "## Load data\n",
    "field_2012 = pd.read_csv('Field Survey Data_Format 1_Soil Survey_2012-01-01_2012-12-31.csv')"
   ]
  },
  {
   "cell_type": "code",
   "execution_count": null,
   "id": "de7d8b85",
   "metadata": {},
   "outputs": [],
   "source": [
    "# Check columns\n",
    "field_2012.columns.tolist()"
   ]
  },
  {
   "cell_type": "code",
   "execution_count": 3,
   "id": "68e91090",
   "metadata": {},
   "outputs": [],
   "source": [
    "# Columns to drop\n",
    "drop_columns_2012 = ['pH Quality Last Modified', 'Bulk density Quality', 'Bulk density Quality Last Modified',\n",
    "               'pH Quality', 'Total-N Quality', 'Total-N Quality Last Modified', 'Total-C Quality', \n",
    "                'Total-C Quality Last Modified', 'delta vs air - 15N', 'delta vs air - 15N Quality',\n",
    "                'delta vs air - 15N Quality Last Modified', 'delta vs PDB - 13C', 'SOM Quality Last Modified',\n",
    "                'delta vs PDB - 13C Quality', 'delta vs PDB - 13C Quality Last Modified', 'comments', 'SOM Quality',\n",
    "                'Start_Sample_Date', 'GPS_Sample_Nr', 'Flume']"
   ]
  },
  {
   "cell_type": "code",
   "execution_count": 4,
   "id": "78142a12",
   "metadata": {},
   "outputs": [],
   "source": [
    "# Dictionary with names\n",
    "dict_names_2012 = {'Bulk density (g/cm3)': 'BD_gcm3', 'SOM (% of DM)': 'OM_%w/w', \n",
    "              'Total-N (% of DM)': 'N_total_%w/w', 'Total-C (% of DM)': 'C_total_%w/w'}"
   ]
  },
  {
   "cell_type": "code",
   "execution_count": 5,
   "id": "a1567af4",
   "metadata": {},
   "outputs": [],
   "source": [
    "# Drop columns\n",
    "field_2012.drop(drop_columns_2012, axis = 1 , inplace = True)"
   ]
  },
  {
   "cell_type": "code",
   "execution_count": 6,
   "id": "56cdc66a",
   "metadata": {},
   "outputs": [
    {
     "data": {
      "text/html": [
       "<div>\n",
       "<style scoped>\n",
       "    .dataframe tbody tr th:only-of-type {\n",
       "        vertical-align: middle;\n",
       "    }\n",
       "\n",
       "    .dataframe tbody tr th {\n",
       "        vertical-align: top;\n",
       "    }\n",
       "\n",
       "    .dataframe thead th {\n",
       "        text-align: right;\n",
       "    }\n",
       "</style>\n",
       "<table border=\"1\" class=\"dataframe\">\n",
       "  <thead>\n",
       "    <tr style=\"text-align: right;\">\n",
       "      <th></th>\n",
       "      <th>Experiment_Id</th>\n",
       "      <th>SP_ID</th>\n",
       "      <th>sample_distance (m)</th>\n",
       "      <th>Field</th>\n",
       "      <th>Sample_date</th>\n",
       "      <th>Sample_time</th>\n",
       "      <th>Easting</th>\n",
       "      <th>Northing</th>\n",
       "      <th>pH</th>\n",
       "      <th>Bulk density (g/cm3)</th>\n",
       "      <th>SOM (% of DM)</th>\n",
       "      <th>Total-N (% of DM)</th>\n",
       "      <th>Total-C (% of DM)</th>\n",
       "    </tr>\n",
       "  </thead>\n",
       "  <tbody>\n",
       "    <tr>\n",
       "      <th>0</th>\n",
       "      <td>FP003</td>\n",
       "      <td>1</td>\n",
       "      <td>50</td>\n",
       "      <td>Pecketsford</td>\n",
       "      <td>06/06/2012</td>\n",
       "      <td>12:00:00</td>\n",
       "      <td>265632</td>\n",
       "      <td>99300</td>\n",
       "      <td>5.18</td>\n",
       "      <td>0.916</td>\n",
       "      <td>10.1</td>\n",
       "      <td>0.51</td>\n",
       "      <td>4.742</td>\n",
       "    </tr>\n",
       "    <tr>\n",
       "      <th>1</th>\n",
       "      <td>FP003</td>\n",
       "      <td>2</td>\n",
       "      <td>50</td>\n",
       "      <td>Pecketsford</td>\n",
       "      <td>06/06/2012</td>\n",
       "      <td>12:00:00</td>\n",
       "      <td>265625</td>\n",
       "      <td>99275</td>\n",
       "      <td>5.23</td>\n",
       "      <td>0.943</td>\n",
       "      <td>10.4</td>\n",
       "      <td>0.55</td>\n",
       "      <td>4.980</td>\n",
       "    </tr>\n",
       "    <tr>\n",
       "      <th>2</th>\n",
       "      <td>FP003</td>\n",
       "      <td>7</td>\n",
       "      <td>50</td>\n",
       "      <td>Pecketsford</td>\n",
       "      <td>06/06/2012</td>\n",
       "      <td>12:00:00</td>\n",
       "      <td>265575</td>\n",
       "      <td>99225</td>\n",
       "      <td>5.54</td>\n",
       "      <td>0.948</td>\n",
       "      <td>11.8</td>\n",
       "      <td>0.64</td>\n",
       "      <td>5.610</td>\n",
       "    </tr>\n",
       "    <tr>\n",
       "      <th>3</th>\n",
       "      <td>FP003</td>\n",
       "      <td>9</td>\n",
       "      <td>50</td>\n",
       "      <td>Pecketsford</td>\n",
       "      <td>06/06/2012</td>\n",
       "      <td>12:00:00</td>\n",
       "      <td>265625</td>\n",
       "      <td>99225</td>\n",
       "      <td>5.12</td>\n",
       "      <td>0.857</td>\n",
       "      <td>10.9</td>\n",
       "      <td>0.54</td>\n",
       "      <td>4.510</td>\n",
       "    </tr>\n",
       "    <tr>\n",
       "      <th>4</th>\n",
       "      <td>FP003</td>\n",
       "      <td>17</td>\n",
       "      <td>50</td>\n",
       "      <td>Pecketsford</td>\n",
       "      <td>06/06/2012</td>\n",
       "      <td>12:00:00</td>\n",
       "      <td>265575</td>\n",
       "      <td>99175</td>\n",
       "      <td>5.68</td>\n",
       "      <td>0.946</td>\n",
       "      <td>11.5</td>\n",
       "      <td>0.59</td>\n",
       "      <td>5.340</td>\n",
       "    </tr>\n",
       "  </tbody>\n",
       "</table>\n",
       "</div>"
      ],
      "text/plain": [
       "  Experiment_Id  SP_ID  sample_distance (m)        Field Sample_date  \\\n",
       "0         FP003      1                   50  Pecketsford  06/06/2012   \n",
       "1         FP003      2                   50  Pecketsford  06/06/2012   \n",
       "2         FP003      7                   50  Pecketsford  06/06/2012   \n",
       "3         FP003      9                   50  Pecketsford  06/06/2012   \n",
       "4         FP003     17                   50  Pecketsford  06/06/2012   \n",
       "\n",
       "  Sample_time  Easting  Northing    pH  Bulk density (g/cm3)  SOM (% of DM)  \\\n",
       "0    12:00:00   265632     99300  5.18                 0.916           10.1   \n",
       "1    12:00:00   265625     99275  5.23                 0.943           10.4   \n",
       "2    12:00:00   265575     99225  5.54                 0.948           11.8   \n",
       "3    12:00:00   265625     99225  5.12                 0.857           10.9   \n",
       "4    12:00:00   265575     99175  5.68                 0.946           11.5   \n",
       "\n",
       "   Total-N (% of DM)  Total-C (% of DM)  \n",
       "0               0.51              4.742  \n",
       "1               0.55              4.980  \n",
       "2               0.64              5.610  \n",
       "3               0.54              4.510  \n",
       "4               0.59              5.340  "
      ]
     },
     "execution_count": 6,
     "metadata": {},
     "output_type": "execute_result"
    }
   ],
   "source": [
    "# Aglimpse on the data\n",
    "field_2012.head()"
   ]
  },
  {
   "cell_type": "code",
   "execution_count": 7,
   "id": "f04b9d86",
   "metadata": {},
   "outputs": [],
   "source": [
    "# Rename columns\n",
    "field_2012.rename(columns = dict_names_2012, inplace = True)"
   ]
  },
  {
   "cell_type": "code",
   "execution_count": 8,
   "id": "de86b4c0",
   "metadata": {},
   "outputs": [
    {
     "name": "stdout",
     "output_type": "stream",
     "text": [
      "<class 'pandas.core.frame.DataFrame'>\n",
      "RangeIndex: 264 entries, 0 to 263\n",
      "Data columns (total 13 columns):\n",
      " #   Column               Non-Null Count  Dtype  \n",
      "---  ------               --------------  -----  \n",
      " 0   Experiment_Id        264 non-null    object \n",
      " 1   SP_ID                264 non-null    int64  \n",
      " 2   sample_distance (m)  264 non-null    int64  \n",
      " 3   Field                264 non-null    object \n",
      " 4   Sample_date          264 non-null    object \n",
      " 5   Sample_time          264 non-null    object \n",
      " 6   Easting              264 non-null    int64  \n",
      " 7   Northing             264 non-null    int64  \n",
      " 8   pH                   264 non-null    float64\n",
      " 9   BD_gcm3              264 non-null    float64\n",
      " 10  OM_%w/w              264 non-null    float64\n",
      " 11  N_total_%w/w         263 non-null    float64\n",
      " 12  C_total_%w/w         263 non-null    float64\n",
      "dtypes: float64(5), int64(4), object(4)\n",
      "memory usage: 26.9+ KB\n"
     ]
    }
   ],
   "source": [
    "# Info\n",
    "field_2012.info()"
   ]
  },
  {
   "cell_type": "code",
   "execution_count": 9,
   "id": "227311ad",
   "metadata": {},
   "outputs": [],
   "source": [
    "# Convert object to datetime\n",
    "field_2012['Sample_date'] = pd.to_datetime(field_2012['Sample_date'])"
   ]
  },
  {
   "cell_type": "code",
   "execution_count": 24,
   "id": "6dc8d40d",
   "metadata": {},
   "outputs": [
    {
     "data": {
      "image/png": "[encoded data removed]",
      "text/plain": [
       "<Figure size 432x288 with 1 Axes>"
      ]
     },
     "metadata": {
      "needs_background": "light"
     },
     "output_type": "display_data"
    }
   ],
   "source": [
    "# Plot C% distribution\n",
    "field_2012['OM_%w/w'].plot(kind = 'hist', ec = 'black')\n",
    "plt.title('Average OM% distribution for year 2012')\n",
    "plt.xlabel('OM%')\n",
    "plt.ylabel('Frequency')\n",
    "plt.show()"
   ]
  },
  {
   "cell_type": "code",
   "execution_count": 47,
   "id": "f492ee58",
   "metadata": {},
   "outputs": [
    {
     "data": {
      "image/png": "[encoded data removed]",
      "text/plain": [
       "<Figure size 432x288 with 1 Axes>"
      ]
     },
     "metadata": {
      "needs_background": "light"
     },
     "output_type": "display_data"
    }
   ],
   "source": [
    "# Plot samples per date\n",
    "plt.plot(field_2012['OM_%w/w'], field_2012['Sample_date'], 'o', color = 'red', markersize=5)\n",
    "plt.xlabel('OM%')\n",
    "plt.ylabel('Date')\n",
    "plt.show()"
   ]
  },
  {
   "cell_type": "markdown",
   "id": "1eca0d56",
   "metadata": {},
   "source": [
    "Analyse the data, search for duplicates and NAs"
   ]
  },
  {
   "cell_type": "code",
   "execution_count": 14,
   "id": "80b72784",
   "metadata": {},
   "outputs": [
    {
     "name": "stdout",
     "output_type": "stream",
     "text": [
      "[False, False, False, False, False, False, False, False, False, False, False, False, False, False, False, False, False, False, False, False, False, False, False, False, False, False, False, False, False, False, False, False, False, False, False, False, False, False, False, False, False, False, False, False, False, False, False, False, False, False, False, False, False, False, False, False, False, False, False, False, False, False, False, False, False, False, False, False, False, False, False, False, False, False, False, False, False, False, False, False, False, False, False, False, False, False, False, False, False, False, False, False, False, False, False, False, False, False, False, False, False, False, False, False, False, False, False, False, False, False, False, False, False, False, False, False, False, False, False, False, False, False, False, False, False, False, False, False, False, False, False, False, False, False, False, False, False, False, False, False, False, False, False, False, False, False, False, False, False, False, False, False, False, False, False, False, False, False, False, False, False, False, False, False, False, False, False, False, False, False, False, False, False, False, False, False, False, False, False, False, False, False, False, False, False, False, False, False, False, False, False, False, False, False, False, False, False, False, False, False, False, False, False, False, False, False, False, False, False, False, False, False, False, False, False, False, False, False, False, False, False, False, False, False, False, False, False, False, False, False, False, False, False, False, False, False, False, False, False, False, False, False, False, False, False, False, False, False, False, False, False, False, False, False, False, False, False, False, False, False, False, False, False, False]\n"
     ]
    }
   ],
   "source": [
    "# Check duplicates\n",
    "bool_series = field_2012[['Easting', 'Northing']].duplicated()\n",
    "print(bool_series.tolist())"
   ]
  },
  {
   "cell_type": "code",
   "execution_count": 15,
   "id": "8ff11d5c",
   "metadata": {},
   "outputs": [
    {
     "data": {
      "text/plain": [
       "0"
      ]
     },
     "execution_count": 15,
     "metadata": {},
     "output_type": "execute_result"
    }
   ],
   "source": [
    "# Check NAs in C%\n",
    "field_2012['OM_%w/w'].isna().sum()"
   ]
  },
  {
   "cell_type": "markdown",
   "id": "3ea25b2a",
   "metadata": {},
   "source": [
    "### Year 2013"
   ]
  },
  {
   "cell_type": "code",
   "execution_count": 16,
   "id": "b2737e1a",
   "metadata": {},
   "outputs": [],
   "source": [
    "## Load data\n",
    "field_2013 = pd.read_csv('Field Survey Data_Format 1_Soil Survey_2013-01-01_2013-12-31.csv')"
   ]
  },
  {
   "cell_type": "code",
   "execution_count": null,
   "id": "0291c7e0",
   "metadata": {},
   "outputs": [],
   "source": [
    "# Check columns\n",
    "field_2013.columns.tolist()"
   ]
  },
  {
   "cell_type": "code",
   "execution_count": 17,
   "id": "39f31daf",
   "metadata": {},
   "outputs": [],
   "source": [
    "# Columns to drop\n",
    "drop_columns_2013 = ['comments','pH Quality', 'pH Quality Last Modified', 'SOM Quality', 'SOM Quality Last Modified', \n",
    "                     'Total-N Quality', 'Total-N Quality Last Modified', 'Total-C Quality', 'Total-C Quality Last Modified',\n",
    "                    'Flume', 'GPS_Sample_Nr', 'Start_Sample_Date']"
   ]
  },
  {
   "cell_type": "code",
   "execution_count": 18,
   "id": "6fa2ee64",
   "metadata": {},
   "outputs": [],
   "source": [
    "# Dictionary with names\n",
    "dict_names_2013 = {'SOM (% of DM)': 'OM_%w/w', \n",
    "                   'Total-N (% of DM)': 'N_total_%w/w', 'Total-C (% of DM)': 'C_total_%w/w'}"
   ]
  },
  {
   "cell_type": "code",
   "execution_count": 19,
   "id": "113b6223",
   "metadata": {},
   "outputs": [],
   "source": [
    "# Drop columns\n",
    "field_2013.drop(drop_columns_2013, axis = 1 , inplace = True)"
   ]
  },
  {
   "cell_type": "code",
   "execution_count": 20,
   "id": "9bb71ed6",
   "metadata": {},
   "outputs": [],
   "source": [
    "# Rename columns\n",
    "field_2013.rename(columns = dict_names_2013, inplace = True)"
   ]
  },
  {
   "cell_type": "code",
   "execution_count": 21,
   "id": "d8657edf",
   "metadata": {},
   "outputs": [
    {
     "name": "stdout",
     "output_type": "stream",
     "text": [
      "<class 'pandas.core.frame.DataFrame'>\n",
      "RangeIndex: 423 entries, 0 to 422\n",
      "Data columns (total 12 columns):\n",
      " #   Column               Non-Null Count  Dtype  \n",
      "---  ------               --------------  -----  \n",
      " 0   Experiment_Id        423 non-null    object \n",
      " 1   SP_ID                423 non-null    int64  \n",
      " 2   sample_distance (m)  423 non-null    int64  \n",
      " 3   Field                423 non-null    object \n",
      " 4   Sample_date          423 non-null    object \n",
      " 5   Sample_time          423 non-null    object \n",
      " 6   Easting              423 non-null    int64  \n",
      " 7   Northing             423 non-null    int64  \n",
      " 8   pH                   423 non-null    float64\n",
      " 9   OM_%w/w              89 non-null     float64\n",
      " 10  N_total_%w/w         89 non-null     float64\n",
      " 11  C_total_%w/w         89 non-null     float64\n",
      "dtypes: float64(4), int64(4), object(4)\n",
      "memory usage: 39.8+ KB\n"
     ]
    }
   ],
   "source": [
    "field_2013.info()"
   ]
  },
  {
   "cell_type": "code",
   "execution_count": 25,
   "id": "f73953eb",
   "metadata": {},
   "outputs": [
    {
     "data": {
      "image/png": "[encoded data removed]",
      "text/plain": [
       "<Figure size 432x288 with 1 Axes>"
      ]
     },
     "metadata": {
      "needs_background": "light"
     },
     "output_type": "display_data"
    }
   ],
   "source": [
    "# Plot C% distribution\n",
    "field_2013['OM_%w/w'].plot(kind = 'hist', ec = 'black')\n",
    "plt.title('Average OM% distribution for year 2012')\n",
    "plt.xlabel('OM%')\n",
    "plt.ylabel('Frequency')\n",
    "plt.show()"
   ]
  },
  {
   "cell_type": "code",
   "execution_count": 26,
   "id": "e498cf92",
   "metadata": {},
   "outputs": [],
   "source": [
    "# Object to datetime\n",
    "field_2013['Sample_date'] = pd.to_datetime(field_2013['Sample_date'])"
   ]
  },
  {
   "cell_type": "code",
   "execution_count": 46,
   "id": "b338343d",
   "metadata": {},
   "outputs": [
    {
     "data": {
      "image/png": "[encoded data removed]",
      "text/plain": [
       "<Figure size 432x288 with 1 Axes>"
      ]
     },
     "metadata": {
      "needs_background": "light"
     },
     "output_type": "display_data"
    }
   ],
   "source": [
    "# Plot samples per date\n",
    "plt.plot(field_2013['OM_%w/w'], field_2013['Sample_date'],'o', color = 'red', markersize=5)\n",
    "plt.xlabel('OM%')\n",
    "plt.ylabel('Date')\n",
    "plt.show()"
   ]
  },
  {
   "cell_type": "markdown",
   "id": "a5145af8",
   "metadata": {},
   "source": [
    "Analyse the data, search for duplicates and NAs"
   ]
  },
  {
   "cell_type": "code",
   "execution_count": 29,
   "id": "85071c28",
   "metadata": {},
   "outputs": [
    {
     "name": "stdout",
     "output_type": "stream",
     "text": [
      "[False, False, False, False, False, False, False, False, False, False, False, False, False, False, False, False, False, False, False, False, False, False, False, False, False, False, False, False, False, False, False, False, False, False, False, False, False, False, False, False, False, False, False, False, False, False, False, False, False, False, False, False, False, False, False, False, False, False, False, False, False, False, False, False, False, False, False, False, False, False, False, False, False, False, False, False, False, False, False, False, False, False, False, False, False, False, False, False, False, False, False, False, False, False, False, False, False, False, False, False, False, False, False, False, False, False, False, False, False, False, False, False, False, False, False, False, False, False, False, False, False, False, False, False, False, False, False, False, False, False, False, False, False, False, False, False, False, False, False, False, False, False, False, False, False, False, False, False, False, False, False, False, False, False, False, False, False, False, False, False, False, False, False, False, False, False, False, False, False, False, False, False, False, False, False, False, False, False, False, False, False, False, False, False, False, False, False, False, False, False, False, False, False, False, False, False, False, False, False, False, False, False, False, False, False, False, False, False, False, False, False, False, False, False, False, False, False, False, False, False, False, False, False, False, False, False, False, False, False, False, False, False, False, False, False, False, False, False, False, False, False, False, False, False, False, False, False, False, False, False, False, False, False, False, False, False, False, False, False, False, False, False, False, False, False, False, False, False, False, False, False, False, False, False, False, False, False, False, False, False, False, False, False, False, False, False, False, False, False, False, False, False, False, False, False, False, False, False, False, False, False, False, False, False, False, False, False, False, False, False, False, False, False, False, False, False, False, False, False, False, False, False, False, False, False, False, False, False, False, False, False, False, False, False, False, False, False, False, False, False, False, False, False, False, False, False, False, False, False, False, False, False, False, False, False, False, False, False, False, False, False, False, False, False, False, False, False, False, False, False, False, False, False, False, False, False, False, False, False, False, False, False, False, False, False, False, False, False, False, False, False, False, False, False, False, False, False, False, False, False, False, False, False, False, False, False, False, False, False, False, False, False, False, False, False, False, False, False, False, False, False, False, False]\n"
     ]
    }
   ],
   "source": [
    "# Check duplicates\n",
    "bool_series_13 = field_2013[['Sample_date', 'Easting', 'Northing']].duplicated()\n",
    "print(bool_series_13.tolist())"
   ]
  },
  {
   "cell_type": "code",
   "execution_count": 30,
   "id": "87612a72",
   "metadata": {},
   "outputs": [
    {
     "data": {
      "text/plain": [
       "334"
      ]
     },
     "execution_count": 30,
     "metadata": {},
     "output_type": "execute_result"
    }
   ],
   "source": [
    "# Check NAs in C%\n",
    "field_2013['OM_%w/w'].isna().sum()"
   ]
  },
  {
   "cell_type": "code",
   "execution_count": 31,
   "id": "15551a50",
   "metadata": {},
   "outputs": [
    {
     "data": {
      "text/plain": [
       "(423, 12)"
      ]
     },
     "execution_count": 31,
     "metadata": {},
     "output_type": "execute_result"
    }
   ],
   "source": [
    "field_2013.shape"
   ]
  },
  {
   "cell_type": "code",
   "execution_count": 32,
   "id": "9dd35880",
   "metadata": {},
   "outputs": [],
   "source": [
    "field_2013.dropna(subset = 'OM_%w/w', inplace = True)"
   ]
  },
  {
   "cell_type": "code",
   "execution_count": 33,
   "id": "5ec352cf",
   "metadata": {},
   "outputs": [
    {
     "data": {
      "text/plain": [
       "0"
      ]
     },
     "execution_count": 33,
     "metadata": {},
     "output_type": "execute_result"
    }
   ],
   "source": [
    "# Check NAs in C%\n",
    "field_2013['OM_%w/w'].isna().sum()"
   ]
  },
  {
   "cell_type": "markdown",
   "id": "4dd321e7",
   "metadata": {},
   "source": [
    "### Year 2016"
   ]
  },
  {
   "cell_type": "code",
   "execution_count": 34,
   "id": "b8b81b42",
   "metadata": {},
   "outputs": [],
   "source": [
    "## Load data\n",
    "field_2016 = pd.read_csv('Field Survey Data_Format 1_Soil Survey_2016-01-01_2016-12-31.csv')"
   ]
  },
  {
   "cell_type": "code",
   "execution_count": null,
   "id": "8ace0711",
   "metadata": {},
   "outputs": [],
   "source": [
    "# Check columns\n",
    "field_2016.columns"
   ]
  },
  {
   "cell_type": "code",
   "execution_count": 35,
   "id": "2295ab92",
   "metadata": {},
   "outputs": [],
   "source": [
    "# Columns to keep\n",
    "columns_to_keep = ['Experiment_Id','SP_ID','sample_distance (m)','Field','Sample_date','Sample_time', \n",
    "                   'Easting','Northing','pH','Bulk density (g/cm3)',\n",
    "                   'SOM (% of DM)', 'Total-N (% of DM)', 'Total-C (% of DM)']"
   ]
  },
  {
   "cell_type": "code",
   "execution_count": 36,
   "id": "4b77024c",
   "metadata": {},
   "outputs": [],
   "source": [
    "# Drop other columns\n",
    "field_2016 = field_2016[columns_to_keep]"
   ]
  },
  {
   "cell_type": "code",
   "execution_count": 37,
   "id": "9b592dd9",
   "metadata": {},
   "outputs": [
    {
     "data": {
      "text/html": [
       "<div>\n",
       "<style scoped>\n",
       "    .dataframe tbody tr th:only-of-type {\n",
       "        vertical-align: middle;\n",
       "    }\n",
       "\n",
       "    .dataframe tbody tr th {\n",
       "        vertical-align: top;\n",
       "    }\n",
       "\n",
       "    .dataframe thead th {\n",
       "        text-align: right;\n",
       "    }\n",
       "</style>\n",
       "<table border=\"1\" class=\"dataframe\">\n",
       "  <thead>\n",
       "    <tr style=\"text-align: right;\">\n",
       "      <th></th>\n",
       "      <th>Experiment_Id</th>\n",
       "      <th>SP_ID</th>\n",
       "      <th>sample_distance (m)</th>\n",
       "      <th>Field</th>\n",
       "      <th>Sample_date</th>\n",
       "      <th>Sample_time</th>\n",
       "      <th>Easting</th>\n",
       "      <th>Northing</th>\n",
       "      <th>pH</th>\n",
       "      <th>Bulk density (g/cm3)</th>\n",
       "      <th>SOM (% of DM)</th>\n",
       "      <th>Total-N (% of DM)</th>\n",
       "      <th>Total-C (% of DM)</th>\n",
       "    </tr>\n",
       "  </thead>\n",
       "  <tbody>\n",
       "    <tr>\n",
       "      <th>0</th>\n",
       "      <td>FP059</td>\n",
       "      <td>1</td>\n",
       "      <td>50</td>\n",
       "      <td>Pecketsford</td>\n",
       "      <td>14/07/2016</td>\n",
       "      <td>16:24:00</td>\n",
       "      <td>265631.6521</td>\n",
       "      <td>99300.30838</td>\n",
       "      <td>5.60</td>\n",
       "      <td>0.56</td>\n",
       "      <td>12.9</td>\n",
       "      <td>0.525</td>\n",
       "      <td>5.390</td>\n",
       "    </tr>\n",
       "    <tr>\n",
       "      <th>1</th>\n",
       "      <td>FP059</td>\n",
       "      <td>2</td>\n",
       "      <td>50</td>\n",
       "      <td>Pecketsford</td>\n",
       "      <td>14/07/2016</td>\n",
       "      <td>16:20:00</td>\n",
       "      <td>265625.0000</td>\n",
       "      <td>99275.00000</td>\n",
       "      <td>5.41</td>\n",
       "      <td>0.70</td>\n",
       "      <td>10.6</td>\n",
       "      <td>0.446</td>\n",
       "      <td>4.280</td>\n",
       "    </tr>\n",
       "    <tr>\n",
       "      <th>2</th>\n",
       "      <td>FP059</td>\n",
       "      <td>7</td>\n",
       "      <td>50</td>\n",
       "      <td>Pecketsford</td>\n",
       "      <td>14/07/2016</td>\n",
       "      <td>16:09:00</td>\n",
       "      <td>265575.0000</td>\n",
       "      <td>99225.00000</td>\n",
       "      <td>5.49</td>\n",
       "      <td>1.06</td>\n",
       "      <td>9.7</td>\n",
       "      <td>0.404</td>\n",
       "      <td>3.667</td>\n",
       "    </tr>\n",
       "    <tr>\n",
       "      <th>3</th>\n",
       "      <td>FP059</td>\n",
       "      <td>9</td>\n",
       "      <td>50</td>\n",
       "      <td>Pecketsford</td>\n",
       "      <td>14/07/2016</td>\n",
       "      <td>16:15:00</td>\n",
       "      <td>265625.0000</td>\n",
       "      <td>99225.00000</td>\n",
       "      <td>5.28</td>\n",
       "      <td>1.05</td>\n",
       "      <td>10.2</td>\n",
       "      <td>0.424</td>\n",
       "      <td>4.100</td>\n",
       "    </tr>\n",
       "    <tr>\n",
       "      <th>4</th>\n",
       "      <td>FP059</td>\n",
       "      <td>17</td>\n",
       "      <td>50</td>\n",
       "      <td>Pecketsford</td>\n",
       "      <td>14/07/2016</td>\n",
       "      <td>16:04:00</td>\n",
       "      <td>265575.0000</td>\n",
       "      <td>99175.00000</td>\n",
       "      <td>5.51</td>\n",
       "      <td>1.05</td>\n",
       "      <td>10.0</td>\n",
       "      <td>0.403</td>\n",
       "      <td>3.885</td>\n",
       "    </tr>\n",
       "  </tbody>\n",
       "</table>\n",
       "</div>"
      ],
      "text/plain": [
       "  Experiment_Id  SP_ID  sample_distance (m)        Field Sample_date  \\\n",
       "0         FP059      1                   50  Pecketsford  14/07/2016   \n",
       "1         FP059      2                   50  Pecketsford  14/07/2016   \n",
       "2         FP059      7                   50  Pecketsford  14/07/2016   \n",
       "3         FP059      9                   50  Pecketsford  14/07/2016   \n",
       "4         FP059     17                   50  Pecketsford  14/07/2016   \n",
       "\n",
       "  Sample_time      Easting     Northing    pH  Bulk density (g/cm3)  \\\n",
       "0    16:24:00  265631.6521  99300.30838  5.60                  0.56   \n",
       "1    16:20:00  265625.0000  99275.00000  5.41                  0.70   \n",
       "2    16:09:00  265575.0000  99225.00000  5.49                  1.06   \n",
       "3    16:15:00  265625.0000  99225.00000  5.28                  1.05   \n",
       "4    16:04:00  265575.0000  99175.00000  5.51                  1.05   \n",
       "\n",
       "   SOM (% of DM)  Total-N (% of DM)  Total-C (% of DM)  \n",
       "0           12.9              0.525              5.390  \n",
       "1           10.6              0.446              4.280  \n",
       "2            9.7              0.404              3.667  \n",
       "3           10.2              0.424              4.100  \n",
       "4           10.0              0.403              3.885  "
      ]
     },
     "execution_count": 37,
     "metadata": {},
     "output_type": "execute_result"
    }
   ],
   "source": [
    "# A glimpse on the data\n",
    "field_2016.head()"
   ]
  },
  {
   "cell_type": "code",
   "execution_count": 38,
   "id": "f54d3903",
   "metadata": {},
   "outputs": [],
   "source": [
    "# Dictionary with names\n",
    "dict_names_2016 = {'Bulk density (g/cm3)':'BD_gcm3', 'SOM (% of DM)': 'OM_%w/w', \n",
    "                   'Total-N (% of DM)': 'N_total_%w/w', 'Total-C (% of DM)': 'C_total_%w/w'}"
   ]
  },
  {
   "cell_type": "code",
   "execution_count": 39,
   "id": "227fc5a7",
   "metadata": {},
   "outputs": [],
   "source": [
    "# Rename columns\n",
    "field_2016.rename(columns = dict_names_2016, inplace = True)"
   ]
  },
  {
   "cell_type": "code",
   "execution_count": 40,
   "id": "61b392fa",
   "metadata": {},
   "outputs": [
    {
     "name": "stdout",
     "output_type": "stream",
     "text": [
      "<class 'pandas.core.frame.DataFrame'>\n",
      "RangeIndex: 396 entries, 0 to 395\n",
      "Data columns (total 13 columns):\n",
      " #   Column               Non-Null Count  Dtype  \n",
      "---  ------               --------------  -----  \n",
      " 0   Experiment_Id        396 non-null    object \n",
      " 1   SP_ID                396 non-null    int64  \n",
      " 2   sample_distance (m)  396 non-null    int64  \n",
      " 3   Field                396 non-null    object \n",
      " 4   Sample_date          396 non-null    object \n",
      " 5   Sample_time          396 non-null    object \n",
      " 6   Easting              396 non-null    float64\n",
      " 7   Northing             396 non-null    float64\n",
      " 8   pH                   347 non-null    float64\n",
      " 9   BD_gcm3              392 non-null    float64\n",
      " 10  OM_%w/w              348 non-null    float64\n",
      " 11  N_total_%w/w         348 non-null    float64\n",
      " 12  C_total_%w/w         348 non-null    float64\n",
      "dtypes: float64(7), int64(2), object(4)\n",
      "memory usage: 40.3+ KB\n"
     ]
    }
   ],
   "source": [
    "# Info\n",
    "field_2016.info()"
   ]
  },
  {
   "cell_type": "code",
   "execution_count": 41,
   "id": "467e2e19",
   "metadata": {},
   "outputs": [],
   "source": [
    "# Convert object to datetime\n",
    "field_2016['Sample_date'] = pd.to_datetime(field_2016['Sample_date'])"
   ]
  },
  {
   "cell_type": "code",
   "execution_count": 43,
   "id": "60a91e94",
   "metadata": {},
   "outputs": [
    {
     "data": {
      "image/png": "[encoded data removed]",
      "text/plain": [
       "<Figure size 432x288 with 1 Axes>"
      ]
     },
     "metadata": {
      "needs_background": "light"
     },
     "output_type": "display_data"
    }
   ],
   "source": [
    "# Plot C% distribution\n",
    "field_2016['OM_%w/w'].plot(kind = 'hist', ec = 'black')\n",
    "plt.title('Average OM% distribution for year 2012')\n",
    "plt.xlabel('OM%')\n",
    "plt.ylabel('Frequency')\n",
    "plt.show()"
   ]
  },
  {
   "cell_type": "code",
   "execution_count": 45,
   "id": "2c1bb639",
   "metadata": {},
   "outputs": [
    {
     "data": {
      "image/png": "[encoded data removed]",
      "text/plain": [
       "<Figure size 432x288 with 1 Axes>"
      ]
     },
     "metadata": {
      "needs_background": "light"
     },
     "output_type": "display_data"
    }
   ],
   "source": [
    "# Plot C% by date\n",
    "plt.plot(field_2016['OM_%w/w'],field_2016['Sample_date'],  'o', color = 'red', markersize=5)\n",
    "plt.xlabel('OM%')\n",
    "plt.ylabel('Date')\n",
    "plt.show()"
   ]
  },
  {
   "cell_type": "markdown",
   "id": "12b046d5",
   "metadata": {},
   "source": [
    "Analyse the data, search for duplicates and NAs"
   ]
  },
  {
   "cell_type": "code",
   "execution_count": 48,
   "id": "9957e26c",
   "metadata": {},
   "outputs": [
    {
     "name": "stdout",
     "output_type": "stream",
     "text": [
      "[False, False, False, False, False, False, False, False, True, False, False, False, False, False, False, False, False, False, False, False, False, False, False, False, False, False, False, False, False, False, False, False, False, False, False, False, False, False, False, False, False, False, False, False, False, False, False, False, False, False, False, False, False, False, False, False, False, False, False, False, False, False, False, False, False, False, False, False, False, False, False, False, False, False, False, False, False, False, False, False, False, False, False, False, False, False, False, False, False, False, False, False, False, False, False, False, False, False, False, False, False, False, False, False, False, False, False, False, False, False, False, False, False, False, False, False, False, False, False, False, False, False, False, False, False, False, False, False, False, False, False, False, False, False, False, False, False, False, False, False, False, False, False, False, False, False, False, False, False, False, False, False, False, False, False, False, False, False, False, False, False, False, False, False, False, False, False, False, False, False, False, False, False, False, False, False, False, False, False, False, False, False, False, False, False, False, False, False, False, False, False, False, False, False, False, False, False, False, False, False, False, False, False, False, False, False, False, False, False, False, False, False, False, False, False, False, False, False, False, False, False, False, False, False, False, False, False, False, False, False, False, False, False, False, False, False, False, False, False, False, False, False, False, False, False, False, False, False, False, False, False, False, False, False, False, False, False, False, False, False, False, False, False, False, False, False, False, False, False, False, False, False, False, False, False, False, False, False, False, False, False, False, False, False, False, False, False, False, False, False, False, False, False, False, False, False, False, False, False, False, False, False, False, False, False, False, False, False, False, False, False, False, False, False, False, False, False, False, False, False, False, False, False, False, False, False, False, False, False, False, False, False, False, False, False, False, False, False, False, False, False, False, False, False, False, False, False, False, False, False, False, False, False, False, False, False, False, False, False, False, False, False, False, False, False, False, False, False, False, False, False, False, False, False, False, False, False, False, False, False, False, False, False, False, False, False, False, False, False, False, False, False, False, False, False, False]\n"
     ]
    }
   ],
   "source": [
    "# Check duplicates\n",
    "bool_series_16 = field_2016[['Sample_date','Easting', 'Northing']].duplicated()\n",
    "print(bool_series_16.tolist())"
   ]
  },
  {
   "cell_type": "code",
   "execution_count": 49,
   "id": "0399f1ec",
   "metadata": {},
   "outputs": [
    {
     "data": {
      "text/plain": [
       "48"
      ]
     },
     "execution_count": 49,
     "metadata": {},
     "output_type": "execute_result"
    }
   ],
   "source": [
    "# Check NAs in C%\n",
    "field_2016['OM_%w/w'].isna().sum()"
   ]
  },
  {
   "cell_type": "code",
   "execution_count": 50,
   "id": "11c73c1b",
   "metadata": {},
   "outputs": [],
   "source": [
    "field_2016.dropna(subset = 'OM_%w/w', inplace = True)"
   ]
  },
  {
   "cell_type": "code",
   "execution_count": 51,
   "id": "479e2646",
   "metadata": {},
   "outputs": [
    {
     "data": {
      "text/plain": [
       "0"
      ]
     },
     "execution_count": 51,
     "metadata": {},
     "output_type": "execute_result"
    }
   ],
   "source": [
    "# Check NAs in C%\n",
    "field_2016['OM_%w/w'].isna().sum()"
   ]
  },
  {
   "cell_type": "markdown",
   "id": "109c568f",
   "metadata": {},
   "source": [
    "### Year 2018"
   ]
  },
  {
   "cell_type": "code",
   "execution_count": 52,
   "id": "3a66628e",
   "metadata": {},
   "outputs": [],
   "source": [
    "## Load data\n",
    "field_2018 = pd.read_csv('Field Survey Data_Format 1_Soil Survey_2018-01-01_2018-12-31.csv')"
   ]
  },
  {
   "cell_type": "code",
   "execution_count": null,
   "id": "57f04f36",
   "metadata": {},
   "outputs": [],
   "source": [
    "# Check columns\n",
    "field_2018.columns"
   ]
  },
  {
   "cell_type": "code",
   "execution_count": 53,
   "id": "4dfcc7e5",
   "metadata": {},
   "outputs": [],
   "source": [
    "# Columns to keep\n",
    "columns_to_keep2018 = ['Experiment_Id', 'SP_ID', 'sample_distance (m)', 'Field', 'Sample_date', 'Sample_time',\n",
    "                       'Easting', 'Northing', 'pH','Conductivity (uS/cm)', 'Organic matter LOI (%w/w)', 'Total N (%w/w) Soil',\n",
    "                      'Total C (%w/w) Soil']"
   ]
  },
  {
   "cell_type": "code",
   "execution_count": 54,
   "id": "30a3da7c",
   "metadata": {},
   "outputs": [],
   "source": [
    "# Keep the columns\n",
    "field_2018 = field_2018[columns_to_keep2018]"
   ]
  },
  {
   "cell_type": "code",
   "execution_count": 55,
   "id": "857c39ca",
   "metadata": {},
   "outputs": [],
   "source": [
    "# Dictionary with column names\n",
    "dict_names_2018 = {'Conductivity (uS/cm)':'conductivity_uScm', 'Organic matter LOI (%w/w)': 'OM_%w/w', \n",
    "                   'Total N (%w/w) Soil': 'N_total_%w/w', 'Total C (%w/w) Soil': 'C_total_%w/w'}"
   ]
  },
  {
   "cell_type": "code",
   "execution_count": 56,
   "id": "91cbb209",
   "metadata": {},
   "outputs": [],
   "source": [
    "# Rename columns\n",
    "field_2018.rename(columns = dict_names_2018 , inplace = True)"
   ]
  },
  {
   "cell_type": "code",
   "execution_count": 57,
   "id": "bdb91424",
   "metadata": {},
   "outputs": [
    {
     "name": "stdout",
     "output_type": "stream",
     "text": [
      "<class 'pandas.core.frame.DataFrame'>\n",
      "RangeIndex: 294 entries, 0 to 293\n",
      "Data columns (total 13 columns):\n",
      " #   Column               Non-Null Count  Dtype  \n",
      "---  ------               --------------  -----  \n",
      " 0   Experiment_Id        294 non-null    object \n",
      " 1   SP_ID                294 non-null    int64  \n",
      " 2   sample_distance (m)  0 non-null      float64\n",
      " 3   Field                294 non-null    object \n",
      " 4   Sample_date          294 non-null    object \n",
      " 5   Sample_time          294 non-null    object \n",
      " 6   Easting              294 non-null    float64\n",
      " 7   Northing             294 non-null    float64\n",
      " 8   pH                   84 non-null     float64\n",
      " 9   conductivity_uScm    80 non-null     float64\n",
      " 10  OM_%w/w              84 non-null     float64\n",
      " 11  N_total_%w/w         84 non-null     float64\n",
      " 12  C_total_%w/w         84 non-null     float64\n",
      "dtypes: float64(8), int64(1), object(4)\n",
      "memory usage: 30.0+ KB\n"
     ]
    }
   ],
   "source": [
    "# Info\n",
    "field_2018.info()"
   ]
  },
  {
   "cell_type": "code",
   "execution_count": 58,
   "id": "eea233e5",
   "metadata": {},
   "outputs": [],
   "source": [
    "# Convert object to datetime\n",
    "field_2018['Sample_date'] = pd.to_datetime(field_2018['Sample_date'])"
   ]
  },
  {
   "cell_type": "code",
   "execution_count": 60,
   "id": "b2438df8",
   "metadata": {},
   "outputs": [
    {
     "data": {
      "image/png": "[encoded data removed]",
      "text/plain": [
       "<Figure size 432x288 with 1 Axes>"
      ]
     },
     "metadata": {
      "needs_background": "light"
     },
     "output_type": "display_data"
    }
   ],
   "source": [
    "# Plot C% distribution\n",
    "field_2018['OM_%w/w'].plot(kind = 'hist', ec = 'black')\n",
    "plt.title('Average OM% distribution for year 2012')\n",
    "plt.xlabel('OM%')\n",
    "plt.ylabel('Frequency')\n",
    "plt.show()"
   ]
  },
  {
   "cell_type": "code",
   "execution_count": 61,
   "id": "1d8caa75",
   "metadata": {},
   "outputs": [
    {
     "data": {
      "image/png": "[encoded data removed]",
      "text/plain": [
       "<Figure size 432x288 with 1 Axes>"
      ]
     },
     "metadata": {
      "needs_background": "light"
     },
     "output_type": "display_data"
    }
   ],
   "source": [
    "# Plot OM% by date\n",
    "plt.plot(field_2018['OM_%w/w'],field_2018['Sample_date'],  'o', color = 'red', markersize=5)\n",
    "plt.xlabel('OM%')\n",
    "plt.ylabel('Date')\n",
    "plt.show()"
   ]
  },
  {
   "cell_type": "markdown",
   "id": "c4a9acd7",
   "metadata": {},
   "source": [
    "Analyse the data, search for duplicates and NAs"
   ]
  },
  {
   "cell_type": "code",
   "execution_count": 62,
   "id": "348ebeba",
   "metadata": {},
   "outputs": [
    {
     "name": "stdout",
     "output_type": "stream",
     "text": [
      "[False, False, False, False, False, False, False, False, False, False, False, False, False, False, False, False, False, False, False, False, False, False, False, False, False, False, False, False, False, False, False, False, False, False, False, False, False, False, False, False, False, False, False, False, False, False, False, False, False, False, False, False, False, False, False, False, False, False, False, False, False, False, False, False, False, False, False, False, False, False, False, False, False, False, False, False, False, False, False, False, False, False, False, False, False, False, False, False, False, False, False, False, False, False, False, False, False, False, False, False, False, False, False, False, False, False, False, False, False, False, False, False, False, False, False, False, False, False, False, False, False, False, False, False, False, False, False, False, False, False, False, False, False, False, False, False, False, False, False, False, False, False, False, False, False, False, False, False, False, False, False, False, False, False, False, False, False, False, False, False, False, False, False, False, False, False, False, False, False, False, False, False, False, False, False, False, False, False, False, False, False, False, False, False, False, False, False, False, False, False, False, False, False, False, False, False, False, False, False, False, False, False, False, False, False, False, False, False, False, False, False, False, False, False, False, False, False, False, False, False, False, False, False, False, False, False, False, False, False, False, False, False, False, False, False, False, False, False, False, False, False, False, False, False, False, False, False, False, False, False, False, False, False, False, False, False, False, False, False, False, False, False, False, False, False, False, False, False, False, False, False, False, False, False, False, False, False, False, False, False, False, False, False, False, False, False, False, False, False, False, False, False, False, False]\n"
     ]
    }
   ],
   "source": [
    "# Check duplicates\n",
    "bool_series_18 = field_2018[['Sample_date','Easting', 'Northing']].duplicated()\n",
    "print(bool_series_18.tolist())"
   ]
  },
  {
   "cell_type": "code",
   "execution_count": 64,
   "id": "282a506b",
   "metadata": {},
   "outputs": [
    {
     "data": {
      "text/plain": [
       "210"
      ]
     },
     "execution_count": 64,
     "metadata": {},
     "output_type": "execute_result"
    }
   ],
   "source": [
    "# Check NAs in C%\n",
    "field_2018['OM_%w/w'].isna().sum()"
   ]
  },
  {
   "cell_type": "code",
   "execution_count": 65,
   "id": "b69d8491",
   "metadata": {},
   "outputs": [
    {
     "data": {
      "text/plain": [
       "(294, 13)"
      ]
     },
     "execution_count": 65,
     "metadata": {},
     "output_type": "execute_result"
    }
   ],
   "source": [
    "field_2018.shape"
   ]
  },
  {
   "cell_type": "code",
   "execution_count": 66,
   "id": "6234138b",
   "metadata": {},
   "outputs": [],
   "source": [
    "field_2018.dropna(subset = 'OM_%w/w', inplace = True)"
   ]
  },
  {
   "cell_type": "code",
   "execution_count": 67,
   "id": "47e471b5",
   "metadata": {},
   "outputs": [
    {
     "data": {
      "text/plain": [
       "0"
      ]
     },
     "execution_count": 67,
     "metadata": {},
     "output_type": "execute_result"
    }
   ],
   "source": [
    "# Check NAs in C%\n",
    "field_2018['OM_%w/w'].isna().sum()"
   ]
  },
  {
   "cell_type": "markdown",
   "id": "260c63b9",
   "metadata": {},
   "source": [
    "### Year 2019"
   ]
  },
  {
   "cell_type": "code",
   "execution_count": 68,
   "id": "0062f59c",
   "metadata": {},
   "outputs": [],
   "source": [
    "## Load data\n",
    "field_2019 = pd.read_csv('Field Survey Data_Format 1_Soil Survey_2019-01-01_2019-12-31.csv')"
   ]
  },
  {
   "cell_type": "code",
   "execution_count": null,
   "id": "23a3bc2d",
   "metadata": {},
   "outputs": [],
   "source": [
    "# Check columns\n",
    "field_2019.columns.tolist()"
   ]
  },
  {
   "cell_type": "code",
   "execution_count": 70,
   "id": "b79096c3",
   "metadata": {},
   "outputs": [],
   "source": [
    "# Columns to keep\n",
    "columns_to_keep2019 = ['Experiment_Id', 'SP_ID', 'sample_distance (m)', 'Field', 'Sample_date', 'Sample_time',\n",
    "                       'Easting', 'Northing', 'pH','Conductivity (uS/cm)', 'Organic matter LOI (%w/w)', 'Total N (%w/w) Soil',\n",
    "                      'Total C (%w/w) Soil']"
   ]
  },
  {
   "cell_type": "code",
   "execution_count": 71,
   "id": "4d484bb0",
   "metadata": {},
   "outputs": [],
   "source": [
    "# Remobe other columns\n",
    "field_2019 = field_2019[columns_to_keep2019]"
   ]
  },
  {
   "cell_type": "code",
   "execution_count": 72,
   "id": "40dbbf6e",
   "metadata": {},
   "outputs": [
    {
     "data": {
      "text/html": [
       "<div>\n",
       "<style scoped>\n",
       "    .dataframe tbody tr th:only-of-type {\n",
       "        vertical-align: middle;\n",
       "    }\n",
       "\n",
       "    .dataframe tbody tr th {\n",
       "        vertical-align: top;\n",
       "    }\n",
       "\n",
       "    .dataframe thead th {\n",
       "        text-align: right;\n",
       "    }\n",
       "</style>\n",
       "<table border=\"1\" class=\"dataframe\">\n",
       "  <thead>\n",
       "    <tr style=\"text-align: right;\">\n",
       "      <th></th>\n",
       "      <th>Experiment_Id</th>\n",
       "      <th>SP_ID</th>\n",
       "      <th>sample_distance (m)</th>\n",
       "      <th>Field</th>\n",
       "      <th>Sample_date</th>\n",
       "      <th>Sample_time</th>\n",
       "      <th>Easting</th>\n",
       "      <th>Northing</th>\n",
       "      <th>pH</th>\n",
       "      <th>Conductivity (uS/cm)</th>\n",
       "      <th>Organic matter LOI (%w/w)</th>\n",
       "      <th>Total N (%w/w) Soil</th>\n",
       "      <th>Total C (%w/w) Soil</th>\n",
       "    </tr>\n",
       "  </thead>\n",
       "  <tbody>\n",
       "    <tr>\n",
       "      <th>0</th>\n",
       "      <td>NW702-SP</td>\n",
       "      <td>19</td>\n",
       "      <td>NaN</td>\n",
       "      <td>Pecketsford</td>\n",
       "      <td>18/03/2019</td>\n",
       "      <td>12:01:00</td>\n",
       "      <td>265650.7</td>\n",
       "      <td>99239.591</td>\n",
       "      <td>NaN</td>\n",
       "      <td>NaN</td>\n",
       "      <td>NaN</td>\n",
       "      <td>NaN</td>\n",
       "      <td>NaN</td>\n",
       "    </tr>\n",
       "    <tr>\n",
       "      <th>1</th>\n",
       "      <td>NW702-SP</td>\n",
       "      <td>19</td>\n",
       "      <td>NaN</td>\n",
       "      <td>Pecketsford</td>\n",
       "      <td>18/03/2019</td>\n",
       "      <td>12:02:00</td>\n",
       "      <td>265576.3</td>\n",
       "      <td>99180.488</td>\n",
       "      <td>NaN</td>\n",
       "      <td>NaN</td>\n",
       "      <td>NaN</td>\n",
       "      <td>NaN</td>\n",
       "      <td>NaN</td>\n",
       "    </tr>\n",
       "    <tr>\n",
       "      <th>2</th>\n",
       "      <td>NW702-SP</td>\n",
       "      <td>19</td>\n",
       "      <td>NaN</td>\n",
       "      <td>Pecketsford</td>\n",
       "      <td>18/03/2019</td>\n",
       "      <td>12:03:00</td>\n",
       "      <td>265572.8</td>\n",
       "      <td>99122.300</td>\n",
       "      <td>NaN</td>\n",
       "      <td>NaN</td>\n",
       "      <td>NaN</td>\n",
       "      <td>NaN</td>\n",
       "      <td>NaN</td>\n",
       "    </tr>\n",
       "    <tr>\n",
       "      <th>3</th>\n",
       "      <td>NW702-SP</td>\n",
       "      <td>19</td>\n",
       "      <td>NaN</td>\n",
       "      <td>Pecketsford</td>\n",
       "      <td>18/03/2019</td>\n",
       "      <td>12:04:00</td>\n",
       "      <td>265617.2</td>\n",
       "      <td>99169.389</td>\n",
       "      <td>NaN</td>\n",
       "      <td>NaN</td>\n",
       "      <td>NaN</td>\n",
       "      <td>NaN</td>\n",
       "      <td>NaN</td>\n",
       "    </tr>\n",
       "    <tr>\n",
       "      <th>4</th>\n",
       "      <td>NW702-SP</td>\n",
       "      <td>19</td>\n",
       "      <td>NaN</td>\n",
       "      <td>Pecketsford</td>\n",
       "      <td>18/03/2019</td>\n",
       "      <td>12:05:00</td>\n",
       "      <td>265659.1</td>\n",
       "      <td>99203.655</td>\n",
       "      <td>NaN</td>\n",
       "      <td>NaN</td>\n",
       "      <td>NaN</td>\n",
       "      <td>NaN</td>\n",
       "      <td>NaN</td>\n",
       "    </tr>\n",
       "  </tbody>\n",
       "</table>\n",
       "</div>"
      ],
      "text/plain": [
       "  Experiment_Id  SP_ID  sample_distance (m)        Field Sample_date  \\\n",
       "0      NW702-SP     19                  NaN  Pecketsford  18/03/2019   \n",
       "1      NW702-SP     19                  NaN  Pecketsford  18/03/2019   \n",
       "2      NW702-SP     19                  NaN  Pecketsford  18/03/2019   \n",
       "3      NW702-SP     19                  NaN  Pecketsford  18/03/2019   \n",
       "4      NW702-SP     19                  NaN  Pecketsford  18/03/2019   \n",
       "\n",
       "  Sample_time   Easting   Northing  pH  Conductivity (uS/cm)  \\\n",
       "0    12:01:00  265650.7  99239.591 NaN                   NaN   \n",
       "1    12:02:00  265576.3  99180.488 NaN                   NaN   \n",
       "2    12:03:00  265572.8  99122.300 NaN                   NaN   \n",
       "3    12:04:00  265617.2  99169.389 NaN                   NaN   \n",
       "4    12:05:00  265659.1  99203.655 NaN                   NaN   \n",
       "\n",
       "   Organic matter LOI (%w/w)  Total N (%w/w) Soil  Total C (%w/w) Soil  \n",
       "0                        NaN                  NaN                  NaN  \n",
       "1                        NaN                  NaN                  NaN  \n",
       "2                        NaN                  NaN                  NaN  \n",
       "3                        NaN                  NaN                  NaN  \n",
       "4                        NaN                  NaN                  NaN  "
      ]
     },
     "execution_count": 72,
     "metadata": {},
     "output_type": "execute_result"
    }
   ],
   "source": [
    "# A glimpse on the dataset\n",
    "field_2019.head()"
   ]
  },
  {
   "cell_type": "code",
   "execution_count": 73,
   "id": "30644654",
   "metadata": {},
   "outputs": [],
   "source": [
    "# Dictionary with column names\n",
    "dict_names_2019 = {'Conductivity (uS/cm)':'conductivity_uScm', 'Organic matter LOI (%w/w)': 'OM_%w/w', \n",
    "                   'Total N (%w/w) Soil': 'N_total_%w/w', 'Total C (%w/w) Soil': 'C_total_%w/w'}"
   ]
  },
  {
   "cell_type": "code",
   "execution_count": 74,
   "id": "7510f9b6",
   "metadata": {},
   "outputs": [],
   "source": [
    "# Rename columns\n",
    "field_2019.rename(columns = dict_names_2019, inplace = True)"
   ]
  },
  {
   "cell_type": "code",
   "execution_count": 75,
   "id": "9a55aecb",
   "metadata": {},
   "outputs": [
    {
     "name": "stdout",
     "output_type": "stream",
     "text": [
      "<class 'pandas.core.frame.DataFrame'>\n",
      "RangeIndex: 403 entries, 0 to 402\n",
      "Data columns (total 13 columns):\n",
      " #   Column               Non-Null Count  Dtype  \n",
      "---  ------               --------------  -----  \n",
      " 0   Experiment_Id        403 non-null    object \n",
      " 1   SP_ID                403 non-null    int64  \n",
      " 2   sample_distance (m)  27 non-null     float64\n",
      " 3   Field                403 non-null    object \n",
      " 4   Sample_date          403 non-null    object \n",
      " 5   Sample_time          403 non-null    object \n",
      " 6   Easting              403 non-null    float64\n",
      " 7   Northing             403 non-null    float64\n",
      " 8   pH                   166 non-null    float64\n",
      " 9   conductivity_uScm    162 non-null    float64\n",
      " 10  OM_%w/w              166 non-null    float64\n",
      " 11  N_total_%w/w         166 non-null    float64\n",
      " 12  C_total_%w/w         166 non-null    float64\n",
      "dtypes: float64(8), int64(1), object(4)\n",
      "memory usage: 41.1+ KB\n"
     ]
    }
   ],
   "source": [
    "# Info\n",
    "field_2019.info()"
   ]
  },
  {
   "cell_type": "code",
   "execution_count": 76,
   "id": "323fa901",
   "metadata": {},
   "outputs": [],
   "source": [
    "# Convert object to datetime\n",
    "field_2019['Sample_date'] = pd.to_datetime(field_2019['Sample_date'])"
   ]
  },
  {
   "cell_type": "code",
   "execution_count": 78,
   "id": "420cf0d0",
   "metadata": {},
   "outputs": [
    {
     "data": {
      "image/png": "[encoded data removed]",
      "text/plain": [
       "<Figure size 432x288 with 1 Axes>"
      ]
     },
     "metadata": {
      "needs_background": "light"
     },
     "output_type": "display_data"
    }
   ],
   "source": [
    "# Plot OM% distribution\n",
    "field_2019['OM_%w/w'].plot(kind = 'hist', ec = 'black')\n",
    "plt.title('Average OM% distribution for year 2019')\n",
    "plt.xlabel('OM%')\n",
    "plt.ylabel('Frequency')\n",
    "plt.show()"
   ]
  },
  {
   "cell_type": "code",
   "execution_count": 79,
   "id": "4b79ec11",
   "metadata": {},
   "outputs": [
    {
     "data": {
      "image/png": "[encoded data removed]",
      "text/plain": [
       "<Figure size 432x288 with 1 Axes>"
      ]
     },
     "metadata": {
      "needs_background": "light"
     },
     "output_type": "display_data"
    }
   ],
   "source": [
    "# Plot OM% by date\n",
    "plt.plot(field_2019['OM_%w/w'],field_2019['Sample_date'],  'o', color = 'red', markersize=5)\n",
    "plt.xlabel('OM%')\n",
    "plt.ylabel('Date')\n",
    "plt.show()"
   ]
  },
  {
   "cell_type": "markdown",
   "id": "07c73a4c",
   "metadata": {},
   "source": [
    "Analyse the data, search for duplicates and NAs"
   ]
  },
  {
   "cell_type": "code",
   "execution_count": 80,
   "id": "a104f05e",
   "metadata": {},
   "outputs": [
    {
     "name": "stdout",
     "output_type": "stream",
     "text": [
      "[False, False, False, False, False, False, False, False, False, False, False, False, False, False, False, False, False, False, False, False, False, False, False, False, False, False, False, False, False, False, False, False, False, False, False, False, False, False, False, False, False, False, False, False, False, False, False, False, False, False, False, False, False, False, False, False, False, False, False, False, False, False, False, False, False, False, False, False, False, False, False, False, False, False, False, False, False, False, False, False, False, False, False, False, False, False, False, False, False, False, False, False, False, False, False, False, False, False, False, False, False, False, False, False, False, False, False, False, False, False, False, False, False, False, False, False, False, False, False, False, False, False, False, False, False, False, False, False, False, False, False, False, False, False, False, False, False, False, False, False, False, False, False, False, False, False, False, False, False, False, False, False, False, False, False, False, False, False, False, False, False, False, False, False, False, False, False, False, False, False, False, False, False, False, False, False, False, False, False, False, False, False, False, False, False, False, False, False, False, False, False, False, False, False, False, False, False, False, False, False, False, False, False, False, False, False, False, False, False, False, False, False, False, False, False, False, False, False, False, False, False, False, False, False, False, False, False, False, False, False, False, False, False, False, False, False, False, False, False, False, False, False, False, False, False, False, False, False, False, False, False, False, False, False, False, False, False, False, False, False, False, False, False, False, False, False, False, False, False, False, False, False, False, False, False, False, False, False, False, False, False, False, False, False, False, False, False, False, False, False, False, False, False, False, False, False, False, False, False, False, False, False, False, False, False, False, False, False, False, False, False, False, False, False, False, False, False, False, False, False, False, False, False, False, False, False, False, False, False, False, False, False, False, False, False, False, False, False, False, False, False, False, False, False, False, False, False, False, False, False, False, False, False, False, False, False, False, False, False, False, False, False, False, False, False, False, False, False, False, False, False, False, False, False, False, False, False, False, False, False, False, False, False, False, False, False, False, False, False, False, False, False, False, False, False, False, False, False, False, False, False, False, False]\n"
     ]
    }
   ],
   "source": [
    "# Check duplicates\n",
    "bool_series_19 = field_2019[['Sample_date','Easting', 'Northing']].duplicated()\n",
    "print(bool_series_19.tolist())"
   ]
  },
  {
   "cell_type": "code",
   "execution_count": 81,
   "id": "4cb597ac",
   "metadata": {},
   "outputs": [
    {
     "data": {
      "text/plain": [
       "237"
      ]
     },
     "execution_count": 81,
     "metadata": {},
     "output_type": "execute_result"
    }
   ],
   "source": [
    "# Check NAs in C%\n",
    "field_2019['OM_%w/w'].isna().sum()"
   ]
  },
  {
   "cell_type": "code",
   "execution_count": 82,
   "id": "6e9a46d3",
   "metadata": {},
   "outputs": [
    {
     "data": {
      "text/plain": [
       "(403, 13)"
      ]
     },
     "execution_count": 82,
     "metadata": {},
     "output_type": "execute_result"
    }
   ],
   "source": [
    "field_2019.shape"
   ]
  },
  {
   "cell_type": "code",
   "execution_count": 83,
   "id": "00b59266",
   "metadata": {},
   "outputs": [],
   "source": [
    "field_2019.dropna(subset = 'OM_%w/w', inplace = True)"
   ]
  },
  {
   "cell_type": "code",
   "execution_count": 84,
   "id": "3b4419be",
   "metadata": {},
   "outputs": [
    {
     "data": {
      "text/plain": [
       "0"
      ]
     },
     "execution_count": 84,
     "metadata": {},
     "output_type": "execute_result"
    }
   ],
   "source": [
    "# Check NAs in C%\n",
    "field_2019['OM_%w/w'].isna().sum()"
   ]
  },
  {
   "cell_type": "markdown",
   "id": "1ae61314",
   "metadata": {},
   "source": [
    "### Year 2020"
   ]
  },
  {
   "cell_type": "code",
   "execution_count": 85,
   "id": "3e2124bd",
   "metadata": {},
   "outputs": [],
   "source": [
    "## Load data\n",
    "field_2020 = pd.read_csv('Field Survey Data_Format 1_Soil Survey_2020-01-01_2020-12-31.csv')"
   ]
  },
  {
   "cell_type": "code",
   "execution_count": null,
   "id": "34a2327f",
   "metadata": {},
   "outputs": [],
   "source": [
    "# Check the columns\n",
    "field_2020.columns"
   ]
  },
  {
   "cell_type": "code",
   "execution_count": 86,
   "id": "ac835e69",
   "metadata": {},
   "outputs": [],
   "source": [
    "# Columns to keep\n",
    "columns_to_keep2020 = ['Experiment_Id', 'SP_ID', 'sample_distance (m)', 'Field', 'Sample_date', 'Sample_time',\n",
    "                       'Easting', 'Northing', 'pH','Conductivity (uS/cm)', 'Organic matter LOI (%w/w)', 'Total N (%w/w) Soil',\n",
    "                      'Total C (%w/w) Soil']"
   ]
  },
  {
   "cell_type": "code",
   "execution_count": 87,
   "id": "323e2ce0",
   "metadata": {},
   "outputs": [],
   "source": [
    "# Dictionary with names\n",
    "dict_names_2020 = {'Conductivity (uS/cm)':'conductivity_uScm', 'Organic matter LOI (%w/w)': 'OM_%w/w', \n",
    "                   'Total N (%w/w) Soil': 'N_total_%w/w', 'Total C (%w/w) Soil': 'C_total_%w/w'}"
   ]
  },
  {
   "cell_type": "code",
   "execution_count": 88,
   "id": "47ff4e3e",
   "metadata": {},
   "outputs": [],
   "source": [
    "# Remove other columns\n",
    "field_2020 = field_2020[columns_to_keep2020]"
   ]
  },
  {
   "cell_type": "code",
   "execution_count": 89,
   "id": "7a140cfb",
   "metadata": {},
   "outputs": [
    {
     "data": {
      "text/html": [
       "<div>\n",
       "<style scoped>\n",
       "    .dataframe tbody tr th:only-of-type {\n",
       "        vertical-align: middle;\n",
       "    }\n",
       "\n",
       "    .dataframe tbody tr th {\n",
       "        vertical-align: top;\n",
       "    }\n",
       "\n",
       "    .dataframe thead th {\n",
       "        text-align: right;\n",
       "    }\n",
       "</style>\n",
       "<table border=\"1\" class=\"dataframe\">\n",
       "  <thead>\n",
       "    <tr style=\"text-align: right;\">\n",
       "      <th></th>\n",
       "      <th>Experiment_Id</th>\n",
       "      <th>SP_ID</th>\n",
       "      <th>sample_distance (m)</th>\n",
       "      <th>Field</th>\n",
       "      <th>Sample_date</th>\n",
       "      <th>Sample_time</th>\n",
       "      <th>Easting</th>\n",
       "      <th>Northing</th>\n",
       "      <th>pH</th>\n",
       "      <th>Conductivity (uS/cm)</th>\n",
       "      <th>Organic matter LOI (%w/w)</th>\n",
       "      <th>Total N (%w/w) Soil</th>\n",
       "      <th>Total C (%w/w) Soil</th>\n",
       "    </tr>\n",
       "  </thead>\n",
       "  <tbody>\n",
       "    <tr>\n",
       "      <th>0</th>\n",
       "      <td>NW702-S</td>\n",
       "      <td>19</td>\n",
       "      <td>NaN</td>\n",
       "      <td>Pecketsford</td>\n",
       "      <td>18/03/2019</td>\n",
       "      <td>12:00:00</td>\n",
       "      <td>265618.86</td>\n",
       "      <td>99134.54</td>\n",
       "      <td>6.3</td>\n",
       "      <td>2047</td>\n",
       "      <td>9.2</td>\n",
       "      <td>0.412</td>\n",
       "      <td>4.24</td>\n",
       "    </tr>\n",
       "    <tr>\n",
       "      <th>1</th>\n",
       "      <td>NW702-S</td>\n",
       "      <td>68</td>\n",
       "      <td>NaN</td>\n",
       "      <td>Little Pecketsford</td>\n",
       "      <td>18/03/2019</td>\n",
       "      <td>12:00:00</td>\n",
       "      <td>265698.45</td>\n",
       "      <td>99004.41</td>\n",
       "      <td>6.0</td>\n",
       "      <td>2041</td>\n",
       "      <td>7.3</td>\n",
       "      <td>0.342</td>\n",
       "      <td>3.23</td>\n",
       "    </tr>\n",
       "    <tr>\n",
       "      <th>2</th>\n",
       "      <td>NW702-S</td>\n",
       "      <td>2002</td>\n",
       "      <td>NaN</td>\n",
       "      <td>Great Field</td>\n",
       "      <td>18/03/2019</td>\n",
       "      <td>12:00:00</td>\n",
       "      <td>265690.12</td>\n",
       "      <td>98829.40</td>\n",
       "      <td>6.0</td>\n",
       "      <td>2020</td>\n",
       "      <td>8.8</td>\n",
       "      <td>0.394</td>\n",
       "      <td>3.94</td>\n",
       "    </tr>\n",
       "    <tr>\n",
       "      <th>3</th>\n",
       "      <td>NW702-S</td>\n",
       "      <td>2004</td>\n",
       "      <td>NaN</td>\n",
       "      <td>Ware Park</td>\n",
       "      <td>19/03/2019</td>\n",
       "      <td>12:00:00</td>\n",
       "      <td>265791.65</td>\n",
       "      <td>98584.10</td>\n",
       "      <td>6.0</td>\n",
       "      <td>2025</td>\n",
       "      <td>7.3</td>\n",
       "      <td>0.322</td>\n",
       "      <td>3.12</td>\n",
       "    </tr>\n",
       "    <tr>\n",
       "      <th>4</th>\n",
       "      <td>NW702-S</td>\n",
       "      <td>2003</td>\n",
       "      <td>NaN</td>\n",
       "      <td>Poor Field</td>\n",
       "      <td>19/03/2019</td>\n",
       "      <td>12:00:00</td>\n",
       "      <td>265547.77</td>\n",
       "      <td>98594.88</td>\n",
       "      <td>6.1</td>\n",
       "      <td>2017</td>\n",
       "      <td>9.8</td>\n",
       "      <td>0.423</td>\n",
       "      <td>4.35</td>\n",
       "    </tr>\n",
       "  </tbody>\n",
       "</table>\n",
       "</div>"
      ],
      "text/plain": [
       "  Experiment_Id  SP_ID  sample_distance (m)               Field Sample_date  \\\n",
       "0       NW702-S     19                  NaN         Pecketsford  18/03/2019   \n",
       "1       NW702-S     68                  NaN  Little Pecketsford  18/03/2019   \n",
       "2       NW702-S   2002                  NaN         Great Field  18/03/2019   \n",
       "3       NW702-S   2004                  NaN           Ware Park  19/03/2019   \n",
       "4       NW702-S   2003                  NaN          Poor Field  19/03/2019   \n",
       "\n",
       "  Sample_time    Easting  Northing   pH  Conductivity (uS/cm)  \\\n",
       "0    12:00:00  265618.86  99134.54  6.3                  2047   \n",
       "1    12:00:00  265698.45  99004.41  6.0                  2041   \n",
       "2    12:00:00  265690.12  98829.40  6.0                  2020   \n",
       "3    12:00:00  265791.65  98584.10  6.0                  2025   \n",
       "4    12:00:00  265547.77  98594.88  6.1                  2017   \n",
       "\n",
       "   Organic matter LOI (%w/w)  Total N (%w/w) Soil  Total C (%w/w) Soil  \n",
       "0                        9.2                0.412                 4.24  \n",
       "1                        7.3                0.342                 3.23  \n",
       "2                        8.8                0.394                 3.94  \n",
       "3                        7.3                0.322                 3.12  \n",
       "4                        9.8                0.423                 4.35  "
      ]
     },
     "execution_count": 89,
     "metadata": {},
     "output_type": "execute_result"
    }
   ],
   "source": [
    "# A glimpse on the dataset\n",
    "field_2020.head()"
   ]
  },
  {
   "cell_type": "code",
   "execution_count": 90,
   "id": "f2189da8",
   "metadata": {},
   "outputs": [],
   "source": [
    "# Rename columns\n",
    "field_2020.rename(columns = dict_names_2020, inplace = True)"
   ]
  },
  {
   "cell_type": "code",
   "execution_count": 91,
   "id": "67e1e275",
   "metadata": {},
   "outputs": [
    {
     "name": "stdout",
     "output_type": "stream",
     "text": [
      "<class 'pandas.core.frame.DataFrame'>\n",
      "RangeIndex: 142 entries, 0 to 141\n",
      "Data columns (total 13 columns):\n",
      " #   Column               Non-Null Count  Dtype  \n",
      "---  ------               --------------  -----  \n",
      " 0   Experiment_Id        142 non-null    object \n",
      " 1   SP_ID                142 non-null    int64  \n",
      " 2   sample_distance (m)  0 non-null      float64\n",
      " 3   Field                142 non-null    object \n",
      " 4   Sample_date          142 non-null    object \n",
      " 5   Sample_time          142 non-null    object \n",
      " 6   Easting              142 non-null    float64\n",
      " 7   Northing             142 non-null    float64\n",
      " 8   pH                   142 non-null    float64\n",
      " 9   conductivity_uScm    142 non-null    int64  \n",
      " 10  OM_%w/w              142 non-null    float64\n",
      " 11  N_total_%w/w         142 non-null    float64\n",
      " 12  C_total_%w/w         142 non-null    float64\n",
      "dtypes: float64(7), int64(2), object(4)\n",
      "memory usage: 14.5+ KB\n"
     ]
    }
   ],
   "source": [
    "# Info\n",
    "field_2020.info()"
   ]
  },
  {
   "cell_type": "code",
   "execution_count": 92,
   "id": "f6421472",
   "metadata": {},
   "outputs": [],
   "source": [
    "# Convert object to datetime\n",
    "field_2020['Sample_date'] = pd.to_datetime(field_2020['Sample_date'])"
   ]
  },
  {
   "cell_type": "code",
   "execution_count": 94,
   "id": "87fad39e",
   "metadata": {},
   "outputs": [
    {
     "data": {
      "image/png": "[encoded data removed]",
      "text/plain": [
       "<Figure size 432x288 with 1 Axes>"
      ]
     },
     "metadata": {
      "needs_background": "light"
     },
     "output_type": "display_data"
    }
   ],
   "source": [
    "# Plot OM% distribution\n",
    "field_2020['OM_%w/w'].plot(kind = 'hist', ec = 'black')\n",
    "plt.title('Average OM% distribution for year 2020')\n",
    "plt.xlabel('OM%')\n",
    "plt.ylabel('Frequency')\n",
    "plt.show()"
   ]
  },
  {
   "cell_type": "code",
   "execution_count": 95,
   "id": "c79b0912",
   "metadata": {},
   "outputs": [
    {
     "data": {
      "image/png": "[encoded data removed]",
      "text/plain": [
       "<Figure size 432x288 with 1 Axes>"
      ]
     },
     "metadata": {
      "needs_background": "light"
     },
     "output_type": "display_data"
    }
   ],
   "source": [
    "# Plot OM% by date\n",
    "plt.plot(field_2020['OM_%w/w'],field_2020['Sample_date'],  'o', color = 'red', markersize=5)\n",
    "plt.xlabel('OM%')\n",
    "plt.ylabel('Date')\n",
    "plt.show()"
   ]
  },
  {
   "cell_type": "code",
   "execution_count": 96,
   "id": "a5bac497",
   "metadata": {},
   "outputs": [
    {
     "name": "stdout",
     "output_type": "stream",
     "text": [
      "[False, False, False, False, False, False, False, False, False, False, False, False, False, False, False, False, False, False, False, False, False, False, False, False, False, False, False, False, False, False, False, False, False, False, False, False, False, False, False, False, False, False, False, False, False, False, False, False, False, False, False, False, False, False, False, False, False, False, False, False, False, False, False, False, False, False, False, False, False, False, False, False, False, False, False, False, False, False, False, False, False, False, False, False, False, False, False, False, False, False, False, False, False, False, False, False, False, False, False, False, False, False, False, False, False, False, False, False, False, False, False, False, False, False, False, False, False, False, False, False, False, False, False, False, False, False, False, False, False, False, False, False, False, False, False, False, False, False, False, False, False, False]\n"
     ]
    }
   ],
   "source": [
    "# Check duplicates\n",
    "bool_series_20 = field_2020[['Sample_date','Easting', 'Northing']].duplicated()\n",
    "print(bool_series_20.tolist())"
   ]
  },
  {
   "cell_type": "code",
   "execution_count": 98,
   "id": "3877bf63",
   "metadata": {},
   "outputs": [
    {
     "data": {
      "text/plain": [
       "0"
      ]
     },
     "execution_count": 98,
     "metadata": {},
     "output_type": "execute_result"
    }
   ],
   "source": [
    "# Check NAs in C%\n",
    "field_2020['C_total_%w/w'].isna().sum()"
   ]
  },
  {
   "cell_type": "markdown",
   "id": "886dc07e",
   "metadata": {},
   "source": [
    "### Year 2021"
   ]
  },
  {
   "cell_type": "code",
   "execution_count": 99,
   "id": "93958be9",
   "metadata": {},
   "outputs": [],
   "source": [
    "## Load data\n",
    "field_2021 = pd.read_csv('Field Survey Data_Format 1_Soil Survey_2021-01-01_2021-12-31.csv')"
   ]
  },
  {
   "cell_type": "code",
   "execution_count": null,
   "id": "9b9f3420",
   "metadata": {},
   "outputs": [],
   "source": [
    "# Check the columns\n",
    "field_2021.columns"
   ]
  },
  {
   "cell_type": "code",
   "execution_count": 100,
   "id": "1cd3ff8d",
   "metadata": {},
   "outputs": [],
   "source": [
    "# Columns to keep\n",
    "columns_to_keep2021 = ['Experiment_Id', 'SP_ID', 'sample_distance (m)', 'Field',  'Sample_date', 'Sample_time',\n",
    "                       'Easting', 'Northing', 'pH','Conductivity (uS/cm)', 'Organic matter LOI (%w/w)', 'Total N (%w/w) Soil',\n",
    "                      'Total C (%w/w) Soil']"
   ]
  },
  {
   "cell_type": "code",
   "execution_count": 101,
   "id": "239a8879",
   "metadata": {},
   "outputs": [],
   "source": [
    "# Dictionary with names\n",
    "dict_names_2021 = {'Conductivity (uS/cm)':'conductivity_uScm', 'Organic matter LOI (%w/w)': 'OM_%w/w', \n",
    "                   'Total N (%w/w) Soil': 'N_total_%w/w', 'Total C (%w/w) Soil': 'C_total_%w/w'}"
   ]
  },
  {
   "cell_type": "code",
   "execution_count": 102,
   "id": "ded9ed71",
   "metadata": {},
   "outputs": [],
   "source": [
    "# Remove other columns\n",
    "field_2021 = field_2021[columns_to_keep2021]"
   ]
  },
  {
   "cell_type": "code",
   "execution_count": 103,
   "id": "36a06961",
   "metadata": {},
   "outputs": [
    {
     "data": {
      "text/html": [
       "<div>\n",
       "<style scoped>\n",
       "    .dataframe tbody tr th:only-of-type {\n",
       "        vertical-align: middle;\n",
       "    }\n",
       "\n",
       "    .dataframe tbody tr th {\n",
       "        vertical-align: top;\n",
       "    }\n",
       "\n",
       "    .dataframe thead th {\n",
       "        text-align: right;\n",
       "    }\n",
       "</style>\n",
       "<table border=\"1\" class=\"dataframe\">\n",
       "  <thead>\n",
       "    <tr style=\"text-align: right;\">\n",
       "      <th></th>\n",
       "      <th>Experiment_Id</th>\n",
       "      <th>SP_ID</th>\n",
       "      <th>sample_distance (m)</th>\n",
       "      <th>Field</th>\n",
       "      <th>Sample_date</th>\n",
       "      <th>Sample_time</th>\n",
       "      <th>Easting</th>\n",
       "      <th>Northing</th>\n",
       "      <th>pH</th>\n",
       "      <th>Conductivity (uS/cm)</th>\n",
       "      <th>Organic matter LOI (%w/w)</th>\n",
       "      <th>Total N (%w/w) Soil</th>\n",
       "      <th>Total C (%w/w) Soil</th>\n",
       "    </tr>\n",
       "  </thead>\n",
       "  <tbody>\n",
       "    <tr>\n",
       "      <th>0</th>\n",
       "      <td>NW752-2SP-1</td>\n",
       "      <td>2011</td>\n",
       "      <td>NaN</td>\n",
       "      <td>Higher Wyke Moor</td>\n",
       "      <td>03/09/2021</td>\n",
       "      <td>12:00:00</td>\n",
       "      <td>266114.792</td>\n",
       "      <td>97558.471</td>\n",
       "      <td>NaN</td>\n",
       "      <td>NaN</td>\n",
       "      <td>NaN</td>\n",
       "      <td>NaN</td>\n",
       "      <td>NaN</td>\n",
       "    </tr>\n",
       "    <tr>\n",
       "      <th>1</th>\n",
       "      <td>NW752-2SP-1</td>\n",
       "      <td>2012</td>\n",
       "      <td>NaN</td>\n",
       "      <td>Middle Wyke Moor</td>\n",
       "      <td>03/09/2021</td>\n",
       "      <td>12:00:00</td>\n",
       "      <td>266371.050</td>\n",
       "      <td>97681.779</td>\n",
       "      <td>NaN</td>\n",
       "      <td>NaN</td>\n",
       "      <td>NaN</td>\n",
       "      <td>NaN</td>\n",
       "      <td>NaN</td>\n",
       "    </tr>\n",
       "    <tr>\n",
       "      <th>2</th>\n",
       "      <td>NW752-2SP-1</td>\n",
       "      <td>2010</td>\n",
       "      <td>NaN</td>\n",
       "      <td>Lower Wyke Moor</td>\n",
       "      <td>14/09/2021</td>\n",
       "      <td>12:00:00</td>\n",
       "      <td>266432.495</td>\n",
       "      <td>97871.352</td>\n",
       "      <td>NaN</td>\n",
       "      <td>NaN</td>\n",
       "      <td>NaN</td>\n",
       "      <td>NaN</td>\n",
       "      <td>NaN</td>\n",
       "    </tr>\n",
       "    <tr>\n",
       "      <th>3</th>\n",
       "      <td>NW752-2SP-1</td>\n",
       "      <td>2013</td>\n",
       "      <td>NaN</td>\n",
       "      <td>Dairy South</td>\n",
       "      <td>14/09/2021</td>\n",
       "      <td>12:00:00</td>\n",
       "      <td>266062.963</td>\n",
       "      <td>98059.804</td>\n",
       "      <td>NaN</td>\n",
       "      <td>NaN</td>\n",
       "      <td>NaN</td>\n",
       "      <td>NaN</td>\n",
       "      <td>NaN</td>\n",
       "    </tr>\n",
       "    <tr>\n",
       "      <th>4</th>\n",
       "      <td>NW752-2SP-1</td>\n",
       "      <td>2016</td>\n",
       "      <td>NaN</td>\n",
       "      <td>Dairy East</td>\n",
       "      <td>13/09/2021</td>\n",
       "      <td>12:00:00</td>\n",
       "      <td>266285.532</td>\n",
       "      <td>98180.026</td>\n",
       "      <td>NaN</td>\n",
       "      <td>NaN</td>\n",
       "      <td>NaN</td>\n",
       "      <td>NaN</td>\n",
       "      <td>NaN</td>\n",
       "    </tr>\n",
       "  </tbody>\n",
       "</table>\n",
       "</div>"
      ],
      "text/plain": [
       "  Experiment_Id  SP_ID  sample_distance (m)             Field Sample_date  \\\n",
       "0   NW752-2SP-1   2011                  NaN  Higher Wyke Moor  03/09/2021   \n",
       "1   NW752-2SP-1   2012                  NaN  Middle Wyke Moor  03/09/2021   \n",
       "2   NW752-2SP-1   2010                  NaN   Lower Wyke Moor  14/09/2021   \n",
       "3   NW752-2SP-1   2013                  NaN       Dairy South  14/09/2021   \n",
       "4   NW752-2SP-1   2016                  NaN        Dairy East  13/09/2021   \n",
       "\n",
       "  Sample_time     Easting   Northing  pH  Conductivity (uS/cm)  \\\n",
       "0    12:00:00  266114.792  97558.471 NaN                   NaN   \n",
       "1    12:00:00  266371.050  97681.779 NaN                   NaN   \n",
       "2    12:00:00  266432.495  97871.352 NaN                   NaN   \n",
       "3    12:00:00  266062.963  98059.804 NaN                   NaN   \n",
       "4    12:00:00  266285.532  98180.026 NaN                   NaN   \n",
       "\n",
       "   Organic matter LOI (%w/w)  Total N (%w/w) Soil  Total C (%w/w) Soil  \n",
       "0                        NaN                  NaN                  NaN  \n",
       "1                        NaN                  NaN                  NaN  \n",
       "2                        NaN                  NaN                  NaN  \n",
       "3                        NaN                  NaN                  NaN  \n",
       "4                        NaN                  NaN                  NaN  "
      ]
     },
     "execution_count": 103,
     "metadata": {},
     "output_type": "execute_result"
    }
   ],
   "source": [
    "# A glimpse on the dataset\n",
    "field_2021.head()"
   ]
  },
  {
   "cell_type": "code",
   "execution_count": 104,
   "id": "1b4c3ceb",
   "metadata": {},
   "outputs": [],
   "source": [
    "# Rename columns\n",
    "field_2021.rename(columns = dict_names_2021, inplace = True)"
   ]
  },
  {
   "cell_type": "code",
   "execution_count": 105,
   "id": "74214cd6",
   "metadata": {},
   "outputs": [],
   "source": [
    "# Convert object to datetime\n",
    "field_2021['Sample_date'] = pd.to_datetime(field_2021['Sample_date'])"
   ]
  },
  {
   "cell_type": "code",
   "execution_count": 109,
   "id": "68437303",
   "metadata": {},
   "outputs": [
    {
     "data": {
      "image/png": "[encoded data removed]",
      "text/plain": [
       "<Figure size 432x288 with 1 Axes>"
      ]
     },
     "metadata": {
      "needs_background": "light"
     },
     "output_type": "display_data"
    }
   ],
   "source": [
    "# Plot OM% distribution\n",
    "field_2021['OM_%w/w'].plot(kind = 'hist', ec = 'black')\n",
    "plt.title('Average OM% distribution for year 2021')\n",
    "plt.xlabel('OM%')\n",
    "plt.ylabel('Frequency')\n",
    "plt.show()"
   ]
  },
  {
   "cell_type": "code",
   "execution_count": 110,
   "id": "9ce78e00",
   "metadata": {},
   "outputs": [
    {
     "data": {
      "image/png": "[encoded data removed]",
      "text/plain": [
       "<Figure size 432x288 with 1 Axes>"
      ]
     },
     "metadata": {
      "needs_background": "light"
     },
     "output_type": "display_data"
    }
   ],
   "source": [
    "# Plot OM% by date\n",
    "plt.plot(field_2021['OM_%w/w'],field_2021['Sample_date'],  'o', color = 'red', markersize=5)\n",
    "plt.xlabel('OM%')\n",
    "plt.ylabel('Date')\n",
    "plt.show()"
   ]
  },
  {
   "cell_type": "code",
   "execution_count": 136,
   "id": "f9a36fb1",
   "metadata": {},
   "outputs": [
    {
     "name": "stdout",
     "output_type": "stream",
     "text": [
      "[False, False, False, False, False, False, False, False, False, False, False, False, False, False, False, False, False, False, False, False, False, False, False, False, False, False, False, False, False, False, False, False, False, False, False, False, False, False, False, False, False, False, False, False, False, False, False, False, False, False, False, False, False, False, False, False, False, False, False, False, False, False, False, False, False, False, False, False, False, False, False, False, False, False, False, False, False, False, False, False]\n"
     ]
    }
   ],
   "source": [
    "# Check duplicates\n",
    "bool_series_21 = field_2021[['Sample_date','Easting', 'Northing']].duplicated()\n",
    "print(bool_series_21.tolist())"
   ]
  },
  {
   "cell_type": "code",
   "execution_count": 133,
   "id": "a8e9fe20",
   "metadata": {},
   "outputs": [
    {
     "data": {
      "text/plain": [
       "126"
      ]
     },
     "execution_count": 133,
     "metadata": {},
     "output_type": "execute_result"
    }
   ],
   "source": [
    "# Check NAs in C%\n",
    "field_2021['OM_%w/w'].isna().sum()"
   ]
  },
  {
   "cell_type": "code",
   "execution_count": 134,
   "id": "17b5b8ee",
   "metadata": {},
   "outputs": [],
   "source": [
    "field_2021.dropna(subset = 'OM_%w/w', inplace = True)"
   ]
  },
  {
   "cell_type": "code",
   "execution_count": 135,
   "id": "a364854f",
   "metadata": {},
   "outputs": [
    {
     "data": {
      "text/plain": [
       "0"
      ]
     },
     "execution_count": 135,
     "metadata": {},
     "output_type": "execute_result"
    }
   ],
   "source": [
    "# Check NAs in C%\n",
    "field_2021['OM_%w/w'].isna().sum()"
   ]
  },
  {
   "cell_type": "markdown",
   "id": "2fbc0347",
   "metadata": {},
   "source": [
    "### Joining all the datasets"
   ]
  },
  {
   "cell_type": "code",
   "execution_count": 138,
   "id": "34c9f856",
   "metadata": {},
   "outputs": [],
   "source": [
    "# Create a list with \n",
    "list_df = [field_2012, field_2013, field_2016, field_2018, field_2019, field_2020, field_2021]\n",
    "list_df"
   ]
  },
  {
   "cell_type": "code",
   "execution_count": 139,
   "id": "9de2e0a3",
   "metadata": {},
   "outputs": [],
   "source": [
    "# Concatenate the list\n",
    "result_df = pd.concat(list_df)"
   ]
  },
  {
   "cell_type": "code",
   "execution_count": 140,
   "id": "208dfcbe",
   "metadata": {},
   "outputs": [
    {
     "data": {
      "text/plain": [
       "(1173, 14)"
      ]
     },
     "execution_count": 140,
     "metadata": {},
     "output_type": "execute_result"
    }
   ],
   "source": [
    "result_df.shape"
   ]
  },
  {
   "cell_type": "code",
   "execution_count": 141,
   "id": "69a674d3",
   "metadata": {},
   "outputs": [
    {
     "name": "stdout",
     "output_type": "stream",
     "text": [
      "<class 'pandas.core.frame.DataFrame'>\n",
      "Int64Index: 1173 entries, 0 to 205\n",
      "Data columns (total 14 columns):\n",
      " #   Column               Non-Null Count  Dtype         \n",
      "---  ------               --------------  -----         \n",
      " 0   Experiment_Id        1173 non-null   object        \n",
      " 1   SP_ID                1173 non-null   int64         \n",
      " 2   sample_distance (m)  701 non-null    float64       \n",
      " 3   Field                1173 non-null   object        \n",
      " 4   Sample_date          1173 non-null   datetime64[ns]\n",
      " 5   Sample_time          1173 non-null   object        \n",
      " 6   Easting              1173 non-null   float64       \n",
      " 7   Northing             1173 non-null   float64       \n",
      " 8   pH                   1172 non-null   float64       \n",
      " 9   BD_gcm3              608 non-null    float64       \n",
      " 10  OM_%w/w              1173 non-null   float64       \n",
      " 11  N_total_%w/w         1172 non-null   float64       \n",
      " 12  C_total_%w/w         1172 non-null   float64       \n",
      " 13  conductivity_uScm    464 non-null    float64       \n",
      "dtypes: datetime64[ns](1), float64(9), int64(1), object(3)\n",
      "memory usage: 137.5+ KB\n"
     ]
    }
   ],
   "source": [
    "result_df.info()"
   ]
  },
  {
   "cell_type": "code",
   "execution_count": 142,
   "id": "53888690",
   "metadata": {},
   "outputs": [
    {
     "data": {
      "text/html": [
       "<div>\n",
       "<style scoped>\n",
       "    .dataframe tbody tr th:only-of-type {\n",
       "        vertical-align: middle;\n",
       "    }\n",
       "\n",
       "    .dataframe tbody tr th {\n",
       "        vertical-align: top;\n",
       "    }\n",
       "\n",
       "    .dataframe thead th {\n",
       "        text-align: right;\n",
       "    }\n",
       "</style>\n",
       "<table border=\"1\" class=\"dataframe\">\n",
       "  <thead>\n",
       "    <tr style=\"text-align: right;\">\n",
       "      <th></th>\n",
       "      <th>Experiment_Id</th>\n",
       "      <th>SP_ID</th>\n",
       "      <th>sample_distance (m)</th>\n",
       "      <th>Field</th>\n",
       "      <th>Sample_date</th>\n",
       "      <th>Sample_time</th>\n",
       "      <th>Easting</th>\n",
       "      <th>Northing</th>\n",
       "      <th>pH</th>\n",
       "      <th>BD_gcm3</th>\n",
       "      <th>OM_%w/w</th>\n",
       "      <th>N_total_%w/w</th>\n",
       "      <th>C_total_%w/w</th>\n",
       "      <th>conductivity_uScm</th>\n",
       "    </tr>\n",
       "  </thead>\n",
       "  <tbody>\n",
       "    <tr>\n",
       "      <th>0</th>\n",
       "      <td>FP003</td>\n",
       "      <td>1</td>\n",
       "      <td>50.0</td>\n",
       "      <td>Pecketsford</td>\n",
       "      <td>2012-06-06</td>\n",
       "      <td>12:00:00</td>\n",
       "      <td>265632.0</td>\n",
       "      <td>99300.0</td>\n",
       "      <td>5.18</td>\n",
       "      <td>0.916</td>\n",
       "      <td>10.1</td>\n",
       "      <td>0.51</td>\n",
       "      <td>4.742</td>\n",
       "      <td>NaN</td>\n",
       "    </tr>\n",
       "    <tr>\n",
       "      <th>1</th>\n",
       "      <td>FP003</td>\n",
       "      <td>2</td>\n",
       "      <td>50.0</td>\n",
       "      <td>Pecketsford</td>\n",
       "      <td>2012-06-06</td>\n",
       "      <td>12:00:00</td>\n",
       "      <td>265625.0</td>\n",
       "      <td>99275.0</td>\n",
       "      <td>5.23</td>\n",
       "      <td>0.943</td>\n",
       "      <td>10.4</td>\n",
       "      <td>0.55</td>\n",
       "      <td>4.980</td>\n",
       "      <td>NaN</td>\n",
       "    </tr>\n",
       "    <tr>\n",
       "      <th>2</th>\n",
       "      <td>FP003</td>\n",
       "      <td>7</td>\n",
       "      <td>50.0</td>\n",
       "      <td>Pecketsford</td>\n",
       "      <td>2012-06-06</td>\n",
       "      <td>12:00:00</td>\n",
       "      <td>265575.0</td>\n",
       "      <td>99225.0</td>\n",
       "      <td>5.54</td>\n",
       "      <td>0.948</td>\n",
       "      <td>11.8</td>\n",
       "      <td>0.64</td>\n",
       "      <td>5.610</td>\n",
       "      <td>NaN</td>\n",
       "    </tr>\n",
       "    <tr>\n",
       "      <th>3</th>\n",
       "      <td>FP003</td>\n",
       "      <td>9</td>\n",
       "      <td>50.0</td>\n",
       "      <td>Pecketsford</td>\n",
       "      <td>2012-06-06</td>\n",
       "      <td>12:00:00</td>\n",
       "      <td>265625.0</td>\n",
       "      <td>99225.0</td>\n",
       "      <td>5.12</td>\n",
       "      <td>0.857</td>\n",
       "      <td>10.9</td>\n",
       "      <td>0.54</td>\n",
       "      <td>4.510</td>\n",
       "      <td>NaN</td>\n",
       "    </tr>\n",
       "    <tr>\n",
       "      <th>4</th>\n",
       "      <td>FP003</td>\n",
       "      <td>17</td>\n",
       "      <td>50.0</td>\n",
       "      <td>Pecketsford</td>\n",
       "      <td>2012-06-06</td>\n",
       "      <td>12:00:00</td>\n",
       "      <td>265575.0</td>\n",
       "      <td>99175.0</td>\n",
       "      <td>5.68</td>\n",
       "      <td>0.946</td>\n",
       "      <td>11.5</td>\n",
       "      <td>0.59</td>\n",
       "      <td>5.340</td>\n",
       "      <td>NaN</td>\n",
       "    </tr>\n",
       "  </tbody>\n",
       "</table>\n",
       "</div>"
      ],
      "text/plain": [
       "  Experiment_Id  SP_ID  sample_distance (m)        Field Sample_date  \\\n",
       "0         FP003      1                 50.0  Pecketsford  2012-06-06   \n",
       "1         FP003      2                 50.0  Pecketsford  2012-06-06   \n",
       "2         FP003      7                 50.0  Pecketsford  2012-06-06   \n",
       "3         FP003      9                 50.0  Pecketsford  2012-06-06   \n",
       "4         FP003     17                 50.0  Pecketsford  2012-06-06   \n",
       "\n",
       "  Sample_time   Easting  Northing    pH  BD_gcm3  OM_%w/w  N_total_%w/w  \\\n",
       "0    12:00:00  265632.0   99300.0  5.18    0.916     10.1          0.51   \n",
       "1    12:00:00  265625.0   99275.0  5.23    0.943     10.4          0.55   \n",
       "2    12:00:00  265575.0   99225.0  5.54    0.948     11.8          0.64   \n",
       "3    12:00:00  265625.0   99225.0  5.12    0.857     10.9          0.54   \n",
       "4    12:00:00  265575.0   99175.0  5.68    0.946     11.5          0.59   \n",
       "\n",
       "   C_total_%w/w  conductivity_uScm  \n",
       "0         4.742                NaN  \n",
       "1         4.980                NaN  \n",
       "2         5.610                NaN  \n",
       "3         4.510                NaN  \n",
       "4         5.340                NaN  "
      ]
     },
     "execution_count": 142,
     "metadata": {},
     "output_type": "execute_result"
    }
   ],
   "source": [
    "# A glimpse on the concatenated data\n",
    "result_df.head()"
   ]
  },
  {
   "cell_type": "code",
   "execution_count": 143,
   "id": "c96e13c2",
   "metadata": {},
   "outputs": [],
   "source": [
    "# Check duplicates\n",
    "result_df['duplicated'] = result_df[['Sample_date','Easting', 'Northing']].duplicated()"
   ]
  },
  {
   "cell_type": "code",
   "execution_count": 144,
   "id": "7fe79047",
   "metadata": {},
   "outputs": [
    {
     "data": {
      "text/html": [
       "<div>\n",
       "<style scoped>\n",
       "    .dataframe tbody tr th:only-of-type {\n",
       "        vertical-align: middle;\n",
       "    }\n",
       "\n",
       "    .dataframe tbody tr th {\n",
       "        vertical-align: top;\n",
       "    }\n",
       "\n",
       "    .dataframe thead th {\n",
       "        text-align: right;\n",
       "    }\n",
       "</style>\n",
       "<table border=\"1\" class=\"dataframe\">\n",
       "  <thead>\n",
       "    <tr style=\"text-align: right;\">\n",
       "      <th></th>\n",
       "      <th>Experiment_Id</th>\n",
       "      <th>SP_ID</th>\n",
       "      <th>sample_distance (m)</th>\n",
       "      <th>Field</th>\n",
       "      <th>Sample_date</th>\n",
       "      <th>Sample_time</th>\n",
       "      <th>Easting</th>\n",
       "      <th>Northing</th>\n",
       "      <th>pH</th>\n",
       "      <th>BD_gcm3</th>\n",
       "      <th>OM_%w/w</th>\n",
       "      <th>N_total_%w/w</th>\n",
       "      <th>C_total_%w/w</th>\n",
       "      <th>conductivity_uScm</th>\n",
       "      <th>duplicated</th>\n",
       "    </tr>\n",
       "  </thead>\n",
       "  <tbody>\n",
       "    <tr>\n",
       "      <th>0</th>\n",
       "      <td>FP003</td>\n",
       "      <td>1</td>\n",
       "      <td>50.0</td>\n",
       "      <td>Pecketsford</td>\n",
       "      <td>2012-06-06</td>\n",
       "      <td>12:00:00</td>\n",
       "      <td>265632.0</td>\n",
       "      <td>99300.0</td>\n",
       "      <td>5.18</td>\n",
       "      <td>0.916</td>\n",
       "      <td>10.1</td>\n",
       "      <td>0.51</td>\n",
       "      <td>4.742</td>\n",
       "      <td>NaN</td>\n",
       "      <td>False</td>\n",
       "    </tr>\n",
       "    <tr>\n",
       "      <th>1</th>\n",
       "      <td>FP003</td>\n",
       "      <td>2</td>\n",
       "      <td>50.0</td>\n",
       "      <td>Pecketsford</td>\n",
       "      <td>2012-06-06</td>\n",
       "      <td>12:00:00</td>\n",
       "      <td>265625.0</td>\n",
       "      <td>99275.0</td>\n",
       "      <td>5.23</td>\n",
       "      <td>0.943</td>\n",
       "      <td>10.4</td>\n",
       "      <td>0.55</td>\n",
       "      <td>4.980</td>\n",
       "      <td>NaN</td>\n",
       "      <td>False</td>\n",
       "    </tr>\n",
       "    <tr>\n",
       "      <th>2</th>\n",
       "      <td>FP003</td>\n",
       "      <td>7</td>\n",
       "      <td>50.0</td>\n",
       "      <td>Pecketsford</td>\n",
       "      <td>2012-06-06</td>\n",
       "      <td>12:00:00</td>\n",
       "      <td>265575.0</td>\n",
       "      <td>99225.0</td>\n",
       "      <td>5.54</td>\n",
       "      <td>0.948</td>\n",
       "      <td>11.8</td>\n",
       "      <td>0.64</td>\n",
       "      <td>5.610</td>\n",
       "      <td>NaN</td>\n",
       "      <td>False</td>\n",
       "    </tr>\n",
       "    <tr>\n",
       "      <th>3</th>\n",
       "      <td>FP003</td>\n",
       "      <td>9</td>\n",
       "      <td>50.0</td>\n",
       "      <td>Pecketsford</td>\n",
       "      <td>2012-06-06</td>\n",
       "      <td>12:00:00</td>\n",
       "      <td>265625.0</td>\n",
       "      <td>99225.0</td>\n",
       "      <td>5.12</td>\n",
       "      <td>0.857</td>\n",
       "      <td>10.9</td>\n",
       "      <td>0.54</td>\n",
       "      <td>4.510</td>\n",
       "      <td>NaN</td>\n",
       "      <td>False</td>\n",
       "    </tr>\n",
       "    <tr>\n",
       "      <th>4</th>\n",
       "      <td>FP003</td>\n",
       "      <td>17</td>\n",
       "      <td>50.0</td>\n",
       "      <td>Pecketsford</td>\n",
       "      <td>2012-06-06</td>\n",
       "      <td>12:00:00</td>\n",
       "      <td>265575.0</td>\n",
       "      <td>99175.0</td>\n",
       "      <td>5.68</td>\n",
       "      <td>0.946</td>\n",
       "      <td>11.5</td>\n",
       "      <td>0.59</td>\n",
       "      <td>5.340</td>\n",
       "      <td>NaN</td>\n",
       "      <td>False</td>\n",
       "    </tr>\n",
       "  </tbody>\n",
       "</table>\n",
       "</div>"
      ],
      "text/plain": [
       "  Experiment_Id  SP_ID  sample_distance (m)        Field Sample_date  \\\n",
       "0         FP003      1                 50.0  Pecketsford  2012-06-06   \n",
       "1         FP003      2                 50.0  Pecketsford  2012-06-06   \n",
       "2         FP003      7                 50.0  Pecketsford  2012-06-06   \n",
       "3         FP003      9                 50.0  Pecketsford  2012-06-06   \n",
       "4         FP003     17                 50.0  Pecketsford  2012-06-06   \n",
       "\n",
       "  Sample_time   Easting  Northing    pH  BD_gcm3  OM_%w/w  N_total_%w/w  \\\n",
       "0    12:00:00  265632.0   99300.0  5.18    0.916     10.1          0.51   \n",
       "1    12:00:00  265625.0   99275.0  5.23    0.943     10.4          0.55   \n",
       "2    12:00:00  265575.0   99225.0  5.54    0.948     11.8          0.64   \n",
       "3    12:00:00  265625.0   99225.0  5.12    0.857     10.9          0.54   \n",
       "4    12:00:00  265575.0   99175.0  5.68    0.946     11.5          0.59   \n",
       "\n",
       "   C_total_%w/w  conductivity_uScm  duplicated  \n",
       "0         4.742                NaN       False  \n",
       "1         4.980                NaN       False  \n",
       "2         5.610                NaN       False  \n",
       "3         4.510                NaN       False  \n",
       "4         5.340                NaN       False  "
      ]
     },
     "execution_count": 144,
     "metadata": {},
     "output_type": "execute_result"
    }
   ],
   "source": [
    "# A glimpse on the concatenated data\n",
    "result_df.head()"
   ]
  },
  {
   "cell_type": "code",
   "execution_count": 216,
   "id": "7232fb47",
   "metadata": {},
   "outputs": [],
   "source": [
    "result_df.to_csv('results_with_duplicates.csv', index = False)"
   ]
  },
  {
   "cell_type": "code",
   "execution_count": 145,
   "id": "20829a5a",
   "metadata": {},
   "outputs": [],
   "source": [
    "result_df_without_duplicates = result_df[result_df['duplicated'] == False].reset_index(drop = True)"
   ]
  },
  {
   "cell_type": "code",
   "execution_count": 146,
   "id": "d3548a49",
   "metadata": {},
   "outputs": [
    {
     "data": {
      "text/html": [
       "<div>\n",
       "<style scoped>\n",
       "    .dataframe tbody tr th:only-of-type {\n",
       "        vertical-align: middle;\n",
       "    }\n",
       "\n",
       "    .dataframe tbody tr th {\n",
       "        vertical-align: top;\n",
       "    }\n",
       "\n",
       "    .dataframe thead th {\n",
       "        text-align: right;\n",
       "    }\n",
       "</style>\n",
       "<table border=\"1\" class=\"dataframe\">\n",
       "  <thead>\n",
       "    <tr style=\"text-align: right;\">\n",
       "      <th></th>\n",
       "      <th>Experiment_Id</th>\n",
       "      <th>SP_ID</th>\n",
       "      <th>sample_distance (m)</th>\n",
       "      <th>Field</th>\n",
       "      <th>Sample_date</th>\n",
       "      <th>Sample_time</th>\n",
       "      <th>Easting</th>\n",
       "      <th>Northing</th>\n",
       "      <th>pH</th>\n",
       "      <th>BD_gcm3</th>\n",
       "      <th>OM_%w/w</th>\n",
       "      <th>N_total_%w/w</th>\n",
       "      <th>C_total_%w/w</th>\n",
       "      <th>conductivity_uScm</th>\n",
       "      <th>duplicated</th>\n",
       "    </tr>\n",
       "  </thead>\n",
       "  <tbody>\n",
       "    <tr>\n",
       "      <th>0</th>\n",
       "      <td>FP003</td>\n",
       "      <td>1</td>\n",
       "      <td>50.0</td>\n",
       "      <td>Pecketsford</td>\n",
       "      <td>2012-06-06</td>\n",
       "      <td>12:00:00</td>\n",
       "      <td>265632.0000</td>\n",
       "      <td>99300.00000</td>\n",
       "      <td>5.18</td>\n",
       "      <td>0.916</td>\n",
       "      <td>10.1</td>\n",
       "      <td>0.510</td>\n",
       "      <td>4.742</td>\n",
       "      <td>NaN</td>\n",
       "      <td>False</td>\n",
       "    </tr>\n",
       "    <tr>\n",
       "      <th>1</th>\n",
       "      <td>FP003</td>\n",
       "      <td>2</td>\n",
       "      <td>50.0</td>\n",
       "      <td>Pecketsford</td>\n",
       "      <td>2012-06-06</td>\n",
       "      <td>12:00:00</td>\n",
       "      <td>265625.0000</td>\n",
       "      <td>99275.00000</td>\n",
       "      <td>5.23</td>\n",
       "      <td>0.943</td>\n",
       "      <td>10.4</td>\n",
       "      <td>0.550</td>\n",
       "      <td>4.980</td>\n",
       "      <td>NaN</td>\n",
       "      <td>False</td>\n",
       "    </tr>\n",
       "    <tr>\n",
       "      <th>2</th>\n",
       "      <td>FP003</td>\n",
       "      <td>7</td>\n",
       "      <td>50.0</td>\n",
       "      <td>Pecketsford</td>\n",
       "      <td>2012-06-06</td>\n",
       "      <td>12:00:00</td>\n",
       "      <td>265575.0000</td>\n",
       "      <td>99225.00000</td>\n",
       "      <td>5.54</td>\n",
       "      <td>0.948</td>\n",
       "      <td>11.8</td>\n",
       "      <td>0.640</td>\n",
       "      <td>5.610</td>\n",
       "      <td>NaN</td>\n",
       "      <td>False</td>\n",
       "    </tr>\n",
       "    <tr>\n",
       "      <th>3</th>\n",
       "      <td>FP003</td>\n",
       "      <td>9</td>\n",
       "      <td>50.0</td>\n",
       "      <td>Pecketsford</td>\n",
       "      <td>2012-06-06</td>\n",
       "      <td>12:00:00</td>\n",
       "      <td>265625.0000</td>\n",
       "      <td>99225.00000</td>\n",
       "      <td>5.12</td>\n",
       "      <td>0.857</td>\n",
       "      <td>10.9</td>\n",
       "      <td>0.540</td>\n",
       "      <td>4.510</td>\n",
       "      <td>NaN</td>\n",
       "      <td>False</td>\n",
       "    </tr>\n",
       "    <tr>\n",
       "      <th>4</th>\n",
       "      <td>FP003</td>\n",
       "      <td>17</td>\n",
       "      <td>50.0</td>\n",
       "      <td>Pecketsford</td>\n",
       "      <td>2012-06-06</td>\n",
       "      <td>12:00:00</td>\n",
       "      <td>265575.0000</td>\n",
       "      <td>99175.00000</td>\n",
       "      <td>5.68</td>\n",
       "      <td>0.946</td>\n",
       "      <td>11.5</td>\n",
       "      <td>0.590</td>\n",
       "      <td>5.340</td>\n",
       "      <td>NaN</td>\n",
       "      <td>False</td>\n",
       "    </tr>\n",
       "    <tr>\n",
       "      <th>...</th>\n",
       "      <td>...</td>\n",
       "      <td>...</td>\n",
       "      <td>...</td>\n",
       "      <td>...</td>\n",
       "      <td>...</td>\n",
       "      <td>...</td>\n",
       "      <td>...</td>\n",
       "      <td>...</td>\n",
       "      <td>...</td>\n",
       "      <td>...</td>\n",
       "      <td>...</td>\n",
       "      <td>...</td>\n",
       "      <td>...</td>\n",
       "      <td>...</td>\n",
       "      <td>...</td>\n",
       "    </tr>\n",
       "    <tr>\n",
       "      <th>1001</th>\n",
       "      <td>NW752-3S</td>\n",
       "      <td>2009</td>\n",
       "      <td>NaN</td>\n",
       "      <td>Golden Rove</td>\n",
       "      <td>2021-08-12</td>\n",
       "      <td>12:00:00</td>\n",
       "      <td>265953.4417</td>\n",
       "      <td>97967.65381</td>\n",
       "      <td>5.80</td>\n",
       "      <td>NaN</td>\n",
       "      <td>11.6</td>\n",
       "      <td>0.549</td>\n",
       "      <td>5.240</td>\n",
       "      <td>2012.0</td>\n",
       "      <td>False</td>\n",
       "    </tr>\n",
       "    <tr>\n",
       "      <th>1002</th>\n",
       "      <td>NW752-3S</td>\n",
       "      <td>2007</td>\n",
       "      <td>NaN</td>\n",
       "      <td>Orchard Dean North</td>\n",
       "      <td>2021-08-12</td>\n",
       "      <td>12:00:00</td>\n",
       "      <td>265678.1911</td>\n",
       "      <td>98112.25632</td>\n",
       "      <td>5.90</td>\n",
       "      <td>NaN</td>\n",
       "      <td>13.2</td>\n",
       "      <td>0.629</td>\n",
       "      <td>5.970</td>\n",
       "      <td>2014.0</td>\n",
       "      <td>False</td>\n",
       "    </tr>\n",
       "    <tr>\n",
       "      <th>1003</th>\n",
       "      <td>NW752-3S</td>\n",
       "      <td>2008</td>\n",
       "      <td>NaN</td>\n",
       "      <td>Orchard Dean South</td>\n",
       "      <td>2021-08-12</td>\n",
       "      <td>12:00:00</td>\n",
       "      <td>265666.1468</td>\n",
       "      <td>98008.84146</td>\n",
       "      <td>5.80</td>\n",
       "      <td>NaN</td>\n",
       "      <td>11.9</td>\n",
       "      <td>0.580</td>\n",
       "      <td>5.370</td>\n",
       "      <td>2018.0</td>\n",
       "      <td>False</td>\n",
       "    </tr>\n",
       "    <tr>\n",
       "      <th>1004</th>\n",
       "      <td>NW752-3S</td>\n",
       "      <td>2017</td>\n",
       "      <td>NaN</td>\n",
       "      <td>Dairy North</td>\n",
       "      <td>2021-09-12</td>\n",
       "      <td>12:00:00</td>\n",
       "      <td>266282.1266</td>\n",
       "      <td>98358.20591</td>\n",
       "      <td>5.80</td>\n",
       "      <td>NaN</td>\n",
       "      <td>13.3</td>\n",
       "      <td>0.651</td>\n",
       "      <td>5.930</td>\n",
       "      <td>2015.0</td>\n",
       "      <td>False</td>\n",
       "    </tr>\n",
       "    <tr>\n",
       "      <th>1005</th>\n",
       "      <td>NW752-3S</td>\n",
       "      <td>2018</td>\n",
       "      <td>NaN</td>\n",
       "      <td>Longlands South</td>\n",
       "      <td>2021-07-12</td>\n",
       "      <td>12:00:00</td>\n",
       "      <td>265920.9621</td>\n",
       "      <td>98603.80501</td>\n",
       "      <td>5.90</td>\n",
       "      <td>NaN</td>\n",
       "      <td>9.5</td>\n",
       "      <td>0.442</td>\n",
       "      <td>4.090</td>\n",
       "      <td>2003.0</td>\n",
       "      <td>False</td>\n",
       "    </tr>\n",
       "  </tbody>\n",
       "</table>\n",
       "<p>1006 rows × 15 columns</p>\n",
       "</div>"
      ],
      "text/plain": [
       "     Experiment_Id  SP_ID  sample_distance (m)               Field  \\\n",
       "0            FP003      1                 50.0         Pecketsford   \n",
       "1            FP003      2                 50.0         Pecketsford   \n",
       "2            FP003      7                 50.0         Pecketsford   \n",
       "3            FP003      9                 50.0         Pecketsford   \n",
       "4            FP003     17                 50.0         Pecketsford   \n",
       "...            ...    ...                  ...                 ...   \n",
       "1001      NW752-3S   2009                  NaN         Golden Rove   \n",
       "1002      NW752-3S   2007                  NaN  Orchard Dean North   \n",
       "1003      NW752-3S   2008                  NaN  Orchard Dean South   \n",
       "1004      NW752-3S   2017                  NaN         Dairy North   \n",
       "1005      NW752-3S   2018                  NaN     Longlands South   \n",
       "\n",
       "     Sample_date Sample_time      Easting     Northing    pH  BD_gcm3  \\\n",
       "0     2012-06-06    12:00:00  265632.0000  99300.00000  5.18    0.916   \n",
       "1     2012-06-06    12:00:00  265625.0000  99275.00000  5.23    0.943   \n",
       "2     2012-06-06    12:00:00  265575.0000  99225.00000  5.54    0.948   \n",
       "3     2012-06-06    12:00:00  265625.0000  99225.00000  5.12    0.857   \n",
       "4     2012-06-06    12:00:00  265575.0000  99175.00000  5.68    0.946   \n",
       "...          ...         ...          ...          ...   ...      ...   \n",
       "1001  2021-08-12    12:00:00  265953.4417  97967.65381  5.80      NaN   \n",
       "1002  2021-08-12    12:00:00  265678.1911  98112.25632  5.90      NaN   \n",
       "1003  2021-08-12    12:00:00  265666.1468  98008.84146  5.80      NaN   \n",
       "1004  2021-09-12    12:00:00  266282.1266  98358.20591  5.80      NaN   \n",
       "1005  2021-07-12    12:00:00  265920.9621  98603.80501  5.90      NaN   \n",
       "\n",
       "      OM_%w/w  N_total_%w/w  C_total_%w/w  conductivity_uScm  duplicated  \n",
       "0        10.1         0.510         4.742                NaN       False  \n",
       "1        10.4         0.550         4.980                NaN       False  \n",
       "2        11.8         0.640         5.610                NaN       False  \n",
       "3        10.9         0.540         4.510                NaN       False  \n",
       "4        11.5         0.590         5.340                NaN       False  \n",
       "...       ...           ...           ...                ...         ...  \n",
       "1001     11.6         0.549         5.240             2012.0       False  \n",
       "1002     13.2         0.629         5.970             2014.0       False  \n",
       "1003     11.9         0.580         5.370             2018.0       False  \n",
       "1004     13.3         0.651         5.930             2015.0       False  \n",
       "1005      9.5         0.442         4.090             2003.0       False  \n",
       "\n",
       "[1006 rows x 15 columns]"
      ]
     },
     "execution_count": 146,
     "metadata": {},
     "output_type": "execute_result"
    }
   ],
   "source": [
    "result_df_without_duplicates"
   ]
  },
  {
   "cell_type": "code",
   "execution_count": 147,
   "id": "3588853a",
   "metadata": {},
   "outputs": [
    {
     "data": {
      "text/plain": [
       "(1006, 15)"
      ]
     },
     "execution_count": 147,
     "metadata": {},
     "output_type": "execute_result"
    }
   ],
   "source": [
    "result_df_without_duplicates.shape"
   ]
  },
  {
   "cell_type": "code",
   "execution_count": 148,
   "id": "743040b9",
   "metadata": {},
   "outputs": [
    {
     "name": "stdout",
     "output_type": "stream",
     "text": [
      "<class 'pandas.core.frame.DataFrame'>\n",
      "RangeIndex: 1006 entries, 0 to 1005\n",
      "Data columns (total 15 columns):\n",
      " #   Column               Non-Null Count  Dtype         \n",
      "---  ------               --------------  -----         \n",
      " 0   Experiment_Id        1006 non-null   object        \n",
      " 1   SP_ID                1006 non-null   int64         \n",
      " 2   sample_distance (m)  700 non-null    float64       \n",
      " 3   Field                1006 non-null   object        \n",
      " 4   Sample_date          1006 non-null   datetime64[ns]\n",
      " 5   Sample_time          1006 non-null   object        \n",
      " 6   Easting              1006 non-null   float64       \n",
      " 7   Northing             1006 non-null   float64       \n",
      " 8   pH                   1005 non-null   float64       \n",
      " 9   BD_gcm3              607 non-null    float64       \n",
      " 10  OM_%w/w              1006 non-null   float64       \n",
      " 11  N_total_%w/w         1005 non-null   float64       \n",
      " 12  C_total_%w/w         1005 non-null   float64       \n",
      " 13  conductivity_uScm    302 non-null    float64       \n",
      " 14  duplicated           1006 non-null   bool          \n",
      "dtypes: bool(1), datetime64[ns](1), float64(9), int64(1), object(3)\n",
      "memory usage: 111.1+ KB\n"
     ]
    }
   ],
   "source": [
    "# Info\n",
    "result_df_without_duplicates.info()"
   ]
  },
  {
   "cell_type": "code",
   "execution_count": 149,
   "id": "7597fd2f",
   "metadata": {},
   "outputs": [],
   "source": [
    "result_df_without_duplicates.drop(columns = ['duplicated'], axis = 1, inplace = True)"
   ]
  },
  {
   "cell_type": "code",
   "execution_count": 150,
   "id": "e3bba037",
   "metadata": {},
   "outputs": [
    {
     "data": {
      "text/plain": [
       "1"
      ]
     },
     "execution_count": 150,
     "metadata": {},
     "output_type": "execute_result"
    }
   ],
   "source": [
    "# Count the numbers of NAs in C%\n",
    "result_df_without_duplicates['C_total_%w/w'].isnull().sum()"
   ]
  },
  {
   "cell_type": "code",
   "execution_count": 151,
   "id": "2793b2d5",
   "metadata": {},
   "outputs": [
    {
     "data": {
      "text/plain": [
       "0"
      ]
     },
     "execution_count": 151,
     "metadata": {},
     "output_type": "execute_result"
    }
   ],
   "source": [
    "# Count the numbers of NAs in OM%\n",
    "result_df_without_duplicates['OM_%w/w'].isnull().sum()"
   ]
  },
  {
   "cell_type": "code",
   "execution_count": 152,
   "id": "5bea157f",
   "metadata": {},
   "outputs": [],
   "source": [
    "#Drop Na\n",
    "result_df_without_duplicates.dropna(subset = 'C_total_%w/w', inplace = True)"
   ]
  },
  {
   "cell_type": "code",
   "execution_count": 171,
   "id": "e5bc0229",
   "metadata": {},
   "outputs": [
    {
     "data": {
      "image/png": "[encoded data removed]",
      "text/plain": [
       "<Figure size 432x288 with 1 Axes>"
      ]
     },
     "metadata": {
      "needs_background": "light"
     },
     "output_type": "display_data"
    }
   ],
   "source": [
    "# Plot OM% distribution\n",
    "result_df_without_duplicates['OM_%w/w'].plot(kind = 'hist', ec = 'black', bins = 15, color = 'orange')\n",
    "plt.title('Average OM% distribution for all years')\n",
    "plt.xlabel('OM%')\n",
    "plt.ylabel('Frequency')\n",
    "plt.show()"
   ]
  },
  {
   "cell_type": "code",
   "execution_count": 172,
   "id": "b957d236",
   "metadata": {},
   "outputs": [
    {
     "data": {
      "image/png": "[encoded data removed]",
      "text/plain": [
       "<Figure size 432x288 with 1 Axes>"
      ]
     },
     "metadata": {
      "needs_background": "light"
     },
     "output_type": "display_data"
    }
   ],
   "source": [
    "# Plot OM% distribution\n",
    "result_df_without_duplicates['C_total_%w/w'].plot(kind = 'hist', ec = 'black', bins = 15, color = 'green')\n",
    "plt.title('Average C% distribution for all years')\n",
    "plt.xlabel('C%')\n",
    "plt.ylabel('Frequency')\n",
    "plt.show()"
   ]
  },
  {
   "cell_type": "code",
   "execution_count": 176,
   "id": "fe20bce9",
   "metadata": {},
   "outputs": [
    {
     "data": {
      "image/png": "[encoded data removed]",
      "text/plain": [
       "<Figure size 432x288 with 1 Axes>"
      ]
     },
     "metadata": {
      "needs_background": "light"
     },
     "output_type": "display_data"
    }
   ],
   "source": [
    "# Plot boxplot\n",
    "sns.boxplot(result_df_without_duplicates['OM_%w/w'], notch = True, width=0.5, orient = 'h', color = 'orange')\n",
    "plt.show()"
   ]
  },
  {
   "cell_type": "code",
   "execution_count": 177,
   "id": "a08d059c",
   "metadata": {},
   "outputs": [
    {
     "data": {
      "image/png": "[encoded data removed]",
      "text/plain": [
       "<Figure size 432x288 with 1 Axes>"
      ]
     },
     "metadata": {
      "needs_background": "light"
     },
     "output_type": "display_data"
    }
   ],
   "source": [
    "sns.boxplot(result_df_without_duplicates['C_total_%w/w'], notch = True, width=0.5, orient = 'h', color = 'green')\n",
    "plt.show()"
   ]
  },
  {
   "cell_type": "code",
   "execution_count": 178,
   "id": "cbec6144",
   "metadata": {},
   "outputs": [],
   "source": [
    "# Group by date and create summary statistics\n",
    "summary_dat = result_df_without_duplicates.groupby(result_df_without_duplicates['Sample_date'].dt.year)['C_total_%w/w'].agg(['min', 'mean', 'median', 'max','std', 'count']).reset_index()"
   ]
  },
  {
   "cell_type": "code",
   "execution_count": 179,
   "id": "80f2de25",
   "metadata": {},
   "outputs": [
    {
     "data": {
      "text/html": [
       "<div>\n",
       "<style scoped>\n",
       "    .dataframe tbody tr th:only-of-type {\n",
       "        vertical-align: middle;\n",
       "    }\n",
       "\n",
       "    .dataframe tbody tr th {\n",
       "        vertical-align: top;\n",
       "    }\n",
       "\n",
       "    .dataframe thead th {\n",
       "        text-align: right;\n",
       "    }\n",
       "</style>\n",
       "<table border=\"1\" class=\"dataframe\">\n",
       "  <thead>\n",
       "    <tr style=\"text-align: right;\">\n",
       "      <th></th>\n",
       "      <th>Sample_date</th>\n",
       "      <th>min</th>\n",
       "      <th>mean</th>\n",
       "      <th>median</th>\n",
       "      <th>max</th>\n",
       "      <th>std</th>\n",
       "      <th>count</th>\n",
       "    </tr>\n",
       "  </thead>\n",
       "  <tbody>\n",
       "    <tr>\n",
       "      <th>0</th>\n",
       "      <td>2012</td>\n",
       "      <td>2.690</td>\n",
       "      <td>4.616015</td>\n",
       "      <td>4.657</td>\n",
       "      <td>10.040</td>\n",
       "      <td>0.928946</td>\n",
       "      <td>263</td>\n",
       "    </tr>\n",
       "    <tr>\n",
       "      <th>1</th>\n",
       "      <td>2013</td>\n",
       "      <td>2.685</td>\n",
       "      <td>3.913382</td>\n",
       "      <td>3.891</td>\n",
       "      <td>5.165</td>\n",
       "      <td>0.464701</td>\n",
       "      <td>89</td>\n",
       "    </tr>\n",
       "    <tr>\n",
       "      <th>2</th>\n",
       "      <td>2016</td>\n",
       "      <td>2.011</td>\n",
       "      <td>4.575089</td>\n",
       "      <td>4.275</td>\n",
       "      <td>7.519</td>\n",
       "      <td>1.230368</td>\n",
       "      <td>347</td>\n",
       "    </tr>\n",
       "    <tr>\n",
       "      <th>3</th>\n",
       "      <td>2018</td>\n",
       "      <td>2.660</td>\n",
       "      <td>4.499365</td>\n",
       "      <td>4.280</td>\n",
       "      <td>7.350</td>\n",
       "      <td>1.096307</td>\n",
       "      <td>63</td>\n",
       "    </tr>\n",
       "    <tr>\n",
       "      <th>4</th>\n",
       "      <td>2019</td>\n",
       "      <td>2.840</td>\n",
       "      <td>4.529880</td>\n",
       "      <td>4.190</td>\n",
       "      <td>6.810</td>\n",
       "      <td>1.093772</td>\n",
       "      <td>83</td>\n",
       "    </tr>\n",
       "    <tr>\n",
       "      <th>5</th>\n",
       "      <td>2020</td>\n",
       "      <td>2.500</td>\n",
       "      <td>4.344000</td>\n",
       "      <td>4.165</td>\n",
       "      <td>6.840</td>\n",
       "      <td>1.047984</td>\n",
       "      <td>80</td>\n",
       "    </tr>\n",
       "    <tr>\n",
       "      <th>6</th>\n",
       "      <td>2021</td>\n",
       "      <td>2.760</td>\n",
       "      <td>4.845125</td>\n",
       "      <td>4.655</td>\n",
       "      <td>8.940</td>\n",
       "      <td>1.483824</td>\n",
       "      <td>80</td>\n",
       "    </tr>\n",
       "  </tbody>\n",
       "</table>\n",
       "</div>"
      ],
      "text/plain": [
       "   Sample_date    min      mean  median     max       std  count\n",
       "0         2012  2.690  4.616015   4.657  10.040  0.928946    263\n",
       "1         2013  2.685  3.913382   3.891   5.165  0.464701     89\n",
       "2         2016  2.011  4.575089   4.275   7.519  1.230368    347\n",
       "3         2018  2.660  4.499365   4.280   7.350  1.096307     63\n",
       "4         2019  2.840  4.529880   4.190   6.810  1.093772     83\n",
       "5         2020  2.500  4.344000   4.165   6.840  1.047984     80\n",
       "6         2021  2.760  4.845125   4.655   8.940  1.483824     80"
      ]
     },
     "execution_count": 179,
     "metadata": {},
     "output_type": "execute_result"
    }
   ],
   "source": [
    "# A glimpse on the summary statistics\n",
    "summary_dat"
   ]
  },
  {
   "cell_type": "code",
   "execution_count": 260,
   "id": "ea69dc65",
   "metadata": {},
   "outputs": [],
   "source": [
    "# Save to csv\n",
    "summary_dat.to_csv('summary_stats_per_year.csv', index = False)"
   ]
  },
  {
   "cell_type": "code",
   "execution_count": 180,
   "id": "bdc0fc06",
   "metadata": {},
   "outputs": [
    {
     "data": {
      "image/png": "[encoded data removed]",
      "text/plain": [
       "<Figure size 432x288 with 2 Axes>"
      ]
     },
     "metadata": {
      "needs_background": "light"
     },
     "output_type": "display_data"
    }
   ],
   "source": [
    "# Plot mean and count per year\n",
    "fig, ax = plt.subplots()\n",
    "\n",
    "ax.plot(summary_dat['Sample_date'], summary_dat['mean'], color = 'red')\n",
    "plt.xlabel('YEAR')\n",
    "plt.ylabel('C %')\n",
    "\n",
    "ax2 = ax.twinx()\n",
    "ax2.plot(summary_dat['Sample_date'], summary_dat['median'], color = 'blue')\n",
    "plt.ylabel('count')\n",
    "\n",
    "\n",
    "plt.title('Average C (%) over the years in North Wyke Farm')\n",
    "plt.show()"
   ]
  },
  {
   "cell_type": "code",
   "execution_count": 181,
   "id": "e023f667",
   "metadata": {},
   "outputs": [],
   "source": [
    "# Group by Sample_date and count\n",
    "group_date = result_df_without_duplicates[['Sample_date', 'C_total_%w/w']].groupby(['Sample_date']).count().reset_index()"
   ]
  },
  {
   "cell_type": "code",
   "execution_count": 182,
   "id": "af5a8732",
   "metadata": {},
   "outputs": [],
   "source": [
    "# Group by location_date and count\n",
    "group_loc = result_df_without_duplicates[['Easting','Northing', 'C_total_%w/w']].groupby(['Easting','Northing']).count().reset_index()"
   ]
  },
  {
   "cell_type": "code",
   "execution_count": 189,
   "id": "61eead62",
   "metadata": {},
   "outputs": [
    {
     "data": {
      "image/png": "[encoded data removed]",
      "text/plain": [
       "<Figure size 432x288 with 1 Axes>"
      ]
     },
     "metadata": {
      "needs_background": "light"
     },
     "output_type": "display_data"
    }
   ],
   "source": [
    "# Plot the count of samples per date\n",
    "plt.plot(group_date['C_total_%w/w'], group_date['Sample_date'], 'o', color = 'purple', markersize = 3)\n",
    "plt.xlabel('Count')\n",
    "plt.ylabel('Year')\n",
    "plt.show()"
   ]
  },
  {
   "cell_type": "code",
   "execution_count": 265,
   "id": "0144d608",
   "metadata": {},
   "outputs": [],
   "source": [
    "# Save to csv\n",
    "group_date.to_csv('number_samples_per_date.csv')"
   ]
  },
  {
   "cell_type": "code",
   "execution_count": 191,
   "id": "86280656",
   "metadata": {},
   "outputs": [],
   "source": [
    "# Create a new column: MM-YYYYa\n",
    "month_df = result_df_without_duplicates['Sample_date'].dt.to_period('M')\n",
    "year_df = result_df_without_duplicates['Sample_date'].dt.to_period('Y')"
   ]
  },
  {
   "cell_type": "code",
   "execution_count": 192,
   "id": "616c86c3",
   "metadata": {},
   "outputs": [],
   "source": [
    "result_df_without_duplicates.insert(5, 'Month-Year', month_df)\n",
    "result_df_without_duplicates.insert(6, 'Year', year_df)"
   ]
  },
  {
   "cell_type": "code",
   "execution_count": 193,
   "id": "9055ad6a",
   "metadata": {},
   "outputs": [
    {
     "data": {
      "text/html": [
       "<div>\n",
       "<style scoped>\n",
       "    .dataframe tbody tr th:only-of-type {\n",
       "        vertical-align: middle;\n",
       "    }\n",
       "\n",
       "    .dataframe tbody tr th {\n",
       "        vertical-align: top;\n",
       "    }\n",
       "\n",
       "    .dataframe thead th {\n",
       "        text-align: right;\n",
       "    }\n",
       "</style>\n",
       "<table border=\"1\" class=\"dataframe\">\n",
       "  <thead>\n",
       "    <tr style=\"text-align: right;\">\n",
       "      <th></th>\n",
       "      <th>Experiment_Id</th>\n",
       "      <th>SP_ID</th>\n",
       "      <th>sample_distance (m)</th>\n",
       "      <th>Field</th>\n",
       "      <th>Sample_date</th>\n",
       "      <th>Month-Year</th>\n",
       "      <th>Year</th>\n",
       "      <th>Sample_time</th>\n",
       "      <th>Easting</th>\n",
       "      <th>Northing</th>\n",
       "      <th>pH</th>\n",
       "      <th>BD_gcm3</th>\n",
       "      <th>OM_%w/w</th>\n",
       "      <th>N_total_%w/w</th>\n",
       "      <th>C_total_%w/w</th>\n",
       "      <th>conductivity_uScm</th>\n",
       "    </tr>\n",
       "  </thead>\n",
       "  <tbody>\n",
       "    <tr>\n",
       "      <th>0</th>\n",
       "      <td>FP003</td>\n",
       "      <td>1</td>\n",
       "      <td>50.0</td>\n",
       "      <td>Pecketsford</td>\n",
       "      <td>2012-06-06</td>\n",
       "      <td>2012-06</td>\n",
       "      <td>2012</td>\n",
       "      <td>12:00:00</td>\n",
       "      <td>265632.0000</td>\n",
       "      <td>99300.00000</td>\n",
       "      <td>5.18</td>\n",
       "      <td>0.916</td>\n",
       "      <td>10.1</td>\n",
       "      <td>0.510</td>\n",
       "      <td>4.742</td>\n",
       "      <td>NaN</td>\n",
       "    </tr>\n",
       "    <tr>\n",
       "      <th>1</th>\n",
       "      <td>FP003</td>\n",
       "      <td>2</td>\n",
       "      <td>50.0</td>\n",
       "      <td>Pecketsford</td>\n",
       "      <td>2012-06-06</td>\n",
       "      <td>2012-06</td>\n",
       "      <td>2012</td>\n",
       "      <td>12:00:00</td>\n",
       "      <td>265625.0000</td>\n",
       "      <td>99275.00000</td>\n",
       "      <td>5.23</td>\n",
       "      <td>0.943</td>\n",
       "      <td>10.4</td>\n",
       "      <td>0.550</td>\n",
       "      <td>4.980</td>\n",
       "      <td>NaN</td>\n",
       "    </tr>\n",
       "    <tr>\n",
       "      <th>2</th>\n",
       "      <td>FP003</td>\n",
       "      <td>7</td>\n",
       "      <td>50.0</td>\n",
       "      <td>Pecketsford</td>\n",
       "      <td>2012-06-06</td>\n",
       "      <td>2012-06</td>\n",
       "      <td>2012</td>\n",
       "      <td>12:00:00</td>\n",
       "      <td>265575.0000</td>\n",
       "      <td>99225.00000</td>\n",
       "      <td>5.54</td>\n",
       "      <td>0.948</td>\n",
       "      <td>11.8</td>\n",
       "      <td>0.640</td>\n",
       "      <td>5.610</td>\n",
       "      <td>NaN</td>\n",
       "    </tr>\n",
       "    <tr>\n",
       "      <th>3</th>\n",
       "      <td>FP003</td>\n",
       "      <td>9</td>\n",
       "      <td>50.0</td>\n",
       "      <td>Pecketsford</td>\n",
       "      <td>2012-06-06</td>\n",
       "      <td>2012-06</td>\n",
       "      <td>2012</td>\n",
       "      <td>12:00:00</td>\n",
       "      <td>265625.0000</td>\n",
       "      <td>99225.00000</td>\n",
       "      <td>5.12</td>\n",
       "      <td>0.857</td>\n",
       "      <td>10.9</td>\n",
       "      <td>0.540</td>\n",
       "      <td>4.510</td>\n",
       "      <td>NaN</td>\n",
       "    </tr>\n",
       "    <tr>\n",
       "      <th>4</th>\n",
       "      <td>FP003</td>\n",
       "      <td>17</td>\n",
       "      <td>50.0</td>\n",
       "      <td>Pecketsford</td>\n",
       "      <td>2012-06-06</td>\n",
       "      <td>2012-06</td>\n",
       "      <td>2012</td>\n",
       "      <td>12:00:00</td>\n",
       "      <td>265575.0000</td>\n",
       "      <td>99175.00000</td>\n",
       "      <td>5.68</td>\n",
       "      <td>0.946</td>\n",
       "      <td>11.5</td>\n",
       "      <td>0.590</td>\n",
       "      <td>5.340</td>\n",
       "      <td>NaN</td>\n",
       "    </tr>\n",
       "    <tr>\n",
       "      <th>...</th>\n",
       "      <td>...</td>\n",
       "      <td>...</td>\n",
       "      <td>...</td>\n",
       "      <td>...</td>\n",
       "      <td>...</td>\n",
       "      <td>...</td>\n",
       "      <td>...</td>\n",
       "      <td>...</td>\n",
       "      <td>...</td>\n",
       "      <td>...</td>\n",
       "      <td>...</td>\n",
       "      <td>...</td>\n",
       "      <td>...</td>\n",
       "      <td>...</td>\n",
       "      <td>...</td>\n",
       "      <td>...</td>\n",
       "    </tr>\n",
       "    <tr>\n",
       "      <th>1001</th>\n",
       "      <td>NW752-3S</td>\n",
       "      <td>2009</td>\n",
       "      <td>NaN</td>\n",
       "      <td>Golden Rove</td>\n",
       "      <td>2021-08-12</td>\n",
       "      <td>2021-08</td>\n",
       "      <td>2021</td>\n",
       "      <td>12:00:00</td>\n",
       "      <td>265953.4417</td>\n",
       "      <td>97967.65381</td>\n",
       "      <td>5.80</td>\n",
       "      <td>NaN</td>\n",
       "      <td>11.6</td>\n",
       "      <td>0.549</td>\n",
       "      <td>5.240</td>\n",
       "      <td>2012.0</td>\n",
       "    </tr>\n",
       "    <tr>\n",
       "      <th>1002</th>\n",
       "      <td>NW752-3S</td>\n",
       "      <td>2007</td>\n",
       "      <td>NaN</td>\n",
       "      <td>Orchard Dean North</td>\n",
       "      <td>2021-08-12</td>\n",
       "      <td>2021-08</td>\n",
       "      <td>2021</td>\n",
       "      <td>12:00:00</td>\n",
       "      <td>265678.1911</td>\n",
       "      <td>98112.25632</td>\n",
       "      <td>5.90</td>\n",
       "      <td>NaN</td>\n",
       "      <td>13.2</td>\n",
       "      <td>0.629</td>\n",
       "      <td>5.970</td>\n",
       "      <td>2014.0</td>\n",
       "    </tr>\n",
       "    <tr>\n",
       "      <th>1003</th>\n",
       "      <td>NW752-3S</td>\n",
       "      <td>2008</td>\n",
       "      <td>NaN</td>\n",
       "      <td>Orchard Dean South</td>\n",
       "      <td>2021-08-12</td>\n",
       "      <td>2021-08</td>\n",
       "      <td>2021</td>\n",
       "      <td>12:00:00</td>\n",
       "      <td>265666.1468</td>\n",
       "      <td>98008.84146</td>\n",
       "      <td>5.80</td>\n",
       "      <td>NaN</td>\n",
       "      <td>11.9</td>\n",
       "      <td>0.580</td>\n",
       "      <td>5.370</td>\n",
       "      <td>2018.0</td>\n",
       "    </tr>\n",
       "    <tr>\n",
       "      <th>1004</th>\n",
       "      <td>NW752-3S</td>\n",
       "      <td>2017</td>\n",
       "      <td>NaN</td>\n",
       "      <td>Dairy North</td>\n",
       "      <td>2021-09-12</td>\n",
       "      <td>2021-09</td>\n",
       "      <td>2021</td>\n",
       "      <td>12:00:00</td>\n",
       "      <td>266282.1266</td>\n",
       "      <td>98358.20591</td>\n",
       "      <td>5.80</td>\n",
       "      <td>NaN</td>\n",
       "      <td>13.3</td>\n",
       "      <td>0.651</td>\n",
       "      <td>5.930</td>\n",
       "      <td>2015.0</td>\n",
       "    </tr>\n",
       "    <tr>\n",
       "      <th>1005</th>\n",
       "      <td>NW752-3S</td>\n",
       "      <td>2018</td>\n",
       "      <td>NaN</td>\n",
       "      <td>Longlands South</td>\n",
       "      <td>2021-07-12</td>\n",
       "      <td>2021-07</td>\n",
       "      <td>2021</td>\n",
       "      <td>12:00:00</td>\n",
       "      <td>265920.9621</td>\n",
       "      <td>98603.80501</td>\n",
       "      <td>5.90</td>\n",
       "      <td>NaN</td>\n",
       "      <td>9.5</td>\n",
       "      <td>0.442</td>\n",
       "      <td>4.090</td>\n",
       "      <td>2003.0</td>\n",
       "    </tr>\n",
       "  </tbody>\n",
       "</table>\n",
       "<p>1005 rows × 16 columns</p>\n",
       "</div>"
      ],
      "text/plain": [
       "     Experiment_Id  SP_ID  sample_distance (m)               Field  \\\n",
       "0            FP003      1                 50.0         Pecketsford   \n",
       "1            FP003      2                 50.0         Pecketsford   \n",
       "2            FP003      7                 50.0         Pecketsford   \n",
       "3            FP003      9                 50.0         Pecketsford   \n",
       "4            FP003     17                 50.0         Pecketsford   \n",
       "...            ...    ...                  ...                 ...   \n",
       "1001      NW752-3S   2009                  NaN         Golden Rove   \n",
       "1002      NW752-3S   2007                  NaN  Orchard Dean North   \n",
       "1003      NW752-3S   2008                  NaN  Orchard Dean South   \n",
       "1004      NW752-3S   2017                  NaN         Dairy North   \n",
       "1005      NW752-3S   2018                  NaN     Longlands South   \n",
       "\n",
       "     Sample_date Month-Year  Year Sample_time      Easting     Northing    pH  \\\n",
       "0     2012-06-06    2012-06  2012    12:00:00  265632.0000  99300.00000  5.18   \n",
       "1     2012-06-06    2012-06  2012    12:00:00  265625.0000  99275.00000  5.23   \n",
       "2     2012-06-06    2012-06  2012    12:00:00  265575.0000  99225.00000  5.54   \n",
       "3     2012-06-06    2012-06  2012    12:00:00  265625.0000  99225.00000  5.12   \n",
       "4     2012-06-06    2012-06  2012    12:00:00  265575.0000  99175.00000  5.68   \n",
       "...          ...        ...   ...         ...          ...          ...   ...   \n",
       "1001  2021-08-12    2021-08  2021    12:00:00  265953.4417  97967.65381  5.80   \n",
       "1002  2021-08-12    2021-08  2021    12:00:00  265678.1911  98112.25632  5.90   \n",
       "1003  2021-08-12    2021-08  2021    12:00:00  265666.1468  98008.84146  5.80   \n",
       "1004  2021-09-12    2021-09  2021    12:00:00  266282.1266  98358.20591  5.80   \n",
       "1005  2021-07-12    2021-07  2021    12:00:00  265920.9621  98603.80501  5.90   \n",
       "\n",
       "      BD_gcm3  OM_%w/w  N_total_%w/w  C_total_%w/w  conductivity_uScm  \n",
       "0       0.916     10.1         0.510         4.742                NaN  \n",
       "1       0.943     10.4         0.550         4.980                NaN  \n",
       "2       0.948     11.8         0.640         5.610                NaN  \n",
       "3       0.857     10.9         0.540         4.510                NaN  \n",
       "4       0.946     11.5         0.590         5.340                NaN  \n",
       "...       ...      ...           ...           ...                ...  \n",
       "1001      NaN     11.6         0.549         5.240             2012.0  \n",
       "1002      NaN     13.2         0.629         5.970             2014.0  \n",
       "1003      NaN     11.9         0.580         5.370             2018.0  \n",
       "1004      NaN     13.3         0.651         5.930             2015.0  \n",
       "1005      NaN      9.5         0.442         4.090             2003.0  \n",
       "\n",
       "[1005 rows x 16 columns]"
      ]
     },
     "execution_count": 193,
     "metadata": {},
     "output_type": "execute_result"
    }
   ],
   "source": [
    "result_df_without_duplicates"
   ]
  },
  {
   "cell_type": "code",
   "execution_count": 196,
   "id": "5706dc4b",
   "metadata": {},
   "outputs": [],
   "source": [
    "result_df_without_duplicates.to_csv('dataset_final_RR.csv', index = False)"
   ]
  },
  {
   "cell_type": "markdown",
   "id": "e8d2eefa",
   "metadata": {},
   "source": [
    "### Open files from computer"
   ]
  },
  {
   "cell_type": "code",
   "execution_count": 116,
   "id": "ea0e009a",
   "metadata": {},
   "outputs": [],
   "source": [
    "files_df = pd.read_csv('dataset_final_date_RR.csv', sep =';')\n",
    "XY = files_df[['X', 'Y']]"
   ]
  },
  {
   "cell_type": "code",
   "execution_count": 122,
   "id": "c5991971",
   "metadata": {},
   "outputs": [
    {
     "data": {
      "text/html": [
       "<div>\n",
       "<style scoped>\n",
       "    .dataframe tbody tr th:only-of-type {\n",
       "        vertical-align: middle;\n",
       "    }\n",
       "\n",
       "    .dataframe tbody tr th {\n",
       "        vertical-align: top;\n",
       "    }\n",
       "\n",
       "    .dataframe thead th {\n",
       "        text-align: right;\n",
       "    }\n",
       "</style>\n",
       "<table border=\"1\" class=\"dataframe\">\n",
       "  <thead>\n",
       "    <tr style=\"text-align: right;\">\n",
       "      <th></th>\n",
       "      <th>Experiment_Id</th>\n",
       "      <th>SP_ID</th>\n",
       "      <th>sample_distance (m)</th>\n",
       "      <th>Field</th>\n",
       "      <th>Sample_date</th>\n",
       "      <th>Sample_time</th>\n",
       "      <th>Easting</th>\n",
       "      <th>Northing</th>\n",
       "      <th>X</th>\n",
       "      <th>Y</th>\n",
       "      <th>pH</th>\n",
       "      <th>BD_gcm3</th>\n",
       "      <th>OM_%w/w</th>\n",
       "      <th>N_total_%w/w</th>\n",
       "      <th>C_total_%w/w</th>\n",
       "      <th>conductivity_uScm</th>\n",
       "    </tr>\n",
       "  </thead>\n",
       "  <tbody>\n",
       "    <tr>\n",
       "      <th>0</th>\n",
       "      <td>FP003</td>\n",
       "      <td>1</td>\n",
       "      <td>50.0</td>\n",
       "      <td>Pecketsford</td>\n",
       "      <td>6/6/2012</td>\n",
       "      <td>12:00:00</td>\n",
       "      <td>265632.0000</td>\n",
       "      <td>99300.00000</td>\n",
       "      <td>-3.907212</td>\n",
       "      <td>50.777660</td>\n",
       "      <td>5.18</td>\n",
       "      <td>0.916</td>\n",
       "      <td>10.1</td>\n",
       "      <td>0.510</td>\n",
       "      <td>4.742</td>\n",
       "      <td>NaN</td>\n",
       "    </tr>\n",
       "    <tr>\n",
       "      <th>1</th>\n",
       "      <td>FP003</td>\n",
       "      <td>2</td>\n",
       "      <td>50.0</td>\n",
       "      <td>Pecketsford</td>\n",
       "      <td>6/6/2012</td>\n",
       "      <td>12:00:00</td>\n",
       "      <td>265625.0000</td>\n",
       "      <td>99275.00000</td>\n",
       "      <td>-3.907302</td>\n",
       "      <td>50.777434</td>\n",
       "      <td>5.23</td>\n",
       "      <td>0.943</td>\n",
       "      <td>10.4</td>\n",
       "      <td>0.550</td>\n",
       "      <td>4.980</td>\n",
       "      <td>NaN</td>\n",
       "    </tr>\n",
       "    <tr>\n",
       "      <th>2</th>\n",
       "      <td>FP003</td>\n",
       "      <td>7</td>\n",
       "      <td>50.0</td>\n",
       "      <td>Pecketsford</td>\n",
       "      <td>6/6/2012</td>\n",
       "      <td>12:00:00</td>\n",
       "      <td>265575.0000</td>\n",
       "      <td>99225.00000</td>\n",
       "      <td>-3.907992</td>\n",
       "      <td>50.776973</td>\n",
       "      <td>5.54</td>\n",
       "      <td>0.948</td>\n",
       "      <td>11.8</td>\n",
       "      <td>0.640</td>\n",
       "      <td>5.610</td>\n",
       "      <td>NaN</td>\n",
       "    </tr>\n",
       "    <tr>\n",
       "      <th>3</th>\n",
       "      <td>FP003</td>\n",
       "      <td>9</td>\n",
       "      <td>50.0</td>\n",
       "      <td>Pecketsford</td>\n",
       "      <td>6/6/2012</td>\n",
       "      <td>12:00:00</td>\n",
       "      <td>265625.0000</td>\n",
       "      <td>99225.00000</td>\n",
       "      <td>-3.907283</td>\n",
       "      <td>50.776985</td>\n",
       "      <td>5.12</td>\n",
       "      <td>0.857</td>\n",
       "      <td>10.9</td>\n",
       "      <td>0.540</td>\n",
       "      <td>4.510</td>\n",
       "      <td>NaN</td>\n",
       "    </tr>\n",
       "    <tr>\n",
       "      <th>4</th>\n",
       "      <td>FP003</td>\n",
       "      <td>17</td>\n",
       "      <td>50.0</td>\n",
       "      <td>Pecketsford</td>\n",
       "      <td>6/6/2012</td>\n",
       "      <td>12:00:00</td>\n",
       "      <td>265575.0000</td>\n",
       "      <td>99175.00000</td>\n",
       "      <td>-3.907974</td>\n",
       "      <td>50.776524</td>\n",
       "      <td>5.68</td>\n",
       "      <td>0.946</td>\n",
       "      <td>11.5</td>\n",
       "      <td>0.590</td>\n",
       "      <td>5.340</td>\n",
       "      <td>NaN</td>\n",
       "    </tr>\n",
       "    <tr>\n",
       "      <th>...</th>\n",
       "      <td>...</td>\n",
       "      <td>...</td>\n",
       "      <td>...</td>\n",
       "      <td>...</td>\n",
       "      <td>...</td>\n",
       "      <td>...</td>\n",
       "      <td>...</td>\n",
       "      <td>...</td>\n",
       "      <td>...</td>\n",
       "      <td>...</td>\n",
       "      <td>...</td>\n",
       "      <td>...</td>\n",
       "      <td>...</td>\n",
       "      <td>...</td>\n",
       "      <td>...</td>\n",
       "      <td>...</td>\n",
       "    </tr>\n",
       "    <tr>\n",
       "      <th>75</th>\n",
       "      <td>NW752-1S</td>\n",
       "      <td>2012</td>\n",
       "      <td>NaN</td>\n",
       "      <td>Middle Wyke Moor</td>\n",
       "      <td>6/10/2021</td>\n",
       "      <td>12:00:00</td>\n",
       "      <td>266286.9323</td>\n",
       "      <td>97739.51404</td>\n",
       "      <td>-3.906845</td>\n",
       "      <td>50.766200</td>\n",
       "      <td>5.70</td>\n",
       "      <td>NaN</td>\n",
       "      <td>13.2</td>\n",
       "      <td>0.608</td>\n",
       "      <td>6.450</td>\n",
       "      <td>2012.0</td>\n",
       "    </tr>\n",
       "    <tr>\n",
       "      <th>76</th>\n",
       "      <td>NW752-1S</td>\n",
       "      <td>2010</td>\n",
       "      <td>NaN</td>\n",
       "      <td>Lower Wyke Moor</td>\n",
       "      <td>6/10/2021</td>\n",
       "      <td>12:00:00</td>\n",
       "      <td>266451.1332</td>\n",
       "      <td>97788.73835</td>\n",
       "      <td>-3.906136</td>\n",
       "      <td>50.766211</td>\n",
       "      <td>5.80</td>\n",
       "      <td>NaN</td>\n",
       "      <td>11.7</td>\n",
       "      <td>0.521</td>\n",
       "      <td>5.480</td>\n",
       "      <td>2014.0</td>\n",
       "    </tr>\n",
       "    <tr>\n",
       "      <th>77</th>\n",
       "      <td>NW752-1S</td>\n",
       "      <td>2019</td>\n",
       "      <td>NaN</td>\n",
       "      <td>Longlands North</td>\n",
       "      <td>6/10/2021</td>\n",
       "      <td>12:00:00</td>\n",
       "      <td>265884.6342</td>\n",
       "      <td>98794.41491</td>\n",
       "      <td>-3.905427</td>\n",
       "      <td>50.766223</td>\n",
       "      <td>5.90</td>\n",
       "      <td>NaN</td>\n",
       "      <td>9.5</td>\n",
       "      <td>0.446</td>\n",
       "      <td>4.340</td>\n",
       "      <td>2018.0</td>\n",
       "    </tr>\n",
       "    <tr>\n",
       "      <th>78</th>\n",
       "      <td>NW752-1S</td>\n",
       "      <td>2018</td>\n",
       "      <td>NaN</td>\n",
       "      <td>Longlands South</td>\n",
       "      <td>6/10/2021</td>\n",
       "      <td>12:00:00</td>\n",
       "      <td>265920.9621</td>\n",
       "      <td>98603.80501</td>\n",
       "      <td>-3.904719</td>\n",
       "      <td>50.766234</td>\n",
       "      <td>5.50</td>\n",
       "      <td>NaN</td>\n",
       "      <td>13.0</td>\n",
       "      <td>0.635</td>\n",
       "      <td>6.160</td>\n",
       "      <td>2015.0</td>\n",
       "    </tr>\n",
       "    <tr>\n",
       "      <th>79</th>\n",
       "      <td>NW752-1S</td>\n",
       "      <td>2013</td>\n",
       "      <td>NaN</td>\n",
       "      <td>Dairy South</td>\n",
       "      <td>6/11/2021</td>\n",
       "      <td>12:00:00</td>\n",
       "      <td>266152.0651</td>\n",
       "      <td>97968.50154</td>\n",
       "      <td>-3.908243</td>\n",
       "      <td>50.765727</td>\n",
       "      <td>5.90</td>\n",
       "      <td>NaN</td>\n",
       "      <td>14.0</td>\n",
       "      <td>0.659</td>\n",
       "      <td>6.840</td>\n",
       "      <td>2003.0</td>\n",
       "    </tr>\n",
       "  </tbody>\n",
       "</table>\n",
       "<p>1005 rows × 16 columns</p>\n",
       "</div>"
      ],
      "text/plain": [
       "   Experiment_Id  SP_ID  sample_distance (m)             Field Sample_date  \\\n",
       "0          FP003      1                 50.0       Pecketsford    6/6/2012   \n",
       "1          FP003      2                 50.0       Pecketsford    6/6/2012   \n",
       "2          FP003      7                 50.0       Pecketsford    6/6/2012   \n",
       "3          FP003      9                 50.0       Pecketsford    6/6/2012   \n",
       "4          FP003     17                 50.0       Pecketsford    6/6/2012   \n",
       "..           ...    ...                  ...               ...         ...   \n",
       "75      NW752-1S   2012                  NaN  Middle Wyke Moor   6/10/2021   \n",
       "76      NW752-1S   2010                  NaN   Lower Wyke Moor   6/10/2021   \n",
       "77      NW752-1S   2019                  NaN   Longlands North   6/10/2021   \n",
       "78      NW752-1S   2018                  NaN   Longlands South   6/10/2021   \n",
       "79      NW752-1S   2013                  NaN       Dairy South   6/11/2021   \n",
       "\n",
       "   Sample_time      Easting     Northing         X          Y    pH  BD_gcm3  \\\n",
       "0     12:00:00  265632.0000  99300.00000 -3.907212  50.777660  5.18    0.916   \n",
       "1     12:00:00  265625.0000  99275.00000 -3.907302  50.777434  5.23    0.943   \n",
       "2     12:00:00  265575.0000  99225.00000 -3.907992  50.776973  5.54    0.948   \n",
       "3     12:00:00  265625.0000  99225.00000 -3.907283  50.776985  5.12    0.857   \n",
       "4     12:00:00  265575.0000  99175.00000 -3.907974  50.776524  5.68    0.946   \n",
       "..         ...          ...          ...       ...        ...   ...      ...   \n",
       "75    12:00:00  266286.9323  97739.51404 -3.906845  50.766200  5.70      NaN   \n",
       "76    12:00:00  266451.1332  97788.73835 -3.906136  50.766211  5.80      NaN   \n",
       "77    12:00:00  265884.6342  98794.41491 -3.905427  50.766223  5.90      NaN   \n",
       "78    12:00:00  265920.9621  98603.80501 -3.904719  50.766234  5.50      NaN   \n",
       "79    12:00:00  266152.0651  97968.50154 -3.908243  50.765727  5.90      NaN   \n",
       "\n",
       "    OM_%w/w  N_total_%w/w  C_total_%w/w  conductivity_uScm  \n",
       "0      10.1         0.510         4.742                NaN  \n",
       "1      10.4         0.550         4.980                NaN  \n",
       "2      11.8         0.640         5.610                NaN  \n",
       "3      10.9         0.540         4.510                NaN  \n",
       "4      11.5         0.590         5.340                NaN  \n",
       "..      ...           ...           ...                ...  \n",
       "75     13.2         0.608         6.450             2012.0  \n",
       "76     11.7         0.521         5.480             2014.0  \n",
       "77      9.5         0.446         4.340             2018.0  \n",
       "78     13.0         0.635         6.160             2015.0  \n",
       "79     14.0         0.659         6.840             2003.0  \n",
       "\n",
       "[1005 rows x 16 columns]"
      ]
     },
     "execution_count": 122,
     "metadata": {},
     "output_type": "execute_result"
    }
   ],
   "source": [
    "## To open files from computer\n",
    "files = glob.glob('field_*csv')\n",
    "files_df = pd.concat([pd.read_csv(f, sep=';') for f in files], axis = 0)\n",
    "files_df.insert(8,'X', XY['X'])\n",
    "files_df.insert(9,'Y', XY['Y'])\n",
    "files_df"
   ]
  },
  {
   "cell_type": "code",
   "execution_count": 123,
   "id": "8fd58dc2",
   "metadata": {},
   "outputs": [
    {
     "data": {
      "text/plain": [
       "dtype('O')"
      ]
     },
     "execution_count": 123,
     "metadata": {},
     "output_type": "execute_result"
    }
   ],
   "source": [
    "files_df['Sample_date'].dtype"
   ]
  },
  {
   "cell_type": "code",
   "execution_count": 124,
   "id": "a188cab9",
   "metadata": {},
   "outputs": [],
   "source": [
    "files_df['Sample_date'] = pd.to_datetime(files_df['Sample_date'])"
   ]
  },
  {
   "cell_type": "code",
   "execution_count": 125,
   "id": "238c0eb2",
   "metadata": {},
   "outputs": [],
   "source": [
    "# Create a new column: MM-YYYYa\n",
    "month_df = files_df['Sample_date'].dt.to_period('M')\n",
    "year_df = files_df['Sample_date'].dt.to_period('Y')"
   ]
  },
  {
   "cell_type": "code",
   "execution_count": 126,
   "id": "1230b6c0",
   "metadata": {},
   "outputs": [
    {
     "data": {
      "text/html": [
       "<div>\n",
       "<style scoped>\n",
       "    .dataframe tbody tr th:only-of-type {\n",
       "        vertical-align: middle;\n",
       "    }\n",
       "\n",
       "    .dataframe tbody tr th {\n",
       "        vertical-align: top;\n",
       "    }\n",
       "\n",
       "    .dataframe thead th {\n",
       "        text-align: right;\n",
       "    }\n",
       "</style>\n",
       "<table border=\"1\" class=\"dataframe\">\n",
       "  <thead>\n",
       "    <tr style=\"text-align: right;\">\n",
       "      <th></th>\n",
       "      <th>Experiment_Id</th>\n",
       "      <th>SP_ID</th>\n",
       "      <th>sample_distance (m)</th>\n",
       "      <th>Field</th>\n",
       "      <th>Sample_date</th>\n",
       "      <th>Month-year</th>\n",
       "      <th>Year</th>\n",
       "      <th>Sample_time</th>\n",
       "      <th>Easting</th>\n",
       "      <th>Northing</th>\n",
       "      <th>X</th>\n",
       "      <th>Y</th>\n",
       "      <th>pH</th>\n",
       "      <th>BD_gcm3</th>\n",
       "      <th>OM_%w/w</th>\n",
       "      <th>N_total_%w/w</th>\n",
       "      <th>C_total_%w/w</th>\n",
       "      <th>conductivity_uScm</th>\n",
       "    </tr>\n",
       "  </thead>\n",
       "  <tbody>\n",
       "    <tr>\n",
       "      <th>0</th>\n",
       "      <td>FP003</td>\n",
       "      <td>1</td>\n",
       "      <td>50.0</td>\n",
       "      <td>Pecketsford</td>\n",
       "      <td>2012-06-06</td>\n",
       "      <td>2012-06</td>\n",
       "      <td>2012</td>\n",
       "      <td>12:00:00</td>\n",
       "      <td>265632.0000</td>\n",
       "      <td>99300.00000</td>\n",
       "      <td>-3.907212</td>\n",
       "      <td>50.777660</td>\n",
       "      <td>5.18</td>\n",
       "      <td>0.916</td>\n",
       "      <td>10.1</td>\n",
       "      <td>0.510</td>\n",
       "      <td>4.742</td>\n",
       "      <td>NaN</td>\n",
       "    </tr>\n",
       "    <tr>\n",
       "      <th>1</th>\n",
       "      <td>FP003</td>\n",
       "      <td>2</td>\n",
       "      <td>50.0</td>\n",
       "      <td>Pecketsford</td>\n",
       "      <td>2012-06-06</td>\n",
       "      <td>2012-06</td>\n",
       "      <td>2012</td>\n",
       "      <td>12:00:00</td>\n",
       "      <td>265625.0000</td>\n",
       "      <td>99275.00000</td>\n",
       "      <td>-3.907302</td>\n",
       "      <td>50.777434</td>\n",
       "      <td>5.23</td>\n",
       "      <td>0.943</td>\n",
       "      <td>10.4</td>\n",
       "      <td>0.550</td>\n",
       "      <td>4.980</td>\n",
       "      <td>NaN</td>\n",
       "    </tr>\n",
       "    <tr>\n",
       "      <th>2</th>\n",
       "      <td>FP003</td>\n",
       "      <td>7</td>\n",
       "      <td>50.0</td>\n",
       "      <td>Pecketsford</td>\n",
       "      <td>2012-06-06</td>\n",
       "      <td>2012-06</td>\n",
       "      <td>2012</td>\n",
       "      <td>12:00:00</td>\n",
       "      <td>265575.0000</td>\n",
       "      <td>99225.00000</td>\n",
       "      <td>-3.907992</td>\n",
       "      <td>50.776973</td>\n",
       "      <td>5.54</td>\n",
       "      <td>0.948</td>\n",
       "      <td>11.8</td>\n",
       "      <td>0.640</td>\n",
       "      <td>5.610</td>\n",
       "      <td>NaN</td>\n",
       "    </tr>\n",
       "    <tr>\n",
       "      <th>3</th>\n",
       "      <td>FP003</td>\n",
       "      <td>9</td>\n",
       "      <td>50.0</td>\n",
       "      <td>Pecketsford</td>\n",
       "      <td>2012-06-06</td>\n",
       "      <td>2012-06</td>\n",
       "      <td>2012</td>\n",
       "      <td>12:00:00</td>\n",
       "      <td>265625.0000</td>\n",
       "      <td>99225.00000</td>\n",
       "      <td>-3.907283</td>\n",
       "      <td>50.776985</td>\n",
       "      <td>5.12</td>\n",
       "      <td>0.857</td>\n",
       "      <td>10.9</td>\n",
       "      <td>0.540</td>\n",
       "      <td>4.510</td>\n",
       "      <td>NaN</td>\n",
       "    </tr>\n",
       "    <tr>\n",
       "      <th>4</th>\n",
       "      <td>FP003</td>\n",
       "      <td>17</td>\n",
       "      <td>50.0</td>\n",
       "      <td>Pecketsford</td>\n",
       "      <td>2012-06-06</td>\n",
       "      <td>2012-06</td>\n",
       "      <td>2012</td>\n",
       "      <td>12:00:00</td>\n",
       "      <td>265575.0000</td>\n",
       "      <td>99175.00000</td>\n",
       "      <td>-3.907974</td>\n",
       "      <td>50.776524</td>\n",
       "      <td>5.68</td>\n",
       "      <td>0.946</td>\n",
       "      <td>11.5</td>\n",
       "      <td>0.590</td>\n",
       "      <td>5.340</td>\n",
       "      <td>NaN</td>\n",
       "    </tr>\n",
       "    <tr>\n",
       "      <th>...</th>\n",
       "      <td>...</td>\n",
       "      <td>...</td>\n",
       "      <td>...</td>\n",
       "      <td>...</td>\n",
       "      <td>...</td>\n",
       "      <td>...</td>\n",
       "      <td>...</td>\n",
       "      <td>...</td>\n",
       "      <td>...</td>\n",
       "      <td>...</td>\n",
       "      <td>...</td>\n",
       "      <td>...</td>\n",
       "      <td>...</td>\n",
       "      <td>...</td>\n",
       "      <td>...</td>\n",
       "      <td>...</td>\n",
       "      <td>...</td>\n",
       "      <td>...</td>\n",
       "    </tr>\n",
       "    <tr>\n",
       "      <th>75</th>\n",
       "      <td>NW752-1S</td>\n",
       "      <td>2012</td>\n",
       "      <td>NaN</td>\n",
       "      <td>Middle Wyke Moor</td>\n",
       "      <td>2021-06-10</td>\n",
       "      <td>2021-06</td>\n",
       "      <td>2021</td>\n",
       "      <td>12:00:00</td>\n",
       "      <td>266286.9323</td>\n",
       "      <td>97739.51404</td>\n",
       "      <td>-3.906845</td>\n",
       "      <td>50.766200</td>\n",
       "      <td>5.70</td>\n",
       "      <td>NaN</td>\n",
       "      <td>13.2</td>\n",
       "      <td>0.608</td>\n",
       "      <td>6.450</td>\n",
       "      <td>2012.0</td>\n",
       "    </tr>\n",
       "    <tr>\n",
       "      <th>76</th>\n",
       "      <td>NW752-1S</td>\n",
       "      <td>2010</td>\n",
       "      <td>NaN</td>\n",
       "      <td>Lower Wyke Moor</td>\n",
       "      <td>2021-06-10</td>\n",
       "      <td>2021-06</td>\n",
       "      <td>2021</td>\n",
       "      <td>12:00:00</td>\n",
       "      <td>266451.1332</td>\n",
       "      <td>97788.73835</td>\n",
       "      <td>-3.906136</td>\n",
       "      <td>50.766211</td>\n",
       "      <td>5.80</td>\n",
       "      <td>NaN</td>\n",
       "      <td>11.7</td>\n",
       "      <td>0.521</td>\n",
       "      <td>5.480</td>\n",
       "      <td>2014.0</td>\n",
       "    </tr>\n",
       "    <tr>\n",
       "      <th>77</th>\n",
       "      <td>NW752-1S</td>\n",
       "      <td>2019</td>\n",
       "      <td>NaN</td>\n",
       "      <td>Longlands North</td>\n",
       "      <td>2021-06-10</td>\n",
       "      <td>2021-06</td>\n",
       "      <td>2021</td>\n",
       "      <td>12:00:00</td>\n",
       "      <td>265884.6342</td>\n",
       "      <td>98794.41491</td>\n",
       "      <td>-3.905427</td>\n",
       "      <td>50.766223</td>\n",
       "      <td>5.90</td>\n",
       "      <td>NaN</td>\n",
       "      <td>9.5</td>\n",
       "      <td>0.446</td>\n",
       "      <td>4.340</td>\n",
       "      <td>2018.0</td>\n",
       "    </tr>\n",
       "    <tr>\n",
       "      <th>78</th>\n",
       "      <td>NW752-1S</td>\n",
       "      <td>2018</td>\n",
       "      <td>NaN</td>\n",
       "      <td>Longlands South</td>\n",
       "      <td>2021-06-10</td>\n",
       "      <td>2021-06</td>\n",
       "      <td>2021</td>\n",
       "      <td>12:00:00</td>\n",
       "      <td>265920.9621</td>\n",
       "      <td>98603.80501</td>\n",
       "      <td>-3.904719</td>\n",
       "      <td>50.766234</td>\n",
       "      <td>5.50</td>\n",
       "      <td>NaN</td>\n",
       "      <td>13.0</td>\n",
       "      <td>0.635</td>\n",
       "      <td>6.160</td>\n",
       "      <td>2015.0</td>\n",
       "    </tr>\n",
       "    <tr>\n",
       "      <th>79</th>\n",
       "      <td>NW752-1S</td>\n",
       "      <td>2013</td>\n",
       "      <td>NaN</td>\n",
       "      <td>Dairy South</td>\n",
       "      <td>2021-06-11</td>\n",
       "      <td>2021-06</td>\n",
       "      <td>2021</td>\n",
       "      <td>12:00:00</td>\n",
       "      <td>266152.0651</td>\n",
       "      <td>97968.50154</td>\n",
       "      <td>-3.908243</td>\n",
       "      <td>50.765727</td>\n",
       "      <td>5.90</td>\n",
       "      <td>NaN</td>\n",
       "      <td>14.0</td>\n",
       "      <td>0.659</td>\n",
       "      <td>6.840</td>\n",
       "      <td>2003.0</td>\n",
       "    </tr>\n",
       "  </tbody>\n",
       "</table>\n",
       "<p>1005 rows × 18 columns</p>\n",
       "</div>"
      ],
      "text/plain": [
       "   Experiment_Id  SP_ID  sample_distance (m)             Field Sample_date  \\\n",
       "0          FP003      1                 50.0       Pecketsford  2012-06-06   \n",
       "1          FP003      2                 50.0       Pecketsford  2012-06-06   \n",
       "2          FP003      7                 50.0       Pecketsford  2012-06-06   \n",
       "3          FP003      9                 50.0       Pecketsford  2012-06-06   \n",
       "4          FP003     17                 50.0       Pecketsford  2012-06-06   \n",
       "..           ...    ...                  ...               ...         ...   \n",
       "75      NW752-1S   2012                  NaN  Middle Wyke Moor  2021-06-10   \n",
       "76      NW752-1S   2010                  NaN   Lower Wyke Moor  2021-06-10   \n",
       "77      NW752-1S   2019                  NaN   Longlands North  2021-06-10   \n",
       "78      NW752-1S   2018                  NaN   Longlands South  2021-06-10   \n",
       "79      NW752-1S   2013                  NaN       Dairy South  2021-06-11   \n",
       "\n",
       "   Month-year  Year Sample_time      Easting     Northing         X  \\\n",
       "0     2012-06  2012    12:00:00  265632.0000  99300.00000 -3.907212   \n",
       "1     2012-06  2012    12:00:00  265625.0000  99275.00000 -3.907302   \n",
       "2     2012-06  2012    12:00:00  265575.0000  99225.00000 -3.907992   \n",
       "3     2012-06  2012    12:00:00  265625.0000  99225.00000 -3.907283   \n",
       "4     2012-06  2012    12:00:00  265575.0000  99175.00000 -3.907974   \n",
       "..        ...   ...         ...          ...          ...       ...   \n",
       "75    2021-06  2021    12:00:00  266286.9323  97739.51404 -3.906845   \n",
       "76    2021-06  2021    12:00:00  266451.1332  97788.73835 -3.906136   \n",
       "77    2021-06  2021    12:00:00  265884.6342  98794.41491 -3.905427   \n",
       "78    2021-06  2021    12:00:00  265920.9621  98603.80501 -3.904719   \n",
       "79    2021-06  2021    12:00:00  266152.0651  97968.50154 -3.908243   \n",
       "\n",
       "            Y    pH  BD_gcm3  OM_%w/w  N_total_%w/w  C_total_%w/w  \\\n",
       "0   50.777660  5.18    0.916     10.1         0.510         4.742   \n",
       "1   50.777434  5.23    0.943     10.4         0.550         4.980   \n",
       "2   50.776973  5.54    0.948     11.8         0.640         5.610   \n",
       "3   50.776985  5.12    0.857     10.9         0.540         4.510   \n",
       "4   50.776524  5.68    0.946     11.5         0.590         5.340   \n",
       "..        ...   ...      ...      ...           ...           ...   \n",
       "75  50.766200  5.70      NaN     13.2         0.608         6.450   \n",
       "76  50.766211  5.80      NaN     11.7         0.521         5.480   \n",
       "77  50.766223  5.90      NaN      9.5         0.446         4.340   \n",
       "78  50.766234  5.50      NaN     13.0         0.635         6.160   \n",
       "79  50.765727  5.90      NaN     14.0         0.659         6.840   \n",
       "\n",
       "    conductivity_uScm  \n",
       "0                 NaN  \n",
       "1                 NaN  \n",
       "2                 NaN  \n",
       "3                 NaN  \n",
       "4                 NaN  \n",
       "..                ...  \n",
       "75             2012.0  \n",
       "76             2014.0  \n",
       "77             2018.0  \n",
       "78             2015.0  \n",
       "79             2003.0  \n",
       "\n",
       "[1005 rows x 18 columns]"
      ]
     },
     "execution_count": 126,
     "metadata": {},
     "output_type": "execute_result"
    }
   ],
   "source": [
    "files_df.insert(5, 'Month-year', month_df)\n",
    "files_df.insert(6, 'Year', year_df)\n",
    "files_df"
   ]
  },
  {
   "cell_type": "code",
   "execution_count": 127,
   "id": "18632ef0",
   "metadata": {},
   "outputs": [
    {
     "data": {
      "text/html": [
       "<div>\n",
       "<style scoped>\n",
       "    .dataframe tbody tr th:only-of-type {\n",
       "        vertical-align: middle;\n",
       "    }\n",
       "\n",
       "    .dataframe tbody tr th {\n",
       "        vertical-align: top;\n",
       "    }\n",
       "\n",
       "    .dataframe thead th {\n",
       "        text-align: right;\n",
       "    }\n",
       "</style>\n",
       "<table border=\"1\" class=\"dataframe\">\n",
       "  <thead>\n",
       "    <tr style=\"text-align: right;\">\n",
       "      <th></th>\n",
       "      <th>Month-year</th>\n",
       "      <th>count</th>\n",
       "      <th>mean</th>\n",
       "      <th>median</th>\n",
       "      <th>std</th>\n",
       "    </tr>\n",
       "  </thead>\n",
       "  <tbody>\n",
       "    <tr>\n",
       "      <th>0</th>\n",
       "      <td>2012-06-01</td>\n",
       "      <td>203</td>\n",
       "      <td>4.798167</td>\n",
       "      <td>4.870</td>\n",
       "      <td>0.894707</td>\n",
       "    </tr>\n",
       "    <tr>\n",
       "      <th>1</th>\n",
       "      <td>2012-07-01</td>\n",
       "      <td>60</td>\n",
       "      <td>3.999733</td>\n",
       "      <td>3.971</td>\n",
       "      <td>0.768726</td>\n",
       "    </tr>\n",
       "    <tr>\n",
       "      <th>2</th>\n",
       "      <td>2013-06-01</td>\n",
       "      <td>89</td>\n",
       "      <td>3.913382</td>\n",
       "      <td>3.891</td>\n",
       "      <td>0.464701</td>\n",
       "    </tr>\n",
       "    <tr>\n",
       "      <th>3</th>\n",
       "      <td>2016-07-01</td>\n",
       "      <td>347</td>\n",
       "      <td>4.575089</td>\n",
       "      <td>4.275</td>\n",
       "      <td>1.230368</td>\n",
       "    </tr>\n",
       "    <tr>\n",
       "      <th>4</th>\n",
       "      <td>2018-04-01</td>\n",
       "      <td>18</td>\n",
       "      <td>4.188889</td>\n",
       "      <td>4.060</td>\n",
       "      <td>0.809632</td>\n",
       "    </tr>\n",
       "    <tr>\n",
       "      <th>5</th>\n",
       "      <td>2018-05-01</td>\n",
       "      <td>3</td>\n",
       "      <td>3.340000</td>\n",
       "      <td>2.830</td>\n",
       "      <td>0.980153</td>\n",
       "    </tr>\n",
       "    <tr>\n",
       "      <th>6</th>\n",
       "      <td>2018-07-01</td>\n",
       "      <td>15</td>\n",
       "      <td>5.169333</td>\n",
       "      <td>4.960</td>\n",
       "      <td>1.037858</td>\n",
       "    </tr>\n",
       "    <tr>\n",
       "      <th>7</th>\n",
       "      <td>2018-08-01</td>\n",
       "      <td>6</td>\n",
       "      <td>4.253333</td>\n",
       "      <td>3.925</td>\n",
       "      <td>1.657717</td>\n",
       "    </tr>\n",
       "    <tr>\n",
       "      <th>8</th>\n",
       "      <td>2018-10-01</td>\n",
       "      <td>21</td>\n",
       "      <td>4.522857</td>\n",
       "      <td>4.280</td>\n",
       "      <td>0.993902</td>\n",
       "    </tr>\n",
       "    <tr>\n",
       "      <th>9</th>\n",
       "      <td>2019-01-01</td>\n",
       "      <td>21</td>\n",
       "      <td>4.596190</td>\n",
       "      <td>4.180</td>\n",
       "      <td>1.126244</td>\n",
       "    </tr>\n",
       "    <tr>\n",
       "      <th>10</th>\n",
       "      <td>2019-03-01</td>\n",
       "      <td>21</td>\n",
       "      <td>4.414286</td>\n",
       "      <td>4.100</td>\n",
       "      <td>1.114354</td>\n",
       "    </tr>\n",
       "    <tr>\n",
       "      <th>11</th>\n",
       "      <td>2019-06-01</td>\n",
       "      <td>21</td>\n",
       "      <td>4.490952</td>\n",
       "      <td>4.350</td>\n",
       "      <td>0.947190</td>\n",
       "    </tr>\n",
       "    <tr>\n",
       "      <th>12</th>\n",
       "      <td>2019-09-01</td>\n",
       "      <td>20</td>\n",
       "      <td>4.622500</td>\n",
       "      <td>4.260</td>\n",
       "      <td>1.243420</td>\n",
       "    </tr>\n",
       "    <tr>\n",
       "      <th>13</th>\n",
       "      <td>2020-01-01</td>\n",
       "      <td>20</td>\n",
       "      <td>4.215000</td>\n",
       "      <td>4.060</td>\n",
       "      <td>1.024163</td>\n",
       "    </tr>\n",
       "    <tr>\n",
       "      <th>14</th>\n",
       "      <td>2020-06-01</td>\n",
       "      <td>20</td>\n",
       "      <td>4.548000</td>\n",
       "      <td>4.500</td>\n",
       "      <td>1.066078</td>\n",
       "    </tr>\n",
       "    <tr>\n",
       "      <th>15</th>\n",
       "      <td>2020-08-01</td>\n",
       "      <td>6</td>\n",
       "      <td>3.160000</td>\n",
       "      <td>3.155</td>\n",
       "      <td>0.412989</td>\n",
       "    </tr>\n",
       "    <tr>\n",
       "      <th>16</th>\n",
       "      <td>2020-09-01</td>\n",
       "      <td>14</td>\n",
       "      <td>4.984286</td>\n",
       "      <td>4.765</td>\n",
       "      <td>1.043999</td>\n",
       "    </tr>\n",
       "    <tr>\n",
       "      <th>17</th>\n",
       "      <td>2020-12-01</td>\n",
       "      <td>20</td>\n",
       "      <td>4.176000</td>\n",
       "      <td>3.925</td>\n",
       "      <td>0.868692</td>\n",
       "    </tr>\n",
       "    <tr>\n",
       "      <th>18</th>\n",
       "      <td>2021-03-01</td>\n",
       "      <td>20</td>\n",
       "      <td>4.268500</td>\n",
       "      <td>4.225</td>\n",
       "      <td>0.879589</td>\n",
       "    </tr>\n",
       "    <tr>\n",
       "      <th>19</th>\n",
       "      <td>2021-06-01</td>\n",
       "      <td>20</td>\n",
       "      <td>5.849500</td>\n",
       "      <td>5.845</td>\n",
       "      <td>1.871514</td>\n",
       "    </tr>\n",
       "    <tr>\n",
       "      <th>20</th>\n",
       "      <td>2021-08-01</td>\n",
       "      <td>6</td>\n",
       "      <td>3.341667</td>\n",
       "      <td>3.425</td>\n",
       "      <td>0.309413</td>\n",
       "    </tr>\n",
       "    <tr>\n",
       "      <th>21</th>\n",
       "      <td>2021-09-01</td>\n",
       "      <td>14</td>\n",
       "      <td>5.663571</td>\n",
       "      <td>5.555</td>\n",
       "      <td>1.034546</td>\n",
       "    </tr>\n",
       "    <tr>\n",
       "      <th>22</th>\n",
       "      <td>2021-12-01</td>\n",
       "      <td>20</td>\n",
       "      <td>4.295500</td>\n",
       "      <td>4.240</td>\n",
       "      <td>1.087941</td>\n",
       "    </tr>\n",
       "  </tbody>\n",
       "</table>\n",
       "</div>"
      ],
      "text/plain": [
       "   Month-year  count      mean  median       std\n",
       "0  2012-06-01    203  4.798167   4.870  0.894707\n",
       "1  2012-07-01     60  3.999733   3.971  0.768726\n",
       "2  2013-06-01     89  3.913382   3.891  0.464701\n",
       "3  2016-07-01    347  4.575089   4.275  1.230368\n",
       "4  2018-04-01     18  4.188889   4.060  0.809632\n",
       "5  2018-05-01      3  3.340000   2.830  0.980153\n",
       "6  2018-07-01     15  5.169333   4.960  1.037858\n",
       "7  2018-08-01      6  4.253333   3.925  1.657717\n",
       "8  2018-10-01     21  4.522857   4.280  0.993902\n",
       "9  2019-01-01     21  4.596190   4.180  1.126244\n",
       "10 2019-03-01     21  4.414286   4.100  1.114354\n",
       "11 2019-06-01     21  4.490952   4.350  0.947190\n",
       "12 2019-09-01     20  4.622500   4.260  1.243420\n",
       "13 2020-01-01     20  4.215000   4.060  1.024163\n",
       "14 2020-06-01     20  4.548000   4.500  1.066078\n",
       "15 2020-08-01      6  3.160000   3.155  0.412989\n",
       "16 2020-09-01     14  4.984286   4.765  1.043999\n",
       "17 2020-12-01     20  4.176000   3.925  0.868692\n",
       "18 2021-03-01     20  4.268500   4.225  0.879589\n",
       "19 2021-06-01     20  5.849500   5.845  1.871514\n",
       "20 2021-08-01      6  3.341667   3.425  0.309413\n",
       "21 2021-09-01     14  5.663571   5.555  1.034546\n",
       "22 2021-12-01     20  4.295500   4.240  1.087941"
      ]
     },
     "execution_count": 127,
     "metadata": {},
     "output_type": "execute_result"
    }
   ],
   "source": [
    "group_by_month = pd.DataFrame(files_df[['Month-year', 'C_total_%w/w']].groupby(['Month-year']).agg(['count', 'mean', 'median', 'std']).reset_index())\n",
    "group_by_month.columns = group_by_month.columns.to_flat_index()\n",
    "group_by_month.rename(columns = {('Month-year', ''): 'Month-year', ('C_total_%w/w', 'count'): 'count',\n",
    "                               ('C_total_%w/w', 'mean'): 'mean', ('C_total_%w/w', 'median'): 'median',\n",
    "                               ('C_total_%w/w', 'std'): 'std'}, \n",
    "                               inplace = True)\n",
    "\n",
    "group_by_month['Month-year'] = group_by_month['Month-year'].astype('datetime64[ns]')\n",
    "group_by_month"
   ]
  },
  {
   "cell_type": "code",
   "execution_count": 128,
   "id": "211c95da",
   "metadata": {},
   "outputs": [
    {
     "data": {
      "image/png": "[encoded data removed]",
      "text/plain": [
       "<Figure size 700x500 with 1 Axes>"
      ]
     },
     "metadata": {
      "needs_background": "light"
     },
     "output_type": "display_data"
    }
   ],
   "source": [
    "## Plot\n",
    "plt.figure(figsize=(7, 5), dpi=100)\n",
    "plt.plot(group_by_month['Month-year'], group_by_month['mean'], color = 'blue')\n",
    "plt.fill_between(group_by_month['Month-year'], (group_by_month['mean']+group_by_month['std']), \n",
    "                 (group_by_month['mean']-group_by_month['std']), alpha = 0.2, color = 'blue')\n",
    "plt.title(\"Mean and standard deviation of Total C% by month\")\n",
    "plt.xlabel(\"Date\")\n",
    "plt.ylabel(\"C%\")\n",
    "plt.savefig('average_C_by_month_sd.png', dpi=300)\n",
    "\n",
    "plt.show()"
   ]
  },
  {
   "cell_type": "code",
   "execution_count": 129,
   "id": "56450241",
   "metadata": {},
   "outputs": [
    {
     "data": {
      "text/html": [
       "<div>\n",
       "<style scoped>\n",
       "    .dataframe tbody tr th:only-of-type {\n",
       "        vertical-align: middle;\n",
       "    }\n",
       "\n",
       "    .dataframe tbody tr th {\n",
       "        vertical-align: top;\n",
       "    }\n",
       "\n",
       "    .dataframe thead th {\n",
       "        text-align: right;\n",
       "    }\n",
       "</style>\n",
       "<table border=\"1\" class=\"dataframe\">\n",
       "  <thead>\n",
       "    <tr style=\"text-align: right;\">\n",
       "      <th></th>\n",
       "      <th>Year</th>\n",
       "      <th>min</th>\n",
       "      <th>mean</th>\n",
       "      <th>median</th>\n",
       "      <th>max</th>\n",
       "      <th>std</th>\n",
       "      <th>count</th>\n",
       "    </tr>\n",
       "  </thead>\n",
       "  <tbody>\n",
       "    <tr>\n",
       "      <th>0</th>\n",
       "      <td>2012-01-01</td>\n",
       "      <td>2.690</td>\n",
       "      <td>4.616015</td>\n",
       "      <td>4.657</td>\n",
       "      <td>10.040</td>\n",
       "      <td>0.928946</td>\n",
       "      <td>263</td>\n",
       "    </tr>\n",
       "    <tr>\n",
       "      <th>1</th>\n",
       "      <td>2013-01-01</td>\n",
       "      <td>2.685</td>\n",
       "      <td>3.913382</td>\n",
       "      <td>3.891</td>\n",
       "      <td>5.165</td>\n",
       "      <td>0.464701</td>\n",
       "      <td>89</td>\n",
       "    </tr>\n",
       "    <tr>\n",
       "      <th>2</th>\n",
       "      <td>2016-01-01</td>\n",
       "      <td>2.011</td>\n",
       "      <td>4.575089</td>\n",
       "      <td>4.275</td>\n",
       "      <td>7.519</td>\n",
       "      <td>1.230368</td>\n",
       "      <td>347</td>\n",
       "    </tr>\n",
       "    <tr>\n",
       "      <th>3</th>\n",
       "      <td>2018-01-01</td>\n",
       "      <td>2.660</td>\n",
       "      <td>4.499365</td>\n",
       "      <td>4.280</td>\n",
       "      <td>7.350</td>\n",
       "      <td>1.096307</td>\n",
       "      <td>63</td>\n",
       "    </tr>\n",
       "    <tr>\n",
       "      <th>4</th>\n",
       "      <td>2019-01-01</td>\n",
       "      <td>2.840</td>\n",
       "      <td>4.529880</td>\n",
       "      <td>4.190</td>\n",
       "      <td>6.810</td>\n",
       "      <td>1.093772</td>\n",
       "      <td>83</td>\n",
       "    </tr>\n",
       "    <tr>\n",
       "      <th>5</th>\n",
       "      <td>2020-01-01</td>\n",
       "      <td>2.500</td>\n",
       "      <td>4.344000</td>\n",
       "      <td>4.165</td>\n",
       "      <td>6.840</td>\n",
       "      <td>1.047984</td>\n",
       "      <td>80</td>\n",
       "    </tr>\n",
       "    <tr>\n",
       "      <th>6</th>\n",
       "      <td>2021-01-01</td>\n",
       "      <td>2.760</td>\n",
       "      <td>4.845125</td>\n",
       "      <td>4.655</td>\n",
       "      <td>8.940</td>\n",
       "      <td>1.483824</td>\n",
       "      <td>80</td>\n",
       "    </tr>\n",
       "  </tbody>\n",
       "</table>\n",
       "</div>"
      ],
      "text/plain": [
       "        Year    min      mean  median     max       std  count\n",
       "0 2012-01-01  2.690  4.616015   4.657  10.040  0.928946    263\n",
       "1 2013-01-01  2.685  3.913382   3.891   5.165  0.464701     89\n",
       "2 2016-01-01  2.011  4.575089   4.275   7.519  1.230368    347\n",
       "3 2018-01-01  2.660  4.499365   4.280   7.350  1.096307     63\n",
       "4 2019-01-01  2.840  4.529880   4.190   6.810  1.093772     83\n",
       "5 2020-01-01  2.500  4.344000   4.165   6.840  1.047984     80\n",
       "6 2021-01-01  2.760  4.845125   4.655   8.940  1.483824     80"
      ]
     },
     "execution_count": 129,
     "metadata": {},
     "output_type": "execute_result"
    }
   ],
   "source": [
    "# Group by year and count\n",
    "group_year = files_df[['Year', 'C_total_%w/w']].groupby(['Year']).agg(['min', 'mean', 'median', 'max','std', 'count']).reset_index()\n",
    "group_year.columns = group_year.columns.to_flat_index()\n",
    "group_year.rename(columns = {('Year', ''): 'Year', ('C_total_%w/w', 'min'): 'min',\n",
    "                               ('C_total_%w/w', 'mean'): 'mean', ('C_total_%w/w', 'median'): 'median',\n",
    "                               ('C_total_%w/w', 'max'): 'max',('C_total_%w/w', 'std'): 'std', \n",
    "                               ('C_total_%w/w', 'count'): 'count'}, inplace = True)\n",
    "\n",
    "group_year['Year'] = group_year['Year'].astype('datetime64[ns]')\n",
    "group_year"
   ]
  },
  {
   "cell_type": "code",
   "execution_count": 130,
   "id": "8a81f9f2",
   "metadata": {},
   "outputs": [
    {
     "data": {
      "image/png": "[encoded data removed]",
      "text/plain": [
       "<Figure size 700x500 with 1 Axes>"
      ]
     },
     "metadata": {
      "needs_background": "light"
     },
     "output_type": "display_data"
    }
   ],
   "source": [
    "## Plot\n",
    "plt.figure(figsize=(7, 5), dpi=100)\n",
    "plt.plot(group_year['Year'], group_year['mean'], color = 'blue')\n",
    "plt.fill_between(group_year['Year'], (group_year['mean']+group_year['std']), \n",
    "                 (group_year['mean']-group_year['std']), alpha = 0.2, color = 'blue')\n",
    "plt.title(\"Mean and standard deviation of Total C% by month\")\n",
    "plt.xlabel(\"Date\")\n",
    "plt.ylabel(\"C%\")\n",
    "plt.savefig('average_C_by_year.png', dpi=300)\n",
    "\n",
    "plt.show()"
   ]
  },
  {
   "cell_type": "code",
   "execution_count": 131,
   "id": "c7796d5f",
   "metadata": {},
   "outputs": [
    {
     "name": "stdout",
     "output_type": "stream",
     "text": [
      "The change in C% in nine years was 0.23%\n"
     ]
    }
   ],
   "source": [
    "diff = group_year['mean'][6] - group_year['mean'][0]\n",
    "print('The change in C% in nine years was {}%'.format(round(diff,2)))"
   ]
  },
  {
   "cell_type": "code",
   "execution_count": 132,
   "id": "b2722c59",
   "metadata": {},
   "outputs": [
    {
     "name": "stdout",
     "output_type": "stream",
     "text": [
      "The change in C% in nine years was 0.23%\n"
     ]
    }
   ],
   "source": [
    "diff_month = group_by_month['mean'][22] - group_by_month['mean'][0]\n",
    "print('The change in C% in nine years was {}%'.format(round(diff,2)))"
   ]
  },
  {
   "cell_type": "code",
   "execution_count": 133,
   "id": "2a612bb9",
   "metadata": {},
   "outputs": [],
   "source": [
    "files_df.to_csv('dataset_final_date_RR.csv', index = False)"
   ]
  },
  {
   "cell_type": "markdown",
   "id": "82911e35",
   "metadata": {},
   "source": [
    "### Save files by month-year"
   ]
  },
  {
   "cell_type": "code",
   "execution_count": 134,
   "id": "7e88a1d4",
   "metadata": {},
   "outputs": [],
   "source": [
    "for i in range(len(group_by_month)):\n",
    "    files = files_df.loc[files_df['Month-year'] == str(group_by_month['Month-year'][i]).split()[0]]\n",
    "    files.to_csv(\"files_{}.csv\".format(str(group_by_month['Month-year'][i]).split()[0]), index = False)"
   ]
  },
  {
   "cell_type": "markdown",
   "id": "a9c2d6b1",
   "metadata": {},
   "source": [
    "#### Join datasets with bands"
   ]
  },
  {
   "cell_type": "code",
   "execution_count": 224,
   "id": "04db0f43",
   "metadata": {},
   "outputs": [
    {
     "data": {
      "text/plain": [
       "['files_2012_with_RS_2012.csv',\n",
       " 'files_2013-06-01_with_RS_2013-06-04.csv',\n",
       " 'files_2016-07-01_with_RS_2016-08-15.csv',\n",
       " 'files_2018_with_RS_2018.csv',\n",
       " 'files_2019-01-01_with_RS_2019-03-26.csv',\n",
       " 'files_2019-03-01_with_RS_2019-03-26.csv',\n",
       " 'files_2019-06-01_with_RS_2019-03-26.csv',\n",
       " 'files_2019-09-01_with_RS_2019-09-18.csv',\n",
       " 'files_2020-01-01_with_RS_2020-01-15.csv',\n",
       " 'files_2020-09-01_with_RS_2020-09-27.csv',\n",
       " 'files_2020_with_RS_2020.csv',\n",
       " 'files_2021-03-01_with_RS_2021-02-27.csv',\n",
       " 'files_2021-06-01_with_RS_2021-07-21.csv',\n",
       " 'files_2021-08-01_with_RS_2021-07-21.csv',\n",
       " 'files_2021-09-01_with_RS_2021-09-07.csv',\n",
       " 'files_2021-12-01_with_RS_2021-09-07.csv']"
      ]
     },
     "execution_count": 224,
     "metadata": {},
     "output_type": "execute_result"
    }
   ],
   "source": [
    "## To open files from computer\n",
    "f2 = glob.glob('files*RS*csv')\n",
    "f2"
   ]
  },
  {
   "cell_type": "code",
   "execution_count": 229,
   "id": "cd57083b",
   "metadata": {},
   "outputs": [],
   "source": [
    "# Join all the files\n",
    "f2_df = pd.DataFrame(pd.concat([pd.read_csv(f, sep=';') for f in f2], axis = 0))\n",
    "f2_df"
   ]
  },
  {
   "cell_type": "code",
   "execution_count": 233,
   "id": "4f17406e",
   "metadata": {},
   "outputs": [],
   "source": [
    "f2_df.to_csv(\"final_dataRR_with_RS.csv\", index = False)"
   ]
  },
  {
   "cell_type": "code",
   "execution_count": null,
   "id": "b8ea4964",
   "metadata": {},
   "outputs": [],
   "source": [
    "## END"
   ]
  }
 ],
 "metadata": {
  "kernelspec": {
   "display_name": "geo_env",
   "language": "python",
   "name": "geo_env"
  },
  "language_info": {
   "codemirror_mode": {
    "name": "ipython",
    "version": 3
   },
   "file_extension": ".py",
   "mimetype": "text/x-python",
   "name": "python",
   "nbconvert_exporter": "python",
   "pygments_lexer": "ipython3",
   "version": "3.10.5"
  }
 },
 "nbformat": 4,
 "nbformat_minor": 5
}
