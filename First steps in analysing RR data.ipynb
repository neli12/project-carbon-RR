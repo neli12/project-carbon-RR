{
 "cells": [
  {
   "cell_type": "code",
   "execution_count": 388,
   "id": "b0fd0e92",
   "metadata": {},
   "outputs": [],
   "source": [
    "# Import libraries\n",
    "import numpy as np\n",
    "import pandas as pd\n",
    "import seaborn as sns\n",
    "import glob\n",
    "import matplotlib.pyplot as plt\n",
    "pd.set_option('display.max_columns', 100)\n",
    "import sys\n",
    "import warnings\n",
    "if not sys.warnoptions:\n",
    "    warnings.simplefilter(\"ignore\")"
   ]
  },
  {
   "cell_type": "markdown",
   "id": "cd6c7731",
   "metadata": {},
   "source": [
    "### Year 2012"
   ]
  },
  {
   "cell_type": "code",
   "execution_count": 79,
   "id": "fef3dd2a",
   "metadata": {},
   "outputs": [],
   "source": [
    "## Load data\n",
    "field_2012 = pd.read_csv('Field Survey Data_Format 1_Soil Survey_2012-01-01_2012-12-31.csv')"
   ]
  },
  {
   "cell_type": "code",
   "execution_count": null,
   "id": "23838191",
   "metadata": {},
   "outputs": [],
   "source": [
    "# Check columns\n",
    "field_2012.columns.tolist()"
   ]
  },
  {
   "cell_type": "code",
   "execution_count": 89,
   "id": "7a7e3877",
   "metadata": {},
   "outputs": [],
   "source": [
    "# Columns to drop\n",
    "drop_columns_2012 = ['pH Quality Last Modified', 'Bulk density Quality', 'Bulk density Quality Last Modified',\n",
    "               'pH Quality', 'Total-N Quality', 'Total-N Quality Last Modified', 'Total-C Quality', \n",
    "                'Total-C Quality Last Modified', 'delta vs air - 15N', 'delta vs air - 15N Quality',\n",
    "                'delta vs air - 15N Quality Last Modified', 'delta vs PDB - 13C', 'SOM Quality Last Modified',\n",
    "                'delta vs PDB - 13C Quality', 'delta vs PDB - 13C Quality Last Modified', 'comments', 'SOM Quality']"
   ]
  },
  {
   "cell_type": "code",
   "execution_count": 90,
   "id": "6d062b26",
   "metadata": {},
   "outputs": [],
   "source": [
    "# Dictionary with names\n",
    "dict_names_2012 = {'Bulk density (g/cm3)': 'BD_gcm3', 'SOM (% of DM)': 'OM_%w/w', \n",
    "              'Total-N (% of DM)': 'N_total_%w/w', 'Total-C (% of DM)': 'C_total_%w/w'}"
   ]
  },
  {
   "cell_type": "code",
   "execution_count": 91,
   "id": "d6c6f1e1",
   "metadata": {},
   "outputs": [],
   "source": [
    "# Drop columns\n",
    "field_2012.drop(drop_columns_2012, axis = 1 , inplace = True)"
   ]
  },
  {
   "cell_type": "code",
   "execution_count": 92,
   "id": "18acba8c",
   "metadata": {},
   "outputs": [
    {
     "data": {
      "text/html": [
       "<div>\n",
       "<style scoped>\n",
       "    .dataframe tbody tr th:only-of-type {\n",
       "        vertical-align: middle;\n",
       "    }\n",
       "\n",
       "    .dataframe tbody tr th {\n",
       "        vertical-align: top;\n",
       "    }\n",
       "\n",
       "    .dataframe thead th {\n",
       "        text-align: right;\n",
       "    }\n",
       "</style>\n",
       "<table border=\"1\" class=\"dataframe\">\n",
       "  <thead>\n",
       "    <tr style=\"text-align: right;\">\n",
       "      <th></th>\n",
       "      <th>Experiment_Id</th>\n",
       "      <th>SP_ID</th>\n",
       "      <th>sample_distance (m)</th>\n",
       "      <th>Field</th>\n",
       "      <th>Flume</th>\n",
       "      <th>Sample_date</th>\n",
       "      <th>Sample_time</th>\n",
       "      <th>Start_Sample_Date</th>\n",
       "      <th>GPS_Sample_Nr</th>\n",
       "      <th>Easting</th>\n",
       "      <th>Northing</th>\n",
       "      <th>pH</th>\n",
       "      <th>Bulk density (g/cm3)</th>\n",
       "      <th>SOM (% of DM)</th>\n",
       "      <th>Total-N (% of DM)</th>\n",
       "      <th>Total-C (% of DM)</th>\n",
       "    </tr>\n",
       "  </thead>\n",
       "  <tbody>\n",
       "    <tr>\n",
       "      <th>0</th>\n",
       "      <td>FP003</td>\n",
       "      <td>1</td>\n",
       "      <td>50</td>\n",
       "      <td>Pecketsford</td>\n",
       "      <td>1</td>\n",
       "      <td>2012-06-06</td>\n",
       "      <td>12:00:00</td>\n",
       "      <td>01/06/2012</td>\n",
       "      <td>NaN</td>\n",
       "      <td>265632</td>\n",
       "      <td>99300</td>\n",
       "      <td>5.18</td>\n",
       "      <td>0.916</td>\n",
       "      <td>10.1</td>\n",
       "      <td>0.51</td>\n",
       "      <td>4.742</td>\n",
       "    </tr>\n",
       "    <tr>\n",
       "      <th>1</th>\n",
       "      <td>FP003</td>\n",
       "      <td>2</td>\n",
       "      <td>50</td>\n",
       "      <td>Pecketsford</td>\n",
       "      <td>1</td>\n",
       "      <td>2012-06-06</td>\n",
       "      <td>12:00:00</td>\n",
       "      <td>01/06/2012</td>\n",
       "      <td>NaN</td>\n",
       "      <td>265625</td>\n",
       "      <td>99275</td>\n",
       "      <td>5.23</td>\n",
       "      <td>0.943</td>\n",
       "      <td>10.4</td>\n",
       "      <td>0.55</td>\n",
       "      <td>4.980</td>\n",
       "    </tr>\n",
       "    <tr>\n",
       "      <th>2</th>\n",
       "      <td>FP003</td>\n",
       "      <td>7</td>\n",
       "      <td>50</td>\n",
       "      <td>Pecketsford</td>\n",
       "      <td>1</td>\n",
       "      <td>2012-06-06</td>\n",
       "      <td>12:00:00</td>\n",
       "      <td>01/06/2012</td>\n",
       "      <td>NaN</td>\n",
       "      <td>265575</td>\n",
       "      <td>99225</td>\n",
       "      <td>5.54</td>\n",
       "      <td>0.948</td>\n",
       "      <td>11.8</td>\n",
       "      <td>0.64</td>\n",
       "      <td>5.610</td>\n",
       "    </tr>\n",
       "    <tr>\n",
       "      <th>3</th>\n",
       "      <td>FP003</td>\n",
       "      <td>9</td>\n",
       "      <td>50</td>\n",
       "      <td>Pecketsford</td>\n",
       "      <td>1</td>\n",
       "      <td>2012-06-06</td>\n",
       "      <td>12:00:00</td>\n",
       "      <td>01/06/2012</td>\n",
       "      <td>NaN</td>\n",
       "      <td>265625</td>\n",
       "      <td>99225</td>\n",
       "      <td>5.12</td>\n",
       "      <td>0.857</td>\n",
       "      <td>10.9</td>\n",
       "      <td>0.54</td>\n",
       "      <td>4.510</td>\n",
       "    </tr>\n",
       "    <tr>\n",
       "      <th>4</th>\n",
       "      <td>FP003</td>\n",
       "      <td>17</td>\n",
       "      <td>50</td>\n",
       "      <td>Pecketsford</td>\n",
       "      <td>1</td>\n",
       "      <td>2012-06-06</td>\n",
       "      <td>12:00:00</td>\n",
       "      <td>01/06/2012</td>\n",
       "      <td>NaN</td>\n",
       "      <td>265575</td>\n",
       "      <td>99175</td>\n",
       "      <td>5.68</td>\n",
       "      <td>0.946</td>\n",
       "      <td>11.5</td>\n",
       "      <td>0.59</td>\n",
       "      <td>5.340</td>\n",
       "    </tr>\n",
       "  </tbody>\n",
       "</table>\n",
       "</div>"
      ],
      "text/plain": [
       "  Experiment_Id  SP_ID  sample_distance (m)        Field Flume Sample_date  \\\n",
       "0         FP003      1                   50  Pecketsford     1  2012-06-06   \n",
       "1         FP003      2                   50  Pecketsford     1  2012-06-06   \n",
       "2         FP003      7                   50  Pecketsford     1  2012-06-06   \n",
       "3         FP003      9                   50  Pecketsford     1  2012-06-06   \n",
       "4         FP003     17                   50  Pecketsford     1  2012-06-06   \n",
       "\n",
       "  Sample_time Start_Sample_Date  GPS_Sample_Nr  Easting  Northing    pH  \\\n",
       "0    12:00:00        01/06/2012            NaN   265632     99300  5.18   \n",
       "1    12:00:00        01/06/2012            NaN   265625     99275  5.23   \n",
       "2    12:00:00        01/06/2012            NaN   265575     99225  5.54   \n",
       "3    12:00:00        01/06/2012            NaN   265625     99225  5.12   \n",
       "4    12:00:00        01/06/2012            NaN   265575     99175  5.68   \n",
       "\n",
       "   Bulk density (g/cm3)  SOM (% of DM)  Total-N (% of DM)  Total-C (% of DM)  \n",
       "0                 0.916           10.1               0.51              4.742  \n",
       "1                 0.943           10.4               0.55              4.980  \n",
       "2                 0.948           11.8               0.64              5.610  \n",
       "3                 0.857           10.9               0.54              4.510  \n",
       "4                 0.946           11.5               0.59              5.340  "
      ]
     },
     "execution_count": 92,
     "metadata": {},
     "output_type": "execute_result"
    }
   ],
   "source": [
    "# Aglimpse on the data\n",
    "field_2012.head()"
   ]
  },
  {
   "cell_type": "code",
   "execution_count": 93,
   "id": "55f1d59c",
   "metadata": {},
   "outputs": [],
   "source": [
    "# Rename columns\n",
    "field_2012.rename(columns = dict_names_2012, inplace = True)"
   ]
  },
  {
   "cell_type": "code",
   "execution_count": 98,
   "id": "d07caa6e",
   "metadata": {},
   "outputs": [
    {
     "name": "stdout",
     "output_type": "stream",
     "text": [
      "<class 'pandas.core.frame.DataFrame'>\n",
      "RangeIndex: 264 entries, 0 to 263\n",
      "Data columns (total 16 columns):\n",
      " #   Column               Non-Null Count  Dtype         \n",
      "---  ------               --------------  -----         \n",
      " 0   Experiment_Id        264 non-null    object        \n",
      " 1   SP_ID                264 non-null    int64         \n",
      " 2   sample_distance (m)  264 non-null    int64         \n",
      " 3   Field                264 non-null    object        \n",
      " 4   Flume                264 non-null    object        \n",
      " 5   Sample_date          264 non-null    datetime64[ns]\n",
      " 6   Sample_time          264 non-null    object        \n",
      " 7   Start_Sample_Date    264 non-null    object        \n",
      " 8   GPS_Sample_Nr        0 non-null      float64       \n",
      " 9   Easting              264 non-null    int64         \n",
      " 10  Northing             264 non-null    int64         \n",
      " 11  pH                   264 non-null    float64       \n",
      " 12  BD_gcm3              264 non-null    float64       \n",
      " 13  OM_%w/w              264 non-null    float64       \n",
      " 14  N_total_%w/w         263 non-null    float64       \n",
      " 15  C_total_%w/w         263 non-null    float64       \n",
      "dtypes: datetime64[ns](1), float64(6), int64(4), object(5)\n",
      "memory usage: 33.1+ KB\n"
     ]
    }
   ],
   "source": [
    "# Info\n",
    "field_2012.info()"
   ]
  },
  {
   "cell_type": "code",
   "execution_count": 86,
   "id": "0487e4e5",
   "metadata": {},
   "outputs": [],
   "source": [
    "# Convert object to datetime\n",
    "field_2012['Sample_date'] = pd.to_datetime(field_2012['Sample_date'], format = 'YYYY-MM-dd')"
   ]
  },
  {
   "cell_type": "code",
   "execution_count": 363,
   "id": "63374730",
   "metadata": {},
   "outputs": [
    {
     "data": {
      "image/png": "[encoded data removed]",
      "text/plain": [
       "<Figure size 432x288 with 1 Axes>"
      ]
     },
     "metadata": {
      "needs_background": "light"
     },
     "output_type": "display_data"
    }
   ],
   "source": [
    "# Plot C% distribution\n",
    "field_2012['OM_%w/w'].plot(kind = 'hist', ec = 'black')\n",
    "plt.title('Average C% distribution for year 2012')\n",
    "plt.xlabel('C%')\n",
    "plt.ylabel('Frequency')\n",
    "plt.show()"
   ]
  },
  {
   "cell_type": "code",
   "execution_count": 365,
   "id": "caadaf2f",
   "metadata": {},
   "outputs": [
    {
     "data": {
      "image/png": "[encoded data removed]",
      "text/plain": [
       "<Figure size 432x288 with 1 Axes>"
      ]
     },
     "metadata": {
      "needs_background": "light"
     },
     "output_type": "display_data"
    }
   ],
   "source": [
    "# Plot samples per date\n",
    "plt.plot(field_2012['Sample_date'], field_2012['OM_%w/w'], 'o', color = 'red', markersize=5)\n",
    "plt.xlabel('Date')\n",
    "plt.ylabel('C%')\n",
    "plt.show()"
   ]
  },
  {
   "cell_type": "markdown",
   "id": "aef34258",
   "metadata": {},
   "source": [
    "### Year 2013"
   ]
  },
  {
   "cell_type": "code",
   "execution_count": 105,
   "id": "6b8c89f6",
   "metadata": {},
   "outputs": [],
   "source": [
    "## Load data\n",
    "field_2013 = pd.read_csv('Field Survey Data_Format 1_Soil Survey_2013-01-01_2013-12-31.csv')"
   ]
  },
  {
   "cell_type": "code",
   "execution_count": null,
   "id": "1f3f99ef",
   "metadata": {},
   "outputs": [],
   "source": [
    "# Check columns\n",
    "field_2013.columns.tolist()"
   ]
  },
  {
   "cell_type": "code",
   "execution_count": 107,
   "id": "5497a37e",
   "metadata": {},
   "outputs": [],
   "source": [
    "# Columns to drop\n",
    "drop_columns_2013 = ['comments','pH Quality', 'pH Quality Last Modified', 'SOM Quality', 'SOM Quality Last Modified', \n",
    "                     'Total-N Quality', 'Total-N Quality Last Modified', 'Total-C Quality', 'Total-C Quality Last Modified']"
   ]
  },
  {
   "cell_type": "code",
   "execution_count": 108,
   "id": "9d4ac09a",
   "metadata": {},
   "outputs": [],
   "source": [
    "\n",
    "dict_names_2013 = {'SOM (% of DM)': 'OM_%w/w', \n",
    "                   'Total-N (% of DM)': 'N_total_%w/w', 'Total-C (% of DM)': 'C_total_%w/w'}"
   ]
  },
  {
   "cell_type": "code",
   "execution_count": 109,
   "id": "20f336b9",
   "metadata": {},
   "outputs": [],
   "source": [
    "field_2013.drop(drop_columns_2013, axis = 1 , inplace = True)"
   ]
  },
  {
   "cell_type": "code",
   "execution_count": 110,
   "id": "18c73792",
   "metadata": {},
   "outputs": [],
   "source": [
    "field_2013.rename(columns = dict_names_2013, inplace = True)"
   ]
  },
  {
   "cell_type": "code",
   "execution_count": 131,
   "id": "f5e58bc0",
   "metadata": {},
   "outputs": [
    {
     "name": "stdout",
     "output_type": "stream",
     "text": [
      "<class 'pandas.core.frame.DataFrame'>\n",
      "RangeIndex: 423 entries, 0 to 422\n",
      "Data columns (total 15 columns):\n",
      " #   Column               Non-Null Count  Dtype         \n",
      "---  ------               --------------  -----         \n",
      " 0   Experiment_Id        423 non-null    object        \n",
      " 1   SP_ID                423 non-null    int64         \n",
      " 2   sample_distance (m)  423 non-null    int64         \n",
      " 3   Field                423 non-null    object        \n",
      " 4   Flume                423 non-null    int64         \n",
      " 5   Sample_date          423 non-null    datetime64[ns]\n",
      " 6   Sample_time          423 non-null    object        \n",
      " 7   Start_Sample_Date    0 non-null      float64       \n",
      " 8   GPS_Sample_Nr        0 non-null      float64       \n",
      " 9   Easting              423 non-null    int64         \n",
      " 10  Northing             423 non-null    int64         \n",
      " 11  pH                   423 non-null    float64       \n",
      " 12  OM_%w/w              89 non-null     float64       \n",
      " 13  N_total_%w/w         89 non-null     float64       \n",
      " 14  C_total_%w/w         89 non-null     float64       \n",
      "dtypes: datetime64[ns](1), float64(6), int64(5), object(3)\n",
      "memory usage: 49.7+ KB\n"
     ]
    }
   ],
   "source": [
    "field_2013.info()"
   ]
  },
  {
   "cell_type": "code",
   "execution_count": 133,
   "id": "a9e5c2f0",
   "metadata": {},
   "outputs": [
    {
     "data": {
      "image/png": "[encoded data removed]",
      "text/plain": [
       "<Figure size 432x288 with 1 Axes>"
      ]
     },
     "metadata": {
      "needs_background": "light"
     },
     "output_type": "display_data"
    }
   ],
   "source": [
    "field_2013['OM_%w/w'].plot(kind = 'hist', ec = 'black')\n",
    "plt.show()"
   ]
  },
  {
   "cell_type": "code",
   "execution_count": 129,
   "id": "637e1554",
   "metadata": {},
   "outputs": [],
   "source": [
    "field_2013['Sample_date'] = pd.to_datetime(field_2013['Sample_date'], format = 'YYYY-MM-dd')"
   ]
  },
  {
   "cell_type": "code",
   "execution_count": 134,
   "id": "7e4c576b",
   "metadata": {},
   "outputs": [
    {
     "data": {
      "image/png": "[encoded data removed]",
      "text/plain": [
       "<Figure size 432x288 with 1 Axes>"
      ]
     },
     "metadata": {
      "needs_background": "light"
     },
     "output_type": "display_data"
    }
   ],
   "source": [
    "plt.plot(field_2013['Sample_date'], field_2013['OM_%w/w'], 'o', color = 'red', markersize=5)\n",
    "plt.show()"
   ]
  },
  {
   "cell_type": "markdown",
   "id": "cffd57f9",
   "metadata": {},
   "source": [
    "### Year 2016"
   ]
  },
  {
   "cell_type": "code",
   "execution_count": 135,
   "id": "c25d12d5",
   "metadata": {},
   "outputs": [],
   "source": [
    "## Load data\n",
    "field_2016 = pd.read_csv('Field Survey Data_Format 1_Soil Survey_2016-01-01_2016-12-31.csv')"
   ]
  },
  {
   "cell_type": "code",
   "execution_count": null,
   "id": "efeb766e",
   "metadata": {},
   "outputs": [],
   "source": [
    "# Check columns\n",
    "field_2016.columns"
   ]
  },
  {
   "cell_type": "code",
   "execution_count": 141,
   "id": "e5cac6b5",
   "metadata": {},
   "outputs": [],
   "source": [
    "# Columns to keep\n",
    "columns_to_keep = ['Experiment_Id','SP_ID','sample_distance (m)','Field','Flume','Sample_date','Sample_time', \n",
    "                   'Start_Sample_Date', 'Easting','Northing','pH','Bulk density (g/cm3)',\n",
    "                   'SOM (% of DM)', 'Total-N (% of DM)', 'Total-C (% of DM)']"
   ]
  },
  {
   "cell_type": "code",
   "execution_count": 142,
   "id": "41b20d36",
   "metadata": {},
   "outputs": [],
   "source": [
    "# Drop other columns\n",
    "field_2016 = field_2016[columns_to_keep]"
   ]
  },
  {
   "cell_type": "code",
   "execution_count": 366,
   "id": "71862c3c",
   "metadata": {},
   "outputs": [
    {
     "data": {
      "text/html": [
       "<div>\n",
       "<style scoped>\n",
       "    .dataframe tbody tr th:only-of-type {\n",
       "        vertical-align: middle;\n",
       "    }\n",
       "\n",
       "    .dataframe tbody tr th {\n",
       "        vertical-align: top;\n",
       "    }\n",
       "\n",
       "    .dataframe thead th {\n",
       "        text-align: right;\n",
       "    }\n",
       "</style>\n",
       "<table border=\"1\" class=\"dataframe\">\n",
       "  <thead>\n",
       "    <tr style=\"text-align: right;\">\n",
       "      <th></th>\n",
       "      <th>Experiment_Id</th>\n",
       "      <th>SP_ID</th>\n",
       "      <th>sample_distance (m)</th>\n",
       "      <th>Field</th>\n",
       "      <th>Flume</th>\n",
       "      <th>Sample_date</th>\n",
       "      <th>Sample_time</th>\n",
       "      <th>Start_Sample_Date</th>\n",
       "      <th>Easting</th>\n",
       "      <th>Northing</th>\n",
       "      <th>pH</th>\n",
       "      <th>BD_gcm3</th>\n",
       "      <th>OM_%w/w</th>\n",
       "      <th>N_total_%w/w</th>\n",
       "      <th>C_total_%w/w</th>\n",
       "    </tr>\n",
       "  </thead>\n",
       "  <tbody>\n",
       "    <tr>\n",
       "      <th>0</th>\n",
       "      <td>FP059</td>\n",
       "      <td>1</td>\n",
       "      <td>50</td>\n",
       "      <td>Pecketsford</td>\n",
       "      <td>1</td>\n",
       "      <td>2016-07-14</td>\n",
       "      <td>16:24:00</td>\n",
       "      <td>NaN</td>\n",
       "      <td>265631.6521</td>\n",
       "      <td>99300.30838</td>\n",
       "      <td>5.60</td>\n",
       "      <td>0.56</td>\n",
       "      <td>12.9</td>\n",
       "      <td>0.525</td>\n",
       "      <td>5.390</td>\n",
       "    </tr>\n",
       "    <tr>\n",
       "      <th>1</th>\n",
       "      <td>FP059</td>\n",
       "      <td>2</td>\n",
       "      <td>50</td>\n",
       "      <td>Pecketsford</td>\n",
       "      <td>1</td>\n",
       "      <td>2016-07-14</td>\n",
       "      <td>16:20:00</td>\n",
       "      <td>NaN</td>\n",
       "      <td>265625.0000</td>\n",
       "      <td>99275.00000</td>\n",
       "      <td>5.41</td>\n",
       "      <td>0.70</td>\n",
       "      <td>10.6</td>\n",
       "      <td>0.446</td>\n",
       "      <td>4.280</td>\n",
       "    </tr>\n",
       "    <tr>\n",
       "      <th>2</th>\n",
       "      <td>FP059</td>\n",
       "      <td>7</td>\n",
       "      <td>50</td>\n",
       "      <td>Pecketsford</td>\n",
       "      <td>1</td>\n",
       "      <td>2016-07-14</td>\n",
       "      <td>16:09:00</td>\n",
       "      <td>NaN</td>\n",
       "      <td>265575.0000</td>\n",
       "      <td>99225.00000</td>\n",
       "      <td>5.49</td>\n",
       "      <td>1.06</td>\n",
       "      <td>9.7</td>\n",
       "      <td>0.404</td>\n",
       "      <td>3.667</td>\n",
       "    </tr>\n",
       "    <tr>\n",
       "      <th>3</th>\n",
       "      <td>FP059</td>\n",
       "      <td>9</td>\n",
       "      <td>50</td>\n",
       "      <td>Pecketsford</td>\n",
       "      <td>1</td>\n",
       "      <td>2016-07-14</td>\n",
       "      <td>16:15:00</td>\n",
       "      <td>NaN</td>\n",
       "      <td>265625.0000</td>\n",
       "      <td>99225.00000</td>\n",
       "      <td>5.28</td>\n",
       "      <td>1.05</td>\n",
       "      <td>10.2</td>\n",
       "      <td>0.424</td>\n",
       "      <td>4.100</td>\n",
       "    </tr>\n",
       "    <tr>\n",
       "      <th>4</th>\n",
       "      <td>FP059</td>\n",
       "      <td>17</td>\n",
       "      <td>50</td>\n",
       "      <td>Pecketsford</td>\n",
       "      <td>1</td>\n",
       "      <td>2016-07-14</td>\n",
       "      <td>16:04:00</td>\n",
       "      <td>NaN</td>\n",
       "      <td>265575.0000</td>\n",
       "      <td>99175.00000</td>\n",
       "      <td>5.51</td>\n",
       "      <td>1.05</td>\n",
       "      <td>10.0</td>\n",
       "      <td>0.403</td>\n",
       "      <td>3.885</td>\n",
       "    </tr>\n",
       "  </tbody>\n",
       "</table>\n",
       "</div>"
      ],
      "text/plain": [
       "  Experiment_Id  SP_ID  sample_distance (m)        Field Flume Sample_date  \\\n",
       "0         FP059      1                   50  Pecketsford     1  2016-07-14   \n",
       "1         FP059      2                   50  Pecketsford     1  2016-07-14   \n",
       "2         FP059      7                   50  Pecketsford     1  2016-07-14   \n",
       "3         FP059      9                   50  Pecketsford     1  2016-07-14   \n",
       "4         FP059     17                   50  Pecketsford     1  2016-07-14   \n",
       "\n",
       "  Sample_time  Start_Sample_Date      Easting     Northing    pH  BD_gcm3  \\\n",
       "0    16:24:00                NaN  265631.6521  99300.30838  5.60     0.56   \n",
       "1    16:20:00                NaN  265625.0000  99275.00000  5.41     0.70   \n",
       "2    16:09:00                NaN  265575.0000  99225.00000  5.49     1.06   \n",
       "3    16:15:00                NaN  265625.0000  99225.00000  5.28     1.05   \n",
       "4    16:04:00                NaN  265575.0000  99175.00000  5.51     1.05   \n",
       "\n",
       "   OM_%w/w  N_total_%w/w  C_total_%w/w  \n",
       "0     12.9         0.525         5.390  \n",
       "1     10.6         0.446         4.280  \n",
       "2      9.7         0.404         3.667  \n",
       "3     10.2         0.424         4.100  \n",
       "4     10.0         0.403         3.885  "
      ]
     },
     "execution_count": 366,
     "metadata": {},
     "output_type": "execute_result"
    }
   ],
   "source": [
    "# A glimpse on the data\n",
    "field_2016.head()"
   ]
  },
  {
   "cell_type": "code",
   "execution_count": 147,
   "id": "b626cd06",
   "metadata": {},
   "outputs": [],
   "source": [
    "# Dictionary with names\n",
    "dict_names_2016 = {'Bulk density (g/cm3)':'BD_gcm3', 'SOM (% of DM)': 'OM_%w/w', \n",
    "                   'Total-N (% of DM)': 'N_total_%w/w', 'Total-C (% of DM)': 'C_total_%w/w'}"
   ]
  },
  {
   "cell_type": "code",
   "execution_count": null,
   "id": "c17d5388",
   "metadata": {},
   "outputs": [],
   "source": [
    "# Rename columns\n",
    "field_2016.rename(columns = dict_names_2016, inplace = True)"
   ]
  },
  {
   "cell_type": "code",
   "execution_count": 161,
   "id": "3917a22e",
   "metadata": {},
   "outputs": [
    {
     "name": "stdout",
     "output_type": "stream",
     "text": [
      "<class 'pandas.core.frame.DataFrame'>\n",
      "RangeIndex: 396 entries, 0 to 395\n",
      "Data columns (total 15 columns):\n",
      " #   Column               Non-Null Count  Dtype  \n",
      "---  ------               --------------  -----  \n",
      " 0   Experiment_Id        396 non-null    object \n",
      " 1   SP_ID                396 non-null    int64  \n",
      " 2   sample_distance (m)  396 non-null    int64  \n",
      " 3   Field                396 non-null    object \n",
      " 4   Flume                396 non-null    object \n",
      " 5   Sample_date          396 non-null    object \n",
      " 6   Sample_time          396 non-null    object \n",
      " 7   Start_Sample_Date    0 non-null      float64\n",
      " 8   Easting              396 non-null    float64\n",
      " 9   Northing             396 non-null    float64\n",
      " 10  pH                   347 non-null    float64\n",
      " 11  BD_gcm3              392 non-null    float64\n",
      " 12  OM_%w/w              348 non-null    float64\n",
      " 13  N_total_%w/w         348 non-null    float64\n",
      " 14  C_total_%w/w         348 non-null    float64\n",
      "dtypes: float64(8), int64(2), object(5)\n",
      "memory usage: 46.5+ KB\n"
     ]
    }
   ],
   "source": [
    "# Info\n",
    "field_2016.info()"
   ]
  },
  {
   "cell_type": "code",
   "execution_count": null,
   "id": "81a34e51",
   "metadata": {},
   "outputs": [],
   "source": [
    "# Convert object to datetime\n",
    "field_2016['Sample_date'] = pd.to_datetime(field_2016['Sample_date'])"
   ]
  },
  {
   "cell_type": "code",
   "execution_count": 168,
   "id": "34769c54",
   "metadata": {},
   "outputs": [
    {
     "data": {
      "image/png": "[encoded data removed]",
      "text/plain": [
       "<Figure size 432x288 with 1 Axes>"
      ]
     },
     "metadata": {
      "needs_background": "light"
     },
     "output_type": "display_data"
    }
   ],
   "source": [
    "# Plot C% distribution\n",
    "field_2016['OM_%w/w'].plot(kind = 'hist', ec = 'black')\n",
    "plt.show()"
   ]
  },
  {
   "cell_type": "code",
   "execution_count": 169,
   "id": "f9fffe9b",
   "metadata": {},
   "outputs": [
    {
     "data": {
      "image/png": "[encoded data removed]",
      "text/plain": [
       "<Figure size 432x288 with 1 Axes>"
      ]
     },
     "metadata": {
      "needs_background": "light"
     },
     "output_type": "display_data"
    }
   ],
   "source": [
    "# Plot C% by date\n",
    "plt.plot(field_2016['Sample_date'], field_2016['OM_%w/w'], 'o', color = 'red', markersize=5)\n",
    "plt.show()"
   ]
  },
  {
   "cell_type": "markdown",
   "id": "0c2ac322",
   "metadata": {},
   "source": [
    "### Year 2018"
   ]
  },
  {
   "cell_type": "code",
   "execution_count": 170,
   "id": "001f88a7",
   "metadata": {},
   "outputs": [],
   "source": [
    "## Load data\n",
    "field_2018 = pd.read_csv('Field Survey Data_Format 1_Soil Survey_2018-01-01_2018-12-31.csv')"
   ]
  },
  {
   "cell_type": "code",
   "execution_count": null,
   "id": "2dc5e3c0",
   "metadata": {},
   "outputs": [],
   "source": [
    "# Check columns\n",
    "field_2018.columns"
   ]
  },
  {
   "cell_type": "code",
   "execution_count": 172,
   "id": "0e9b6d3a",
   "metadata": {},
   "outputs": [],
   "source": [
    "# Columns to keep\n",
    "columns_to_keep2018 = ['Experiment_Id', 'SP_ID', 'sample_distance (m)', 'Field', 'Flume', 'Sample_date', 'Sample_time', 'Start_Sample_Date',\n",
    "                       'Easting', 'Northing', 'pH','Conductivity (uS/cm)', 'Organic matter LOI (%w/w)', 'Total N (%w/w) Soil',\n",
    "                      'Total C (%w/w) Soil']"
   ]
  },
  {
   "cell_type": "code",
   "execution_count": 173,
   "id": "88c9430d",
   "metadata": {},
   "outputs": [],
   "source": [
    "# Keep the columns\n",
    "field_2018 = field_2018[columns_to_keep2018]"
   ]
  },
  {
   "cell_type": "code",
   "execution_count": 179,
   "id": "62c12081",
   "metadata": {},
   "outputs": [],
   "source": [
    "# Dictionary with column names\n",
    "dict_names_2018 = {'Conductivity (uS/cm)':'conductivity_uScm', 'Organic matter LOI (%w/w)': 'OM_%w/w', \n",
    "                   'Total N (%w/w) Soil': 'N_total_%w/w', 'Total C (%w/w) Soil': 'C_total_%w/w'}"
   ]
  },
  {
   "cell_type": "code",
   "execution_count": 182,
   "id": "d1ba0832",
   "metadata": {},
   "outputs": [],
   "source": [
    "# Rename columns\n",
    "field_2018.rename(columns = dict_names_2018 , inplace = True)"
   ]
  },
  {
   "cell_type": "code",
   "execution_count": 184,
   "id": "6ad4cd96",
   "metadata": {},
   "outputs": [
    {
     "name": "stdout",
     "output_type": "stream",
     "text": [
      "<class 'pandas.core.frame.DataFrame'>\n",
      "RangeIndex: 294 entries, 0 to 293\n",
      "Data columns (total 15 columns):\n",
      " #   Column               Non-Null Count  Dtype  \n",
      "---  ------               --------------  -----  \n",
      " 0   Experiment_Id        294 non-null    object \n",
      " 1   SP_ID                294 non-null    int64  \n",
      " 2   sample_distance (m)  0 non-null      float64\n",
      " 3   Field                294 non-null    object \n",
      " 4   Flume                294 non-null    int64  \n",
      " 5   Sample_date          294 non-null    object \n",
      " 6   Sample_time          294 non-null    object \n",
      " 7   Start_Sample_Date    0 non-null      float64\n",
      " 8   Easting              294 non-null    float64\n",
      " 9   Northing             294 non-null    float64\n",
      " 10  pH                   84 non-null     float64\n",
      " 11  conductivity_uScm    80 non-null     float64\n",
      " 12  OM_%w/w              84 non-null     float64\n",
      " 13  N_total_%w/w         84 non-null     float64\n",
      " 14  C_total_%w/w         84 non-null     float64\n",
      "dtypes: float64(9), int64(2), object(4)\n",
      "memory usage: 34.6+ KB\n"
     ]
    }
   ],
   "source": [
    "# Info\n",
    "field_2018.info()"
   ]
  },
  {
   "cell_type": "code",
   "execution_count": null,
   "id": "d45861c9",
   "metadata": {},
   "outputs": [],
   "source": [
    "# Convert object to datetime\n",
    "field_2018['Sample_date'] = pd.to_datetime(field_2018['Sample_date'])"
   ]
  },
  {
   "cell_type": "code",
   "execution_count": 186,
   "id": "5ee4d8c4",
   "metadata": {},
   "outputs": [
    {
     "data": {
      "image/png": "[encoded data removed]",
      "text/plain": [
       "<Figure size 432x288 with 1 Axes>"
      ]
     },
     "metadata": {
      "needs_background": "light"
     },
     "output_type": "display_data"
    }
   ],
   "source": [
    "# Plot C% distribution\n",
    "field_2018['OM_%w/w'].plot(kind = 'hist', ec = 'black')\n",
    "plt.show()"
   ]
  },
  {
   "cell_type": "code",
   "execution_count": 214,
   "id": "ee48ac22",
   "metadata": {},
   "outputs": [
    {
     "data": {
      "image/png": "[encoded data removed]",
      "text/plain": [
       "<Figure size 432x288 with 1 Axes>"
      ]
     },
     "metadata": {
      "needs_background": "light"
     },
     "output_type": "display_data"
    }
   ],
   "source": [
    "# Plot C% by date\n",
    "plt.plot(field_2018['OM_%w/w'], field_2018['Sample_date'], 'o', color = 'red', markersize=5)\n",
    "plt.show()"
   ]
  },
  {
   "cell_type": "markdown",
   "id": "e73e4963",
   "metadata": {},
   "source": [
    "### Year 2019"
   ]
  },
  {
   "cell_type": "code",
   "execution_count": 188,
   "id": "2c723591",
   "metadata": {},
   "outputs": [],
   "source": [
    "## Load data\n",
    "field_2019 = pd.read_csv('Field Survey Data_Format 1_Soil Survey_2019-01-01_2019-12-31.csv')"
   ]
  },
  {
   "cell_type": "code",
   "execution_count": null,
   "id": "a9038b09",
   "metadata": {},
   "outputs": [],
   "source": [
    "# Check columns\n",
    "field_2019.columns.tolist()"
   ]
  },
  {
   "cell_type": "code",
   "execution_count": 190,
   "id": "a34b9cfb",
   "metadata": {},
   "outputs": [],
   "source": [
    "# Columns to keep\n",
    "columns_to_keep2019 = ['Experiment_Id', 'SP_ID', 'sample_distance (m)', 'Field', 'Flume', 'Sample_date', 'Sample_time', 'Start_Sample_Date',\n",
    "                       'Easting', 'Northing', 'pH','Conductivity (uS/cm)', 'Organic matter LOI (%w/w)', 'Total N (%w/w) Soil',\n",
    "                      'Total C (%w/w) Soil', 'KSAT_10 (cm/d)', 'KSAT_20 (cm/d)', 'KSAT_30 (cm/d)']"
   ]
  },
  {
   "cell_type": "code",
   "execution_count": 191,
   "id": "5a7736cf",
   "metadata": {},
   "outputs": [],
   "source": [
    "# Remobe other columns\n",
    "field_2019 = field_2019[columns_to_keep2019]"
   ]
  },
  {
   "cell_type": "code",
   "execution_count": 367,
   "id": "0a9d88c7",
   "metadata": {},
   "outputs": [
    {
     "data": {
      "text/html": [
       "<div>\n",
       "<style scoped>\n",
       "    .dataframe tbody tr th:only-of-type {\n",
       "        vertical-align: middle;\n",
       "    }\n",
       "\n",
       "    .dataframe tbody tr th {\n",
       "        vertical-align: top;\n",
       "    }\n",
       "\n",
       "    .dataframe thead th {\n",
       "        text-align: right;\n",
       "    }\n",
       "</style>\n",
       "<table border=\"1\" class=\"dataframe\">\n",
       "  <thead>\n",
       "    <tr style=\"text-align: right;\">\n",
       "      <th></th>\n",
       "      <th>Experiment_Id</th>\n",
       "      <th>SP_ID</th>\n",
       "      <th>sample_distance (m)</th>\n",
       "      <th>Field</th>\n",
       "      <th>Flume</th>\n",
       "      <th>Sample_date</th>\n",
       "      <th>Sample_time</th>\n",
       "      <th>Start_Sample_Date</th>\n",
       "      <th>Easting</th>\n",
       "      <th>Northing</th>\n",
       "      <th>pH</th>\n",
       "      <th>conductivity_uScm</th>\n",
       "      <th>OM_%w/w</th>\n",
       "      <th>N_total_%w/w</th>\n",
       "      <th>C_total_%w/w</th>\n",
       "      <th>KSAT_10_cm/d</th>\n",
       "      <th>KSAT_20_cm/d</th>\n",
       "      <th>KSAT_30_cm/d</th>\n",
       "    </tr>\n",
       "  </thead>\n",
       "  <tbody>\n",
       "    <tr>\n",
       "      <th>0</th>\n",
       "      <td>NW702-SP</td>\n",
       "      <td>19</td>\n",
       "      <td>NaN</td>\n",
       "      <td>Pecketsford</td>\n",
       "      <td>1</td>\n",
       "      <td>2019-03-18</td>\n",
       "      <td>12:01:00</td>\n",
       "      <td>NaN</td>\n",
       "      <td>265650.7</td>\n",
       "      <td>99239.591</td>\n",
       "      <td>NaN</td>\n",
       "      <td>NaN</td>\n",
       "      <td>NaN</td>\n",
       "      <td>NaN</td>\n",
       "      <td>NaN</td>\n",
       "      <td>NaN</td>\n",
       "      <td>NaN</td>\n",
       "      <td>NaN</td>\n",
       "    </tr>\n",
       "    <tr>\n",
       "      <th>1</th>\n",
       "      <td>NW702-SP</td>\n",
       "      <td>19</td>\n",
       "      <td>NaN</td>\n",
       "      <td>Pecketsford</td>\n",
       "      <td>1</td>\n",
       "      <td>2019-03-18</td>\n",
       "      <td>12:02:00</td>\n",
       "      <td>NaN</td>\n",
       "      <td>265576.3</td>\n",
       "      <td>99180.488</td>\n",
       "      <td>NaN</td>\n",
       "      <td>NaN</td>\n",
       "      <td>NaN</td>\n",
       "      <td>NaN</td>\n",
       "      <td>NaN</td>\n",
       "      <td>NaN</td>\n",
       "      <td>NaN</td>\n",
       "      <td>NaN</td>\n",
       "    </tr>\n",
       "    <tr>\n",
       "      <th>2</th>\n",
       "      <td>NW702-SP</td>\n",
       "      <td>19</td>\n",
       "      <td>NaN</td>\n",
       "      <td>Pecketsford</td>\n",
       "      <td>1</td>\n",
       "      <td>2019-03-18</td>\n",
       "      <td>12:03:00</td>\n",
       "      <td>NaN</td>\n",
       "      <td>265572.8</td>\n",
       "      <td>99122.300</td>\n",
       "      <td>NaN</td>\n",
       "      <td>NaN</td>\n",
       "      <td>NaN</td>\n",
       "      <td>NaN</td>\n",
       "      <td>NaN</td>\n",
       "      <td>NaN</td>\n",
       "      <td>NaN</td>\n",
       "      <td>NaN</td>\n",
       "    </tr>\n",
       "    <tr>\n",
       "      <th>3</th>\n",
       "      <td>NW702-SP</td>\n",
       "      <td>19</td>\n",
       "      <td>NaN</td>\n",
       "      <td>Pecketsford</td>\n",
       "      <td>1</td>\n",
       "      <td>2019-03-18</td>\n",
       "      <td>12:04:00</td>\n",
       "      <td>NaN</td>\n",
       "      <td>265617.2</td>\n",
       "      <td>99169.389</td>\n",
       "      <td>NaN</td>\n",
       "      <td>NaN</td>\n",
       "      <td>NaN</td>\n",
       "      <td>NaN</td>\n",
       "      <td>NaN</td>\n",
       "      <td>NaN</td>\n",
       "      <td>NaN</td>\n",
       "      <td>NaN</td>\n",
       "    </tr>\n",
       "    <tr>\n",
       "      <th>4</th>\n",
       "      <td>NW702-SP</td>\n",
       "      <td>19</td>\n",
       "      <td>NaN</td>\n",
       "      <td>Pecketsford</td>\n",
       "      <td>1</td>\n",
       "      <td>2019-03-18</td>\n",
       "      <td>12:05:00</td>\n",
       "      <td>NaN</td>\n",
       "      <td>265659.1</td>\n",
       "      <td>99203.655</td>\n",
       "      <td>NaN</td>\n",
       "      <td>NaN</td>\n",
       "      <td>NaN</td>\n",
       "      <td>NaN</td>\n",
       "      <td>NaN</td>\n",
       "      <td>NaN</td>\n",
       "      <td>NaN</td>\n",
       "      <td>NaN</td>\n",
       "    </tr>\n",
       "  </tbody>\n",
       "</table>\n",
       "</div>"
      ],
      "text/plain": [
       "  Experiment_Id  SP_ID  sample_distance (m)        Field  Flume Sample_date  \\\n",
       "0      NW702-SP     19                  NaN  Pecketsford      1  2019-03-18   \n",
       "1      NW702-SP     19                  NaN  Pecketsford      1  2019-03-18   \n",
       "2      NW702-SP     19                  NaN  Pecketsford      1  2019-03-18   \n",
       "3      NW702-SP     19                  NaN  Pecketsford      1  2019-03-18   \n",
       "4      NW702-SP     19                  NaN  Pecketsford      1  2019-03-18   \n",
       "\n",
       "  Sample_time  Start_Sample_Date   Easting   Northing  pH  conductivity_uScm  \\\n",
       "0    12:01:00                NaN  265650.7  99239.591 NaN                NaN   \n",
       "1    12:02:00                NaN  265576.3  99180.488 NaN                NaN   \n",
       "2    12:03:00                NaN  265572.8  99122.300 NaN                NaN   \n",
       "3    12:04:00                NaN  265617.2  99169.389 NaN                NaN   \n",
       "4    12:05:00                NaN  265659.1  99203.655 NaN                NaN   \n",
       "\n",
       "   OM_%w/w  N_total_%w/w  C_total_%w/w  KSAT_10_cm/d  KSAT_20_cm/d  \\\n",
       "0      NaN           NaN           NaN           NaN           NaN   \n",
       "1      NaN           NaN           NaN           NaN           NaN   \n",
       "2      NaN           NaN           NaN           NaN           NaN   \n",
       "3      NaN           NaN           NaN           NaN           NaN   \n",
       "4      NaN           NaN           NaN           NaN           NaN   \n",
       "\n",
       "   KSAT_30_cm/d  \n",
       "0           NaN  \n",
       "1           NaN  \n",
       "2           NaN  \n",
       "3           NaN  \n",
       "4           NaN  "
      ]
     },
     "execution_count": 367,
     "metadata": {},
     "output_type": "execute_result"
    }
   ],
   "source": [
    "# A glimpse on the dataset\n",
    "field_2019.head()"
   ]
  },
  {
   "cell_type": "code",
   "execution_count": 193,
   "id": "e79ff5f6",
   "metadata": {},
   "outputs": [],
   "source": [
    "# Dictionary with column names\n",
    "dict_names_2019 = {'Conductivity (uS/cm)':'conductivity_uScm', 'Organic matter LOI (%w/w)': 'OM_%w/w', \n",
    "                   'Total N (%w/w) Soil': 'N_total_%w/w', 'Total C (%w/w) Soil': 'C_total_%w/w', 'KSAT_10 (cm/d)': 'KSAT_10_cm/d',\n",
    "                  'KSAT_20 (cm/d)': 'KSAT_20_cm/d', 'KSAT_30 (cm/d)': 'KSAT_30_cm/d'}"
   ]
  },
  {
   "cell_type": "code",
   "execution_count": 194,
   "id": "e0f84f3c",
   "metadata": {},
   "outputs": [],
   "source": [
    "# Rename columns\n",
    "field_2019.rename(columns = dict_names_2019, inplace = True)"
   ]
  },
  {
   "cell_type": "code",
   "execution_count": 198,
   "id": "89778053",
   "metadata": {},
   "outputs": [
    {
     "name": "stdout",
     "output_type": "stream",
     "text": [
      "<class 'pandas.core.frame.DataFrame'>\n",
      "RangeIndex: 403 entries, 0 to 402\n",
      "Data columns (total 18 columns):\n",
      " #   Column               Non-Null Count  Dtype         \n",
      "---  ------               --------------  -----         \n",
      " 0   Experiment_Id        403 non-null    object        \n",
      " 1   SP_ID                403 non-null    int64         \n",
      " 2   sample_distance (m)  27 non-null     float64       \n",
      " 3   Field                403 non-null    object        \n",
      " 4   Flume                403 non-null    int64         \n",
      " 5   Sample_date          403 non-null    datetime64[ns]\n",
      " 6   Sample_time          403 non-null    object        \n",
      " 7   Start_Sample_Date    0 non-null      float64       \n",
      " 8   Easting              403 non-null    float64       \n",
      " 9   Northing             403 non-null    float64       \n",
      " 10  pH                   166 non-null    float64       \n",
      " 11  conductivity_uScm    162 non-null    float64       \n",
      " 12  OM_%w/w              166 non-null    float64       \n",
      " 13  N_total_%w/w         166 non-null    float64       \n",
      " 14  C_total_%w/w         166 non-null    float64       \n",
      " 15  KSAT_10_cm/d         27 non-null     float64       \n",
      " 16  KSAT_20_cm/d         27 non-null     float64       \n",
      " 17  KSAT_30_cm/d         27 non-null     float64       \n",
      "dtypes: datetime64[ns](1), float64(12), int64(2), object(3)\n",
      "memory usage: 56.8+ KB\n"
     ]
    }
   ],
   "source": [
    "# Info\n",
    "field_2019.info()"
   ]
  },
  {
   "cell_type": "code",
   "execution_count": null,
   "id": "955e8745",
   "metadata": {},
   "outputs": [],
   "source": [
    "# Convert object to datetime\n",
    "field_2019['Sample_date'] = pd.to_datetime(field_2019['Sample_date'])"
   ]
  },
  {
   "cell_type": "code",
   "execution_count": 202,
   "id": "571cb3eb",
   "metadata": {},
   "outputs": [
    {
     "data": {
      "image/png": "[encoded data removed]",
      "text/plain": [
       "<Figure size 432x288 with 1 Axes>"
      ]
     },
     "metadata": {
      "needs_background": "light"
     },
     "output_type": "display_data"
    }
   ],
   "source": [
    "# Plot C% distribution\n",
    "field_2019['OM_%w/w'].plot(kind = 'hist', ec = 'black')\n",
    "plt.show()"
   ]
  },
  {
   "cell_type": "code",
   "execution_count": 213,
   "id": "06a05e2c",
   "metadata": {},
   "outputs": [
    {
     "data": {
      "image/png": "[encoded data removed]",
      "text/plain": [
       "<Figure size 432x288 with 1 Axes>"
      ]
     },
     "metadata": {
      "needs_background": "light"
     },
     "output_type": "display_data"
    }
   ],
   "source": [
    "# Plot C% by date\n",
    "plt.plot(field_2019['OM_%w/w'], field_2019['Sample_date'], 'o', color = 'red', markersize = 5)\n",
    "plt.show()"
   ]
  },
  {
   "cell_type": "markdown",
   "id": "1f21f66d",
   "metadata": {},
   "source": [
    "### Year 2020"
   ]
  },
  {
   "cell_type": "code",
   "execution_count": 216,
   "id": "0c48c2d7",
   "metadata": {},
   "outputs": [],
   "source": [
    "## Load data\n",
    "field_2020 = pd.read_csv('Field Survey Data_Format 1_Soil Survey_2020-01-01_2020-12-31.csv')"
   ]
  },
  {
   "cell_type": "code",
   "execution_count": null,
   "id": "ccfa1006",
   "metadata": {},
   "outputs": [],
   "source": [
    "# Check the columns\n",
    "field_2020.columns"
   ]
  },
  {
   "cell_type": "code",
   "execution_count": 218,
   "id": "5cb25db5",
   "metadata": {},
   "outputs": [],
   "source": [
    "# Columns to keep\n",
    "columns_to_keep2020 = ['Experiment_Id', 'SP_ID', 'sample_distance (m)', 'Field', 'Flume', 'Sample_date', 'Sample_time', 'Start_Sample_Date',\n",
    "                       'Easting', 'Northing', 'pH','Conductivity (uS/cm)', 'Organic matter LOI (%w/w)', 'Total N (%w/w) Soil',\n",
    "                      'Total C (%w/w) Soil']"
   ]
  },
  {
   "cell_type": "code",
   "execution_count": 219,
   "id": "48fad17f",
   "metadata": {},
   "outputs": [],
   "source": [
    "# Dictionary with names\n",
    "dict_names_2020 = {'Conductivity (uS/cm)':'conductivity_uScm', 'Organic matter LOI (%w/w)': 'OM_%w/w', \n",
    "                   'Total N (%w/w) Soil': 'N_total_%w/w', 'Total C (%w/w) Soil': 'C_total_%w/w'}"
   ]
  },
  {
   "cell_type": "code",
   "execution_count": 220,
   "id": "cb1f1bef",
   "metadata": {},
   "outputs": [],
   "source": [
    "# Remove other columns\n",
    "field_2020 = field_2020[columns_to_keep2020]"
   ]
  },
  {
   "cell_type": "code",
   "execution_count": 368,
   "id": "7c83b3c8",
   "metadata": {},
   "outputs": [
    {
     "data": {
      "text/html": [
       "<div>\n",
       "<style scoped>\n",
       "    .dataframe tbody tr th:only-of-type {\n",
       "        vertical-align: middle;\n",
       "    }\n",
       "\n",
       "    .dataframe tbody tr th {\n",
       "        vertical-align: top;\n",
       "    }\n",
       "\n",
       "    .dataframe thead th {\n",
       "        text-align: right;\n",
       "    }\n",
       "</style>\n",
       "<table border=\"1\" class=\"dataframe\">\n",
       "  <thead>\n",
       "    <tr style=\"text-align: right;\">\n",
       "      <th></th>\n",
       "      <th>Experiment_Id</th>\n",
       "      <th>SP_ID</th>\n",
       "      <th>sample_distance (m)</th>\n",
       "      <th>Field</th>\n",
       "      <th>Flume</th>\n",
       "      <th>Sample_date</th>\n",
       "      <th>Sample_time</th>\n",
       "      <th>Start_Sample_Date</th>\n",
       "      <th>Easting</th>\n",
       "      <th>Northing</th>\n",
       "      <th>pH</th>\n",
       "      <th>conductivity_uScm</th>\n",
       "      <th>OM_%w/w</th>\n",
       "      <th>N_total_%w/w</th>\n",
       "      <th>C_total_%w/w</th>\n",
       "    </tr>\n",
       "  </thead>\n",
       "  <tbody>\n",
       "    <tr>\n",
       "      <th>0</th>\n",
       "      <td>NW702-S</td>\n",
       "      <td>19</td>\n",
       "      <td>NaN</td>\n",
       "      <td>Pecketsford</td>\n",
       "      <td>1</td>\n",
       "      <td>2019-03-18</td>\n",
       "      <td>12:00:00</td>\n",
       "      <td>NaN</td>\n",
       "      <td>265618.86</td>\n",
       "      <td>99134.54</td>\n",
       "      <td>6.3</td>\n",
       "      <td>2047</td>\n",
       "      <td>9.2</td>\n",
       "      <td>0.412</td>\n",
       "      <td>4.24</td>\n",
       "    </tr>\n",
       "    <tr>\n",
       "      <th>1</th>\n",
       "      <td>NW702-S</td>\n",
       "      <td>68</td>\n",
       "      <td>NaN</td>\n",
       "      <td>Little Pecketsford</td>\n",
       "      <td>1</td>\n",
       "      <td>2019-03-18</td>\n",
       "      <td>12:00:00</td>\n",
       "      <td>NaN</td>\n",
       "      <td>265698.45</td>\n",
       "      <td>99004.41</td>\n",
       "      <td>6.0</td>\n",
       "      <td>2041</td>\n",
       "      <td>7.3</td>\n",
       "      <td>0.342</td>\n",
       "      <td>3.23</td>\n",
       "    </tr>\n",
       "    <tr>\n",
       "      <th>2</th>\n",
       "      <td>NW702-S</td>\n",
       "      <td>2002</td>\n",
       "      <td>NaN</td>\n",
       "      <td>Great Field</td>\n",
       "      <td>2</td>\n",
       "      <td>2019-03-18</td>\n",
       "      <td>12:00:00</td>\n",
       "      <td>NaN</td>\n",
       "      <td>265690.12</td>\n",
       "      <td>98829.40</td>\n",
       "      <td>6.0</td>\n",
       "      <td>2020</td>\n",
       "      <td>8.8</td>\n",
       "      <td>0.394</td>\n",
       "      <td>3.94</td>\n",
       "    </tr>\n",
       "    <tr>\n",
       "      <th>3</th>\n",
       "      <td>NW702-S</td>\n",
       "      <td>2004</td>\n",
       "      <td>NaN</td>\n",
       "      <td>Ware Park</td>\n",
       "      <td>3</td>\n",
       "      <td>2019-03-19</td>\n",
       "      <td>12:00:00</td>\n",
       "      <td>NaN</td>\n",
       "      <td>265791.65</td>\n",
       "      <td>98584.10</td>\n",
       "      <td>6.0</td>\n",
       "      <td>2025</td>\n",
       "      <td>7.3</td>\n",
       "      <td>0.322</td>\n",
       "      <td>3.12</td>\n",
       "    </tr>\n",
       "    <tr>\n",
       "      <th>4</th>\n",
       "      <td>NW702-S</td>\n",
       "      <td>2003</td>\n",
       "      <td>NaN</td>\n",
       "      <td>Poor Field</td>\n",
       "      <td>3</td>\n",
       "      <td>2019-03-19</td>\n",
       "      <td>12:00:00</td>\n",
       "      <td>NaN</td>\n",
       "      <td>265547.77</td>\n",
       "      <td>98594.88</td>\n",
       "      <td>6.1</td>\n",
       "      <td>2017</td>\n",
       "      <td>9.8</td>\n",
       "      <td>0.423</td>\n",
       "      <td>4.35</td>\n",
       "    </tr>\n",
       "  </tbody>\n",
       "</table>\n",
       "</div>"
      ],
      "text/plain": [
       "  Experiment_Id  SP_ID  sample_distance (m)               Field  Flume  \\\n",
       "0       NW702-S     19                  NaN         Pecketsford      1   \n",
       "1       NW702-S     68                  NaN  Little Pecketsford      1   \n",
       "2       NW702-S   2002                  NaN         Great Field      2   \n",
       "3       NW702-S   2004                  NaN           Ware Park      3   \n",
       "4       NW702-S   2003                  NaN          Poor Field      3   \n",
       "\n",
       "  Sample_date Sample_time  Start_Sample_Date    Easting  Northing   pH  \\\n",
       "0  2019-03-18    12:00:00                NaN  265618.86  99134.54  6.3   \n",
       "1  2019-03-18    12:00:00                NaN  265698.45  99004.41  6.0   \n",
       "2  2019-03-18    12:00:00                NaN  265690.12  98829.40  6.0   \n",
       "3  2019-03-19    12:00:00                NaN  265791.65  98584.10  6.0   \n",
       "4  2019-03-19    12:00:00                NaN  265547.77  98594.88  6.1   \n",
       "\n",
       "   conductivity_uScm  OM_%w/w  N_total_%w/w  C_total_%w/w  \n",
       "0               2047      9.2         0.412          4.24  \n",
       "1               2041      7.3         0.342          3.23  \n",
       "2               2020      8.8         0.394          3.94  \n",
       "3               2025      7.3         0.322          3.12  \n",
       "4               2017      9.8         0.423          4.35  "
      ]
     },
     "execution_count": 368,
     "metadata": {},
     "output_type": "execute_result"
    }
   ],
   "source": [
    "# A glimpse on the dataset\n",
    "field_2020.head()"
   ]
  },
  {
   "cell_type": "code",
   "execution_count": 222,
   "id": "0c20ccc9",
   "metadata": {},
   "outputs": [],
   "source": [
    "# Rename columns\n",
    "field_2020.rename(columns = dict_names_2020, inplace = True)"
   ]
  },
  {
   "cell_type": "code",
   "execution_count": 227,
   "id": "8a2e8972",
   "metadata": {},
   "outputs": [
    {
     "name": "stdout",
     "output_type": "stream",
     "text": [
      "<class 'pandas.core.frame.DataFrame'>\n",
      "RangeIndex: 142 entries, 0 to 141\n",
      "Data columns (total 15 columns):\n",
      " #   Column               Non-Null Count  Dtype         \n",
      "---  ------               --------------  -----         \n",
      " 0   Experiment_Id        142 non-null    object        \n",
      " 1   SP_ID                142 non-null    int64         \n",
      " 2   sample_distance (m)  0 non-null      float64       \n",
      " 3   Field                142 non-null    object        \n",
      " 4   Flume                142 non-null    int64         \n",
      " 5   Sample_date          142 non-null    datetime64[ns]\n",
      " 6   Sample_time          142 non-null    object        \n",
      " 7   Start_Sample_Date    0 non-null      float64       \n",
      " 8   Easting              142 non-null    float64       \n",
      " 9   Northing             142 non-null    float64       \n",
      " 10  pH                   142 non-null    float64       \n",
      " 11  conductivity_uScm    142 non-null    int64         \n",
      " 12  OM_%w/w              142 non-null    float64       \n",
      " 13  N_total_%w/w         142 non-null    float64       \n",
      " 14  C_total_%w/w         142 non-null    float64       \n",
      "dtypes: datetime64[ns](1), float64(8), int64(3), object(3)\n",
      "memory usage: 16.8+ KB\n"
     ]
    }
   ],
   "source": [
    "# Info\n",
    "field_2020.info()"
   ]
  },
  {
   "cell_type": "code",
   "execution_count": null,
   "id": "d9aade8c",
   "metadata": {},
   "outputs": [],
   "source": [
    "# Convert object to datetime\n",
    "field_2020['Sample_date'] = pd.to_datetime(field_2020['Sample_date'])"
   ]
  },
  {
   "cell_type": "code",
   "execution_count": 228,
   "id": "9721928d",
   "metadata": {},
   "outputs": [
    {
     "data": {
      "image/png": "[encoded data removed]",
      "text/plain": [
       "<Figure size 432x288 with 1 Axes>"
      ]
     },
     "metadata": {
      "needs_background": "light"
     },
     "output_type": "display_data"
    }
   ],
   "source": [
    "# Plot C% distribution\n",
    "field_2020['OM_%w/w'].plot(kind = 'hist', ec = 'black')\n",
    "plt.show()"
   ]
  },
  {
   "cell_type": "code",
   "execution_count": 229,
   "id": "5324073e",
   "metadata": {},
   "outputs": [
    {
     "data": {
      "image/png": "[encoded data removed]",
      "text/plain": [
       "<Figure size 432x288 with 1 Axes>"
      ]
     },
     "metadata": {
      "needs_background": "light"
     },
     "output_type": "display_data"
    }
   ],
   "source": [
    "# Plot C% by date\n",
    "plt.plot(field_2020['OM_%w/w'], field_2020['Sample_date'], 'o', color = 'red', markersize = 5)\n",
    "plt.show()"
   ]
  },
  {
   "cell_type": "markdown",
   "id": "4dfc88a3",
   "metadata": {},
   "source": [
    "### Year 2021"
   ]
  },
  {
   "cell_type": "code",
   "execution_count": 230,
   "id": "c2b468d9",
   "metadata": {},
   "outputs": [],
   "source": [
    "## Load data\n",
    "field_2021 = pd.read_csv('Field Survey Data_Format 1_Soil Survey_2021-01-01_2021-12-31.csv')"
   ]
  },
  {
   "cell_type": "code",
   "execution_count": null,
   "id": "46d7e1cd",
   "metadata": {},
   "outputs": [],
   "source": [
    "# Check the columns\n",
    "field_2021.columns"
   ]
  },
  {
   "cell_type": "code",
   "execution_count": 234,
   "id": "f1bbd904",
   "metadata": {},
   "outputs": [],
   "source": [
    "# Columns to keep\n",
    "columns_to_keep2021 = ['Experiment_Id', 'SP_ID', 'sample_distance (m)', 'Field', 'Flume', 'Sample_date', 'Sample_time', 'Start_Sample_Date',\n",
    "                       'Easting', 'Northing', 'pH','Conductivity (uS/cm)', 'Organic matter LOI (%w/w)', 'Total N (%w/w) Soil',\n",
    "                      'Total C (%w/w) Soil']"
   ]
  },
  {
   "cell_type": "code",
   "execution_count": 235,
   "id": "b966d4bb",
   "metadata": {},
   "outputs": [],
   "source": [
    "# Dictionary with names\n",
    "dict_names_2021 = {'Conductivity (uS/cm)':'conductivity_uScm', 'Organic matter LOI (%w/w)': 'OM_%w/w', \n",
    "                   'Total N (%w/w) Soil': 'N_total_%w/w', 'Total C (%w/w) Soil': 'C_total_%w/w'}"
   ]
  },
  {
   "cell_type": "code",
   "execution_count": 236,
   "id": "eb87fb8d",
   "metadata": {},
   "outputs": [],
   "source": [
    "# Remove other columns\n",
    "field_2021 = field_2021[columns_to_keep2021]"
   ]
  },
  {
   "cell_type": "code",
   "execution_count": 369,
   "id": "93e5ce61",
   "metadata": {},
   "outputs": [
    {
     "data": {
      "text/html": [
       "<div>\n",
       "<style scoped>\n",
       "    .dataframe tbody tr th:only-of-type {\n",
       "        vertical-align: middle;\n",
       "    }\n",
       "\n",
       "    .dataframe tbody tr th {\n",
       "        vertical-align: top;\n",
       "    }\n",
       "\n",
       "    .dataframe thead th {\n",
       "        text-align: right;\n",
       "    }\n",
       "</style>\n",
       "<table border=\"1\" class=\"dataframe\">\n",
       "  <thead>\n",
       "    <tr style=\"text-align: right;\">\n",
       "      <th></th>\n",
       "      <th>Experiment_Id</th>\n",
       "      <th>SP_ID</th>\n",
       "      <th>sample_distance (m)</th>\n",
       "      <th>Field</th>\n",
       "      <th>Flume</th>\n",
       "      <th>Sample_date</th>\n",
       "      <th>Sample_time</th>\n",
       "      <th>Start_Sample_Date</th>\n",
       "      <th>Easting</th>\n",
       "      <th>Northing</th>\n",
       "      <th>pH</th>\n",
       "      <th>conductivity_uScm</th>\n",
       "      <th>OM_%w/w</th>\n",
       "      <th>N_total_%w/w</th>\n",
       "      <th>C_total_%w/w</th>\n",
       "    </tr>\n",
       "  </thead>\n",
       "  <tbody>\n",
       "    <tr>\n",
       "      <th>0</th>\n",
       "      <td>NW752-2SP-1</td>\n",
       "      <td>2011</td>\n",
       "      <td>NaN</td>\n",
       "      <td>Higher Wyke Moor</td>\n",
       "      <td>8</td>\n",
       "      <td>2021-03-09</td>\n",
       "      <td>12:00:00</td>\n",
       "      <td>NaN</td>\n",
       "      <td>266114.792</td>\n",
       "      <td>97558.471</td>\n",
       "      <td>NaN</td>\n",
       "      <td>NaN</td>\n",
       "      <td>NaN</td>\n",
       "      <td>NaN</td>\n",
       "      <td>NaN</td>\n",
       "    </tr>\n",
       "    <tr>\n",
       "      <th>1</th>\n",
       "      <td>NW752-2SP-1</td>\n",
       "      <td>2012</td>\n",
       "      <td>NaN</td>\n",
       "      <td>Middle Wyke Moor</td>\n",
       "      <td>8</td>\n",
       "      <td>2021-03-09</td>\n",
       "      <td>12:00:00</td>\n",
       "      <td>NaN</td>\n",
       "      <td>266371.050</td>\n",
       "      <td>97681.779</td>\n",
       "      <td>NaN</td>\n",
       "      <td>NaN</td>\n",
       "      <td>NaN</td>\n",
       "      <td>NaN</td>\n",
       "      <td>NaN</td>\n",
       "    </tr>\n",
       "    <tr>\n",
       "      <th>2</th>\n",
       "      <td>NW752-2SP-1</td>\n",
       "      <td>2010</td>\n",
       "      <td>NaN</td>\n",
       "      <td>Lower Wyke Moor</td>\n",
       "      <td>7</td>\n",
       "      <td>2021-09-14</td>\n",
       "      <td>12:00:00</td>\n",
       "      <td>NaN</td>\n",
       "      <td>266432.495</td>\n",
       "      <td>97871.352</td>\n",
       "      <td>NaN</td>\n",
       "      <td>NaN</td>\n",
       "      <td>NaN</td>\n",
       "      <td>NaN</td>\n",
       "      <td>NaN</td>\n",
       "    </tr>\n",
       "    <tr>\n",
       "      <th>3</th>\n",
       "      <td>NW752-2SP-1</td>\n",
       "      <td>2013</td>\n",
       "      <td>NaN</td>\n",
       "      <td>Dairy South</td>\n",
       "      <td>9</td>\n",
       "      <td>2021-09-14</td>\n",
       "      <td>12:00:00</td>\n",
       "      <td>NaN</td>\n",
       "      <td>266062.963</td>\n",
       "      <td>98059.804</td>\n",
       "      <td>NaN</td>\n",
       "      <td>NaN</td>\n",
       "      <td>NaN</td>\n",
       "      <td>NaN</td>\n",
       "      <td>NaN</td>\n",
       "    </tr>\n",
       "    <tr>\n",
       "      <th>4</th>\n",
       "      <td>NW752-2SP-1</td>\n",
       "      <td>2016</td>\n",
       "      <td>NaN</td>\n",
       "      <td>Dairy East</td>\n",
       "      <td>11</td>\n",
       "      <td>2021-09-13</td>\n",
       "      <td>12:00:00</td>\n",
       "      <td>NaN</td>\n",
       "      <td>266285.532</td>\n",
       "      <td>98180.026</td>\n",
       "      <td>NaN</td>\n",
       "      <td>NaN</td>\n",
       "      <td>NaN</td>\n",
       "      <td>NaN</td>\n",
       "      <td>NaN</td>\n",
       "    </tr>\n",
       "  </tbody>\n",
       "</table>\n",
       "</div>"
      ],
      "text/plain": [
       "  Experiment_Id  SP_ID  sample_distance (m)             Field  Flume  \\\n",
       "0   NW752-2SP-1   2011                  NaN  Higher Wyke Moor      8   \n",
       "1   NW752-2SP-1   2012                  NaN  Middle Wyke Moor      8   \n",
       "2   NW752-2SP-1   2010                  NaN   Lower Wyke Moor      7   \n",
       "3   NW752-2SP-1   2013                  NaN       Dairy South      9   \n",
       "4   NW752-2SP-1   2016                  NaN        Dairy East     11   \n",
       "\n",
       "  Sample_date Sample_time  Start_Sample_Date     Easting   Northing  pH  \\\n",
       "0  2021-03-09    12:00:00                NaN  266114.792  97558.471 NaN   \n",
       "1  2021-03-09    12:00:00                NaN  266371.050  97681.779 NaN   \n",
       "2  2021-09-14    12:00:00                NaN  266432.495  97871.352 NaN   \n",
       "3  2021-09-14    12:00:00                NaN  266062.963  98059.804 NaN   \n",
       "4  2021-09-13    12:00:00                NaN  266285.532  98180.026 NaN   \n",
       "\n",
       "   conductivity_uScm  OM_%w/w  N_total_%w/w  C_total_%w/w  \n",
       "0                NaN      NaN           NaN           NaN  \n",
       "1                NaN      NaN           NaN           NaN  \n",
       "2                NaN      NaN           NaN           NaN  \n",
       "3                NaN      NaN           NaN           NaN  \n",
       "4                NaN      NaN           NaN           NaN  "
      ]
     },
     "execution_count": 369,
     "metadata": {},
     "output_type": "execute_result"
    }
   ],
   "source": [
    "# A glimpse on the dataset\n",
    "field_2021.head()"
   ]
  },
  {
   "cell_type": "code",
   "execution_count": null,
   "id": "27e154ca",
   "metadata": {},
   "outputs": [],
   "source": [
    "# Rename columns\n",
    "field_2021.rename(columns = dict_names_2021, inplace = True)"
   ]
  },
  {
   "cell_type": "code",
   "execution_count": null,
   "id": "d2403a19",
   "metadata": {},
   "outputs": [],
   "source": [
    "# Convert object to datetime\n",
    "field_2021['Sample_date'] = pd.to_datetime(field_2021['Sample_date'])"
   ]
  },
  {
   "cell_type": "code",
   "execution_count": 241,
   "id": "d223f35b",
   "metadata": {},
   "outputs": [
    {
     "data": {
      "image/png": "[encoded data removed]",
      "text/plain": [
       "<Figure size 432x288 with 1 Axes>"
      ]
     },
     "metadata": {
      "needs_background": "light"
     },
     "output_type": "display_data"
    }
   ],
   "source": [
    "# Plot C% distribution\n",
    "field_2021['OM_%w/w'].plot(kind = 'hist', ec = 'black')\n",
    "plt.show()"
   ]
  },
  {
   "cell_type": "code",
   "execution_count": 242,
   "id": "e2cdbbe3",
   "metadata": {},
   "outputs": [
    {
     "data": {
      "image/png": "[encoded data removed]",
      "text/plain": [
       "<Figure size 432x288 with 1 Axes>"
      ]
     },
     "metadata": {
      "needs_background": "light"
     },
     "output_type": "display_data"
    }
   ],
   "source": [
    "# Plot C% by date\n",
    "plt.plot(field_2021['OM_%w/w'], field_2021['Sample_date'], 'o', color = 'red', markersize = 5)\n",
    "plt.show()"
   ]
  },
  {
   "cell_type": "markdown",
   "id": "1d45089a",
   "metadata": {},
   "source": [
    "### Joining all the datasets"
   ]
  },
  {
   "cell_type": "code",
   "execution_count": 243,
   "id": "b32bcdda",
   "metadata": {},
   "outputs": [],
   "source": [
    "# Create a list with \n",
    "list_df = [field_2012, field_2013, field_2016, field_2018, field_2019, field_2020, field_2021]\n",
    "list_df "
   ]
  },
  {
   "cell_type": "code",
   "execution_count": 371,
   "id": "3dbfd5e2",
   "metadata": {},
   "outputs": [],
   "source": [
    "# Concatenate the list\n",
    "result_df = pd.concat(list_df)"
   ]
  },
  {
   "cell_type": "code",
   "execution_count": 372,
   "id": "5c22cdac",
   "metadata": {},
   "outputs": [
    {
     "data": {
      "text/html": [
       "<div>\n",
       "<style scoped>\n",
       "    .dataframe tbody tr th:only-of-type {\n",
       "        vertical-align: middle;\n",
       "    }\n",
       "\n",
       "    .dataframe tbody tr th {\n",
       "        vertical-align: top;\n",
       "    }\n",
       "\n",
       "    .dataframe thead th {\n",
       "        text-align: right;\n",
       "    }\n",
       "</style>\n",
       "<table border=\"1\" class=\"dataframe\">\n",
       "  <thead>\n",
       "    <tr style=\"text-align: right;\">\n",
       "      <th></th>\n",
       "      <th>Experiment_Id</th>\n",
       "      <th>SP_ID</th>\n",
       "      <th>sample_distance (m)</th>\n",
       "      <th>Field</th>\n",
       "      <th>Flume</th>\n",
       "      <th>Sample_date</th>\n",
       "      <th>Sample_time</th>\n",
       "      <th>Start_Sample_Date</th>\n",
       "      <th>GPS_Sample_Nr</th>\n",
       "      <th>Easting</th>\n",
       "      <th>Northing</th>\n",
       "      <th>pH</th>\n",
       "      <th>BD_gcm3</th>\n",
       "      <th>OM_%w/w</th>\n",
       "      <th>N_total_%w/w</th>\n",
       "      <th>C_total_%w/w</th>\n",
       "      <th>conductivity_uScm</th>\n",
       "      <th>KSAT_10_cm/d</th>\n",
       "      <th>KSAT_20_cm/d</th>\n",
       "      <th>KSAT_30_cm/d</th>\n",
       "    </tr>\n",
       "  </thead>\n",
       "  <tbody>\n",
       "    <tr>\n",
       "      <th>0</th>\n",
       "      <td>FP003</td>\n",
       "      <td>1</td>\n",
       "      <td>50.0</td>\n",
       "      <td>Pecketsford</td>\n",
       "      <td>1</td>\n",
       "      <td>2012-06-06</td>\n",
       "      <td>12:00:00</td>\n",
       "      <td>01/06/2012</td>\n",
       "      <td>NaN</td>\n",
       "      <td>265632.0</td>\n",
       "      <td>99300.0</td>\n",
       "      <td>5.18</td>\n",
       "      <td>0.916</td>\n",
       "      <td>10.1</td>\n",
       "      <td>0.51</td>\n",
       "      <td>4.742</td>\n",
       "      <td>NaN</td>\n",
       "      <td>NaN</td>\n",
       "      <td>NaN</td>\n",
       "      <td>NaN</td>\n",
       "    </tr>\n",
       "    <tr>\n",
       "      <th>1</th>\n",
       "      <td>FP003</td>\n",
       "      <td>2</td>\n",
       "      <td>50.0</td>\n",
       "      <td>Pecketsford</td>\n",
       "      <td>1</td>\n",
       "      <td>2012-06-06</td>\n",
       "      <td>12:00:00</td>\n",
       "      <td>01/06/2012</td>\n",
       "      <td>NaN</td>\n",
       "      <td>265625.0</td>\n",
       "      <td>99275.0</td>\n",
       "      <td>5.23</td>\n",
       "      <td>0.943</td>\n",
       "      <td>10.4</td>\n",
       "      <td>0.55</td>\n",
       "      <td>4.980</td>\n",
       "      <td>NaN</td>\n",
       "      <td>NaN</td>\n",
       "      <td>NaN</td>\n",
       "      <td>NaN</td>\n",
       "    </tr>\n",
       "    <tr>\n",
       "      <th>2</th>\n",
       "      <td>FP003</td>\n",
       "      <td>7</td>\n",
       "      <td>50.0</td>\n",
       "      <td>Pecketsford</td>\n",
       "      <td>1</td>\n",
       "      <td>2012-06-06</td>\n",
       "      <td>12:00:00</td>\n",
       "      <td>01/06/2012</td>\n",
       "      <td>NaN</td>\n",
       "      <td>265575.0</td>\n",
       "      <td>99225.0</td>\n",
       "      <td>5.54</td>\n",
       "      <td>0.948</td>\n",
       "      <td>11.8</td>\n",
       "      <td>0.64</td>\n",
       "      <td>5.610</td>\n",
       "      <td>NaN</td>\n",
       "      <td>NaN</td>\n",
       "      <td>NaN</td>\n",
       "      <td>NaN</td>\n",
       "    </tr>\n",
       "    <tr>\n",
       "      <th>3</th>\n",
       "      <td>FP003</td>\n",
       "      <td>9</td>\n",
       "      <td>50.0</td>\n",
       "      <td>Pecketsford</td>\n",
       "      <td>1</td>\n",
       "      <td>2012-06-06</td>\n",
       "      <td>12:00:00</td>\n",
       "      <td>01/06/2012</td>\n",
       "      <td>NaN</td>\n",
       "      <td>265625.0</td>\n",
       "      <td>99225.0</td>\n",
       "      <td>5.12</td>\n",
       "      <td>0.857</td>\n",
       "      <td>10.9</td>\n",
       "      <td>0.54</td>\n",
       "      <td>4.510</td>\n",
       "      <td>NaN</td>\n",
       "      <td>NaN</td>\n",
       "      <td>NaN</td>\n",
       "      <td>NaN</td>\n",
       "    </tr>\n",
       "    <tr>\n",
       "      <th>4</th>\n",
       "      <td>FP003</td>\n",
       "      <td>17</td>\n",
       "      <td>50.0</td>\n",
       "      <td>Pecketsford</td>\n",
       "      <td>1</td>\n",
       "      <td>2012-06-06</td>\n",
       "      <td>12:00:00</td>\n",
       "      <td>01/06/2012</td>\n",
       "      <td>NaN</td>\n",
       "      <td>265575.0</td>\n",
       "      <td>99175.0</td>\n",
       "      <td>5.68</td>\n",
       "      <td>0.946</td>\n",
       "      <td>11.5</td>\n",
       "      <td>0.59</td>\n",
       "      <td>5.340</td>\n",
       "      <td>NaN</td>\n",
       "      <td>NaN</td>\n",
       "      <td>NaN</td>\n",
       "      <td>NaN</td>\n",
       "    </tr>\n",
       "  </tbody>\n",
       "</table>\n",
       "</div>"
      ],
      "text/plain": [
       "  Experiment_Id  SP_ID  sample_distance (m)        Field Flume Sample_date  \\\n",
       "0         FP003      1                 50.0  Pecketsford     1  2012-06-06   \n",
       "1         FP003      2                 50.0  Pecketsford     1  2012-06-06   \n",
       "2         FP003      7                 50.0  Pecketsford     1  2012-06-06   \n",
       "3         FP003      9                 50.0  Pecketsford     1  2012-06-06   \n",
       "4         FP003     17                 50.0  Pecketsford     1  2012-06-06   \n",
       "\n",
       "  Sample_time Start_Sample_Date  GPS_Sample_Nr   Easting  Northing    pH  \\\n",
       "0    12:00:00        01/06/2012            NaN  265632.0   99300.0  5.18   \n",
       "1    12:00:00        01/06/2012            NaN  265625.0   99275.0  5.23   \n",
       "2    12:00:00        01/06/2012            NaN  265575.0   99225.0  5.54   \n",
       "3    12:00:00        01/06/2012            NaN  265625.0   99225.0  5.12   \n",
       "4    12:00:00        01/06/2012            NaN  265575.0   99175.0  5.68   \n",
       "\n",
       "   BD_gcm3  OM_%w/w  N_total_%w/w  C_total_%w/w  conductivity_uScm  \\\n",
       "0    0.916     10.1          0.51         4.742                NaN   \n",
       "1    0.943     10.4          0.55         4.980                NaN   \n",
       "2    0.948     11.8          0.64         5.610                NaN   \n",
       "3    0.857     10.9          0.54         4.510                NaN   \n",
       "4    0.946     11.5          0.59         5.340                NaN   \n",
       "\n",
       "   KSAT_10_cm/d  KSAT_20_cm/d  KSAT_30_cm/d  \n",
       "0           NaN           NaN           NaN  \n",
       "1           NaN           NaN           NaN  \n",
       "2           NaN           NaN           NaN  \n",
       "3           NaN           NaN           NaN  \n",
       "4           NaN           NaN           NaN  "
      ]
     },
     "execution_count": 372,
     "metadata": {},
     "output_type": "execute_result"
    }
   ],
   "source": [
    "# A glimpse on the concatenated data\n",
    "result_df.head()"
   ]
  },
  {
   "cell_type": "code",
   "execution_count": 373,
   "id": "9f2ce601",
   "metadata": {},
   "outputs": [],
   "source": [
    "# Drop columns\n",
    "result_df.drop(['Start_Sample_Date', 'GPS_Sample_Nr'], axis = True, inplace = True)"
   ]
  },
  {
   "cell_type": "code",
   "execution_count": 374,
   "id": "9d6c0956",
   "metadata": {},
   "outputs": [
    {
     "name": "stdout",
     "output_type": "stream",
     "text": [
      "<class 'pandas.core.frame.DataFrame'>\n",
      "Int64Index: 2128 entries, 0 to 205\n",
      "Data columns (total 18 columns):\n",
      " #   Column               Non-Null Count  Dtype         \n",
      "---  ------               --------------  -----         \n",
      " 0   Experiment_Id        2128 non-null   object        \n",
      " 1   SP_ID                2128 non-null   int64         \n",
      " 2   sample_distance (m)  1110 non-null   float64       \n",
      " 3   Field                2128 non-null   object        \n",
      " 4   Flume                2128 non-null   object        \n",
      " 5   Sample_date          2128 non-null   datetime64[ns]\n",
      " 6   Sample_time          2128 non-null   object        \n",
      " 7   Easting              2128 non-null   float64       \n",
      " 8   Northing             2128 non-null   float64       \n",
      " 9   pH                   1506 non-null   float64       \n",
      " 10  BD_gcm3              656 non-null    float64       \n",
      " 11  OM_%w/w              1173 non-null   float64       \n",
      " 12  N_total_%w/w         1172 non-null   float64       \n",
      " 13  C_total_%w/w         1172 non-null   float64       \n",
      " 14  conductivity_uScm    464 non-null    float64       \n",
      " 15  KSAT_10_cm/d         27 non-null     float64       \n",
      " 16  KSAT_20_cm/d         27 non-null     float64       \n",
      " 17  KSAT_30_cm/d         27 non-null     float64       \n",
      "dtypes: datetime64[ns](1), float64(12), int64(1), object(4)\n",
      "memory usage: 315.9+ KB\n"
     ]
    }
   ],
   "source": [
    "# Info\n",
    "result_df.info()"
   ]
  },
  {
   "cell_type": "code",
   "execution_count": 375,
   "id": "e9269c30",
   "metadata": {},
   "outputs": [
    {
     "data": {
      "text/plain": [
       "956"
      ]
     },
     "execution_count": 375,
     "metadata": {},
     "output_type": "execute_result"
    }
   ],
   "source": [
    "# Count the numbers of NAs in C%\n",
    "result_df['C_total_%w/w'].isnull().sum()"
   ]
  },
  {
   "cell_type": "code",
   "execution_count": 377,
   "id": "7ffd4bef",
   "metadata": {},
   "outputs": [],
   "source": [
    "# Drop NAs in C% column\n",
    "result_df.dropna(subset = ['C_total_%w/w'], inplace = True)"
   ]
  },
  {
   "cell_type": "code",
   "execution_count": 379,
   "id": "9d866581",
   "metadata": {},
   "outputs": [
    {
     "data": {
      "text/plain": [
       "0"
      ]
     },
     "execution_count": 379,
     "metadata": {},
     "output_type": "execute_result"
    }
   ],
   "source": [
    "# Count the numbers of NAs in C%\n",
    "result_df['C_total_%w/w'].isnull().sum()"
   ]
  },
  {
   "cell_type": "code",
   "execution_count": 384,
   "id": "e13c726b",
   "metadata": {},
   "outputs": [
    {
     "data": {
      "image/png": "[encoded data removed]",
      "text/plain": [
       "<Figure size 432x288 with 1 Axes>"
      ]
     },
     "metadata": {
      "needs_background": "light"
     },
     "output_type": "display_data"
    }
   ],
   "source": [
    "# Plot the histogram of C%\n",
    "result_df['C_total_%w/w'].plot(kind = 'hist', ec = 'black')\n",
    "plt.xlabel('C%')\n",
    "plt.show()"
   ]
  },
  {
   "cell_type": "code",
   "execution_count": 390,
   "id": "e20b8ee5",
   "metadata": {},
   "outputs": [
    {
     "data": {
      "image/png": "[encoded data removed]",
      "text/plain": [
       "<Figure size 432x288 with 1 Axes>"
      ]
     },
     "metadata": {
      "needs_background": "light"
     },
     "output_type": "display_data"
    }
   ],
   "source": [
    "sns.boxplot(result_df['C_total_%w/w'])\n",
    "plt.show()"
   ]
  },
  {
   "cell_type": "code",
   "execution_count": 392,
   "id": "e32b9631",
   "metadata": {},
   "outputs": [],
   "source": [
    "# Drop other non-useful columns\n",
    "result_df.drop(columns = ['KSAT_10_cm/d', 'KSAT_20_cm/d', 'KSAT_30_cm/d'], axis = 1, inplace = True)"
   ]
  },
  {
   "cell_type": "code",
   "execution_count": 393,
   "id": "efcd81d4",
   "metadata": {},
   "outputs": [],
   "source": [
    "# Group by date and create summary statistics\n",
    "summary_dat = result_df.groupby(result_df['Sample_date'].dt.year)['C_total_%w/w'].agg(['sum', 'mean', 'median','min', 'max','std', 'count']).reset_index()"
   ]
  },
  {
   "cell_type": "code",
   "execution_count": 394,
   "id": "b4904a67",
   "metadata": {},
   "outputs": [
    {
     "data": {
      "text/html": [
       "<div>\n",
       "<style scoped>\n",
       "    .dataframe tbody tr th:only-of-type {\n",
       "        vertical-align: middle;\n",
       "    }\n",
       "\n",
       "    .dataframe tbody tr th {\n",
       "        vertical-align: top;\n",
       "    }\n",
       "\n",
       "    .dataframe thead th {\n",
       "        text-align: right;\n",
       "    }\n",
       "</style>\n",
       "<table border=\"1\" class=\"dataframe\">\n",
       "  <thead>\n",
       "    <tr style=\"text-align: right;\">\n",
       "      <th></th>\n",
       "      <th>Sample_date</th>\n",
       "      <th>sum</th>\n",
       "      <th>mean</th>\n",
       "      <th>median</th>\n",
       "      <th>min</th>\n",
       "      <th>max</th>\n",
       "      <th>std</th>\n",
       "      <th>count</th>\n",
       "    </tr>\n",
       "  </thead>\n",
       "  <tbody>\n",
       "    <tr>\n",
       "      <th>0</th>\n",
       "      <td>2012</td>\n",
       "      <td>1214.012</td>\n",
       "      <td>4.616015</td>\n",
       "      <td>4.6570</td>\n",
       "      <td>2.690</td>\n",
       "      <td>10.040</td>\n",
       "      <td>0.928946</td>\n",
       "      <td>263</td>\n",
       "    </tr>\n",
       "    <tr>\n",
       "      <th>1</th>\n",
       "      <td>2013</td>\n",
       "      <td>348.291</td>\n",
       "      <td>3.913382</td>\n",
       "      <td>3.8910</td>\n",
       "      <td>2.685</td>\n",
       "      <td>5.165</td>\n",
       "      <td>0.464701</td>\n",
       "      <td>89</td>\n",
       "    </tr>\n",
       "    <tr>\n",
       "      <th>2</th>\n",
       "      <td>2016</td>\n",
       "      <td>1591.226</td>\n",
       "      <td>4.572489</td>\n",
       "      <td>4.2745</td>\n",
       "      <td>2.011</td>\n",
       "      <td>7.519</td>\n",
       "      <td>1.229551</td>\n",
       "      <td>348</td>\n",
       "    </tr>\n",
       "    <tr>\n",
       "      <th>3</th>\n",
       "      <td>2018</td>\n",
       "      <td>566.920</td>\n",
       "      <td>4.499365</td>\n",
       "      <td>4.2800</td>\n",
       "      <td>2.660</td>\n",
       "      <td>7.350</td>\n",
       "      <td>1.091913</td>\n",
       "      <td>126</td>\n",
       "    </tr>\n",
       "    <tr>\n",
       "      <th>4</th>\n",
       "      <td>2019</td>\n",
       "      <td>751.960</td>\n",
       "      <td>4.529880</td>\n",
       "      <td>4.1900</td>\n",
       "      <td>2.840</td>\n",
       "      <td>6.810</td>\n",
       "      <td>1.090453</td>\n",
       "      <td>166</td>\n",
       "    </tr>\n",
       "    <tr>\n",
       "      <th>5</th>\n",
       "      <td>2020</td>\n",
       "      <td>431.820</td>\n",
       "      <td>4.318200</td>\n",
       "      <td>4.1500</td>\n",
       "      <td>2.500</td>\n",
       "      <td>6.840</td>\n",
       "      <td>1.039419</td>\n",
       "      <td>100</td>\n",
       "    </tr>\n",
       "    <tr>\n",
       "      <th>6</th>\n",
       "      <td>2021</td>\n",
       "      <td>387.610</td>\n",
       "      <td>4.845125</td>\n",
       "      <td>4.6550</td>\n",
       "      <td>2.760</td>\n",
       "      <td>8.940</td>\n",
       "      <td>1.483824</td>\n",
       "      <td>80</td>\n",
       "    </tr>\n",
       "  </tbody>\n",
       "</table>\n",
       "</div>"
      ],
      "text/plain": [
       "   Sample_date       sum      mean  median    min     max       std  count\n",
       "0         2012  1214.012  4.616015  4.6570  2.690  10.040  0.928946    263\n",
       "1         2013   348.291  3.913382  3.8910  2.685   5.165  0.464701     89\n",
       "2         2016  1591.226  4.572489  4.2745  2.011   7.519  1.229551    348\n",
       "3         2018   566.920  4.499365  4.2800  2.660   7.350  1.091913    126\n",
       "4         2019   751.960  4.529880  4.1900  2.840   6.810  1.090453    166\n",
       "5         2020   431.820  4.318200  4.1500  2.500   6.840  1.039419    100\n",
       "6         2021   387.610  4.845125  4.6550  2.760   8.940  1.483824     80"
      ]
     },
     "execution_count": 394,
     "metadata": {},
     "output_type": "execute_result"
    }
   ],
   "source": [
    "# A glimpse on the summary statistics\n",
    "summary_dat"
   ]
  },
  {
   "cell_type": "code",
   "execution_count": 359,
   "id": "99c0dca0",
   "metadata": {},
   "outputs": [],
   "source": [
    "# Save to csv\n",
    "summary_dat.to_csv('summary_stats_per_year.csv', index = False)"
   ]
  },
  {
   "cell_type": "code",
   "execution_count": 395,
   "id": "89c7bc57",
   "metadata": {},
   "outputs": [
    {
     "data": {
      "image/png": "[encoded data removed]",
      "text/plain": [
       "<Figure size 432x288 with 2 Axes>"
      ]
     },
     "metadata": {
      "needs_background": "light"
     },
     "output_type": "display_data"
    }
   ],
   "source": [
    "# Plot mean and count per year\n",
    "fig, ax = plt.subplots()\n",
    "\n",
    "ax.plot(summary_dat['Sample_date'], summary_dat['mean'], color = 'red')\n",
    "plt.xlabel('YEAR')\n",
    "plt.ylabel('C %')\n",
    "\n",
    "ax2 = ax.twinx()\n",
    "ax2.plot(summary_dat['Sample_date'], summary_dat['count'], color = 'blue')\n",
    "plt.ylabel('count')\n",
    "\n",
    "\n",
    "plt.title('Average C (%) over the years in North Wyke Farm')\n",
    "plt.show()"
   ]
  },
  {
   "cell_type": "code",
   "execution_count": 396,
   "id": "ae225256",
   "metadata": {},
   "outputs": [],
   "source": [
    "# Group by Sample_date and count\n",
    "group_date = result_df[['Sample_date', 'C_total_%w/w']].groupby(['Sample_date']).count().reset_index()"
   ]
  },
  {
   "cell_type": "code",
   "execution_count": 397,
   "id": "a37c7d3c",
   "metadata": {},
   "outputs": [
    {
     "data": {
      "image/png": "[encoded data removed]",
      "text/plain": [
       "<Figure size 432x288 with 1 Axes>"
      ]
     },
     "metadata": {
      "needs_background": "light"
     },
     "output_type": "display_data"
    }
   ],
   "source": [
    "# Plot the count of samples per date\n",
    "plt.plot(group_date['Sample_date'], group_date['C_total_%w/w'], 'o')\n",
    "plt.xlabel('Date')\n",
    "plt.ylabel('count')\n",
    "plt.show()"
   ]
  },
  {
   "cell_type": "code",
   "execution_count": 348,
   "id": "2e6d80ac",
   "metadata": {},
   "outputs": [],
   "source": [
    "# Save to csv\n",
    "group_date.to_csv('number_samples_per_date.csv')"
   ]
  },
  {
   "cell_type": "code",
   "execution_count": 407,
   "id": "cd4de60c",
   "metadata": {},
   "outputs": [],
   "source": [
    "# Save the final dataset\n",
    "result_df.to_csv('final_dataset_RR.csv', index = False)"
   ]
  },
  {
   "cell_type": "code",
   "execution_count": 409,
   "id": "ba601fc1",
   "metadata": {},
   "outputs": [],
   "source": [
    "# End"
   ]
  }
 ],
 "metadata": {
  "kernelspec": {
   "display_name": "geo_env",
   "language": "python",
   "name": "geo_env"
  },
  "language_info": {
   "codemirror_mode": {
    "name": "ipython",
    "version": 3
   },
   "file_extension": ".py",
   "mimetype": "text/x-python",
   "name": "python",
   "nbconvert_exporter": "python",
   "pygments_lexer": "ipython3",
   "version": "3.10.5"
  }
 },
 "nbformat": 4,
 "nbformat_minor": 5
}
