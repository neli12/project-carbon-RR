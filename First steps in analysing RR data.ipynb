{
 "cells": [
  {
   "cell_type": "code",
   "execution_count": 26,
   "id": "c7e311df",
   "metadata": {},
   "outputs": [],
   "source": [
    "# Import libraries\n",
    "import numpy as np\n",
    "import pandas as pd\n",
    "import seaborn as sns\n",
    "import glob\n",
    "import matplotlib.pyplot as plt\n",
    "pd.set_option('display.max_columns', 100)\n",
    "import sys\n",
    "import warnings\n",
    "if not sys.warnoptions:\n",
    "    warnings.simplefilter(\"ignore\")"
   ]
  },
  {
   "cell_type": "markdown",
   "id": "f9a7f166",
   "metadata": {},
   "source": [
    "### Year 2012"
   ]
  },
  {
   "cell_type": "markdown",
   "id": "afd0bb21",
   "metadata": {},
   "source": [
    "Load the data and exclude non-useful columns"
   ]
  },
  {
   "cell_type": "code",
   "execution_count": 27,
   "id": "1ad66dc1",
   "metadata": {},
   "outputs": [],
   "source": [
    "## Load data\n",
    "field_2012 = pd.read_csv('Field Survey Data_Format 1_Soil Survey_2012-01-01_2012-12-31.csv')"
   ]
  },
  {
   "cell_type": "code",
   "execution_count": 28,
   "id": "de7d8b85",
   "metadata": {},
   "outputs": [
    {
     "data": {
      "text/plain": [
       "['Experiment_Id',\n",
       " 'SP_ID',\n",
       " 'sample_distance (m)',\n",
       " 'Field',\n",
       " 'Flume',\n",
       " 'Sample_date',\n",
       " 'Sample_time',\n",
       " 'comments',\n",
       " 'Start_Sample_Date',\n",
       " 'GPS_Sample_Nr',\n",
       " 'Easting',\n",
       " 'Northing',\n",
       " 'pH',\n",
       " 'pH Quality',\n",
       " 'pH Quality Last Modified',\n",
       " 'Bulk density (g/cm3)',\n",
       " 'Bulk density Quality',\n",
       " 'Bulk density Quality Last Modified',\n",
       " 'SOM (% of DM)',\n",
       " 'SOM Quality',\n",
       " 'SOM Quality Last Modified',\n",
       " 'Total-N (% of DM)',\n",
       " 'Total-N Quality',\n",
       " 'Total-N Quality Last Modified',\n",
       " 'Total-C (% of DM)',\n",
       " 'Total-C Quality',\n",
       " 'Total-C Quality Last Modified',\n",
       " 'delta vs air - 15N',\n",
       " 'delta vs air - 15N Quality',\n",
       " 'delta vs air - 15N Quality Last Modified',\n",
       " 'delta vs PDB - 13C',\n",
       " 'delta vs PDB - 13C Quality',\n",
       " 'delta vs PDB - 13C Quality Last Modified']"
      ]
     },
     "execution_count": 28,
     "metadata": {},
     "output_type": "execute_result"
    }
   ],
   "source": [
    "# Check columns\n",
    "field_2012.columns.tolist()"
   ]
  },
  {
   "cell_type": "code",
   "execution_count": 29,
   "id": "68e91090",
   "metadata": {},
   "outputs": [],
   "source": [
    "# Columns to drop\n",
    "drop_columns_2012 = ['pH Quality Last Modified', 'Bulk density Quality', 'Bulk density Quality Last Modified',\n",
    "               'pH Quality', 'Total-N Quality', 'Total-N Quality Last Modified', 'Total-C Quality', \n",
    "                'Total-C Quality Last Modified', 'delta vs air - 15N', 'delta vs air - 15N Quality',\n",
    "                'delta vs air - 15N Quality Last Modified', 'delta vs PDB - 13C', 'SOM Quality Last Modified',\n",
    "                'delta vs PDB - 13C Quality', 'delta vs PDB - 13C Quality Last Modified', 'comments', 'SOM Quality',\n",
    "                'Start_Sample_Date', 'GPS_Sample_Nr', 'Flume']"
   ]
  },
  {
   "cell_type": "code",
   "execution_count": 30,
   "id": "78142a12",
   "metadata": {},
   "outputs": [],
   "source": [
    "# Dictionary with names\n",
    "dict_names_2012 = {'Bulk density (g/cm3)': 'BD_gcm3', 'SOM (% of DM)': 'OM_%w/w', \n",
    "              'Total-N (% of DM)': 'N_total_%w/w', 'Total-C (% of DM)': 'C_total_%w/w'}"
   ]
  },
  {
   "cell_type": "code",
   "execution_count": 31,
   "id": "a1567af4",
   "metadata": {},
   "outputs": [],
   "source": [
    "# Drop columns\n",
    "field_2012.drop(drop_columns_2012, axis = 1 , inplace = True)"
   ]
  },
  {
   "cell_type": "code",
   "execution_count": 32,
   "id": "56cdc66a",
   "metadata": {},
   "outputs": [
    {
     "data": {
      "text/html": [
       "<div>\n",
       "<style scoped>\n",
       "    .dataframe tbody tr th:only-of-type {\n",
       "        vertical-align: middle;\n",
       "    }\n",
       "\n",
       "    .dataframe tbody tr th {\n",
       "        vertical-align: top;\n",
       "    }\n",
       "\n",
       "    .dataframe thead th {\n",
       "        text-align: right;\n",
       "    }\n",
       "</style>\n",
       "<table border=\"1\" class=\"dataframe\">\n",
       "  <thead>\n",
       "    <tr style=\"text-align: right;\">\n",
       "      <th></th>\n",
       "      <th>Experiment_Id</th>\n",
       "      <th>SP_ID</th>\n",
       "      <th>sample_distance (m)</th>\n",
       "      <th>Field</th>\n",
       "      <th>Sample_date</th>\n",
       "      <th>Sample_time</th>\n",
       "      <th>Easting</th>\n",
       "      <th>Northing</th>\n",
       "      <th>pH</th>\n",
       "      <th>Bulk density (g/cm3)</th>\n",
       "      <th>SOM (% of DM)</th>\n",
       "      <th>Total-N (% of DM)</th>\n",
       "      <th>Total-C (% of DM)</th>\n",
       "    </tr>\n",
       "  </thead>\n",
       "  <tbody>\n",
       "    <tr>\n",
       "      <th>0</th>\n",
       "      <td>FP003</td>\n",
       "      <td>1</td>\n",
       "      <td>50</td>\n",
       "      <td>Pecketsford</td>\n",
       "      <td>06/06/2012</td>\n",
       "      <td>12:00:00</td>\n",
       "      <td>265632</td>\n",
       "      <td>99300</td>\n",
       "      <td>5.18</td>\n",
       "      <td>0.916</td>\n",
       "      <td>10.1</td>\n",
       "      <td>0.51</td>\n",
       "      <td>4.742</td>\n",
       "    </tr>\n",
       "    <tr>\n",
       "      <th>1</th>\n",
       "      <td>FP003</td>\n",
       "      <td>2</td>\n",
       "      <td>50</td>\n",
       "      <td>Pecketsford</td>\n",
       "      <td>06/06/2012</td>\n",
       "      <td>12:00:00</td>\n",
       "      <td>265625</td>\n",
       "      <td>99275</td>\n",
       "      <td>5.23</td>\n",
       "      <td>0.943</td>\n",
       "      <td>10.4</td>\n",
       "      <td>0.55</td>\n",
       "      <td>4.980</td>\n",
       "    </tr>\n",
       "    <tr>\n",
       "      <th>2</th>\n",
       "      <td>FP003</td>\n",
       "      <td>7</td>\n",
       "      <td>50</td>\n",
       "      <td>Pecketsford</td>\n",
       "      <td>06/06/2012</td>\n",
       "      <td>12:00:00</td>\n",
       "      <td>265575</td>\n",
       "      <td>99225</td>\n",
       "      <td>5.54</td>\n",
       "      <td>0.948</td>\n",
       "      <td>11.8</td>\n",
       "      <td>0.64</td>\n",
       "      <td>5.610</td>\n",
       "    </tr>\n",
       "    <tr>\n",
       "      <th>3</th>\n",
       "      <td>FP003</td>\n",
       "      <td>9</td>\n",
       "      <td>50</td>\n",
       "      <td>Pecketsford</td>\n",
       "      <td>06/06/2012</td>\n",
       "      <td>12:00:00</td>\n",
       "      <td>265625</td>\n",
       "      <td>99225</td>\n",
       "      <td>5.12</td>\n",
       "      <td>0.857</td>\n",
       "      <td>10.9</td>\n",
       "      <td>0.54</td>\n",
       "      <td>4.510</td>\n",
       "    </tr>\n",
       "    <tr>\n",
       "      <th>4</th>\n",
       "      <td>FP003</td>\n",
       "      <td>17</td>\n",
       "      <td>50</td>\n",
       "      <td>Pecketsford</td>\n",
       "      <td>06/06/2012</td>\n",
       "      <td>12:00:00</td>\n",
       "      <td>265575</td>\n",
       "      <td>99175</td>\n",
       "      <td>5.68</td>\n",
       "      <td>0.946</td>\n",
       "      <td>11.5</td>\n",
       "      <td>0.59</td>\n",
       "      <td>5.340</td>\n",
       "    </tr>\n",
       "  </tbody>\n",
       "</table>\n",
       "</div>"
      ],
      "text/plain": [
       "  Experiment_Id  SP_ID  sample_distance (m)        Field Sample_date  \\\n",
       "0         FP003      1                   50  Pecketsford  06/06/2012   \n",
       "1         FP003      2                   50  Pecketsford  06/06/2012   \n",
       "2         FP003      7                   50  Pecketsford  06/06/2012   \n",
       "3         FP003      9                   50  Pecketsford  06/06/2012   \n",
       "4         FP003     17                   50  Pecketsford  06/06/2012   \n",
       "\n",
       "  Sample_time  Easting  Northing    pH  Bulk density (g/cm3)  SOM (% of DM)  \\\n",
       "0    12:00:00   265632     99300  5.18                 0.916           10.1   \n",
       "1    12:00:00   265625     99275  5.23                 0.943           10.4   \n",
       "2    12:00:00   265575     99225  5.54                 0.948           11.8   \n",
       "3    12:00:00   265625     99225  5.12                 0.857           10.9   \n",
       "4    12:00:00   265575     99175  5.68                 0.946           11.5   \n",
       "\n",
       "   Total-N (% of DM)  Total-C (% of DM)  \n",
       "0               0.51              4.742  \n",
       "1               0.55              4.980  \n",
       "2               0.64              5.610  \n",
       "3               0.54              4.510  \n",
       "4               0.59              5.340  "
      ]
     },
     "execution_count": 32,
     "metadata": {},
     "output_type": "execute_result"
    }
   ],
   "source": [
    "# Aglimpse on the data\n",
    "field_2012.head()"
   ]
  },
  {
   "cell_type": "code",
   "execution_count": 33,
   "id": "f04b9d86",
   "metadata": {},
   "outputs": [],
   "source": [
    "# Rename columns\n",
    "field_2012.rename(columns = dict_names_2012, inplace = True)"
   ]
  },
  {
   "cell_type": "code",
   "execution_count": 34,
   "id": "de86b4c0",
   "metadata": {},
   "outputs": [
    {
     "name": "stdout",
     "output_type": "stream",
     "text": [
      "<class 'pandas.core.frame.DataFrame'>\n",
      "RangeIndex: 264 entries, 0 to 263\n",
      "Data columns (total 13 columns):\n",
      " #   Column               Non-Null Count  Dtype  \n",
      "---  ------               --------------  -----  \n",
      " 0   Experiment_Id        264 non-null    object \n",
      " 1   SP_ID                264 non-null    int64  \n",
      " 2   sample_distance (m)  264 non-null    int64  \n",
      " 3   Field                264 non-null    object \n",
      " 4   Sample_date          264 non-null    object \n",
      " 5   Sample_time          264 non-null    object \n",
      " 6   Easting              264 non-null    int64  \n",
      " 7   Northing             264 non-null    int64  \n",
      " 8   pH                   264 non-null    float64\n",
      " 9   BD_gcm3              264 non-null    float64\n",
      " 10  OM_%w/w              264 non-null    float64\n",
      " 11  N_total_%w/w         263 non-null    float64\n",
      " 12  C_total_%w/w         263 non-null    float64\n",
      "dtypes: float64(5), int64(4), object(4)\n",
      "memory usage: 26.9+ KB\n"
     ]
    }
   ],
   "source": [
    "# Info\n",
    "field_2012.info()"
   ]
  },
  {
   "cell_type": "code",
   "execution_count": 35,
   "id": "227311ad",
   "metadata": {},
   "outputs": [],
   "source": [
    "# Convert object to datetime\n",
    "field_2012['Sample_date'] = pd.to_datetime(field_2012['Sample_date'])"
   ]
  },
  {
   "cell_type": "code",
   "execution_count": 36,
   "id": "6dc8d40d",
   "metadata": {},
   "outputs": [
    {
     "data": {
      "image/png": "[encoded data removed]",
      "text/plain": [
       "<Figure size 432x288 with 1 Axes>"
      ]
     },
     "metadata": {
      "needs_background": "light"
     },
     "output_type": "display_data"
    }
   ],
   "source": [
    "# Plot C% distribution\n",
    "field_2012['OM_%w/w'].plot(kind = 'hist', ec = 'black')\n",
    "plt.title('Average C% distribution for year 2012')\n",
    "plt.xlabel('C%')\n",
    "plt.ylabel('Frequency')\n",
    "plt.show()"
   ]
  },
  {
   "cell_type": "code",
   "execution_count": 37,
   "id": "f492ee58",
   "metadata": {},
   "outputs": [
    {
     "data": {
      "image/png": "[encoded data removed]",
      "text/plain": [
       "<Figure size 432x288 with 1 Axes>"
      ]
     },
     "metadata": {
      "needs_background": "light"
     },
     "output_type": "display_data"
    }
   ],
   "source": [
    "# Plot samples per date\n",
    "plt.plot(field_2012['Sample_date'], field_2012['OM_%w/w'], 'o', color = 'red', markersize=5)\n",
    "plt.xlabel('Date')\n",
    "plt.ylabel('C%')\n",
    "plt.show()"
   ]
  },
  {
   "cell_type": "markdown",
   "id": "c01a206c",
   "metadata": {},
   "source": [
    "Analyse the data, search for duplicates and NAs"
   ]
  },
  {
   "cell_type": "code",
   "execution_count": 42,
   "id": "4d33453e",
   "metadata": {},
   "outputs": [],
   "source": [
    "# Check duplicates\n",
    "bool_series = field_2012[['Easting', 'Northing']].duplicated()\n",
    "print(bool_series.tolist())"
   ]
  },
  {
   "cell_type": "code",
   "execution_count": 51,
   "id": "ad3f6854",
   "metadata": {},
   "outputs": [
    {
     "data": {
      "text/plain": [
       "0"
      ]
     },
     "execution_count": 51,
     "metadata": {},
     "output_type": "execute_result"
    }
   ],
   "source": [
    "# Check NAs in C%\n",
    "field_2012['OM_%w/w'].isna().sum()"
   ]
  },
  {
   "cell_type": "code",
   "execution_count": null,
   "id": "42d9e64a",
   "metadata": {},
   "outputs": [],
   "source": [
    "# Save file\n",
    "field_2012.to_csv('field_2012.csv')"
   ]
  },
  {
   "cell_type": "markdown",
   "id": "3ea25b2a",
   "metadata": {},
   "source": [
    "### Year 2013"
   ]
  },
  {
   "cell_type": "code",
   "execution_count": 52,
   "id": "b2737e1a",
   "metadata": {},
   "outputs": [],
   "source": [
    "## Load data\n",
    "field_2013 = pd.read_csv('Field Survey Data_Format 1_Soil Survey_2013-01-01_2013-12-31.csv')"
   ]
  },
  {
   "cell_type": "code",
   "execution_count": null,
   "id": "0291c7e0",
   "metadata": {},
   "outputs": [],
   "source": [
    "# Check columns\n",
    "field_2013.columns.tolist()"
   ]
  },
  {
   "cell_type": "code",
   "execution_count": 56,
   "id": "39f31daf",
   "metadata": {},
   "outputs": [],
   "source": [
    "# Columns to drop\n",
    "drop_columns_2013 = ['comments','pH Quality', 'pH Quality Last Modified', 'SOM Quality', 'SOM Quality Last Modified', \n",
    "                     'Total-N Quality', 'Total-N Quality Last Modified', 'Total-C Quality', 'Total-C Quality Last Modified',\n",
    "                    'Flume', 'GPS_Sample_Nr', 'Start_Sample_Date']"
   ]
  },
  {
   "cell_type": "code",
   "execution_count": 57,
   "id": "6fa2ee64",
   "metadata": {},
   "outputs": [],
   "source": [
    "# Dictionary with names\n",
    "dict_names_2013 = {'SOM (% of DM)': 'OM_%w/w', \n",
    "                   'Total-N (% of DM)': 'N_total_%w/w', 'Total-C (% of DM)': 'C_total_%w/w'}"
   ]
  },
  {
   "cell_type": "code",
   "execution_count": 58,
   "id": "113b6223",
   "metadata": {},
   "outputs": [],
   "source": [
    "# Drop columns\n",
    "field_2013.drop(drop_columns_2013, axis = 1 , inplace = True)"
   ]
  },
  {
   "cell_type": "code",
   "execution_count": 59,
   "id": "9bb71ed6",
   "metadata": {},
   "outputs": [],
   "source": [
    "# Rename columns\n",
    "field_2013.rename(columns = dict_names_2013, inplace = True)"
   ]
  },
  {
   "cell_type": "code",
   "execution_count": 60,
   "id": "d8657edf",
   "metadata": {},
   "outputs": [
    {
     "name": "stdout",
     "output_type": "stream",
     "text": [
      "<class 'pandas.core.frame.DataFrame'>\n",
      "RangeIndex: 423 entries, 0 to 422\n",
      "Data columns (total 12 columns):\n",
      " #   Column               Non-Null Count  Dtype  \n",
      "---  ------               --------------  -----  \n",
      " 0   Experiment_Id        423 non-null    object \n",
      " 1   SP_ID                423 non-null    int64  \n",
      " 2   sample_distance (m)  423 non-null    int64  \n",
      " 3   Field                423 non-null    object \n",
      " 4   Sample_date          423 non-null    object \n",
      " 5   Sample_time          423 non-null    object \n",
      " 6   Easting              423 non-null    int64  \n",
      " 7   Northing             423 non-null    int64  \n",
      " 8   pH                   423 non-null    float64\n",
      " 9   OM_%w/w              89 non-null     float64\n",
      " 10  N_total_%w/w         89 non-null     float64\n",
      " 11  C_total_%w/w         89 non-null     float64\n",
      "dtypes: float64(4), int64(4), object(4)\n",
      "memory usage: 39.8+ KB\n"
     ]
    }
   ],
   "source": [
    "field_2013.info()"
   ]
  },
  {
   "cell_type": "code",
   "execution_count": 81,
   "id": "f73953eb",
   "metadata": {},
   "outputs": [
    {
     "data": {
      "image/png": "[encoded data removed]",
      "text/plain": [
       "<Figure size 432x288 with 1 Axes>"
      ]
     },
     "metadata": {
      "needs_background": "light"
     },
     "output_type": "display_data"
    }
   ],
   "source": [
    "# Plot C% distribution\n",
    "field_2013['OM_%w/w'].plot(kind = 'hist', ec = 'black')\n",
    "plt.show()"
   ]
  },
  {
   "cell_type": "code",
   "execution_count": 84,
   "id": "e498cf92",
   "metadata": {},
   "outputs": [],
   "source": [
    "# Object to datetime\n",
    "field_2013['Sample_date'] = pd.to_datetime(field_2013['Sample_date'])"
   ]
  },
  {
   "cell_type": "code",
   "execution_count": 85,
   "id": "b338343d",
   "metadata": {},
   "outputs": [
    {
     "data": {
      "image/png": "[encoded data removed]",
      "text/plain": [
       "<Figure size 432x288 with 1 Axes>"
      ]
     },
     "metadata": {
      "needs_background": "light"
     },
     "output_type": "display_data"
    }
   ],
   "source": [
    "# Plot samples per date\n",
    "plt.plot(field_2013['Sample_date'], field_2013['OM_%w/w'], 'o', color = 'red', markersize=5)\n",
    "plt.show()"
   ]
  },
  {
   "cell_type": "markdown",
   "id": "a7c19f48",
   "metadata": {},
   "source": [
    "Analyse the data, search for duplicates and NAs"
   ]
  },
  {
   "cell_type": "code",
   "execution_count": 89,
   "id": "47fa75a3",
   "metadata": {},
   "outputs": [
    {
     "name": "stdout",
     "output_type": "stream",
     "text": [
      "[False, False, False, False, False, False, False, False, False, False, False, False, False, False, False, False, False, False, False, False, False, False, False, False, False, False, False, False, False, False, False, False, False, False, False, False, False, False, False, False, False, False, False, False, False, False, False, False, False, False, False, False, False, False, False, False, False, False, False, False, False, False, False, False, False, False, False, False, False, False, False, False, False, False, False, False, False, False, False, False, False, False, False, False, False, False, False, False, False]\n"
     ]
    }
   ],
   "source": [
    "# Check duplicates\n",
    "bool_series_13 = field_2013[['Easting', 'Northing']].duplicated()\n",
    "print(bool_series_13.tolist())"
   ]
  },
  {
   "cell_type": "code",
   "execution_count": 76,
   "id": "85673ffb",
   "metadata": {},
   "outputs": [
    {
     "data": {
      "text/plain": [
       "334"
      ]
     },
     "execution_count": 76,
     "metadata": {},
     "output_type": "execute_result"
    }
   ],
   "source": [
    "# Check NAs in C%\n",
    "field_2013['OM_%w/w'].isna().sum()"
   ]
  },
  {
   "cell_type": "code",
   "execution_count": 75,
   "id": "91035580",
   "metadata": {},
   "outputs": [
    {
     "data": {
      "text/plain": [
       "(423, 12)"
      ]
     },
     "execution_count": 75,
     "metadata": {},
     "output_type": "execute_result"
    }
   ],
   "source": [
    "field_2013.shape"
   ]
  },
  {
   "cell_type": "code",
   "execution_count": 79,
   "id": "37fa48f5",
   "metadata": {},
   "outputs": [],
   "source": [
    "field_2013.dropna(subset = 'OM_%w/w', inplace = True)"
   ]
  },
  {
   "cell_type": "code",
   "execution_count": 88,
   "id": "2eb00212",
   "metadata": {},
   "outputs": [],
   "source": [
    "field_2013.to_csv('field_2013.csv', index = False)"
   ]
  },
  {
   "cell_type": "markdown",
   "id": "4dd321e7",
   "metadata": {},
   "source": [
    "### Year 2016"
   ]
  },
  {
   "cell_type": "code",
   "execution_count": 90,
   "id": "b8b81b42",
   "metadata": {},
   "outputs": [],
   "source": [
    "## Load data\n",
    "field_2016 = pd.read_csv('Field Survey Data_Format 1_Soil Survey_2016-01-01_2016-12-31.csv')"
   ]
  },
  {
   "cell_type": "code",
   "execution_count": null,
   "id": "8ace0711",
   "metadata": {},
   "outputs": [],
   "source": [
    "# Check columns\n",
    "field_2016.columns"
   ]
  },
  {
   "cell_type": "code",
   "execution_count": 91,
   "id": "2295ab92",
   "metadata": {},
   "outputs": [],
   "source": [
    "# Columns to keep\n",
    "columns_to_keep = ['Experiment_Id','SP_ID','sample_distance (m)','Field','Sample_date','Sample_time', \n",
    "                   'Easting','Northing','pH','Bulk density (g/cm3)',\n",
    "                   'SOM (% of DM)', 'Total-N (% of DM)', 'Total-C (% of DM)']"
   ]
  },
  {
   "cell_type": "code",
   "execution_count": 92,
   "id": "4b77024c",
   "metadata": {},
   "outputs": [],
   "source": [
    "# Drop other columns\n",
    "field_2016 = field_2016[columns_to_keep]"
   ]
  },
  {
   "cell_type": "code",
   "execution_count": 93,
   "id": "9b592dd9",
   "metadata": {},
   "outputs": [
    {
     "data": {
      "text/html": [
       "<div>\n",
       "<style scoped>\n",
       "    .dataframe tbody tr th:only-of-type {\n",
       "        vertical-align: middle;\n",
       "    }\n",
       "\n",
       "    .dataframe tbody tr th {\n",
       "        vertical-align: top;\n",
       "    }\n",
       "\n",
       "    .dataframe thead th {\n",
       "        text-align: right;\n",
       "    }\n",
       "</style>\n",
       "<table border=\"1\" class=\"dataframe\">\n",
       "  <thead>\n",
       "    <tr style=\"text-align: right;\">\n",
       "      <th></th>\n",
       "      <th>Experiment_Id</th>\n",
       "      <th>SP_ID</th>\n",
       "      <th>sample_distance (m)</th>\n",
       "      <th>Field</th>\n",
       "      <th>Sample_date</th>\n",
       "      <th>Sample_time</th>\n",
       "      <th>Easting</th>\n",
       "      <th>Northing</th>\n",
       "      <th>pH</th>\n",
       "      <th>Bulk density (g/cm3)</th>\n",
       "      <th>SOM (% of DM)</th>\n",
       "      <th>Total-N (% of DM)</th>\n",
       "      <th>Total-C (% of DM)</th>\n",
       "    </tr>\n",
       "  </thead>\n",
       "  <tbody>\n",
       "    <tr>\n",
       "      <th>0</th>\n",
       "      <td>FP059</td>\n",
       "      <td>1</td>\n",
       "      <td>50</td>\n",
       "      <td>Pecketsford</td>\n",
       "      <td>14/07/2016</td>\n",
       "      <td>16:24:00</td>\n",
       "      <td>265631.6521</td>\n",
       "      <td>99300.30838</td>\n",
       "      <td>5.60</td>\n",
       "      <td>0.56</td>\n",
       "      <td>12.9</td>\n",
       "      <td>0.525</td>\n",
       "      <td>5.390</td>\n",
       "    </tr>\n",
       "    <tr>\n",
       "      <th>1</th>\n",
       "      <td>FP059</td>\n",
       "      <td>2</td>\n",
       "      <td>50</td>\n",
       "      <td>Pecketsford</td>\n",
       "      <td>14/07/2016</td>\n",
       "      <td>16:20:00</td>\n",
       "      <td>265625.0000</td>\n",
       "      <td>99275.00000</td>\n",
       "      <td>5.41</td>\n",
       "      <td>0.70</td>\n",
       "      <td>10.6</td>\n",
       "      <td>0.446</td>\n",
       "      <td>4.280</td>\n",
       "    </tr>\n",
       "    <tr>\n",
       "      <th>2</th>\n",
       "      <td>FP059</td>\n",
       "      <td>7</td>\n",
       "      <td>50</td>\n",
       "      <td>Pecketsford</td>\n",
       "      <td>14/07/2016</td>\n",
       "      <td>16:09:00</td>\n",
       "      <td>265575.0000</td>\n",
       "      <td>99225.00000</td>\n",
       "      <td>5.49</td>\n",
       "      <td>1.06</td>\n",
       "      <td>9.7</td>\n",
       "      <td>0.404</td>\n",
       "      <td>3.667</td>\n",
       "    </tr>\n",
       "    <tr>\n",
       "      <th>3</th>\n",
       "      <td>FP059</td>\n",
       "      <td>9</td>\n",
       "      <td>50</td>\n",
       "      <td>Pecketsford</td>\n",
       "      <td>14/07/2016</td>\n",
       "      <td>16:15:00</td>\n",
       "      <td>265625.0000</td>\n",
       "      <td>99225.00000</td>\n",
       "      <td>5.28</td>\n",
       "      <td>1.05</td>\n",
       "      <td>10.2</td>\n",
       "      <td>0.424</td>\n",
       "      <td>4.100</td>\n",
       "    </tr>\n",
       "    <tr>\n",
       "      <th>4</th>\n",
       "      <td>FP059</td>\n",
       "      <td>17</td>\n",
       "      <td>50</td>\n",
       "      <td>Pecketsford</td>\n",
       "      <td>14/07/2016</td>\n",
       "      <td>16:04:00</td>\n",
       "      <td>265575.0000</td>\n",
       "      <td>99175.00000</td>\n",
       "      <td>5.51</td>\n",
       "      <td>1.05</td>\n",
       "      <td>10.0</td>\n",
       "      <td>0.403</td>\n",
       "      <td>3.885</td>\n",
       "    </tr>\n",
       "  </tbody>\n",
       "</table>\n",
       "</div>"
      ],
      "text/plain": [
       "  Experiment_Id  SP_ID  sample_distance (m)        Field Sample_date  \\\n",
       "0         FP059      1                   50  Pecketsford  14/07/2016   \n",
       "1         FP059      2                   50  Pecketsford  14/07/2016   \n",
       "2         FP059      7                   50  Pecketsford  14/07/2016   \n",
       "3         FP059      9                   50  Pecketsford  14/07/2016   \n",
       "4         FP059     17                   50  Pecketsford  14/07/2016   \n",
       "\n",
       "  Sample_time      Easting     Northing    pH  Bulk density (g/cm3)  \\\n",
       "0    16:24:00  265631.6521  99300.30838  5.60                  0.56   \n",
       "1    16:20:00  265625.0000  99275.00000  5.41                  0.70   \n",
       "2    16:09:00  265575.0000  99225.00000  5.49                  1.06   \n",
       "3    16:15:00  265625.0000  99225.00000  5.28                  1.05   \n",
       "4    16:04:00  265575.0000  99175.00000  5.51                  1.05   \n",
       "\n",
       "   SOM (% of DM)  Total-N (% of DM)  Total-C (% of DM)  \n",
       "0           12.9              0.525              5.390  \n",
       "1           10.6              0.446              4.280  \n",
       "2            9.7              0.404              3.667  \n",
       "3           10.2              0.424              4.100  \n",
       "4           10.0              0.403              3.885  "
      ]
     },
     "execution_count": 93,
     "metadata": {},
     "output_type": "execute_result"
    }
   ],
   "source": [
    "# A glimpse on the data\n",
    "field_2016.head()"
   ]
  },
  {
   "cell_type": "code",
   "execution_count": 94,
   "id": "f54d3903",
   "metadata": {},
   "outputs": [],
   "source": [
    "# Dictionary with names\n",
    "dict_names_2016 = {'Bulk density (g/cm3)':'BD_gcm3', 'SOM (% of DM)': 'OM_%w/w', \n",
    "                   'Total-N (% of DM)': 'N_total_%w/w', 'Total-C (% of DM)': 'C_total_%w/w'}"
   ]
  },
  {
   "cell_type": "code",
   "execution_count": 95,
   "id": "227fc5a7",
   "metadata": {},
   "outputs": [],
   "source": [
    "# Rename columns\n",
    "field_2016.rename(columns = dict_names_2016, inplace = True)"
   ]
  },
  {
   "cell_type": "code",
   "execution_count": 96,
   "id": "61b392fa",
   "metadata": {},
   "outputs": [
    {
     "name": "stdout",
     "output_type": "stream",
     "text": [
      "<class 'pandas.core.frame.DataFrame'>\n",
      "RangeIndex: 396 entries, 0 to 395\n",
      "Data columns (total 13 columns):\n",
      " #   Column               Non-Null Count  Dtype  \n",
      "---  ------               --------------  -----  \n",
      " 0   Experiment_Id        396 non-null    object \n",
      " 1   SP_ID                396 non-null    int64  \n",
      " 2   sample_distance (m)  396 non-null    int64  \n",
      " 3   Field                396 non-null    object \n",
      " 4   Sample_date          396 non-null    object \n",
      " 5   Sample_time          396 non-null    object \n",
      " 6   Easting              396 non-null    float64\n",
      " 7   Northing             396 non-null    float64\n",
      " 8   pH                   347 non-null    float64\n",
      " 9   BD_gcm3              392 non-null    float64\n",
      " 10  OM_%w/w              348 non-null    float64\n",
      " 11  N_total_%w/w         348 non-null    float64\n",
      " 12  C_total_%w/w         348 non-null    float64\n",
      "dtypes: float64(7), int64(2), object(4)\n",
      "memory usage: 40.3+ KB\n"
     ]
    }
   ],
   "source": [
    "# Info\n",
    "field_2016.info()"
   ]
  },
  {
   "cell_type": "code",
   "execution_count": 97,
   "id": "467e2e19",
   "metadata": {},
   "outputs": [],
   "source": [
    "# Convert object to datetime\n",
    "field_2016['Sample_date'] = pd.to_datetime(field_2016['Sample_date'])"
   ]
  },
  {
   "cell_type": "code",
   "execution_count": 98,
   "id": "60a91e94",
   "metadata": {},
   "outputs": [
    {
     "data": {
      "image/png": "[encoded data removed]",
      "text/plain": [
       "<Figure size 432x288 with 1 Axes>"
      ]
     },
     "metadata": {
      "needs_background": "light"
     },
     "output_type": "display_data"
    }
   ],
   "source": [
    "# Plot C% distribution\n",
    "field_2016['OM_%w/w'].plot(kind = 'hist', ec = 'black')\n",
    "plt.show()"
   ]
  },
  {
   "cell_type": "code",
   "execution_count": 116,
   "id": "2c1bb639",
   "metadata": {},
   "outputs": [
    {
     "data": {
      "image/png": "[encoded data removed]",
      "text/plain": [
       "<Figure size 432x288 with 1 Axes>"
      ]
     },
     "metadata": {
      "needs_background": "light"
     },
     "output_type": "display_data"
    }
   ],
   "source": [
    "# Plot C% by date\n",
    "plt.plot(field_2016['Sample_date'], field_2016['OM_%w/w'], 'o', color = 'red', markersize=5)\n",
    "plt.show()"
   ]
  },
  {
   "cell_type": "markdown",
   "id": "fcad8871",
   "metadata": {},
   "source": [
    "Analyse the data, search for duplicates and NAs"
   ]
  },
  {
   "cell_type": "code",
   "execution_count": 102,
   "id": "87ef544b",
   "metadata": {},
   "outputs": [
    {
     "name": "stdout",
     "output_type": "stream",
     "text": [
      "[False, False, False, False, False, False, False, False, True, False, False, False, False, False, False, False, False, False, False, False, False, False, False, False, False, False, False, False, False, False, False, False, False, False, False, False, False, False, False, False, False, False, False, False, False, False, False, False, False, False, False, False, False, False, False, False, False, False, False, False, False, False, False, False, False, False, False, False, False, False, False, False, False, False, False, False, False, False, False, False, False, False, False, False, False, False, False, False, False, False, False, False, False, False, False, False, False, False, False, False, False, False, False, False, False, False, False, False, False, False, False, False, False, False, False, False, False, False, False, False, False, False, False, False, False, False, False, False, False, False, False, False, False, False, False, False, False, False, False, False, False, False, False, False, False, False, False, False, False, False, False, False, False, False, False, False, False, False, False, False, False, False, False, False, False, False, False, False, False, False, False, False, False, False, False, False, False, False, False, False, False, False, False, False, False, False, False, False, False, False, False, False, False, False, False, False, False, False, False, False, False, False, False, False, False, False, False, False, False, False, False, False, False, False, False, False, False, False, False, False, False, False, False, False, False, False, False, False, False, False, False, False, False, False, False, False, False, False, False, False, False, False, False, False, False, False, False, False, False, False, False, False, False, False, False, False, False, False, False, False, False, False, False, False, False, False, False, False, False, False, False, False, False, False, False, False, False, False, False, False, False, False, False, False, False, False, False, False, False, False, False, False, False, False, False, False, False, False, False, False, False, False, False, False, False, False, False, False, False, False, False, False, False, False, False, False, False, False, False, False, False, False, False, False, False, False, False, False, False, False, False, False, False, False, False, False, False, False, False, False, False, False, False, False, False, False, False, False, False, False, False, False, False, False, False, False, False, False, False, False, False, False, False, False, False, False, False, False, False, False, False, False, False, False, False, False, False, False, False, False, False, False, False, False, False, False, False, False, False, False, False, False, False, False, False, False]\n"
     ]
    }
   ],
   "source": [
    "# Check duplicates\n",
    "bool_series_16 = field_2016[['Sample_date','Easting', 'Northing']].duplicated()\n",
    "print(bool_series_16.tolist())"
   ]
  },
  {
   "cell_type": "code",
   "execution_count": 103,
   "id": "108fe161",
   "metadata": {},
   "outputs": [
    {
     "data": {
      "text/plain": [
       "48"
      ]
     },
     "execution_count": 103,
     "metadata": {},
     "output_type": "execute_result"
    }
   ],
   "source": [
    "# Check NAs in C%\n",
    "field_2016['OM_%w/w'].isna().sum()"
   ]
  },
  {
   "cell_type": "code",
   "execution_count": 104,
   "id": "47e9be32",
   "metadata": {},
   "outputs": [],
   "source": [
    "field_2016.dropna(subset = 'OM_%w/w', inplace = True)"
   ]
  },
  {
   "cell_type": "code",
   "execution_count": 105,
   "id": "4c59b17b",
   "metadata": {},
   "outputs": [],
   "source": [
    "field_2016.to_csv('field_2016.csv', index = False)"
   ]
  },
  {
   "cell_type": "markdown",
   "id": "109c568f",
   "metadata": {},
   "source": [
    "### Year 2018"
   ]
  },
  {
   "cell_type": "code",
   "execution_count": 106,
   "id": "3a66628e",
   "metadata": {},
   "outputs": [],
   "source": [
    "## Load data\n",
    "field_2018 = pd.read_csv('Field Survey Data_Format 1_Soil Survey_2018-01-01_2018-12-31.csv')"
   ]
  },
  {
   "cell_type": "code",
   "execution_count": 107,
   "id": "57f04f36",
   "metadata": {},
   "outputs": [
    {
     "data": {
      "text/plain": [
       "Index(['Experiment_Id', 'SP_ID', 'sample_distance (m)', 'Field', 'Flume',\n",
       "       'Sample_date', 'Sample_time', 'comments', 'Start_Sample_Date',\n",
       "       'GPS_Sample_Nr', 'Easting', 'Northing', 'pH', 'pH_NRM1 Quality',\n",
       "       'pH_NRM1 Quality Last Modified', 'P (mg/l) (available)',\n",
       "       'P_Olsen_NRM1 Quality', 'P_Olsen_NRM1 Quality Last Modified',\n",
       "       'K (mg/l) (available)', 'K_NRM1 Quality',\n",
       "       'K_NRM1 Quality Last Modified', 'Mg (mg/l) (available)',\n",
       "       'Mg_NRM1 Quality', 'Mg_NRM1 Quality Last Modified', 'Copper (mg/l)',\n",
       "       'Cu_NRM1 Quality', 'Cu_NRM1 Quality Last Modified', 'Boron (mg/l)',\n",
       "       'B_NRM1 Quality', 'B_NRM1 Quality Last Modified', 'Sodium (mg/l)',\n",
       "       'Na_NRM1 Quality', 'Na_NRM1 Quality Last Modified', 'Zinc (mg/l)',\n",
       "       'Zn_NRM1 Quality', 'Zn_NRM1 Quality Last Modified', 'Calcium (mg/l)',\n",
       "       'Ca_NRM1 Quality', 'Ca_NRM1 Quality Last Modified', 'Molybdenum (mg/l)',\n",
       "       'Mo_NRM1 Quality', 'Mo_NRM1 Quality Last Modified', 'Iron (mg/l)',\n",
       "       'Fe_NRM1 Quality', 'Fe_NRM1 Quality Last Modified', 'Sulphate (mg/l)',\n",
       "       'SO4_NRM1 Quality', 'SO4_NRM1 Quality Last Modified',\n",
       "       'Manganese (mg/l)', 'Mn_NRM1 Quality', 'Mn_NRM1 Quality Last Modified',\n",
       "       'Cobalt (mg/l)', 'Co_NRM1 Quality', 'Co_NRM1 Quality Last Modified',\n",
       "       'Estimated Cation Exchange Capacity (meq/100g)', 'CEC_NRM1 Quality',\n",
       "       'CEC_NRM1 Quality Last Modified', 'Dry Matter Content (%w/w)',\n",
       "       'DM_NRM1 Quality', 'DM_NRM1 Quality Last Modified',\n",
       "       'Nitrate N (mg/kg) ', 'NO3_N_NRM1 Quality',\n",
       "       'NO3_N_NRM1 Quality Last Modified', 'Ammonium N (mg/kg) ',\n",
       "       'NH3_N_NRM1 Quality', 'NH3_N_NRM1 Quality Last Modified',\n",
       "       'Conductivity (uS/cm)', 'Conductivity_NRM1 Quality',\n",
       "       'Conductivity_NRM1 Quality Last Modified', 'Organic matter LOI (%w/w)',\n",
       "       'OM_LOI_NRM1 Quality', 'OM_LOI_NRM1 Quality Last Modified',\n",
       "       'Total N (%w/w) Soil', 'Total_N_S_NRM1 Quality',\n",
       "       'Total_N_S_NRM1 Quality Last Modified', 'Total P (mg/kg) ',\n",
       "       'Total_P_S_NRM1 Quality', 'Total_P_S_NRM1 Quality Last Modified',\n",
       "       'Total Se (mg/kg)', 'Total_Se_NRM1 Quality',\n",
       "       'Total_Se_NRM1 Quality Last Modified', 'Total C (%w/w) Soil',\n",
       "       'Total_C_S_NRM1 Quality', 'Total_C_S_NRM1 Quality Last Modified',\n",
       "       'Nitrite N (mg/kg) ', 'NO2_N_NRM1 Quality',\n",
       "       'NO2_N_NRM1 Quality Last Modified', 'Dry Matter Content (%) in-house',\n",
       "       'DM_S_NW1 Quality', 'DM_S_NW1 Quality Last Modified'],\n",
       "      dtype='object')"
      ]
     },
     "execution_count": 107,
     "metadata": {},
     "output_type": "execute_result"
    }
   ],
   "source": [
    "# Check columns\n",
    "field_2018.columns"
   ]
  },
  {
   "cell_type": "code",
   "execution_count": 108,
   "id": "4dfcc7e5",
   "metadata": {},
   "outputs": [],
   "source": [
    "# Columns to keep\n",
    "columns_to_keep2018 = ['Experiment_Id', 'SP_ID', 'sample_distance (m)', 'Field', 'Sample_date', 'Sample_time',\n",
    "                       'Easting', 'Northing', 'pH','Conductivity (uS/cm)', 'Organic matter LOI (%w/w)', 'Total N (%w/w) Soil',\n",
    "                      'Total C (%w/w) Soil']"
   ]
  },
  {
   "cell_type": "code",
   "execution_count": 109,
   "id": "30a3da7c",
   "metadata": {},
   "outputs": [],
   "source": [
    "# Keep the columns\n",
    "field_2018 = field_2018[columns_to_keep2018]"
   ]
  },
  {
   "cell_type": "code",
   "execution_count": 110,
   "id": "857c39ca",
   "metadata": {},
   "outputs": [],
   "source": [
    "# Dictionary with column names\n",
    "dict_names_2018 = {'Conductivity (uS/cm)':'conductivity_uScm', 'Organic matter LOI (%w/w)': 'OM_%w/w', \n",
    "                   'Total N (%w/w) Soil': 'N_total_%w/w', 'Total C (%w/w) Soil': 'C_total_%w/w'}"
   ]
  },
  {
   "cell_type": "code",
   "execution_count": 111,
   "id": "91cbb209",
   "metadata": {},
   "outputs": [],
   "source": [
    "# Rename columns\n",
    "field_2018.rename(columns = dict_names_2018 , inplace = True)"
   ]
  },
  {
   "cell_type": "code",
   "execution_count": 112,
   "id": "bdb91424",
   "metadata": {},
   "outputs": [
    {
     "name": "stdout",
     "output_type": "stream",
     "text": [
      "<class 'pandas.core.frame.DataFrame'>\n",
      "RangeIndex: 294 entries, 0 to 293\n",
      "Data columns (total 13 columns):\n",
      " #   Column               Non-Null Count  Dtype  \n",
      "---  ------               --------------  -----  \n",
      " 0   Experiment_Id        294 non-null    object \n",
      " 1   SP_ID                294 non-null    int64  \n",
      " 2   sample_distance (m)  0 non-null      float64\n",
      " 3   Field                294 non-null    object \n",
      " 4   Sample_date          294 non-null    object \n",
      " 5   Sample_time          294 non-null    object \n",
      " 6   Easting              294 non-null    float64\n",
      " 7   Northing             294 non-null    float64\n",
      " 8   pH                   84 non-null     float64\n",
      " 9   conductivity_uScm    80 non-null     float64\n",
      " 10  OM_%w/w              84 non-null     float64\n",
      " 11  N_total_%w/w         84 non-null     float64\n",
      " 12  C_total_%w/w         84 non-null     float64\n",
      "dtypes: float64(8), int64(1), object(4)\n",
      "memory usage: 30.0+ KB\n"
     ]
    }
   ],
   "source": [
    "# Info\n",
    "field_2018.info()"
   ]
  },
  {
   "cell_type": "code",
   "execution_count": 113,
   "id": "eea233e5",
   "metadata": {},
   "outputs": [],
   "source": [
    "# Convert object to datetime\n",
    "field_2018['Sample_date'] = pd.to_datetime(field_2018['Sample_date'])"
   ]
  },
  {
   "cell_type": "code",
   "execution_count": 127,
   "id": "b2438df8",
   "metadata": {},
   "outputs": [
    {
     "data": {
      "image/png": "[encoded data removed]",
      "text/plain": [
       "<Figure size 432x288 with 1 Axes>"
      ]
     },
     "metadata": {
      "needs_background": "light"
     },
     "output_type": "display_data"
    }
   ],
   "source": [
    "# Plot C% distribution\n",
    "field_2018['OM_%w/w'].plot(kind = 'hist', ec = 'black')\n",
    "plt.show()"
   ]
  },
  {
   "cell_type": "code",
   "execution_count": 128,
   "id": "1d8caa75",
   "metadata": {},
   "outputs": [
    {
     "data": {
      "image/png": "[encoded data removed]",
      "text/plain": [
       "<Figure size 432x288 with 1 Axes>"
      ]
     },
     "metadata": {
      "needs_background": "light"
     },
     "output_type": "display_data"
    }
   ],
   "source": [
    "# Plot C% by date\n",
    "plt.plot(field_2018['OM_%w/w'], field_2018['Sample_date'], 'o', color = 'red', markersize=5)\n",
    "plt.show()"
   ]
  },
  {
   "cell_type": "markdown",
   "id": "c3a35058",
   "metadata": {},
   "source": [
    "Analyse the data, search for duplicates and NAs"
   ]
  },
  {
   "cell_type": "code",
   "execution_count": 119,
   "id": "b0f178f3",
   "metadata": {},
   "outputs": [
    {
     "name": "stdout",
     "output_type": "stream",
     "text": [
      "[False, False, False, False, False, False, False, False, False, False, False, False, False, False, False, False, False, False, False, False, False, False, False, False, False, False, False, False, False, False, False, False, False, False, False, False, False, False, False, False, False, False, False, False, False, False, False, False, False, False, False, False, False, False, False, False, False, False, False, False, False, False, False, False, False, False, False, False, False, False, False, False, False, False, False, False, False, False, False, False, False, False, False, False, False, False, False, False, False, False, False, False, False, False, False, False, False, False, False, False, False, False, False, False, False, False, False, False, False, False, False, False, False, False, False, False, False, False, False, False, False, False, False, False, False, False, False, False, False, False, False, False, False, False, False, False, False, False, False, False, False, False, False, False, False, False, False, False, False, False, False, False, False, False, False, False, False, False, False, False, False, False, False, False, False, False, False, False, False, False, False, False, False, False, False, False, False, False, False, False, False, False, False, False, False, False, False, False, False, False, False, False, False, False, False, False, False, False, False, False, False, False, False, False, False, False, False, False, False, False, False, False, False, False, False, False, False, False, False, False, False, False, False, False, False, False, False, False, False, False, False, False, False, False, False, False, False, False, False, False, False, False, False, False, False, False, False, False, False, False, False, False, False, False, False, False, False, False, False, False, False, False, False, False, False, False, False, False, False, False, False, False, False, False, False, False, False, False, False, False, False, False, False, False, False, False, False, False, False, False, False, False, False, False]\n"
     ]
    }
   ],
   "source": [
    "# Check duplicates\n",
    "bool_series_18 = field_2018[['Sample_date','Easting', 'Northing']].duplicated()\n",
    "print(bool_series_18.tolist())"
   ]
  },
  {
   "cell_type": "code",
   "execution_count": 126,
   "id": "72141a31",
   "metadata": {},
   "outputs": [
    {
     "data": {
      "text/plain": [
       "0"
      ]
     },
     "execution_count": 126,
     "metadata": {},
     "output_type": "execute_result"
    }
   ],
   "source": [
    "# Check NAs in C%\n",
    "field_2018['C_total_%w/w'].isna().sum()"
   ]
  },
  {
   "cell_type": "code",
   "execution_count": 125,
   "id": "636ee19a",
   "metadata": {},
   "outputs": [
    {
     "data": {
      "text/plain": [
       "(84, 13)"
      ]
     },
     "execution_count": 125,
     "metadata": {},
     "output_type": "execute_result"
    }
   ],
   "source": [
    "field_2018.shape"
   ]
  },
  {
   "cell_type": "code",
   "execution_count": 124,
   "id": "ec6121f7",
   "metadata": {},
   "outputs": [],
   "source": [
    "field_2018.dropna(subset = 'OM_%w/w', inplace = True)"
   ]
  },
  {
   "cell_type": "code",
   "execution_count": 129,
   "id": "8258e9a9",
   "metadata": {},
   "outputs": [],
   "source": [
    "field_2018.to_csv('field_2018.csv', index = False)"
   ]
  },
  {
   "cell_type": "markdown",
   "id": "260c63b9",
   "metadata": {},
   "source": [
    "### Year 2019"
   ]
  },
  {
   "cell_type": "code",
   "execution_count": 130,
   "id": "0062f59c",
   "metadata": {},
   "outputs": [],
   "source": [
    "## Load data\n",
    "field_2019 = pd.read_csv('Field Survey Data_Format 1_Soil Survey_2019-01-01_2019-12-31.csv')"
   ]
  },
  {
   "cell_type": "code",
   "execution_count": null,
   "id": "23a3bc2d",
   "metadata": {},
   "outputs": [],
   "source": [
    "# Check columns\n",
    "field_2019.columns.tolist()"
   ]
  },
  {
   "cell_type": "code",
   "execution_count": 133,
   "id": "b79096c3",
   "metadata": {},
   "outputs": [],
   "source": [
    "# Columns to keep\n",
    "columns_to_keep2019 = ['Experiment_Id', 'SP_ID', 'sample_distance (m)', 'Field', 'Sample_date', 'Sample_time',\n",
    "                       'Easting', 'Northing', 'pH','Conductivity (uS/cm)', 'Organic matter LOI (%w/w)', 'Total N (%w/w) Soil',\n",
    "                      'Total C (%w/w) Soil']"
   ]
  },
  {
   "cell_type": "code",
   "execution_count": 134,
   "id": "4d484bb0",
   "metadata": {},
   "outputs": [],
   "source": [
    "# Remobe other columns\n",
    "field_2019 = field_2019[columns_to_keep2019]"
   ]
  },
  {
   "cell_type": "code",
   "execution_count": 135,
   "id": "40dbbf6e",
   "metadata": {},
   "outputs": [
    {
     "data": {
      "text/html": [
       "<div>\n",
       "<style scoped>\n",
       "    .dataframe tbody tr th:only-of-type {\n",
       "        vertical-align: middle;\n",
       "    }\n",
       "\n",
       "    .dataframe tbody tr th {\n",
       "        vertical-align: top;\n",
       "    }\n",
       "\n",
       "    .dataframe thead th {\n",
       "        text-align: right;\n",
       "    }\n",
       "</style>\n",
       "<table border=\"1\" class=\"dataframe\">\n",
       "  <thead>\n",
       "    <tr style=\"text-align: right;\">\n",
       "      <th></th>\n",
       "      <th>Experiment_Id</th>\n",
       "      <th>SP_ID</th>\n",
       "      <th>sample_distance (m)</th>\n",
       "      <th>Field</th>\n",
       "      <th>Sample_date</th>\n",
       "      <th>Sample_time</th>\n",
       "      <th>Easting</th>\n",
       "      <th>Northing</th>\n",
       "      <th>pH</th>\n",
       "      <th>Conductivity (uS/cm)</th>\n",
       "      <th>Organic matter LOI (%w/w)</th>\n",
       "      <th>Total N (%w/w) Soil</th>\n",
       "      <th>Total C (%w/w) Soil</th>\n",
       "    </tr>\n",
       "  </thead>\n",
       "  <tbody>\n",
       "    <tr>\n",
       "      <th>0</th>\n",
       "      <td>NW702-SP</td>\n",
       "      <td>19</td>\n",
       "      <td>NaN</td>\n",
       "      <td>Pecketsford</td>\n",
       "      <td>18/03/2019</td>\n",
       "      <td>12:01:00</td>\n",
       "      <td>265650.7</td>\n",
       "      <td>99239.591</td>\n",
       "      <td>NaN</td>\n",
       "      <td>NaN</td>\n",
       "      <td>NaN</td>\n",
       "      <td>NaN</td>\n",
       "      <td>NaN</td>\n",
       "    </tr>\n",
       "    <tr>\n",
       "      <th>1</th>\n",
       "      <td>NW702-SP</td>\n",
       "      <td>19</td>\n",
       "      <td>NaN</td>\n",
       "      <td>Pecketsford</td>\n",
       "      <td>18/03/2019</td>\n",
       "      <td>12:02:00</td>\n",
       "      <td>265576.3</td>\n",
       "      <td>99180.488</td>\n",
       "      <td>NaN</td>\n",
       "      <td>NaN</td>\n",
       "      <td>NaN</td>\n",
       "      <td>NaN</td>\n",
       "      <td>NaN</td>\n",
       "    </tr>\n",
       "    <tr>\n",
       "      <th>2</th>\n",
       "      <td>NW702-SP</td>\n",
       "      <td>19</td>\n",
       "      <td>NaN</td>\n",
       "      <td>Pecketsford</td>\n",
       "      <td>18/03/2019</td>\n",
       "      <td>12:03:00</td>\n",
       "      <td>265572.8</td>\n",
       "      <td>99122.300</td>\n",
       "      <td>NaN</td>\n",
       "      <td>NaN</td>\n",
       "      <td>NaN</td>\n",
       "      <td>NaN</td>\n",
       "      <td>NaN</td>\n",
       "    </tr>\n",
       "    <tr>\n",
       "      <th>3</th>\n",
       "      <td>NW702-SP</td>\n",
       "      <td>19</td>\n",
       "      <td>NaN</td>\n",
       "      <td>Pecketsford</td>\n",
       "      <td>18/03/2019</td>\n",
       "      <td>12:04:00</td>\n",
       "      <td>265617.2</td>\n",
       "      <td>99169.389</td>\n",
       "      <td>NaN</td>\n",
       "      <td>NaN</td>\n",
       "      <td>NaN</td>\n",
       "      <td>NaN</td>\n",
       "      <td>NaN</td>\n",
       "    </tr>\n",
       "    <tr>\n",
       "      <th>4</th>\n",
       "      <td>NW702-SP</td>\n",
       "      <td>19</td>\n",
       "      <td>NaN</td>\n",
       "      <td>Pecketsford</td>\n",
       "      <td>18/03/2019</td>\n",
       "      <td>12:05:00</td>\n",
       "      <td>265659.1</td>\n",
       "      <td>99203.655</td>\n",
       "      <td>NaN</td>\n",
       "      <td>NaN</td>\n",
       "      <td>NaN</td>\n",
       "      <td>NaN</td>\n",
       "      <td>NaN</td>\n",
       "    </tr>\n",
       "  </tbody>\n",
       "</table>\n",
       "</div>"
      ],
      "text/plain": [
       "  Experiment_Id  SP_ID  sample_distance (m)        Field Sample_date  \\\n",
       "0      NW702-SP     19                  NaN  Pecketsford  18/03/2019   \n",
       "1      NW702-SP     19                  NaN  Pecketsford  18/03/2019   \n",
       "2      NW702-SP     19                  NaN  Pecketsford  18/03/2019   \n",
       "3      NW702-SP     19                  NaN  Pecketsford  18/03/2019   \n",
       "4      NW702-SP     19                  NaN  Pecketsford  18/03/2019   \n",
       "\n",
       "  Sample_time   Easting   Northing  pH  Conductivity (uS/cm)  \\\n",
       "0    12:01:00  265650.7  99239.591 NaN                   NaN   \n",
       "1    12:02:00  265576.3  99180.488 NaN                   NaN   \n",
       "2    12:03:00  265572.8  99122.300 NaN                   NaN   \n",
       "3    12:04:00  265617.2  99169.389 NaN                   NaN   \n",
       "4    12:05:00  265659.1  99203.655 NaN                   NaN   \n",
       "\n",
       "   Organic matter LOI (%w/w)  Total N (%w/w) Soil  Total C (%w/w) Soil  \n",
       "0                        NaN                  NaN                  NaN  \n",
       "1                        NaN                  NaN                  NaN  \n",
       "2                        NaN                  NaN                  NaN  \n",
       "3                        NaN                  NaN                  NaN  \n",
       "4                        NaN                  NaN                  NaN  "
      ]
     },
     "execution_count": 135,
     "metadata": {},
     "output_type": "execute_result"
    }
   ],
   "source": [
    "# A glimpse on the dataset\n",
    "field_2019.head()"
   ]
  },
  {
   "cell_type": "code",
   "execution_count": 136,
   "id": "30644654",
   "metadata": {},
   "outputs": [],
   "source": [
    "# Dictionary with column names\n",
    "dict_names_2019 = {'Conductivity (uS/cm)':'conductivity_uScm', 'Organic matter LOI (%w/w)': 'OM_%w/w', \n",
    "                   'Total N (%w/w) Soil': 'N_total_%w/w', 'Total C (%w/w) Soil': 'C_total_%w/w'}"
   ]
  },
  {
   "cell_type": "code",
   "execution_count": 137,
   "id": "7510f9b6",
   "metadata": {},
   "outputs": [],
   "source": [
    "# Rename columns\n",
    "field_2019.rename(columns = dict_names_2019, inplace = True)"
   ]
  },
  {
   "cell_type": "code",
   "execution_count": 138,
   "id": "9a55aecb",
   "metadata": {},
   "outputs": [
    {
     "name": "stdout",
     "output_type": "stream",
     "text": [
      "<class 'pandas.core.frame.DataFrame'>\n",
      "RangeIndex: 403 entries, 0 to 402\n",
      "Data columns (total 13 columns):\n",
      " #   Column               Non-Null Count  Dtype  \n",
      "---  ------               --------------  -----  \n",
      " 0   Experiment_Id        403 non-null    object \n",
      " 1   SP_ID                403 non-null    int64  \n",
      " 2   sample_distance (m)  27 non-null     float64\n",
      " 3   Field                403 non-null    object \n",
      " 4   Sample_date          403 non-null    object \n",
      " 5   Sample_time          403 non-null    object \n",
      " 6   Easting              403 non-null    float64\n",
      " 7   Northing             403 non-null    float64\n",
      " 8   pH                   166 non-null    float64\n",
      " 9   conductivity_uScm    162 non-null    float64\n",
      " 10  OM_%w/w              166 non-null    float64\n",
      " 11  N_total_%w/w         166 non-null    float64\n",
      " 12  C_total_%w/w         166 non-null    float64\n",
      "dtypes: float64(8), int64(1), object(4)\n",
      "memory usage: 41.1+ KB\n"
     ]
    }
   ],
   "source": [
    "# Info\n",
    "field_2019.info()"
   ]
  },
  {
   "cell_type": "code",
   "execution_count": 139,
   "id": "323fa901",
   "metadata": {},
   "outputs": [],
   "source": [
    "# Convert object to datetime\n",
    "field_2019['Sample_date'] = pd.to_datetime(field_2019['Sample_date'])"
   ]
  },
  {
   "cell_type": "code",
   "execution_count": 140,
   "id": "420cf0d0",
   "metadata": {},
   "outputs": [
    {
     "data": {
      "image/png": "[encoded data removed]",
      "text/plain": [
       "<Figure size 432x288 with 1 Axes>"
      ]
     },
     "metadata": {
      "needs_background": "light"
     },
     "output_type": "display_data"
    }
   ],
   "source": [
    "# Plot C% distribution\n",
    "field_2019['OM_%w/w'].plot(kind = 'hist', ec = 'black')\n",
    "plt.show()"
   ]
  },
  {
   "cell_type": "code",
   "execution_count": 141,
   "id": "4b79ec11",
   "metadata": {},
   "outputs": [
    {
     "data": {
      "image/png": "[encoded data removed]",
      "text/plain": [
       "<Figure size 432x288 with 1 Axes>"
      ]
     },
     "metadata": {
      "needs_background": "light"
     },
     "output_type": "display_data"
    }
   ],
   "source": [
    "# Plot C% by date\n",
    "plt.plot(field_2019['OM_%w/w'], field_2019['Sample_date'], 'o', color = 'red', markersize = 5)\n",
    "plt.show()"
   ]
  },
  {
   "cell_type": "markdown",
   "id": "dc8a1750",
   "metadata": {},
   "source": [
    "Analyse the data, search for duplicates and NAs"
   ]
  },
  {
   "cell_type": "code",
   "execution_count": 144,
   "id": "eeec9bab",
   "metadata": {},
   "outputs": [
    {
     "name": "stdout",
     "output_type": "stream",
     "text": [
      "[False, False, False, False, False, False, False, False, False, False, False, False, False, False, False, False, False, False, False, False, False, False, False, False, False, False, False, False, False, False, False, False, False, False, False, False, False, False, False, False, False, False, False, False, False, False, False, False, False, False, False, False, False, False, False, False, False, False, False, False, False, False, False, False, False, False, False, False, False, False, False, False, False, False, False, False, False, False, False, False, False, False, False, False, False, False, False, False, False, False, False, False, False, False, False, False, False, False, False, False, False, False, False, False, False, False, False, False, False, False, False, False, False, False, False, False, False, False, False, False, False, False, False, False, False, False, False, False, False, False, False, False, False, False, False, False, False, False, False, False, False, False, False, False, False, False, False, False, False, False, False, False, False, False, False, False, False, False, False, False, False, False, False, False, False, False, False, False, False, False, False, False, False, False, False, False, False, False, False, False, False, False, False, False, False, False, False, False, False, False, False, False, False, False, False, False, False, False, False, False, False, False, False, False, False, False, False, False, False, False, False, False, False, False, False, False, False, False, False, False, False, False, False, False, False, False, False, False, False, False, False, False, False, False, False, False, False, False, False, False, False, False, False, False, False, False, False, False, False, False, False, False, False, False, False, False, False, False, False, False, False, False, False, False, False, False, False, False, False, False, False, False, False, False, False, False, False, False, False, False, False, False, False, False, False, False, False, False, False, False, False, False, False, False, False, False, False, False, False, False, False, False, False, False, False, False, False, False, False, False, False, False, False, False, False, False, False, False, False, False, False, False, False, False, False, False, False, False, False, False, False, False, False, False, False, False, False, False, False, False, False, False, False, False, False, False, False, False, False, False, False, False, False, False, False, False, False, False, False, False, False, False, False, False, False, False, False, False, False, False, False, False, False, False, False, False, False, False, False, False, False, False, False, False, False, False, False, False, False, False, False, False, False, False, False, False, False, False, False, False, False, False, False]\n"
     ]
    }
   ],
   "source": [
    "# Check duplicates\n",
    "bool_series_19 = field_2019[['Sample_date','Easting', 'Northing']].duplicated()\n",
    "print(bool_series_19.tolist())"
   ]
  },
  {
   "cell_type": "code",
   "execution_count": 149,
   "id": "75a57851",
   "metadata": {},
   "outputs": [
    {
     "data": {
      "text/plain": [
       "0"
      ]
     },
     "execution_count": 149,
     "metadata": {},
     "output_type": "execute_result"
    }
   ],
   "source": [
    "# Check NAs in C%\n",
    "field_2019['OM_%w/w'].isna().sum()"
   ]
  },
  {
   "cell_type": "code",
   "execution_count": 150,
   "id": "220395c5",
   "metadata": {},
   "outputs": [
    {
     "data": {
      "text/plain": [
       "(166, 13)"
      ]
     },
     "execution_count": 150,
     "metadata": {},
     "output_type": "execute_result"
    }
   ],
   "source": [
    "field_2019.shape"
   ]
  },
  {
   "cell_type": "code",
   "execution_count": 148,
   "id": "df88fffe",
   "metadata": {},
   "outputs": [],
   "source": [
    "field_2019.dropna(subset = 'OM_%w/w', inplace = True)"
   ]
  },
  {
   "cell_type": "code",
   "execution_count": 151,
   "id": "5e4957a4",
   "metadata": {},
   "outputs": [],
   "source": [
    "field_2019.to_csv('field_2019.csv', index = False)"
   ]
  },
  {
   "cell_type": "markdown",
   "id": "1ae61314",
   "metadata": {},
   "source": [
    "### Year 2020"
   ]
  },
  {
   "cell_type": "code",
   "execution_count": 152,
   "id": "3e2124bd",
   "metadata": {},
   "outputs": [],
   "source": [
    "## Load data\n",
    "field_2020 = pd.read_csv('Field Survey Data_Format 1_Soil Survey_2020-01-01_2020-12-31.csv')"
   ]
  },
  {
   "cell_type": "code",
   "execution_count": 153,
   "id": "34a2327f",
   "metadata": {},
   "outputs": [
    {
     "data": {
      "text/plain": [
       "Index(['Experiment_Id', 'SP_ID', 'sample_distance (m)', 'Field', 'Flume',\n",
       "       'Sample_date', 'Sample_time', 'comments', 'Start_Sample_Date',\n",
       "       'GPS_Sample_Nr', 'Easting', 'Northing', 'pH', 'pH_NRM1 Quality',\n",
       "       'pH_NRM1 Quality Last Modified', 'P (mg/l) (available)',\n",
       "       'P_Olsen_NRM1 Quality', 'P_Olsen_NRM1 Quality Last Modified',\n",
       "       'K (mg/l) (available)', 'K_NRM1 Quality',\n",
       "       'K_NRM1 Quality Last Modified', 'Mg (mg/l) (available)',\n",
       "       'Mg_NRM1 Quality', 'Mg_NRM1 Quality Last Modified', 'Copper (mg/l)',\n",
       "       'Cu_NRM1 Quality', 'Cu_NRM1 Quality Last Modified', 'Boron (mg/l)',\n",
       "       'B_NRM1 Quality', 'B_NRM1 Quality Last Modified', 'Sodium (mg/l)',\n",
       "       'Na_NRM1 Quality', 'Na_NRM1 Quality Last Modified', 'Zinc (mg/l)',\n",
       "       'Zn_NRM1 Quality', 'Zn_NRM1 Quality Last Modified', 'Calcium (mg/l)',\n",
       "       'Ca_NRM1 Quality', 'Ca_NRM1 Quality Last Modified', 'Molybdenum (mg/l)',\n",
       "       'Mo_NRM1 Quality', 'Mo_NRM1 Quality Last Modified', 'Iron (mg/l)',\n",
       "       'Fe_NRM1 Quality', 'Fe_NRM1 Quality Last Modified', 'Sulphate (mg/l)',\n",
       "       'SO4_NRM1 Quality', 'SO4_NRM1 Quality Last Modified',\n",
       "       'Manganese (mg/l)', 'Mn_NRM1 Quality', 'Mn_NRM1 Quality Last Modified',\n",
       "       'Cobalt (mg/l)', 'Co_NRM1 Quality', 'Co_NRM1 Quality Last Modified',\n",
       "       'Estimated Cation Exchange Capacity (meq/100g)', 'CEC_NRM1 Quality',\n",
       "       'CEC_NRM1 Quality Last Modified', 'Dry Matter Content (%w/w)',\n",
       "       'DM_NRM1 Quality', 'DM_NRM1 Quality Last Modified',\n",
       "       'Nitrate N (mg/kg) ', 'NO3_N_NRM1 Quality',\n",
       "       'NO3_N_NRM1 Quality Last Modified', 'Ammonium N (mg/kg) ',\n",
       "       'NH3_N_NRM1 Quality', 'NH3_N_NRM1 Quality Last Modified',\n",
       "       'Conductivity (uS/cm)', 'Conductivity_NRM1 Quality',\n",
       "       'Conductivity_NRM1 Quality Last Modified', 'Organic matter LOI (%w/w)',\n",
       "       'OM_LOI_NRM1 Quality', 'OM_LOI_NRM1 Quality Last Modified',\n",
       "       'Total N (%w/w) Soil', 'Total_N_S_NRM1 Quality',\n",
       "       'Total_N_S_NRM1 Quality Last Modified', 'Total P (mg/kg) ',\n",
       "       'Total_P_S_NRM1 Quality', 'Total_P_S_NRM1 Quality Last Modified',\n",
       "       'Total Se (mg/kg)', 'Total_Se_NRM1 Quality',\n",
       "       'Total_Se_NRM1 Quality Last Modified', 'Total C (%w/w) Soil',\n",
       "       'Total_C_S_NRM1 Quality', 'Total_C_S_NRM1 Quality Last Modified',\n",
       "       'Nitrite N (mg/kg) ', 'NO2_N_NRM1 Quality',\n",
       "       'NO2_N_NRM1 Quality Last Modified', 'C:N ratio',\n",
       "       'C_N_ratio_NRM1 Quality', 'C_N_ratio_NRM1 Quality Last Modified'],\n",
       "      dtype='object')"
      ]
     },
     "execution_count": 153,
     "metadata": {},
     "output_type": "execute_result"
    }
   ],
   "source": [
    "# Check the columns\n",
    "field_2020.columns"
   ]
  },
  {
   "cell_type": "code",
   "execution_count": 154,
   "id": "ac835e69",
   "metadata": {},
   "outputs": [],
   "source": [
    "# Columns to keep\n",
    "columns_to_keep2020 = ['Experiment_Id', 'SP_ID', 'sample_distance (m)', 'Field', 'Sample_date', 'Sample_time',\n",
    "                       'Easting', 'Northing', 'pH','Conductivity (uS/cm)', 'Organic matter LOI (%w/w)', 'Total N (%w/w) Soil',\n",
    "                      'Total C (%w/w) Soil']"
   ]
  },
  {
   "cell_type": "code",
   "execution_count": 155,
   "id": "323e2ce0",
   "metadata": {},
   "outputs": [],
   "source": [
    "# Dictionary with names\n",
    "dict_names_2020 = {'Conductivity (uS/cm)':'conductivity_uScm', 'Organic matter LOI (%w/w)': 'OM_%w/w', \n",
    "                   'Total N (%w/w) Soil': 'N_total_%w/w', 'Total C (%w/w) Soil': 'C_total_%w/w'}"
   ]
  },
  {
   "cell_type": "code",
   "execution_count": 156,
   "id": "47ff4e3e",
   "metadata": {},
   "outputs": [],
   "source": [
    "# Remove other columns\n",
    "field_2020 = field_2020[columns_to_keep2020]"
   ]
  },
  {
   "cell_type": "code",
   "execution_count": 157,
   "id": "7a140cfb",
   "metadata": {},
   "outputs": [
    {
     "data": {
      "text/html": [
       "<div>\n",
       "<style scoped>\n",
       "    .dataframe tbody tr th:only-of-type {\n",
       "        vertical-align: middle;\n",
       "    }\n",
       "\n",
       "    .dataframe tbody tr th {\n",
       "        vertical-align: top;\n",
       "    }\n",
       "\n",
       "    .dataframe thead th {\n",
       "        text-align: right;\n",
       "    }\n",
       "</style>\n",
       "<table border=\"1\" class=\"dataframe\">\n",
       "  <thead>\n",
       "    <tr style=\"text-align: right;\">\n",
       "      <th></th>\n",
       "      <th>Experiment_Id</th>\n",
       "      <th>SP_ID</th>\n",
       "      <th>sample_distance (m)</th>\n",
       "      <th>Field</th>\n",
       "      <th>Sample_date</th>\n",
       "      <th>Sample_time</th>\n",
       "      <th>Easting</th>\n",
       "      <th>Northing</th>\n",
       "      <th>pH</th>\n",
       "      <th>Conductivity (uS/cm)</th>\n",
       "      <th>Organic matter LOI (%w/w)</th>\n",
       "      <th>Total N (%w/w) Soil</th>\n",
       "      <th>Total C (%w/w) Soil</th>\n",
       "    </tr>\n",
       "  </thead>\n",
       "  <tbody>\n",
       "    <tr>\n",
       "      <th>0</th>\n",
       "      <td>NW702-S</td>\n",
       "      <td>19</td>\n",
       "      <td>NaN</td>\n",
       "      <td>Pecketsford</td>\n",
       "      <td>18/03/2019</td>\n",
       "      <td>12:00:00</td>\n",
       "      <td>265618.86</td>\n",
       "      <td>99134.54</td>\n",
       "      <td>6.3</td>\n",
       "      <td>2047</td>\n",
       "      <td>9.2</td>\n",
       "      <td>0.412</td>\n",
       "      <td>4.24</td>\n",
       "    </tr>\n",
       "    <tr>\n",
       "      <th>1</th>\n",
       "      <td>NW702-S</td>\n",
       "      <td>68</td>\n",
       "      <td>NaN</td>\n",
       "      <td>Little Pecketsford</td>\n",
       "      <td>18/03/2019</td>\n",
       "      <td>12:00:00</td>\n",
       "      <td>265698.45</td>\n",
       "      <td>99004.41</td>\n",
       "      <td>6.0</td>\n",
       "      <td>2041</td>\n",
       "      <td>7.3</td>\n",
       "      <td>0.342</td>\n",
       "      <td>3.23</td>\n",
       "    </tr>\n",
       "    <tr>\n",
       "      <th>2</th>\n",
       "      <td>NW702-S</td>\n",
       "      <td>2002</td>\n",
       "      <td>NaN</td>\n",
       "      <td>Great Field</td>\n",
       "      <td>18/03/2019</td>\n",
       "      <td>12:00:00</td>\n",
       "      <td>265690.12</td>\n",
       "      <td>98829.40</td>\n",
       "      <td>6.0</td>\n",
       "      <td>2020</td>\n",
       "      <td>8.8</td>\n",
       "      <td>0.394</td>\n",
       "      <td>3.94</td>\n",
       "    </tr>\n",
       "    <tr>\n",
       "      <th>3</th>\n",
       "      <td>NW702-S</td>\n",
       "      <td>2004</td>\n",
       "      <td>NaN</td>\n",
       "      <td>Ware Park</td>\n",
       "      <td>19/03/2019</td>\n",
       "      <td>12:00:00</td>\n",
       "      <td>265791.65</td>\n",
       "      <td>98584.10</td>\n",
       "      <td>6.0</td>\n",
       "      <td>2025</td>\n",
       "      <td>7.3</td>\n",
       "      <td>0.322</td>\n",
       "      <td>3.12</td>\n",
       "    </tr>\n",
       "    <tr>\n",
       "      <th>4</th>\n",
       "      <td>NW702-S</td>\n",
       "      <td>2003</td>\n",
       "      <td>NaN</td>\n",
       "      <td>Poor Field</td>\n",
       "      <td>19/03/2019</td>\n",
       "      <td>12:00:00</td>\n",
       "      <td>265547.77</td>\n",
       "      <td>98594.88</td>\n",
       "      <td>6.1</td>\n",
       "      <td>2017</td>\n",
       "      <td>9.8</td>\n",
       "      <td>0.423</td>\n",
       "      <td>4.35</td>\n",
       "    </tr>\n",
       "  </tbody>\n",
       "</table>\n",
       "</div>"
      ],
      "text/plain": [
       "  Experiment_Id  SP_ID  sample_distance (m)               Field Sample_date  \\\n",
       "0       NW702-S     19                  NaN         Pecketsford  18/03/2019   \n",
       "1       NW702-S     68                  NaN  Little Pecketsford  18/03/2019   \n",
       "2       NW702-S   2002                  NaN         Great Field  18/03/2019   \n",
       "3       NW702-S   2004                  NaN           Ware Park  19/03/2019   \n",
       "4       NW702-S   2003                  NaN          Poor Field  19/03/2019   \n",
       "\n",
       "  Sample_time    Easting  Northing   pH  Conductivity (uS/cm)  \\\n",
       "0    12:00:00  265618.86  99134.54  6.3                  2047   \n",
       "1    12:00:00  265698.45  99004.41  6.0                  2041   \n",
       "2    12:00:00  265690.12  98829.40  6.0                  2020   \n",
       "3    12:00:00  265791.65  98584.10  6.0                  2025   \n",
       "4    12:00:00  265547.77  98594.88  6.1                  2017   \n",
       "\n",
       "   Organic matter LOI (%w/w)  Total N (%w/w) Soil  Total C (%w/w) Soil  \n",
       "0                        9.2                0.412                 4.24  \n",
       "1                        7.3                0.342                 3.23  \n",
       "2                        8.8                0.394                 3.94  \n",
       "3                        7.3                0.322                 3.12  \n",
       "4                        9.8                0.423                 4.35  "
      ]
     },
     "execution_count": 157,
     "metadata": {},
     "output_type": "execute_result"
    }
   ],
   "source": [
    "# A glimpse on the dataset\n",
    "field_2020.head()"
   ]
  },
  {
   "cell_type": "code",
   "execution_count": 158,
   "id": "f2189da8",
   "metadata": {},
   "outputs": [],
   "source": [
    "# Rename columns\n",
    "field_2020.rename(columns = dict_names_2020, inplace = True)"
   ]
  },
  {
   "cell_type": "code",
   "execution_count": 159,
   "id": "67e1e275",
   "metadata": {},
   "outputs": [
    {
     "name": "stdout",
     "output_type": "stream",
     "text": [
      "<class 'pandas.core.frame.DataFrame'>\n",
      "RangeIndex: 142 entries, 0 to 141\n",
      "Data columns (total 13 columns):\n",
      " #   Column               Non-Null Count  Dtype  \n",
      "---  ------               --------------  -----  \n",
      " 0   Experiment_Id        142 non-null    object \n",
      " 1   SP_ID                142 non-null    int64  \n",
      " 2   sample_distance (m)  0 non-null      float64\n",
      " 3   Field                142 non-null    object \n",
      " 4   Sample_date          142 non-null    object \n",
      " 5   Sample_time          142 non-null    object \n",
      " 6   Easting              142 non-null    float64\n",
      " 7   Northing             142 non-null    float64\n",
      " 8   pH                   142 non-null    float64\n",
      " 9   conductivity_uScm    142 non-null    int64  \n",
      " 10  OM_%w/w              142 non-null    float64\n",
      " 11  N_total_%w/w         142 non-null    float64\n",
      " 12  C_total_%w/w         142 non-null    float64\n",
      "dtypes: float64(7), int64(2), object(4)\n",
      "memory usage: 14.5+ KB\n"
     ]
    }
   ],
   "source": [
    "# Info\n",
    "field_2020.info()"
   ]
  },
  {
   "cell_type": "code",
   "execution_count": 160,
   "id": "f6421472",
   "metadata": {},
   "outputs": [],
   "source": [
    "# Convert object to datetime\n",
    "field_2020['Sample_date'] = pd.to_datetime(field_2020['Sample_date'])"
   ]
  },
  {
   "cell_type": "code",
   "execution_count": 161,
   "id": "87fad39e",
   "metadata": {},
   "outputs": [
    {
     "data": {
      "image/png": "[encoded data removed]",
      "text/plain": [
       "<Figure size 432x288 with 1 Axes>"
      ]
     },
     "metadata": {
      "needs_background": "light"
     },
     "output_type": "display_data"
    }
   ],
   "source": [
    "# Plot C% distribution\n",
    "field_2020['OM_%w/w'].plot(kind = 'hist', ec = 'black')\n",
    "plt.show()"
   ]
  },
  {
   "cell_type": "code",
   "execution_count": 162,
   "id": "c79b0912",
   "metadata": {},
   "outputs": [
    {
     "data": {
      "image/png": "[encoded data removed]",
      "text/plain": [
       "<Figure size 432x288 with 1 Axes>"
      ]
     },
     "metadata": {
      "needs_background": "light"
     },
     "output_type": "display_data"
    }
   ],
   "source": [
    "# Plot C% by date\n",
    "plt.plot(field_2020['OM_%w/w'], field_2020['Sample_date'], 'o', color = 'red', markersize = 5)\n",
    "plt.show()"
   ]
  },
  {
   "cell_type": "code",
   "execution_count": 163,
   "id": "e4eca8ad",
   "metadata": {},
   "outputs": [
    {
     "name": "stdout",
     "output_type": "stream",
     "text": [
      "[False, False, False, False, False, False, False, False, False, False, False, False, False, False, False, False, False, False, False, False, False, False, False, False, False, False, False, False, False, False, False, False, False, False, False, False, False, False, False, False, False, False, False, False, False, False, False, False, False, False, False, False, False, False, False, False, False, False, False, False, False, False, False, False, False, False, False, False, False, False, False, False, False, False, False, False, False, False, False, False, False, False, False, False, False, False, False, False, False, False, False, False, False, False, False, False, False, False, False, False, False, False, False, False, False, False, False, False, False, False, False, False, False, False, False, False, False, False, False, False, False, False, False, False, False, False, False, False, False, False, False, False, False, False, False, False, False, False, False, False, False, False]\n"
     ]
    }
   ],
   "source": [
    "# Check duplicates\n",
    "bool_series_20 = field_2020[['Sample_date','Easting', 'Northing']].duplicated()\n",
    "print(bool_series_20.tolist())"
   ]
  },
  {
   "cell_type": "code",
   "execution_count": null,
   "id": "831550a5",
   "metadata": {},
   "outputs": [],
   "source": []
  },
  {
   "cell_type": "code",
   "execution_count": null,
   "id": "7632b810",
   "metadata": {},
   "outputs": [],
   "source": []
  },
  {
   "cell_type": "code",
   "execution_count": null,
   "id": "d6d70217",
   "metadata": {},
   "outputs": [],
   "source": []
  },
  {
   "cell_type": "code",
   "execution_count": null,
   "id": "51c3ee65",
   "metadata": {},
   "outputs": [],
   "source": []
  },
  {
   "cell_type": "markdown",
   "id": "886dc07e",
   "metadata": {},
   "source": [
    "### Year 2021"
   ]
  },
  {
   "cell_type": "code",
   "execution_count": 164,
   "id": "93958be9",
   "metadata": {},
   "outputs": [],
   "source": [
    "## Load data\n",
    "field_2021 = pd.read_csv('Field Survey Data_Format 1_Soil Survey_2021-01-01_2021-12-31.csv')"
   ]
  },
  {
   "cell_type": "code",
   "execution_count": 165,
   "id": "9b9f3420",
   "metadata": {},
   "outputs": [
    {
     "data": {
      "text/plain": [
       "Index(['Experiment_Id', 'SP_ID', 'sample_distance (m)', 'Field', 'Flume',\n",
       "       'Sample_date', 'Sample_time', 'comments', 'Start_Sample_Date',\n",
       "       'GPS_Sample_Nr', 'Easting', 'Northing', 'pH', 'pH_NRM1 Quality',\n",
       "       'pH_NRM1 Quality Last Modified', 'P (mg/l) (available)',\n",
       "       'P_Olsen_NRM1 Quality', 'P_Olsen_NRM1 Quality Last Modified',\n",
       "       'K (mg/l) (available)', 'K_NRM1 Quality',\n",
       "       'K_NRM1 Quality Last Modified', 'Mg (mg/l) (available)',\n",
       "       'Mg_NRM1 Quality', 'Mg_NRM1 Quality Last Modified', 'Copper (mg/l)',\n",
       "       'Cu_NRM1 Quality', 'Cu_NRM1 Quality Last Modified', 'Boron (mg/l)',\n",
       "       'B_NRM1 Quality', 'B_NRM1 Quality Last Modified', 'Sodium (mg/l)',\n",
       "       'Na_NRM1 Quality', 'Na_NRM1 Quality Last Modified', 'Zinc (mg/l)',\n",
       "       'Zn_NRM1 Quality', 'Zn_NRM1 Quality Last Modified', 'Calcium (mg/l)',\n",
       "       'Ca_NRM1 Quality', 'Ca_NRM1 Quality Last Modified', 'Molybdenum (mg/l)',\n",
       "       'Mo_NRM1 Quality', 'Mo_NRM1 Quality Last Modified', 'Iron (mg/l)',\n",
       "       'Fe_NRM1 Quality', 'Fe_NRM1 Quality Last Modified', 'Sulphate (mg/l)',\n",
       "       'SO4_NRM1 Quality', 'SO4_NRM1 Quality Last Modified',\n",
       "       'Manganese (mg/l)', 'Mn_NRM1 Quality', 'Mn_NRM1 Quality Last Modified',\n",
       "       'Cobalt (mg/l)', 'Co_NRM1 Quality', 'Co_NRM1 Quality Last Modified',\n",
       "       'Dry Matter Content (%w/w)', 'DM_NRM1 Quality',\n",
       "       'DM_NRM1 Quality Last Modified', 'Nitrate N (mg/kg) ',\n",
       "       'NO3_N_NRM1 Quality', 'NO3_N_NRM1 Quality Last Modified',\n",
       "       'Ammonium N (mg/kg) ', 'NH3_N_NRM1 Quality',\n",
       "       'NH3_N_NRM1 Quality Last Modified', 'Conductivity (uS/cm)',\n",
       "       'Conductivity_NRM1 Quality', 'Conductivity_NRM1 Quality Last Modified',\n",
       "       'Organic matter LOI (%w/w)', 'OM_LOI_NRM1 Quality',\n",
       "       'OM_LOI_NRM1 Quality Last Modified', 'Total N (%w/w) Soil',\n",
       "       'Total_N_S_NRM1 Quality', 'Total_N_S_NRM1 Quality Last Modified',\n",
       "       'Total P (mg/kg) ', 'Total_P_S_NRM1 Quality',\n",
       "       'Total_P_S_NRM1 Quality Last Modified', 'Total Se (mg/kg)',\n",
       "       'Total_Se_NRM1 Quality', 'Total_Se_NRM1 Quality Last Modified',\n",
       "       'Total C (%w/w) Soil', 'Total_C_S_NRM1 Quality',\n",
       "       'Total_C_S_NRM1 Quality Last Modified', 'Nitrite N (mg/kg) ',\n",
       "       'NO2_N_NRM1 Quality', 'NO2_N_NRM1 Quality Last Modified',\n",
       "       'Dry Matter Content (%) in-house', 'DM_S_NW1 Quality',\n",
       "       'DM_S_NW1 Quality Last Modified', 'C:N ratio', 'C_N_ratio_NRM1 Quality',\n",
       "       'C_N_ratio_NRM1 Quality Last Modified'],\n",
       "      dtype='object')"
      ]
     },
     "execution_count": 165,
     "metadata": {},
     "output_type": "execute_result"
    }
   ],
   "source": [
    "# Check the columns\n",
    "field_2021.columns"
   ]
  },
  {
   "cell_type": "code",
   "execution_count": 166,
   "id": "1cd3ff8d",
   "metadata": {},
   "outputs": [],
   "source": [
    "# Columns to keep\n",
    "columns_to_keep2021 = ['Experiment_Id', 'SP_ID', 'sample_distance (m)', 'Field',  'Sample_date', 'Sample_time',\n",
    "                       'Easting', 'Northing', 'pH','Conductivity (uS/cm)', 'Organic matter LOI (%w/w)', 'Total N (%w/w) Soil',\n",
    "                      'Total C (%w/w) Soil']"
   ]
  },
  {
   "cell_type": "code",
   "execution_count": 167,
   "id": "239a8879",
   "metadata": {},
   "outputs": [],
   "source": [
    "# Dictionary with names\n",
    "dict_names_2021 = {'Conductivity (uS/cm)':'conductivity_uScm', 'Organic matter LOI (%w/w)': 'OM_%w/w', \n",
    "                   'Total N (%w/w) Soil': 'N_total_%w/w', 'Total C (%w/w) Soil': 'C_total_%w/w'}"
   ]
  },
  {
   "cell_type": "code",
   "execution_count": 168,
   "id": "ded9ed71",
   "metadata": {},
   "outputs": [],
   "source": [
    "# Remove other columns\n",
    "field_2021 = field_2021[columns_to_keep2021]"
   ]
  },
  {
   "cell_type": "code",
   "execution_count": 169,
   "id": "36a06961",
   "metadata": {},
   "outputs": [
    {
     "data": {
      "text/html": [
       "<div>\n",
       "<style scoped>\n",
       "    .dataframe tbody tr th:only-of-type {\n",
       "        vertical-align: middle;\n",
       "    }\n",
       "\n",
       "    .dataframe tbody tr th {\n",
       "        vertical-align: top;\n",
       "    }\n",
       "\n",
       "    .dataframe thead th {\n",
       "        text-align: right;\n",
       "    }\n",
       "</style>\n",
       "<table border=\"1\" class=\"dataframe\">\n",
       "  <thead>\n",
       "    <tr style=\"text-align: right;\">\n",
       "      <th></th>\n",
       "      <th>Experiment_Id</th>\n",
       "      <th>SP_ID</th>\n",
       "      <th>sample_distance (m)</th>\n",
       "      <th>Field</th>\n",
       "      <th>Sample_date</th>\n",
       "      <th>Sample_time</th>\n",
       "      <th>Easting</th>\n",
       "      <th>Northing</th>\n",
       "      <th>pH</th>\n",
       "      <th>Conductivity (uS/cm)</th>\n",
       "      <th>Organic matter LOI (%w/w)</th>\n",
       "      <th>Total N (%w/w) Soil</th>\n",
       "      <th>Total C (%w/w) Soil</th>\n",
       "    </tr>\n",
       "  </thead>\n",
       "  <tbody>\n",
       "    <tr>\n",
       "      <th>0</th>\n",
       "      <td>NW752-2SP-1</td>\n",
       "      <td>2011</td>\n",
       "      <td>NaN</td>\n",
       "      <td>Higher Wyke Moor</td>\n",
       "      <td>03/09/2021</td>\n",
       "      <td>12:00:00</td>\n",
       "      <td>266114.792</td>\n",
       "      <td>97558.471</td>\n",
       "      <td>NaN</td>\n",
       "      <td>NaN</td>\n",
       "      <td>NaN</td>\n",
       "      <td>NaN</td>\n",
       "      <td>NaN</td>\n",
       "    </tr>\n",
       "    <tr>\n",
       "      <th>1</th>\n",
       "      <td>NW752-2SP-1</td>\n",
       "      <td>2012</td>\n",
       "      <td>NaN</td>\n",
       "      <td>Middle Wyke Moor</td>\n",
       "      <td>03/09/2021</td>\n",
       "      <td>12:00:00</td>\n",
       "      <td>266371.050</td>\n",
       "      <td>97681.779</td>\n",
       "      <td>NaN</td>\n",
       "      <td>NaN</td>\n",
       "      <td>NaN</td>\n",
       "      <td>NaN</td>\n",
       "      <td>NaN</td>\n",
       "    </tr>\n",
       "    <tr>\n",
       "      <th>2</th>\n",
       "      <td>NW752-2SP-1</td>\n",
       "      <td>2010</td>\n",
       "      <td>NaN</td>\n",
       "      <td>Lower Wyke Moor</td>\n",
       "      <td>14/09/2021</td>\n",
       "      <td>12:00:00</td>\n",
       "      <td>266432.495</td>\n",
       "      <td>97871.352</td>\n",
       "      <td>NaN</td>\n",
       "      <td>NaN</td>\n",
       "      <td>NaN</td>\n",
       "      <td>NaN</td>\n",
       "      <td>NaN</td>\n",
       "    </tr>\n",
       "    <tr>\n",
       "      <th>3</th>\n",
       "      <td>NW752-2SP-1</td>\n",
       "      <td>2013</td>\n",
       "      <td>NaN</td>\n",
       "      <td>Dairy South</td>\n",
       "      <td>14/09/2021</td>\n",
       "      <td>12:00:00</td>\n",
       "      <td>266062.963</td>\n",
       "      <td>98059.804</td>\n",
       "      <td>NaN</td>\n",
       "      <td>NaN</td>\n",
       "      <td>NaN</td>\n",
       "      <td>NaN</td>\n",
       "      <td>NaN</td>\n",
       "    </tr>\n",
       "    <tr>\n",
       "      <th>4</th>\n",
       "      <td>NW752-2SP-1</td>\n",
       "      <td>2016</td>\n",
       "      <td>NaN</td>\n",
       "      <td>Dairy East</td>\n",
       "      <td>13/09/2021</td>\n",
       "      <td>12:00:00</td>\n",
       "      <td>266285.532</td>\n",
       "      <td>98180.026</td>\n",
       "      <td>NaN</td>\n",
       "      <td>NaN</td>\n",
       "      <td>NaN</td>\n",
       "      <td>NaN</td>\n",
       "      <td>NaN</td>\n",
       "    </tr>\n",
       "  </tbody>\n",
       "</table>\n",
       "</div>"
      ],
      "text/plain": [
       "  Experiment_Id  SP_ID  sample_distance (m)             Field Sample_date  \\\n",
       "0   NW752-2SP-1   2011                  NaN  Higher Wyke Moor  03/09/2021   \n",
       "1   NW752-2SP-1   2012                  NaN  Middle Wyke Moor  03/09/2021   \n",
       "2   NW752-2SP-1   2010                  NaN   Lower Wyke Moor  14/09/2021   \n",
       "3   NW752-2SP-1   2013                  NaN       Dairy South  14/09/2021   \n",
       "4   NW752-2SP-1   2016                  NaN        Dairy East  13/09/2021   \n",
       "\n",
       "  Sample_time     Easting   Northing  pH  Conductivity (uS/cm)  \\\n",
       "0    12:00:00  266114.792  97558.471 NaN                   NaN   \n",
       "1    12:00:00  266371.050  97681.779 NaN                   NaN   \n",
       "2    12:00:00  266432.495  97871.352 NaN                   NaN   \n",
       "3    12:00:00  266062.963  98059.804 NaN                   NaN   \n",
       "4    12:00:00  266285.532  98180.026 NaN                   NaN   \n",
       "\n",
       "   Organic matter LOI (%w/w)  Total N (%w/w) Soil  Total C (%w/w) Soil  \n",
       "0                        NaN                  NaN                  NaN  \n",
       "1                        NaN                  NaN                  NaN  \n",
       "2                        NaN                  NaN                  NaN  \n",
       "3                        NaN                  NaN                  NaN  \n",
       "4                        NaN                  NaN                  NaN  "
      ]
     },
     "execution_count": 169,
     "metadata": {},
     "output_type": "execute_result"
    }
   ],
   "source": [
    "# A glimpse on the dataset\n",
    "field_2021.head()"
   ]
  },
  {
   "cell_type": "code",
   "execution_count": 170,
   "id": "1b4c3ceb",
   "metadata": {},
   "outputs": [],
   "source": [
    "# Rename columns\n",
    "field_2021.rename(columns = dict_names_2021, inplace = True)"
   ]
  },
  {
   "cell_type": "code",
   "execution_count": 171,
   "id": "74214cd6",
   "metadata": {},
   "outputs": [],
   "source": [
    "# Convert object to datetime\n",
    "field_2021['Sample_date'] = pd.to_datetime(field_2021['Sample_date'])"
   ]
  },
  {
   "cell_type": "code",
   "execution_count": 172,
   "id": "68437303",
   "metadata": {},
   "outputs": [
    {
     "data": {
      "image/png": "[encoded data removed]",
      "text/plain": [
       "<Figure size 432x288 with 1 Axes>"
      ]
     },
     "metadata": {
      "needs_background": "light"
     },
     "output_type": "display_data"
    }
   ],
   "source": [
    "# Plot C% distribution\n",
    "field_2021['OM_%w/w'].plot(kind = 'hist', ec = 'black')\n",
    "plt.show()"
   ]
  },
  {
   "cell_type": "code",
   "execution_count": 173,
   "id": "9ce78e00",
   "metadata": {},
   "outputs": [
    {
     "data": {
      "image/png": "[encoded data removed]",
      "text/plain": [
       "<Figure size 432x288 with 1 Axes>"
      ]
     },
     "metadata": {
      "needs_background": "light"
     },
     "output_type": "display_data"
    }
   ],
   "source": [
    "# Plot C% by date\n",
    "plt.plot(field_2021['OM_%w/w'], field_2021['Sample_date'], 'o', color = 'red', markersize = 5)\n",
    "plt.show()"
   ]
  },
  {
   "cell_type": "markdown",
   "id": "2fbc0347",
   "metadata": {},
   "source": [
    "### Joining all the datasets"
   ]
  },
  {
   "cell_type": "code",
   "execution_count": 174,
   "id": "34c9f856",
   "metadata": {},
   "outputs": [
    {
     "data": {
      "text/plain": [
       "[    Experiment_Id  SP_ID  sample_distance (m)           Field Sample_date  \\\n",
       " 0           FP003      1                   50     Pecketsford  2012-06-06   \n",
       " 1           FP003      2                   50     Pecketsford  2012-06-06   \n",
       " 2           FP003      7                   50     Pecketsford  2012-06-06   \n",
       " 3           FP003      9                   50     Pecketsford  2012-06-06   \n",
       " 4           FP003     17                   50     Pecketsford  2012-06-06   \n",
       " ..            ...    ...                  ...             ...         ...   \n",
       " 259         FP003   1110                   50  Longlands East  2012-06-29   \n",
       " 260         FP003   1112                   50  Longlands East  2012-06-29   \n",
       " 261         FP003   1118                   50  Longlands East  2012-06-29   \n",
       " 262         FP003   1120                   50  Longlands East  2012-06-29   \n",
       " 263         FP003   1127                   50  Longlands East  2012-06-29   \n",
       " \n",
       "     Sample_time  Easting  Northing    pH  BD_gcm3  OM_%w/w  N_total_%w/w  \\\n",
       " 0      12:00:00   265632     99300  5.18    0.916     10.1         0.510   \n",
       " 1      12:00:00   265625     99275  5.23    0.943     10.4         0.550   \n",
       " 2      12:00:00   265575     99225  5.54    0.948     11.8         0.640   \n",
       " 3      12:00:00   265625     99225  5.12    0.857     10.9         0.540   \n",
       " 4      12:00:00   265575     99175  5.68    0.946     11.5         0.590   \n",
       " ..          ...      ...       ...   ...      ...      ...           ...   \n",
       " 259    12:00:00   265975     98875  6.23    0.992      9.6         0.448   \n",
       " 260    12:00:00   266025     98875  6.00    1.031      8.4         0.397   \n",
       " 261    12:00:00   265975     98825  6.27    0.915     10.1         0.473   \n",
       " 262    12:00:00   266025     98825  6.05    0.974      8.0         0.392   \n",
       " 263    12:00:00   265975     98775  6.23    0.934      9.7         0.403   \n",
       " \n",
       "      C_total_%w/w  \n",
       " 0           4.742  \n",
       " 1           4.980  \n",
       " 2           5.610  \n",
       " 3           4.510  \n",
       " 4           5.340  \n",
       " ..            ...  \n",
       " 259         3.710  \n",
       " 260         3.106  \n",
       " 261         3.983  \n",
       " 262         2.765  \n",
       " 263         3.665  \n",
       " \n",
       " [264 rows x 13 columns],\n",
       "    Experiment_Id  SP_ID  sample_distance (m)            Field Sample_date  \\\n",
       " 0          FP008   1041                   25  Longlands South  2013-01-06   \n",
       " 1          FP008   1042                   25  Longlands South  2013-01-06   \n",
       " 2          FP008   1043                   25  Longlands South  2013-01-06   \n",
       " 3          FP008   1044                   25  Longlands South  2013-01-06   \n",
       " 4          FP008   1045                   25  Longlands South  2013-01-06   \n",
       " ..           ...    ...                  ...              ...         ...   \n",
       " 84         FP008   1125                   25   Longlands East  2013-01-06   \n",
       " 85         FP008   1126                   25   Longlands East  2013-01-06   \n",
       " 86         FP008   1127                   25   Longlands East  2013-01-06   \n",
       " 87         FP008   1128                   25   Longlands East  2013-01-06   \n",
       " 88         FP008   1129                   25   Longlands East  2013-01-06   \n",
       " \n",
       "    Sample_time  Easting  Northing    pH  OM_%w/w  N_total_%w/w  C_total_%w/w  \n",
       " 0     12:00:00   265943     98700  5.57  11.9869         0.421         3.891  \n",
       " 1     12:00:00   265863     98683  5.59  15.0689         0.521         4.966  \n",
       " 2     12:00:00   265875     98675  5.57  13.1185         0.459         4.035  \n",
       " 3     12:00:00   265900     98675  5.68  11.8098         0.425         3.705  \n",
       " 4     12:00:00   265925     98675  5.53  12.8909         0.460         4.301  \n",
       " ..         ...      ...       ...   ...      ...           ...           ...  \n",
       " 84    12:00:00   266025     98800  6.46  11.5930         0.400         3.579  \n",
       " 85    12:00:00   265950     98775  6.53  11.7891         0.422         3.671  \n",
       " 86    12:00:00   265975     98775  6.44  11.9636         0.513         4.048  \n",
       " 87    12:00:00   266000     98775  6.38  10.0927         0.361         3.063  \n",
       " 88    12:00:00   265967     98766  6.62  12.5548         0.464         3.983  \n",
       " \n",
       " [89 rows x 12 columns],\n",
       "     Experiment_Id  SP_ID  sample_distance (m)           Field Sample_date  \\\n",
       " 0           FP059      1                   50     Pecketsford  2016-07-14   \n",
       " 1           FP059      2                   50     Pecketsford  2016-07-14   \n",
       " 2           FP059      7                   50     Pecketsford  2016-07-14   \n",
       " 3           FP059      9                   50     Pecketsford  2016-07-14   \n",
       " 4           FP059     17                   50     Pecketsford  2016-07-14   \n",
       " ..            ...    ...                  ...             ...         ...   \n",
       " 383         FP059   1118                   25  Longlands East  2016-07-21   \n",
       " 384         FP059   1119                   25  Longlands East  2016-07-21   \n",
       " 385         FP059   1120                   25  Longlands East  2016-07-21   \n",
       " 386         FP059   1121                   25  Longlands East  2016-07-21   \n",
       " 395         FP059   1130                   25  Longlands East  2016-07-21   \n",
       " \n",
       "     Sample_time      Easting     Northing    pH  BD_gcm3  OM_%w/w  \\\n",
       " 0      16:24:00  265631.6521  99300.30838  5.60     0.56    12.90   \n",
       " 1      16:20:00  265625.0000  99275.00000  5.41     0.70    10.60   \n",
       " 2      16:09:00  265575.0000  99225.00000  5.49     1.06     9.70   \n",
       " 3      16:15:00  265625.0000  99225.00000  5.28     1.05    10.20   \n",
       " 4      16:04:00  265575.0000  99175.00000  5.51     1.05    10.00   \n",
       " ..          ...          ...          ...   ...      ...      ...   \n",
       " 383    14:09:00  265975.0000  98825.00000  5.54     0.93     9.25   \n",
       " 384    14:07:00  266000.0000  98825.00000  5.53     1.01     9.10   \n",
       " 385    14:02:00  266025.0000  98825.00000  5.77     1.06     9.97   \n",
       " 386    14:00:00  266050.0000  98825.00000  5.70     1.03     9.42   \n",
       " 395    15:20:00  265953.3921  98749.97571  6.82      NaN    13.83   \n",
       " \n",
       "      N_total_%w/w  C_total_%w/w  \n",
       " 0           0.525         5.390  \n",
       " 1           0.446         4.280  \n",
       " 2           0.404         3.667  \n",
       " 3           0.424         4.100  \n",
       " 4           0.403         3.885  \n",
       " ..            ...           ...  \n",
       " 383         0.444         3.958  \n",
       " 384         0.436         3.856  \n",
       " 385         0.432         4.104  \n",
       " 386         0.440         4.070  \n",
       " 395         0.723         6.966  \n",
       " \n",
       " [348 rows x 13 columns],\n",
       "     Experiment_Id  SP_ID  sample_distance (m)               Field Sample_date  \\\n",
       " 210       NW686-S     19                  NaN         Pecketsford  2018-04-16   \n",
       " 211       NW686-S     68                  NaN  Little Pecketsford  2018-04-16   \n",
       " 212       NW686-S   2002                  NaN         Great Field  2018-04-16   \n",
       " 213       NW686-S   2004                  NaN           Ware Park  2018-04-17   \n",
       " 214       NW686-S   2003                  NaN          Poor Field  2018-04-17   \n",
       " ..            ...    ...                  ...                 ...         ...   \n",
       " 289       NW686-S   2011                  NaN    Higher Wyke Moor  2019-01-15   \n",
       " 290       NW686-S   2013                  NaN         Dairy South  2019-01-15   \n",
       " 291       NW686-S   2014                  NaN        Dairy Corner  2019-01-15   \n",
       " 292       NW686-S   2016                  NaN          Dairy East  2019-01-16   \n",
       " 293       NW686-S   2019                  NaN     Longlands North  2019-01-16   \n",
       " \n",
       "     Sample_time      Easting     Northing   pH  conductivity_uScm  OM_%w/w  \\\n",
       " 210    12:00:00  265618.8582  99134.53857  5.4             1947.0      8.6   \n",
       " 211    12:00:00  265698.4474  99004.41039  5.2             1953.0      7.9   \n",
       " 212    12:00:00  265690.1189  98829.40387  5.2             1972.0      8.4   \n",
       " 213    12:00:00  265791.6529  98584.09774  5.6             1982.0      8.2   \n",
       " 214    12:00:00  265547.7653  98594.87595  6.8             2022.0      5.6   \n",
       " ..          ...          ...          ...  ...                ...      ...   \n",
       " 289    12:00:00  266172.6379  97629.41245  6.0             2048.0      9.1   \n",
       " 290    12:00:00  266152.0651  97968.50154  5.8             2092.0     10.2   \n",
       " 291    12:00:00  266306.8935  98085.91182  6.2             2090.0      8.9   \n",
       " 292    12:00:00  266335.1610  98244.47438  6.3             2085.0      8.6   \n",
       " 293    12:00:00  265884.6342  98794.41491  6.1             2032.0      7.5   \n",
       " \n",
       "      N_total_%w/w  C_total_%w/w  \n",
       " 210         0.370          3.62  \n",
       " 211         0.350          3.18  \n",
       " 212         0.370          3.50  \n",
       " 213         0.360          3.40  \n",
       " 214         0.370          3.67  \n",
       " ..            ...           ...  \n",
       " 289         0.379          3.79  \n",
       " 290         0.486          4.48  \n",
       " 291         0.412          3.80  \n",
       " 292         0.407          3.69  \n",
       " 293         0.354          3.18  \n",
       " \n",
       " [84 rows x 13 columns],\n",
       "     Experiment_Id  SP_ID  sample_distance (m)               Field Sample_date  \\\n",
       " 237       NW686-S     19                  NaN         Pecketsford  2018-04-16   \n",
       " 238       NW686-S     68                  NaN  Little Pecketsford  2018-04-16   \n",
       " 239       NW686-S   2002                  NaN         Great Field  2018-04-16   \n",
       " 240       NW686-S   2004                  NaN           Ware Park  2018-04-17   \n",
       " 241       NW686-S   2003                  NaN          Poor Field  2018-04-17   \n",
       " ..            ...    ...                  ...                 ...         ...   \n",
       " 398       NW702-S   2011                  NaN    Higher Wyke Moor  2020-01-20   \n",
       " 399       NW702-S   2013                  NaN         Dairy South  2020-01-20   \n",
       " 400       NW702-S   2014                  NaN        Dairy Corner  2020-01-21   \n",
       " 401       NW702-S   2016                  NaN          Dairy East  2020-01-21   \n",
       " 402       NW702-S   2019                  NaN     Longlands North  2020-01-21   \n",
       " \n",
       "     Sample_time      Easting     Northing   pH  conductivity_uScm  OM_%w/w  \\\n",
       " 237    12:00:00  265618.8582  99134.53857  5.4             1947.0      8.6   \n",
       " 238    12:00:00  265698.4474  99004.41039  5.2             1953.0      7.9   \n",
       " 239    12:00:00  265690.1189  98829.40387  5.2             1972.0      8.4   \n",
       " 240    12:00:00  265791.6529  98584.09774  5.6             1982.0      8.2   \n",
       " 241    12:00:00  265547.7653  98594.87595  6.8             2022.0      5.6   \n",
       " ..          ...          ...          ...  ...                ...      ...   \n",
       " 398    12:00:00  266172.6400  97629.41000  5.7             2043.0      9.2   \n",
       " 399    12:00:00  266152.0700  97968.50000  6.1             2019.0      9.5   \n",
       " 400    12:00:00  266306.8900  98085.91000  5.9             2040.0      9.1   \n",
       " 401    12:00:00  266335.1600  98244.47000  6.1             2035.0      9.3   \n",
       " 402    12:00:00  265884.6300  98794.41000  5.7             2010.0      7.3   \n",
       " \n",
       "      N_total_%w/w  C_total_%w/w  \n",
       " 237         0.370          3.62  \n",
       " 238         0.350          3.18  \n",
       " 239         0.370          3.50  \n",
       " 240         0.360          3.40  \n",
       " 241         0.370          3.67  \n",
       " ..            ...           ...  \n",
       " 398         0.372          3.83  \n",
       " 399         0.440          4.30  \n",
       " 400         0.438          4.15  \n",
       " 401         0.424          4.08  \n",
       " 402         0.330          3.07  \n",
       " \n",
       " [166 rows x 13 columns],\n",
       "     Experiment_Id  SP_ID  sample_distance (m)               Field Sample_date  \\\n",
       " 0         NW702-S     19                  NaN         Pecketsford  2019-03-18   \n",
       " 1         NW702-S     68                  NaN  Little Pecketsford  2019-03-18   \n",
       " 2         NW702-S   2002                  NaN         Great Field  2019-03-18   \n",
       " 3         NW702-S   2004                  NaN           Ware Park  2019-03-19   \n",
       " 4         NW702-S   2003                  NaN          Poor Field  2019-03-19   \n",
       " ..            ...    ...                  ...                 ...         ...   \n",
       " 137      NW735-3S   2007                  NaN  Orchard Dean North  2020-12-15   \n",
       " 138      NW735-3S   2008                  NaN  Orchard Dean South  2020-12-15   \n",
       " 139      NW735-3S   2009                  NaN         Golden Rove  2020-12-15   \n",
       " 140      NW735-3S   2017                  NaN         Dairy North  2020-12-15   \n",
       " 141      NW735-3S   2018                  NaN     Longlands South  2020-12-15   \n",
       " \n",
       "     Sample_time    Easting  Northing   pH  conductivity_uScm  OM_%w/w  \\\n",
       " 0      12:00:00  265618.86  99134.54  6.3               2047      9.2   \n",
       " 1      12:00:00  265698.45  99004.41  6.0               2041      7.3   \n",
       " 2      12:00:00  265690.12  98829.40  6.0               2020      8.8   \n",
       " 3      12:00:00  265791.65  98584.10  6.0               2025      7.3   \n",
       " 4      12:00:00  265547.77  98594.88  6.1               2017      9.8   \n",
       " ..          ...        ...       ...  ...                ...      ...   \n",
       " 137    12:00:00  265678.19  98112.26  5.6               2097     13.1   \n",
       " 138    12:00:00  265666.15  98008.84  5.9               2064     12.1   \n",
       " 139    12:00:00  265953.44  97967.65  5.8               2039      9.0   \n",
       " 140    12:00:00  266282.13  98358.21  5.6               2119     11.6   \n",
       " 141    12:00:00  265920.96  98603.81  5.6               2037     10.1   \n",
       " \n",
       "      N_total_%w/w  C_total_%w/w  \n",
       " 0           0.412          4.24  \n",
       " 1           0.342          3.23  \n",
       " 2           0.394          3.94  \n",
       " 3           0.322          3.12  \n",
       " 4           0.423          4.35  \n",
       " ..            ...           ...  \n",
       " 137         0.861          6.23  \n",
       " 138         0.770          5.69  \n",
       " 139         0.610          4.18  \n",
       " 140         0.704          5.17  \n",
       " 141         0.696          4.78  \n",
       " \n",
       " [142 rows x 13 columns],\n",
       "     Experiment_Id  SP_ID  sample_distance (m)               Field Sample_date  \\\n",
       " 0     NW752-2SP-1   2011                  NaN    Higher Wyke Moor  2021-03-09   \n",
       " 1     NW752-2SP-1   2012                  NaN    Middle Wyke Moor  2021-03-09   \n",
       " 2     NW752-2SP-1   2010                  NaN     Lower Wyke Moor  2021-09-14   \n",
       " 3     NW752-2SP-1   2013                  NaN         Dairy South  2021-09-14   \n",
       " 4     NW752-2SP-1   2016                  NaN          Dairy East  2021-09-13   \n",
       " ..            ...    ...                  ...                 ...         ...   \n",
       " 201      NW752-3S   2009                  NaN         Golden Rove  2021-08-12   \n",
       " 202      NW752-3S   2007                  NaN  Orchard Dean North  2021-08-12   \n",
       " 203      NW752-3S   2008                  NaN  Orchard Dean South  2021-08-12   \n",
       " 204      NW752-3S   2017                  NaN         Dairy North  2021-09-12   \n",
       " 205      NW752-3S   2018                  NaN     Longlands South  2021-07-12   \n",
       " \n",
       "     Sample_time      Easting     Northing   pH  conductivity_uScm  OM_%w/w  \\\n",
       " 0      12:00:00  266114.7920  97558.47100  NaN                NaN      NaN   \n",
       " 1      12:00:00  266371.0500  97681.77900  NaN                NaN      NaN   \n",
       " 2      12:00:00  266432.4950  97871.35200  NaN                NaN      NaN   \n",
       " 3      12:00:00  266062.9630  98059.80400  NaN                NaN      NaN   \n",
       " 4      12:00:00  266285.5320  98180.02600  NaN                NaN      NaN   \n",
       " ..          ...          ...          ...  ...                ...      ...   \n",
       " 201    12:00:00  265953.4417  97967.65381  5.8             2012.0     11.6   \n",
       " 202    12:00:00  265678.1911  98112.25632  5.9             2014.0     13.2   \n",
       " 203    12:00:00  265666.1468  98008.84146  5.8             2018.0     11.9   \n",
       " 204    12:00:00  266282.1266  98358.20591  5.8             2015.0     13.3   \n",
       " 205    12:00:00  265920.9621  98603.80501  5.9             2003.0      9.5   \n",
       " \n",
       "      N_total_%w/w  C_total_%w/w  \n",
       " 0             NaN           NaN  \n",
       " 1             NaN           NaN  \n",
       " 2             NaN           NaN  \n",
       " 3             NaN           NaN  \n",
       " 4             NaN           NaN  \n",
       " ..            ...           ...  \n",
       " 201         0.549          5.24  \n",
       " 202         0.629          5.97  \n",
       " 203         0.580          5.37  \n",
       " 204         0.651          5.93  \n",
       " 205         0.442          4.09  \n",
       " \n",
       " [206 rows x 13 columns]]"
      ]
     },
     "execution_count": 174,
     "metadata": {},
     "output_type": "execute_result"
    }
   ],
   "source": [
    "# Create a list with \n",
    "list_df = [field_2012, field_2013, field_2016, field_2018, field_2019, field_2020, field_2021]\n",
    "list_df "
   ]
  },
  {
   "cell_type": "code",
   "execution_count": 175,
   "id": "9de2e0a3",
   "metadata": {},
   "outputs": [],
   "source": [
    "# Concatenate the list\n",
    "result_df = pd.concat(list_df)"
   ]
  },
  {
   "cell_type": "code",
   "execution_count": 176,
   "id": "53888690",
   "metadata": {},
   "outputs": [
    {
     "data": {
      "text/html": [
       "<div>\n",
       "<style scoped>\n",
       "    .dataframe tbody tr th:only-of-type {\n",
       "        vertical-align: middle;\n",
       "    }\n",
       "\n",
       "    .dataframe tbody tr th {\n",
       "        vertical-align: top;\n",
       "    }\n",
       "\n",
       "    .dataframe thead th {\n",
       "        text-align: right;\n",
       "    }\n",
       "</style>\n",
       "<table border=\"1\" class=\"dataframe\">\n",
       "  <thead>\n",
       "    <tr style=\"text-align: right;\">\n",
       "      <th></th>\n",
       "      <th>Experiment_Id</th>\n",
       "      <th>SP_ID</th>\n",
       "      <th>sample_distance (m)</th>\n",
       "      <th>Field</th>\n",
       "      <th>Sample_date</th>\n",
       "      <th>Sample_time</th>\n",
       "      <th>Easting</th>\n",
       "      <th>Northing</th>\n",
       "      <th>pH</th>\n",
       "      <th>BD_gcm3</th>\n",
       "      <th>OM_%w/w</th>\n",
       "      <th>N_total_%w/w</th>\n",
       "      <th>C_total_%w/w</th>\n",
       "      <th>conductivity_uScm</th>\n",
       "    </tr>\n",
       "  </thead>\n",
       "  <tbody>\n",
       "    <tr>\n",
       "      <th>0</th>\n",
       "      <td>FP003</td>\n",
       "      <td>1</td>\n",
       "      <td>50.0</td>\n",
       "      <td>Pecketsford</td>\n",
       "      <td>2012-06-06</td>\n",
       "      <td>12:00:00</td>\n",
       "      <td>265632.0</td>\n",
       "      <td>99300.0</td>\n",
       "      <td>5.18</td>\n",
       "      <td>0.916</td>\n",
       "      <td>10.1</td>\n",
       "      <td>0.51</td>\n",
       "      <td>4.742</td>\n",
       "      <td>NaN</td>\n",
       "    </tr>\n",
       "    <tr>\n",
       "      <th>1</th>\n",
       "      <td>FP003</td>\n",
       "      <td>2</td>\n",
       "      <td>50.0</td>\n",
       "      <td>Pecketsford</td>\n",
       "      <td>2012-06-06</td>\n",
       "      <td>12:00:00</td>\n",
       "      <td>265625.0</td>\n",
       "      <td>99275.0</td>\n",
       "      <td>5.23</td>\n",
       "      <td>0.943</td>\n",
       "      <td>10.4</td>\n",
       "      <td>0.55</td>\n",
       "      <td>4.980</td>\n",
       "      <td>NaN</td>\n",
       "    </tr>\n",
       "    <tr>\n",
       "      <th>2</th>\n",
       "      <td>FP003</td>\n",
       "      <td>7</td>\n",
       "      <td>50.0</td>\n",
       "      <td>Pecketsford</td>\n",
       "      <td>2012-06-06</td>\n",
       "      <td>12:00:00</td>\n",
       "      <td>265575.0</td>\n",
       "      <td>99225.0</td>\n",
       "      <td>5.54</td>\n",
       "      <td>0.948</td>\n",
       "      <td>11.8</td>\n",
       "      <td>0.64</td>\n",
       "      <td>5.610</td>\n",
       "      <td>NaN</td>\n",
       "    </tr>\n",
       "    <tr>\n",
       "      <th>3</th>\n",
       "      <td>FP003</td>\n",
       "      <td>9</td>\n",
       "      <td>50.0</td>\n",
       "      <td>Pecketsford</td>\n",
       "      <td>2012-06-06</td>\n",
       "      <td>12:00:00</td>\n",
       "      <td>265625.0</td>\n",
       "      <td>99225.0</td>\n",
       "      <td>5.12</td>\n",
       "      <td>0.857</td>\n",
       "      <td>10.9</td>\n",
       "      <td>0.54</td>\n",
       "      <td>4.510</td>\n",
       "      <td>NaN</td>\n",
       "    </tr>\n",
       "    <tr>\n",
       "      <th>4</th>\n",
       "      <td>FP003</td>\n",
       "      <td>17</td>\n",
       "      <td>50.0</td>\n",
       "      <td>Pecketsford</td>\n",
       "      <td>2012-06-06</td>\n",
       "      <td>12:00:00</td>\n",
       "      <td>265575.0</td>\n",
       "      <td>99175.0</td>\n",
       "      <td>5.68</td>\n",
       "      <td>0.946</td>\n",
       "      <td>11.5</td>\n",
       "      <td>0.59</td>\n",
       "      <td>5.340</td>\n",
       "      <td>NaN</td>\n",
       "    </tr>\n",
       "  </tbody>\n",
       "</table>\n",
       "</div>"
      ],
      "text/plain": [
       "  Experiment_Id  SP_ID  sample_distance (m)        Field Sample_date  \\\n",
       "0         FP003      1                 50.0  Pecketsford  2012-06-06   \n",
       "1         FP003      2                 50.0  Pecketsford  2012-06-06   \n",
       "2         FP003      7                 50.0  Pecketsford  2012-06-06   \n",
       "3         FP003      9                 50.0  Pecketsford  2012-06-06   \n",
       "4         FP003     17                 50.0  Pecketsford  2012-06-06   \n",
       "\n",
       "  Sample_time   Easting  Northing    pH  BD_gcm3  OM_%w/w  N_total_%w/w  \\\n",
       "0    12:00:00  265632.0   99300.0  5.18    0.916     10.1          0.51   \n",
       "1    12:00:00  265625.0   99275.0  5.23    0.943     10.4          0.55   \n",
       "2    12:00:00  265575.0   99225.0  5.54    0.948     11.8          0.64   \n",
       "3    12:00:00  265625.0   99225.0  5.12    0.857     10.9          0.54   \n",
       "4    12:00:00  265575.0   99175.0  5.68    0.946     11.5          0.59   \n",
       "\n",
       "   C_total_%w/w  conductivity_uScm  \n",
       "0         4.742                NaN  \n",
       "1         4.980                NaN  \n",
       "2         5.610                NaN  \n",
       "3         4.510                NaN  \n",
       "4         5.340                NaN  "
      ]
     },
     "execution_count": 176,
     "metadata": {},
     "output_type": "execute_result"
    }
   ],
   "source": [
    "# A glimpse on the concatenated data\n",
    "result_df.head()"
   ]
  },
  {
   "cell_type": "code",
   "execution_count": 193,
   "id": "c96e13c2",
   "metadata": {},
   "outputs": [],
   "source": [
    "# Check duplicates\n",
    "result_df['duplicated'] = result_df[['Sample_date','Easting', 'Northing']].duplicated()"
   ]
  },
  {
   "cell_type": "code",
   "execution_count": 216,
   "id": "d2f3eb29",
   "metadata": {},
   "outputs": [],
   "source": [
    "result_df.to_csv('results_with_duplicates.csv', index = False)"
   ]
  },
  {
   "cell_type": "code",
   "execution_count": 220,
   "id": "44f95a54",
   "metadata": {},
   "outputs": [
    {
     "data": {
      "text/plain": [
       "(1172, 15)"
      ]
     },
     "execution_count": 220,
     "metadata": {},
     "output_type": "execute_result"
    }
   ],
   "source": [
    "result_df.shape"
   ]
  },
  {
   "cell_type": "code",
   "execution_count": 234,
   "id": "6f2c50f6",
   "metadata": {},
   "outputs": [],
   "source": [
    "result_df_without_duplicates = result_df[result_df['duplicated'] == False].reset_index(drop = True)"
   ]
  },
  {
   "cell_type": "code",
   "execution_count": 235,
   "id": "0ea67d50",
   "metadata": {},
   "outputs": [
    {
     "data": {
      "text/html": [
       "<div>\n",
       "<style scoped>\n",
       "    .dataframe tbody tr th:only-of-type {\n",
       "        vertical-align: middle;\n",
       "    }\n",
       "\n",
       "    .dataframe tbody tr th {\n",
       "        vertical-align: top;\n",
       "    }\n",
       "\n",
       "    .dataframe thead th {\n",
       "        text-align: right;\n",
       "    }\n",
       "</style>\n",
       "<table border=\"1\" class=\"dataframe\">\n",
       "  <thead>\n",
       "    <tr style=\"text-align: right;\">\n",
       "      <th></th>\n",
       "      <th>Experiment_Id</th>\n",
       "      <th>SP_ID</th>\n",
       "      <th>sample_distance (m)</th>\n",
       "      <th>Field</th>\n",
       "      <th>Sample_date</th>\n",
       "      <th>Sample_time</th>\n",
       "      <th>Easting</th>\n",
       "      <th>Northing</th>\n",
       "      <th>pH</th>\n",
       "      <th>BD_gcm3</th>\n",
       "      <th>OM_%w/w</th>\n",
       "      <th>N_total_%w/w</th>\n",
       "      <th>C_total_%w/w</th>\n",
       "      <th>conductivity_uScm</th>\n",
       "      <th>duplicated</th>\n",
       "    </tr>\n",
       "  </thead>\n",
       "  <tbody>\n",
       "    <tr>\n",
       "      <th>0</th>\n",
       "      <td>FP003</td>\n",
       "      <td>1</td>\n",
       "      <td>50.0</td>\n",
       "      <td>Pecketsford</td>\n",
       "      <td>2012-06-06</td>\n",
       "      <td>12:00:00</td>\n",
       "      <td>265632.0000</td>\n",
       "      <td>99300.00000</td>\n",
       "      <td>5.18</td>\n",
       "      <td>0.916</td>\n",
       "      <td>10.1</td>\n",
       "      <td>0.510</td>\n",
       "      <td>4.742</td>\n",
       "      <td>NaN</td>\n",
       "      <td>False</td>\n",
       "    </tr>\n",
       "    <tr>\n",
       "      <th>1</th>\n",
       "      <td>FP003</td>\n",
       "      <td>2</td>\n",
       "      <td>50.0</td>\n",
       "      <td>Pecketsford</td>\n",
       "      <td>2012-06-06</td>\n",
       "      <td>12:00:00</td>\n",
       "      <td>265625.0000</td>\n",
       "      <td>99275.00000</td>\n",
       "      <td>5.23</td>\n",
       "      <td>0.943</td>\n",
       "      <td>10.4</td>\n",
       "      <td>0.550</td>\n",
       "      <td>4.980</td>\n",
       "      <td>NaN</td>\n",
       "      <td>False</td>\n",
       "    </tr>\n",
       "    <tr>\n",
       "      <th>2</th>\n",
       "      <td>FP003</td>\n",
       "      <td>7</td>\n",
       "      <td>50.0</td>\n",
       "      <td>Pecketsford</td>\n",
       "      <td>2012-06-06</td>\n",
       "      <td>12:00:00</td>\n",
       "      <td>265575.0000</td>\n",
       "      <td>99225.00000</td>\n",
       "      <td>5.54</td>\n",
       "      <td>0.948</td>\n",
       "      <td>11.8</td>\n",
       "      <td>0.640</td>\n",
       "      <td>5.610</td>\n",
       "      <td>NaN</td>\n",
       "      <td>False</td>\n",
       "    </tr>\n",
       "    <tr>\n",
       "      <th>3</th>\n",
       "      <td>FP003</td>\n",
       "      <td>9</td>\n",
       "      <td>50.0</td>\n",
       "      <td>Pecketsford</td>\n",
       "      <td>2012-06-06</td>\n",
       "      <td>12:00:00</td>\n",
       "      <td>265625.0000</td>\n",
       "      <td>99225.00000</td>\n",
       "      <td>5.12</td>\n",
       "      <td>0.857</td>\n",
       "      <td>10.9</td>\n",
       "      <td>0.540</td>\n",
       "      <td>4.510</td>\n",
       "      <td>NaN</td>\n",
       "      <td>False</td>\n",
       "    </tr>\n",
       "    <tr>\n",
       "      <th>4</th>\n",
       "      <td>FP003</td>\n",
       "      <td>17</td>\n",
       "      <td>50.0</td>\n",
       "      <td>Pecketsford</td>\n",
       "      <td>2012-06-06</td>\n",
       "      <td>12:00:00</td>\n",
       "      <td>265575.0000</td>\n",
       "      <td>99175.00000</td>\n",
       "      <td>5.68</td>\n",
       "      <td>0.946</td>\n",
       "      <td>11.5</td>\n",
       "      <td>0.590</td>\n",
       "      <td>5.340</td>\n",
       "      <td>NaN</td>\n",
       "      <td>False</td>\n",
       "    </tr>\n",
       "    <tr>\n",
       "      <th>...</th>\n",
       "      <td>...</td>\n",
       "      <td>...</td>\n",
       "      <td>...</td>\n",
       "      <td>...</td>\n",
       "      <td>...</td>\n",
       "      <td>...</td>\n",
       "      <td>...</td>\n",
       "      <td>...</td>\n",
       "      <td>...</td>\n",
       "      <td>...</td>\n",
       "      <td>...</td>\n",
       "      <td>...</td>\n",
       "      <td>...</td>\n",
       "      <td>...</td>\n",
       "      <td>...</td>\n",
       "    </tr>\n",
       "    <tr>\n",
       "      <th>1000</th>\n",
       "      <td>NW752-3S</td>\n",
       "      <td>2009</td>\n",
       "      <td>NaN</td>\n",
       "      <td>Golden Rove</td>\n",
       "      <td>2021-08-12</td>\n",
       "      <td>12:00:00</td>\n",
       "      <td>265953.4417</td>\n",
       "      <td>97967.65381</td>\n",
       "      <td>5.80</td>\n",
       "      <td>NaN</td>\n",
       "      <td>11.6</td>\n",
       "      <td>0.549</td>\n",
       "      <td>5.240</td>\n",
       "      <td>2012.0</td>\n",
       "      <td>False</td>\n",
       "    </tr>\n",
       "    <tr>\n",
       "      <th>1001</th>\n",
       "      <td>NW752-3S</td>\n",
       "      <td>2007</td>\n",
       "      <td>NaN</td>\n",
       "      <td>Orchard Dean North</td>\n",
       "      <td>2021-08-12</td>\n",
       "      <td>12:00:00</td>\n",
       "      <td>265678.1911</td>\n",
       "      <td>98112.25632</td>\n",
       "      <td>5.90</td>\n",
       "      <td>NaN</td>\n",
       "      <td>13.2</td>\n",
       "      <td>0.629</td>\n",
       "      <td>5.970</td>\n",
       "      <td>2014.0</td>\n",
       "      <td>False</td>\n",
       "    </tr>\n",
       "    <tr>\n",
       "      <th>1002</th>\n",
       "      <td>NW752-3S</td>\n",
       "      <td>2008</td>\n",
       "      <td>NaN</td>\n",
       "      <td>Orchard Dean South</td>\n",
       "      <td>2021-08-12</td>\n",
       "      <td>12:00:00</td>\n",
       "      <td>265666.1468</td>\n",
       "      <td>98008.84146</td>\n",
       "      <td>5.80</td>\n",
       "      <td>NaN</td>\n",
       "      <td>11.9</td>\n",
       "      <td>0.580</td>\n",
       "      <td>5.370</td>\n",
       "      <td>2018.0</td>\n",
       "      <td>False</td>\n",
       "    </tr>\n",
       "    <tr>\n",
       "      <th>1003</th>\n",
       "      <td>NW752-3S</td>\n",
       "      <td>2017</td>\n",
       "      <td>NaN</td>\n",
       "      <td>Dairy North</td>\n",
       "      <td>2021-09-12</td>\n",
       "      <td>12:00:00</td>\n",
       "      <td>266282.1266</td>\n",
       "      <td>98358.20591</td>\n",
       "      <td>5.80</td>\n",
       "      <td>NaN</td>\n",
       "      <td>13.3</td>\n",
       "      <td>0.651</td>\n",
       "      <td>5.930</td>\n",
       "      <td>2015.0</td>\n",
       "      <td>False</td>\n",
       "    </tr>\n",
       "    <tr>\n",
       "      <th>1004</th>\n",
       "      <td>NW752-3S</td>\n",
       "      <td>2018</td>\n",
       "      <td>NaN</td>\n",
       "      <td>Longlands South</td>\n",
       "      <td>2021-07-12</td>\n",
       "      <td>12:00:00</td>\n",
       "      <td>265920.9621</td>\n",
       "      <td>98603.80501</td>\n",
       "      <td>5.90</td>\n",
       "      <td>NaN</td>\n",
       "      <td>9.5</td>\n",
       "      <td>0.442</td>\n",
       "      <td>4.090</td>\n",
       "      <td>2003.0</td>\n",
       "      <td>False</td>\n",
       "    </tr>\n",
       "  </tbody>\n",
       "</table>\n",
       "<p>1005 rows × 15 columns</p>\n",
       "</div>"
      ],
      "text/plain": [
       "     Experiment_Id  SP_ID  sample_distance (m)               Field  \\\n",
       "0            FP003      1                 50.0         Pecketsford   \n",
       "1            FP003      2                 50.0         Pecketsford   \n",
       "2            FP003      7                 50.0         Pecketsford   \n",
       "3            FP003      9                 50.0         Pecketsford   \n",
       "4            FP003     17                 50.0         Pecketsford   \n",
       "...            ...    ...                  ...                 ...   \n",
       "1000      NW752-3S   2009                  NaN         Golden Rove   \n",
       "1001      NW752-3S   2007                  NaN  Orchard Dean North   \n",
       "1002      NW752-3S   2008                  NaN  Orchard Dean South   \n",
       "1003      NW752-3S   2017                  NaN         Dairy North   \n",
       "1004      NW752-3S   2018                  NaN     Longlands South   \n",
       "\n",
       "     Sample_date Sample_time      Easting     Northing    pH  BD_gcm3  \\\n",
       "0     2012-06-06    12:00:00  265632.0000  99300.00000  5.18    0.916   \n",
       "1     2012-06-06    12:00:00  265625.0000  99275.00000  5.23    0.943   \n",
       "2     2012-06-06    12:00:00  265575.0000  99225.00000  5.54    0.948   \n",
       "3     2012-06-06    12:00:00  265625.0000  99225.00000  5.12    0.857   \n",
       "4     2012-06-06    12:00:00  265575.0000  99175.00000  5.68    0.946   \n",
       "...          ...         ...          ...          ...   ...      ...   \n",
       "1000  2021-08-12    12:00:00  265953.4417  97967.65381  5.80      NaN   \n",
       "1001  2021-08-12    12:00:00  265678.1911  98112.25632  5.90      NaN   \n",
       "1002  2021-08-12    12:00:00  265666.1468  98008.84146  5.80      NaN   \n",
       "1003  2021-09-12    12:00:00  266282.1266  98358.20591  5.80      NaN   \n",
       "1004  2021-07-12    12:00:00  265920.9621  98603.80501  5.90      NaN   \n",
       "\n",
       "      OM_%w/w  N_total_%w/w  C_total_%w/w  conductivity_uScm  duplicated  \n",
       "0        10.1         0.510         4.742                NaN       False  \n",
       "1        10.4         0.550         4.980                NaN       False  \n",
       "2        11.8         0.640         5.610                NaN       False  \n",
       "3        10.9         0.540         4.510                NaN       False  \n",
       "4        11.5         0.590         5.340                NaN       False  \n",
       "...       ...           ...           ...                ...         ...  \n",
       "1000     11.6         0.549         5.240             2012.0       False  \n",
       "1001     13.2         0.629         5.970             2014.0       False  \n",
       "1002     11.9         0.580         5.370             2018.0       False  \n",
       "1003     13.3         0.651         5.930             2015.0       False  \n",
       "1004      9.5         0.442         4.090             2003.0       False  \n",
       "\n",
       "[1005 rows x 15 columns]"
      ]
     },
     "execution_count": 235,
     "metadata": {},
     "output_type": "execute_result"
    }
   ],
   "source": [
    "result_df_without_duplicates"
   ]
  },
  {
   "cell_type": "code",
   "execution_count": null,
   "id": "d29c1bb4",
   "metadata": {},
   "outputs": [],
   "source": []
  },
  {
   "cell_type": "code",
   "execution_count": 236,
   "id": "743040b9",
   "metadata": {},
   "outputs": [
    {
     "name": "stdout",
     "output_type": "stream",
     "text": [
      "<class 'pandas.core.frame.DataFrame'>\n",
      "RangeIndex: 1005 entries, 0 to 1004\n",
      "Data columns (total 15 columns):\n",
      " #   Column               Non-Null Count  Dtype         \n",
      "---  ------               --------------  -----         \n",
      " 0   Experiment_Id        1005 non-null   object        \n",
      " 1   SP_ID                1005 non-null   int64         \n",
      " 2   sample_distance (m)  699 non-null    float64       \n",
      " 3   Field                1005 non-null   object        \n",
      " 4   Sample_date          1005 non-null   datetime64[ns]\n",
      " 5   Sample_time          1005 non-null   object        \n",
      " 6   Easting              1005 non-null   float64       \n",
      " 7   Northing             1005 non-null   float64       \n",
      " 8   pH                   1004 non-null   float64       \n",
      " 9   BD_gcm3              606 non-null    float64       \n",
      " 10  OM_%w/w              1005 non-null   float64       \n",
      " 11  N_total_%w/w         1005 non-null   float64       \n",
      " 12  C_total_%w/w         1005 non-null   float64       \n",
      " 13  conductivity_uScm    302 non-null    float64       \n",
      " 14  duplicated           1005 non-null   bool          \n",
      "dtypes: bool(1), datetime64[ns](1), float64(9), int64(1), object(3)\n",
      "memory usage: 111.0+ KB\n"
     ]
    }
   ],
   "source": [
    "# Info\n",
    "result_df_without_duplicates.info()"
   ]
  },
  {
   "cell_type": "code",
   "execution_count": 237,
   "id": "e3bba037",
   "metadata": {},
   "outputs": [
    {
     "data": {
      "text/plain": [
       "0"
      ]
     },
     "execution_count": 237,
     "metadata": {},
     "output_type": "execute_result"
    }
   ],
   "source": [
    "# Count the numbers of NAs in C%\n",
    "result_df_without_duplicates['C_total_%w/w'].isnull().sum()"
   ]
  },
  {
   "cell_type": "code",
   "execution_count": 238,
   "id": "e5bc0229",
   "metadata": {},
   "outputs": [
    {
     "data": {
      "image/png": "[encoded data removed]",
      "text/plain": [
       "<Figure size 432x288 with 1 Axes>"
      ]
     },
     "metadata": {
      "needs_background": "light"
     },
     "output_type": "display_data"
    }
   ],
   "source": [
    "# Plot the histogram of C%\n",
    "result_df_without_duplicates['C_total_%w/w'].plot(kind = 'hist', ec = 'black')\n",
    "plt.xlabel('C%')\n",
    "plt.show()"
   ]
  },
  {
   "cell_type": "code",
   "execution_count": 239,
   "id": "fe20bce9",
   "metadata": {},
   "outputs": [
    {
     "data": {
      "image/png": "[encoded data removed]",
      "text/plain": [
       "<Figure size 432x288 with 1 Axes>"
      ]
     },
     "metadata": {
      "needs_background": "light"
     },
     "output_type": "display_data"
    }
   ],
   "source": [
    "sns.boxplot(result_df_without_duplicates['C_total_%w/w'])\n",
    "plt.show()"
   ]
  },
  {
   "cell_type": "code",
   "execution_count": 247,
   "id": "39134187",
   "metadata": {},
   "outputs": [],
   "source": [
    "result_df_without_duplicates.drop(columns = ['duplicated'], axis = 1, inplace = True)"
   ]
  },
  {
   "cell_type": "code",
   "execution_count": null,
   "id": "7ca1fa67",
   "metadata": {},
   "outputs": [],
   "source": []
  },
  {
   "cell_type": "code",
   "execution_count": 258,
   "id": "cbec6144",
   "metadata": {},
   "outputs": [],
   "source": [
    "# Group by date and create summary statistics\n",
    "summary_dat = result_df_without_duplicates.groupby(result_df_without_duplicates['Sample_date'].dt.year)['C_total_%w/w'].agg(['min', 'mean', 'median', 'max','std', 'count']).reset_index()"
   ]
  },
  {
   "cell_type": "code",
   "execution_count": 259,
   "id": "80f2de25",
   "metadata": {},
   "outputs": [
    {
     "data": {
      "text/html": [
       "<div>\n",
       "<style scoped>\n",
       "    .dataframe tbody tr th:only-of-type {\n",
       "        vertical-align: middle;\n",
       "    }\n",
       "\n",
       "    .dataframe tbody tr th {\n",
       "        vertical-align: top;\n",
       "    }\n",
       "\n",
       "    .dataframe thead th {\n",
       "        text-align: right;\n",
       "    }\n",
       "</style>\n",
       "<table border=\"1\" class=\"dataframe\">\n",
       "  <thead>\n",
       "    <tr style=\"text-align: right;\">\n",
       "      <th></th>\n",
       "      <th>Sample_date</th>\n",
       "      <th>min</th>\n",
       "      <th>mean</th>\n",
       "      <th>median</th>\n",
       "      <th>max</th>\n",
       "      <th>std</th>\n",
       "      <th>count</th>\n",
       "    </tr>\n",
       "  </thead>\n",
       "  <tbody>\n",
       "    <tr>\n",
       "      <th>0</th>\n",
       "      <td>2012</td>\n",
       "      <td>2.690</td>\n",
       "      <td>4.616015</td>\n",
       "      <td>4.657</td>\n",
       "      <td>10.040</td>\n",
       "      <td>0.928946</td>\n",
       "      <td>263</td>\n",
       "    </tr>\n",
       "    <tr>\n",
       "      <th>1</th>\n",
       "      <td>2013</td>\n",
       "      <td>2.685</td>\n",
       "      <td>3.913382</td>\n",
       "      <td>3.891</td>\n",
       "      <td>5.165</td>\n",
       "      <td>0.464701</td>\n",
       "      <td>89</td>\n",
       "    </tr>\n",
       "    <tr>\n",
       "      <th>2</th>\n",
       "      <td>2016</td>\n",
       "      <td>2.011</td>\n",
       "      <td>4.575089</td>\n",
       "      <td>4.275</td>\n",
       "      <td>7.519</td>\n",
       "      <td>1.230368</td>\n",
       "      <td>347</td>\n",
       "    </tr>\n",
       "    <tr>\n",
       "      <th>3</th>\n",
       "      <td>2018</td>\n",
       "      <td>2.660</td>\n",
       "      <td>4.499365</td>\n",
       "      <td>4.280</td>\n",
       "      <td>7.350</td>\n",
       "      <td>1.096307</td>\n",
       "      <td>63</td>\n",
       "    </tr>\n",
       "    <tr>\n",
       "      <th>4</th>\n",
       "      <td>2019</td>\n",
       "      <td>2.840</td>\n",
       "      <td>4.529880</td>\n",
       "      <td>4.190</td>\n",
       "      <td>6.810</td>\n",
       "      <td>1.093772</td>\n",
       "      <td>83</td>\n",
       "    </tr>\n",
       "    <tr>\n",
       "      <th>5</th>\n",
       "      <td>2020</td>\n",
       "      <td>2.500</td>\n",
       "      <td>4.344000</td>\n",
       "      <td>4.165</td>\n",
       "      <td>6.840</td>\n",
       "      <td>1.047984</td>\n",
       "      <td>80</td>\n",
       "    </tr>\n",
       "    <tr>\n",
       "      <th>6</th>\n",
       "      <td>2021</td>\n",
       "      <td>2.760</td>\n",
       "      <td>4.845125</td>\n",
       "      <td>4.655</td>\n",
       "      <td>8.940</td>\n",
       "      <td>1.483824</td>\n",
       "      <td>80</td>\n",
       "    </tr>\n",
       "  </tbody>\n",
       "</table>\n",
       "</div>"
      ],
      "text/plain": [
       "   Sample_date    min      mean  median     max       std  count\n",
       "0         2012  2.690  4.616015   4.657  10.040  0.928946    263\n",
       "1         2013  2.685  3.913382   3.891   5.165  0.464701     89\n",
       "2         2016  2.011  4.575089   4.275   7.519  1.230368    347\n",
       "3         2018  2.660  4.499365   4.280   7.350  1.096307     63\n",
       "4         2019  2.840  4.529880   4.190   6.810  1.093772     83\n",
       "5         2020  2.500  4.344000   4.165   6.840  1.047984     80\n",
       "6         2021  2.760  4.845125   4.655   8.940  1.483824     80"
      ]
     },
     "execution_count": 259,
     "metadata": {},
     "output_type": "execute_result"
    }
   ],
   "source": [
    "# A glimpse on the summary statistics\n",
    "summary_dat"
   ]
  },
  {
   "cell_type": "code",
   "execution_count": 260,
   "id": "ea69dc65",
   "metadata": {},
   "outputs": [],
   "source": [
    "# Save to csv\n",
    "summary_dat.to_csv('summary_stats_per_year.csv', index = False)"
   ]
  },
  {
   "cell_type": "code",
   "execution_count": 261,
   "id": "bdc0fc06",
   "metadata": {},
   "outputs": [
    {
     "data": {
      "image/png": "[encoded data removed]",
      "text/plain": [
       "<Figure size 432x288 with 2 Axes>"
      ]
     },
     "metadata": {
      "needs_background": "light"
     },
     "output_type": "display_data"
    }
   ],
   "source": [
    "# Plot mean and count per year\n",
    "fig, ax = plt.subplots()\n",
    "\n",
    "ax.plot(summary_dat['Sample_date'], summary_dat['mean'], color = 'red')\n",
    "plt.xlabel('YEAR')\n",
    "plt.ylabel('C %')\n",
    "\n",
    "ax2 = ax.twinx()\n",
    "ax2.plot(summary_dat['Sample_date'], summary_dat['count'], color = 'blue')\n",
    "plt.ylabel('count')\n",
    "\n",
    "\n",
    "plt.title('Average C (%) over the years in North Wyke Farm')\n",
    "plt.show()"
   ]
  },
  {
   "cell_type": "code",
   "execution_count": 262,
   "id": "e023f667",
   "metadata": {},
   "outputs": [],
   "source": [
    "# Group by Sample_date and count\n",
    "group_date = result_df_without_duplicates[['Sample_date', 'C_total_%w/w']].groupby(['Sample_date']).count().reset_index()"
   ]
  },
  {
   "cell_type": "code",
   "execution_count": 264,
   "id": "458d8048",
   "metadata": {},
   "outputs": [
    {
     "data": {
      "text/html": [
       "<div>\n",
       "<style scoped>\n",
       "    .dataframe tbody tr th:only-of-type {\n",
       "        vertical-align: middle;\n",
       "    }\n",
       "\n",
       "    .dataframe tbody tr th {\n",
       "        vertical-align: top;\n",
       "    }\n",
       "\n",
       "    .dataframe thead th {\n",
       "        text-align: right;\n",
       "    }\n",
       "</style>\n",
       "<table border=\"1\" class=\"dataframe\">\n",
       "  <thead>\n",
       "    <tr style=\"text-align: right;\">\n",
       "      <th></th>\n",
       "      <th>Sample_date</th>\n",
       "      <th>C_total_%w/w</th>\n",
       "    </tr>\n",
       "  </thead>\n",
       "  <tbody>\n",
       "    <tr>\n",
       "      <th>0</th>\n",
       "      <td>2012-06-06</td>\n",
       "      <td>20</td>\n",
       "    </tr>\n",
       "    <tr>\n",
       "      <th>1</th>\n",
       "      <td>2012-06-15</td>\n",
       "      <td>24</td>\n",
       "    </tr>\n",
       "    <tr>\n",
       "      <th>2</th>\n",
       "      <td>2012-06-18</td>\n",
       "      <td>24</td>\n",
       "    </tr>\n",
       "    <tr>\n",
       "      <th>3</th>\n",
       "      <td>2012-06-19</td>\n",
       "      <td>27</td>\n",
       "    </tr>\n",
       "    <tr>\n",
       "      <th>4</th>\n",
       "      <td>2012-06-20</td>\n",
       "      <td>17</td>\n",
       "    </tr>\n",
       "    <tr>\n",
       "      <th>...</th>\n",
       "      <td>...</td>\n",
       "      <td>...</td>\n",
       "    </tr>\n",
       "    <tr>\n",
       "      <th>87</th>\n",
       "      <td>2021-09-13</td>\n",
       "      <td>2</td>\n",
       "    </tr>\n",
       "    <tr>\n",
       "      <th>88</th>\n",
       "      <td>2021-09-14</td>\n",
       "      <td>3</td>\n",
       "    </tr>\n",
       "    <tr>\n",
       "      <th>89</th>\n",
       "      <td>2021-09-16</td>\n",
       "      <td>1</td>\n",
       "    </tr>\n",
       "    <tr>\n",
       "      <th>90</th>\n",
       "      <td>2021-10-06</td>\n",
       "      <td>5</td>\n",
       "    </tr>\n",
       "    <tr>\n",
       "      <th>91</th>\n",
       "      <td>2021-11-06</td>\n",
       "      <td>1</td>\n",
       "    </tr>\n",
       "  </tbody>\n",
       "</table>\n",
       "<p>92 rows × 2 columns</p>\n",
       "</div>"
      ],
      "text/plain": [
       "   Sample_date  C_total_%w/w\n",
       "0   2012-06-06            20\n",
       "1   2012-06-15            24\n",
       "2   2012-06-18            24\n",
       "3   2012-06-19            27\n",
       "4   2012-06-20            17\n",
       "..         ...           ...\n",
       "87  2021-09-13             2\n",
       "88  2021-09-14             3\n",
       "89  2021-09-16             1\n",
       "90  2021-10-06             5\n",
       "91  2021-11-06             1\n",
       "\n",
       "[92 rows x 2 columns]"
      ]
     },
     "execution_count": 264,
     "metadata": {},
     "output_type": "execute_result"
    }
   ],
   "source": [
    "group_date"
   ]
  },
  {
   "cell_type": "code",
   "execution_count": 263,
   "id": "61eead62",
   "metadata": {},
   "outputs": [
    {
     "data": {
      "image/png": "[encoded data removed]",
      "text/plain": [
       "<Figure size 432x288 with 1 Axes>"
      ]
     },
     "metadata": {
      "needs_background": "light"
     },
     "output_type": "display_data"
    }
   ],
   "source": [
    "# Plot the count of samples per date\n",
    "plt.plot(group_date['Sample_date'], group_date['C_total_%w/w'], 'o')\n",
    "plt.xlabel('Date')\n",
    "plt.ylabel('count')\n",
    "plt.show()"
   ]
  },
  {
   "cell_type": "code",
   "execution_count": 265,
   "id": "0144d608",
   "metadata": {},
   "outputs": [],
   "source": [
    "# Save to csv\n",
    "group_date.to_csv('number_samples_per_date.csv')"
   ]
  },
  {
   "cell_type": "code",
   "execution_count": 266,
   "id": "4206219c",
   "metadata": {},
   "outputs": [],
   "source": [
    "# Save the final dataset\n",
    "result_df_without_duplicates.to_csv('final_dataset_RR.csv', index = False)"
   ]
  },
  {
   "cell_type": "code",
   "execution_count": 409,
   "id": "d8411d09",
   "metadata": {},
   "outputs": [],
   "source": [
    "# End"
   ]
  }
 ],
 "metadata": {
  "kernelspec": {
   "display_name": "geo_env",
   "language": "python",
   "name": "geo_env"
  },
  "language_info": {
   "codemirror_mode": {
    "name": "ipython",
    "version": 3
   },
   "file_extension": ".py",
   "mimetype": "text/x-python",
   "name": "python",
   "nbconvert_exporter": "python",
   "pygments_lexer": "ipython3",
   "version": "3.10.5"
  }
 },
 "nbformat": 4,
 "nbformat_minor": 5
}
